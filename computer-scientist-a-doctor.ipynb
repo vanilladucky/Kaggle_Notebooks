{
 "cells": [
  {
   "cell_type": "code",
   "execution_count": 1,
   "id": "53af0fb8",
   "metadata": {
    "_cell_guid": "b1076dfc-b9ad-4769-8c92-a6c4dae69d19",
    "_uuid": "8f2839f25d086af736a60e9eeb907d3b93b6e0e5",
    "execution": {
     "iopub.execute_input": "2022-02-23T14:54:05.189303Z",
     "iopub.status.busy": "2022-02-23T14:54:05.184168Z",
     "iopub.status.idle": "2022-02-23T14:54:05.203389Z",
     "shell.execute_reply": "2022-02-23T14:54:05.202337Z",
     "shell.execute_reply.started": "2022-02-23T13:49:57.581341Z"
    },
    "jupyter": {
     "source_hidden": true
    },
    "papermill": {
     "duration": 0.053881,
     "end_time": "2022-02-23T14:54:05.203629",
     "exception": false,
     "start_time": "2022-02-23T14:54:05.149748",
     "status": "completed"
    },
    "tags": []
   },
   "outputs": [
    {
     "name": "stdout",
     "output_type": "stream",
     "text": [
      "/kaggle/input/disease-prediction-using-machine-learning/Training.csv\n",
      "/kaggle/input/disease-prediction-using-machine-learning/Testing.csv\n"
     ]
    }
   ],
   "source": [
    "# This Python 3 environment comes with many helpful analytics libraries installed\n",
    "# It is defined by the kaggle/python Docker image: https://github.com/kaggle/docker-python\n",
    "# For example, here's several helpful packages to load\n",
    "\n",
    "import numpy as np # linear algebra\n",
    "import pandas as pd # data processing, CSV file I/O (e.g. pd.read_csv)\n",
    "\n",
    "# Input data files are available in the read-only \"../input/\" directory\n",
    "# For example, running this (by clicking run or pressing Shift+Enter) will list all files under the input directory\n",
    "\n",
    "import os\n",
    "for dirname, _, filenames in os.walk('/kaggle/input'):\n",
    "    for filename in filenames:\n",
    "        print(os.path.join(dirname, filename))\n",
    "\n",
    "# You can write up to 20GB to the current directory (/kaggle/working/) that gets preserved as output when you create a version using \"Save & Run All\" \n",
    "# You can also write temporary files to /kaggle/temp/, but they won't be saved outside of the current session"
   ]
  },
  {
   "cell_type": "markdown",
   "id": "54656861",
   "metadata": {
    "papermill": {
     "duration": 0.032424,
     "end_time": "2022-02-23T14:54:05.270197",
     "exception": false,
     "start_time": "2022-02-23T14:54:05.237773",
     "status": "completed"
    },
    "tags": []
   },
   "source": [
    "<h1><center><b>Can we help safe lives? Potentially?</b></center></h1>\n",
    "\n",
    "![](https://phil.cdc.gov//PHIL_Images/23312/23312.tif)"
   ]
  },
  {
   "cell_type": "markdown",
   "id": "bd4c43db",
   "metadata": {
    "papermill": {
     "duration": 0.030212,
     "end_time": "2022-02-23T14:54:05.330973",
     "exception": false,
     "start_time": "2022-02-23T14:54:05.300761",
     "status": "completed"
    },
    "tags": []
   },
   "source": [
    "> ## We have a rather simple dataset here with us\n",
    "> ## It contains *132* symptoms (features) and *41* different types of diseases (target variable) for us to predict"
   ]
  },
  {
   "cell_type": "markdown",
   "id": "a50bb00e",
   "metadata": {
    "papermill": {
     "duration": 0.029155,
     "end_time": "2022-02-23T14:54:05.391060",
     "exception": false,
     "start_time": "2022-02-23T14:54:05.361905",
     "status": "completed"
    },
    "tags": []
   },
   "source": [
    "# Let us take a look at the training dataset"
   ]
  },
  {
   "cell_type": "code",
   "execution_count": 2,
   "id": "0f323db3",
   "metadata": {
    "execution": {
     "iopub.execute_input": "2022-02-23T14:54:05.456120Z",
     "iopub.status.busy": "2022-02-23T14:54:05.455430Z",
     "iopub.status.idle": "2022-02-23T14:54:05.594655Z",
     "shell.execute_reply": "2022-02-23T14:54:05.595215Z",
     "shell.execute_reply.started": "2022-02-23T14:02:36.744846Z"
    },
    "jupyter": {
     "source_hidden": true
    },
    "papermill": {
     "duration": 0.173541,
     "end_time": "2022-02-23T14:54:05.595394",
     "exception": false,
     "start_time": "2022-02-23T14:54:05.421853",
     "status": "completed"
    },
    "tags": []
   },
   "outputs": [
    {
     "data": {
      "text/html": [
       "<div>\n",
       "<style scoped>\n",
       "    .dataframe tbody tr th:only-of-type {\n",
       "        vertical-align: middle;\n",
       "    }\n",
       "\n",
       "    .dataframe tbody tr th {\n",
       "        vertical-align: top;\n",
       "    }\n",
       "\n",
       "    .dataframe thead th {\n",
       "        text-align: right;\n",
       "    }\n",
       "</style>\n",
       "<table border=\"1\" class=\"dataframe\">\n",
       "  <thead>\n",
       "    <tr style=\"text-align: right;\">\n",
       "      <th></th>\n",
       "      <th>itching</th>\n",
       "      <th>skin_rash</th>\n",
       "      <th>nodal_skin_eruptions</th>\n",
       "      <th>continuous_sneezing</th>\n",
       "      <th>shivering</th>\n",
       "      <th>chills</th>\n",
       "      <th>joint_pain</th>\n",
       "      <th>stomach_pain</th>\n",
       "      <th>acidity</th>\n",
       "      <th>ulcers_on_tongue</th>\n",
       "      <th>...</th>\n",
       "      <th>blackheads</th>\n",
       "      <th>scurring</th>\n",
       "      <th>skin_peeling</th>\n",
       "      <th>silver_like_dusting</th>\n",
       "      <th>small_dents_in_nails</th>\n",
       "      <th>inflammatory_nails</th>\n",
       "      <th>blister</th>\n",
       "      <th>red_sore_around_nose</th>\n",
       "      <th>yellow_crust_ooze</th>\n",
       "      <th>prognosis</th>\n",
       "    </tr>\n",
       "  </thead>\n",
       "  <tbody>\n",
       "    <tr>\n",
       "      <th>0</th>\n",
       "      <td>1</td>\n",
       "      <td>1</td>\n",
       "      <td>1</td>\n",
       "      <td>0</td>\n",
       "      <td>0</td>\n",
       "      <td>0</td>\n",
       "      <td>0</td>\n",
       "      <td>0</td>\n",
       "      <td>0</td>\n",
       "      <td>0</td>\n",
       "      <td>...</td>\n",
       "      <td>0</td>\n",
       "      <td>0</td>\n",
       "      <td>0</td>\n",
       "      <td>0</td>\n",
       "      <td>0</td>\n",
       "      <td>0</td>\n",
       "      <td>0</td>\n",
       "      <td>0</td>\n",
       "      <td>0</td>\n",
       "      <td>Fungal infection</td>\n",
       "    </tr>\n",
       "    <tr>\n",
       "      <th>1</th>\n",
       "      <td>0</td>\n",
       "      <td>1</td>\n",
       "      <td>1</td>\n",
       "      <td>0</td>\n",
       "      <td>0</td>\n",
       "      <td>0</td>\n",
       "      <td>0</td>\n",
       "      <td>0</td>\n",
       "      <td>0</td>\n",
       "      <td>0</td>\n",
       "      <td>...</td>\n",
       "      <td>0</td>\n",
       "      <td>0</td>\n",
       "      <td>0</td>\n",
       "      <td>0</td>\n",
       "      <td>0</td>\n",
       "      <td>0</td>\n",
       "      <td>0</td>\n",
       "      <td>0</td>\n",
       "      <td>0</td>\n",
       "      <td>Fungal infection</td>\n",
       "    </tr>\n",
       "    <tr>\n",
       "      <th>2</th>\n",
       "      <td>1</td>\n",
       "      <td>0</td>\n",
       "      <td>1</td>\n",
       "      <td>0</td>\n",
       "      <td>0</td>\n",
       "      <td>0</td>\n",
       "      <td>0</td>\n",
       "      <td>0</td>\n",
       "      <td>0</td>\n",
       "      <td>0</td>\n",
       "      <td>...</td>\n",
       "      <td>0</td>\n",
       "      <td>0</td>\n",
       "      <td>0</td>\n",
       "      <td>0</td>\n",
       "      <td>0</td>\n",
       "      <td>0</td>\n",
       "      <td>0</td>\n",
       "      <td>0</td>\n",
       "      <td>0</td>\n",
       "      <td>Fungal infection</td>\n",
       "    </tr>\n",
       "    <tr>\n",
       "      <th>3</th>\n",
       "      <td>1</td>\n",
       "      <td>1</td>\n",
       "      <td>0</td>\n",
       "      <td>0</td>\n",
       "      <td>0</td>\n",
       "      <td>0</td>\n",
       "      <td>0</td>\n",
       "      <td>0</td>\n",
       "      <td>0</td>\n",
       "      <td>0</td>\n",
       "      <td>...</td>\n",
       "      <td>0</td>\n",
       "      <td>0</td>\n",
       "      <td>0</td>\n",
       "      <td>0</td>\n",
       "      <td>0</td>\n",
       "      <td>0</td>\n",
       "      <td>0</td>\n",
       "      <td>0</td>\n",
       "      <td>0</td>\n",
       "      <td>Fungal infection</td>\n",
       "    </tr>\n",
       "    <tr>\n",
       "      <th>4</th>\n",
       "      <td>1</td>\n",
       "      <td>1</td>\n",
       "      <td>1</td>\n",
       "      <td>0</td>\n",
       "      <td>0</td>\n",
       "      <td>0</td>\n",
       "      <td>0</td>\n",
       "      <td>0</td>\n",
       "      <td>0</td>\n",
       "      <td>0</td>\n",
       "      <td>...</td>\n",
       "      <td>0</td>\n",
       "      <td>0</td>\n",
       "      <td>0</td>\n",
       "      <td>0</td>\n",
       "      <td>0</td>\n",
       "      <td>0</td>\n",
       "      <td>0</td>\n",
       "      <td>0</td>\n",
       "      <td>0</td>\n",
       "      <td>Fungal infection</td>\n",
       "    </tr>\n",
       "    <tr>\n",
       "      <th>...</th>\n",
       "      <td>...</td>\n",
       "      <td>...</td>\n",
       "      <td>...</td>\n",
       "      <td>...</td>\n",
       "      <td>...</td>\n",
       "      <td>...</td>\n",
       "      <td>...</td>\n",
       "      <td>...</td>\n",
       "      <td>...</td>\n",
       "      <td>...</td>\n",
       "      <td>...</td>\n",
       "      <td>...</td>\n",
       "      <td>...</td>\n",
       "      <td>...</td>\n",
       "      <td>...</td>\n",
       "      <td>...</td>\n",
       "      <td>...</td>\n",
       "      <td>...</td>\n",
       "      <td>...</td>\n",
       "      <td>...</td>\n",
       "      <td>...</td>\n",
       "    </tr>\n",
       "    <tr>\n",
       "      <th>4915</th>\n",
       "      <td>0</td>\n",
       "      <td>0</td>\n",
       "      <td>0</td>\n",
       "      <td>0</td>\n",
       "      <td>0</td>\n",
       "      <td>0</td>\n",
       "      <td>0</td>\n",
       "      <td>0</td>\n",
       "      <td>0</td>\n",
       "      <td>0</td>\n",
       "      <td>...</td>\n",
       "      <td>0</td>\n",
       "      <td>0</td>\n",
       "      <td>0</td>\n",
       "      <td>0</td>\n",
       "      <td>0</td>\n",
       "      <td>0</td>\n",
       "      <td>0</td>\n",
       "      <td>0</td>\n",
       "      <td>0</td>\n",
       "      <td>(vertigo) Paroymsal  Positional Vertigo</td>\n",
       "    </tr>\n",
       "    <tr>\n",
       "      <th>4916</th>\n",
       "      <td>0</td>\n",
       "      <td>1</td>\n",
       "      <td>0</td>\n",
       "      <td>0</td>\n",
       "      <td>0</td>\n",
       "      <td>0</td>\n",
       "      <td>0</td>\n",
       "      <td>0</td>\n",
       "      <td>0</td>\n",
       "      <td>0</td>\n",
       "      <td>...</td>\n",
       "      <td>1</td>\n",
       "      <td>1</td>\n",
       "      <td>0</td>\n",
       "      <td>0</td>\n",
       "      <td>0</td>\n",
       "      <td>0</td>\n",
       "      <td>0</td>\n",
       "      <td>0</td>\n",
       "      <td>0</td>\n",
       "      <td>Acne</td>\n",
       "    </tr>\n",
       "    <tr>\n",
       "      <th>4917</th>\n",
       "      <td>0</td>\n",
       "      <td>0</td>\n",
       "      <td>0</td>\n",
       "      <td>0</td>\n",
       "      <td>0</td>\n",
       "      <td>0</td>\n",
       "      <td>0</td>\n",
       "      <td>0</td>\n",
       "      <td>0</td>\n",
       "      <td>0</td>\n",
       "      <td>...</td>\n",
       "      <td>0</td>\n",
       "      <td>0</td>\n",
       "      <td>0</td>\n",
       "      <td>0</td>\n",
       "      <td>0</td>\n",
       "      <td>0</td>\n",
       "      <td>0</td>\n",
       "      <td>0</td>\n",
       "      <td>0</td>\n",
       "      <td>Urinary tract infection</td>\n",
       "    </tr>\n",
       "    <tr>\n",
       "      <th>4918</th>\n",
       "      <td>0</td>\n",
       "      <td>1</td>\n",
       "      <td>0</td>\n",
       "      <td>0</td>\n",
       "      <td>0</td>\n",
       "      <td>0</td>\n",
       "      <td>1</td>\n",
       "      <td>0</td>\n",
       "      <td>0</td>\n",
       "      <td>0</td>\n",
       "      <td>...</td>\n",
       "      <td>0</td>\n",
       "      <td>0</td>\n",
       "      <td>1</td>\n",
       "      <td>1</td>\n",
       "      <td>1</td>\n",
       "      <td>1</td>\n",
       "      <td>0</td>\n",
       "      <td>0</td>\n",
       "      <td>0</td>\n",
       "      <td>Psoriasis</td>\n",
       "    </tr>\n",
       "    <tr>\n",
       "      <th>4919</th>\n",
       "      <td>0</td>\n",
       "      <td>1</td>\n",
       "      <td>0</td>\n",
       "      <td>0</td>\n",
       "      <td>0</td>\n",
       "      <td>0</td>\n",
       "      <td>0</td>\n",
       "      <td>0</td>\n",
       "      <td>0</td>\n",
       "      <td>0</td>\n",
       "      <td>...</td>\n",
       "      <td>0</td>\n",
       "      <td>0</td>\n",
       "      <td>0</td>\n",
       "      <td>0</td>\n",
       "      <td>0</td>\n",
       "      <td>0</td>\n",
       "      <td>1</td>\n",
       "      <td>1</td>\n",
       "      <td>1</td>\n",
       "      <td>Impetigo</td>\n",
       "    </tr>\n",
       "  </tbody>\n",
       "</table>\n",
       "<p>4920 rows × 133 columns</p>\n",
       "</div>"
      ],
      "text/plain": [
       "      itching  skin_rash  nodal_skin_eruptions  continuous_sneezing  \\\n",
       "0           1          1                     1                    0   \n",
       "1           0          1                     1                    0   \n",
       "2           1          0                     1                    0   \n",
       "3           1          1                     0                    0   \n",
       "4           1          1                     1                    0   \n",
       "...       ...        ...                   ...                  ...   \n",
       "4915        0          0                     0                    0   \n",
       "4916        0          1                     0                    0   \n",
       "4917        0          0                     0                    0   \n",
       "4918        0          1                     0                    0   \n",
       "4919        0          1                     0                    0   \n",
       "\n",
       "      shivering  chills  joint_pain  stomach_pain  acidity  ulcers_on_tongue  \\\n",
       "0             0       0           0             0        0                 0   \n",
       "1             0       0           0             0        0                 0   \n",
       "2             0       0           0             0        0                 0   \n",
       "3             0       0           0             0        0                 0   \n",
       "4             0       0           0             0        0                 0   \n",
       "...         ...     ...         ...           ...      ...               ...   \n",
       "4915          0       0           0             0        0                 0   \n",
       "4916          0       0           0             0        0                 0   \n",
       "4917          0       0           0             0        0                 0   \n",
       "4918          0       0           1             0        0                 0   \n",
       "4919          0       0           0             0        0                 0   \n",
       "\n",
       "      ...  blackheads  scurring  skin_peeling  silver_like_dusting  \\\n",
       "0     ...           0         0             0                    0   \n",
       "1     ...           0         0             0                    0   \n",
       "2     ...           0         0             0                    0   \n",
       "3     ...           0         0             0                    0   \n",
       "4     ...           0         0             0                    0   \n",
       "...   ...         ...       ...           ...                  ...   \n",
       "4915  ...           0         0             0                    0   \n",
       "4916  ...           1         1             0                    0   \n",
       "4917  ...           0         0             0                    0   \n",
       "4918  ...           0         0             1                    1   \n",
       "4919  ...           0         0             0                    0   \n",
       "\n",
       "      small_dents_in_nails  inflammatory_nails  blister  red_sore_around_nose  \\\n",
       "0                        0                   0        0                     0   \n",
       "1                        0                   0        0                     0   \n",
       "2                        0                   0        0                     0   \n",
       "3                        0                   0        0                     0   \n",
       "4                        0                   0        0                     0   \n",
       "...                    ...                 ...      ...                   ...   \n",
       "4915                     0                   0        0                     0   \n",
       "4916                     0                   0        0                     0   \n",
       "4917                     0                   0        0                     0   \n",
       "4918                     1                   1        0                     0   \n",
       "4919                     0                   0        1                     1   \n",
       "\n",
       "      yellow_crust_ooze                                prognosis  \n",
       "0                     0                         Fungal infection  \n",
       "1                     0                         Fungal infection  \n",
       "2                     0                         Fungal infection  \n",
       "3                     0                         Fungal infection  \n",
       "4                     0                         Fungal infection  \n",
       "...                 ...                                      ...  \n",
       "4915                  0  (vertigo) Paroymsal  Positional Vertigo  \n",
       "4916                  0                                     Acne  \n",
       "4917                  0                  Urinary tract infection  \n",
       "4918                  0                                Psoriasis  \n",
       "4919                  1                                 Impetigo  \n",
       "\n",
       "[4920 rows x 133 columns]"
      ]
     },
     "execution_count": 2,
     "metadata": {},
     "output_type": "execute_result"
    }
   ],
   "source": [
    "train_df = pd.read_csv('../input/disease-prediction-using-machine-learning/Training.csv')\n",
    "train_df.drop('Unnamed: 133', axis=1, inplace=True)\n",
    "train_df"
   ]
  },
  {
   "cell_type": "markdown",
   "id": "8779707d",
   "metadata": {
    "papermill": {
     "duration": 0.030222,
     "end_time": "2022-02-23T14:54:05.663366",
     "exception": false,
     "start_time": "2022-02-23T14:54:05.633144",
     "status": "completed"
    },
    "tags": []
   },
   "source": [
    "> #### Why don't we look at what kind of symptoms we have here"
   ]
  },
  {
   "cell_type": "code",
   "execution_count": 3,
   "id": "3c1c0660",
   "metadata": {
    "execution": {
     "iopub.execute_input": "2022-02-23T14:54:05.733529Z",
     "iopub.status.busy": "2022-02-23T14:54:05.732717Z",
     "iopub.status.idle": "2022-02-23T14:54:05.735699Z",
     "shell.execute_reply": "2022-02-23T14:54:05.736231Z",
     "shell.execute_reply.started": "2022-02-23T13:49:57.742425Z"
    },
    "jupyter": {
     "source_hidden": true
    },
    "papermill": {
     "duration": 0.042265,
     "end_time": "2022-02-23T14:54:05.736409",
     "exception": false,
     "start_time": "2022-02-23T14:54:05.694144",
     "status": "completed"
    },
    "tags": []
   },
   "outputs": [
    {
     "data": {
      "text/plain": [
       "['abdominal_pain',\n",
       " 'abnormal_menstruation',\n",
       " 'acidity',\n",
       " 'acute_liver_failure',\n",
       " 'altered_sensorium',\n",
       " 'anxiety',\n",
       " 'back_pain',\n",
       " 'belly_pain',\n",
       " 'blackheads',\n",
       " 'bladder_discomfort',\n",
       " 'blister',\n",
       " 'blood_in_sputum',\n",
       " 'bloody_stool',\n",
       " 'blurred_and_distorted_vision',\n",
       " 'breathlessness',\n",
       " 'brittle_nails',\n",
       " 'bruising',\n",
       " 'burning_micturition',\n",
       " 'chest_pain',\n",
       " 'chills',\n",
       " 'cold_hands_and_feets',\n",
       " 'coma',\n",
       " 'congestion',\n",
       " 'constipation',\n",
       " 'continuous_feel_of_urine',\n",
       " 'continuous_sneezing',\n",
       " 'cough',\n",
       " 'cramps',\n",
       " 'dark_urine',\n",
       " 'dehydration',\n",
       " 'depression',\n",
       " 'diarrhoea',\n",
       " 'dischromic _patches',\n",
       " 'distention_of_abdomen',\n",
       " 'dizziness',\n",
       " 'drying_and_tingling_lips',\n",
       " 'enlarged_thyroid',\n",
       " 'excessive_hunger',\n",
       " 'extra_marital_contacts',\n",
       " 'family_history',\n",
       " 'fast_heart_rate',\n",
       " 'fatigue',\n",
       " 'fluid_overload',\n",
       " 'fluid_overload.1',\n",
       " 'foul_smell_of urine',\n",
       " 'headache',\n",
       " 'high_fever',\n",
       " 'hip_joint_pain',\n",
       " 'history_of_alcohol_consumption',\n",
       " 'increased_appetite',\n",
       " 'indigestion',\n",
       " 'inflammatory_nails',\n",
       " 'internal_itching',\n",
       " 'irregular_sugar_level',\n",
       " 'irritability',\n",
       " 'irritation_in_anus',\n",
       " 'itching',\n",
       " 'joint_pain',\n",
       " 'knee_pain',\n",
       " 'lack_of_concentration',\n",
       " 'lethargy',\n",
       " 'loss_of_appetite',\n",
       " 'loss_of_balance',\n",
       " 'loss_of_smell',\n",
       " 'malaise',\n",
       " 'mild_fever',\n",
       " 'mood_swings',\n",
       " 'movement_stiffness',\n",
       " 'mucoid_sputum',\n",
       " 'muscle_pain',\n",
       " 'muscle_wasting',\n",
       " 'muscle_weakness',\n",
       " 'nausea',\n",
       " 'neck_pain',\n",
       " 'nodal_skin_eruptions',\n",
       " 'obesity',\n",
       " 'pain_behind_the_eyes',\n",
       " 'pain_during_bowel_movements',\n",
       " 'pain_in_anal_region',\n",
       " 'painful_walking',\n",
       " 'palpitations',\n",
       " 'passage_of_gases',\n",
       " 'patches_in_throat',\n",
       " 'phlegm',\n",
       " 'polyuria',\n",
       " 'prominent_veins_on_calf',\n",
       " 'puffy_face_and_eyes',\n",
       " 'pus_filled_pimples',\n",
       " 'receiving_blood_transfusion',\n",
       " 'receiving_unsterile_injections',\n",
       " 'red_sore_around_nose',\n",
       " 'red_spots_over_body',\n",
       " 'redness_of_eyes',\n",
       " 'restlessness',\n",
       " 'runny_nose',\n",
       " 'rusty_sputum',\n",
       " 'scurring',\n",
       " 'shivering',\n",
       " 'silver_like_dusting',\n",
       " 'sinus_pressure',\n",
       " 'skin_peeling',\n",
       " 'skin_rash',\n",
       " 'slurred_speech',\n",
       " 'small_dents_in_nails',\n",
       " 'spinning_movements',\n",
       " 'spotting_ urination',\n",
       " 'stiff_neck',\n",
       " 'stomach_bleeding',\n",
       " 'stomach_pain',\n",
       " 'sunken_eyes',\n",
       " 'sweating',\n",
       " 'swelled_lymph_nodes',\n",
       " 'swelling_joints',\n",
       " 'swelling_of_stomach',\n",
       " 'swollen_blood_vessels',\n",
       " 'swollen_extremeties',\n",
       " 'swollen_legs',\n",
       " 'throat_irritation',\n",
       " 'toxic_look_(typhos)',\n",
       " 'ulcers_on_tongue',\n",
       " 'unsteadiness',\n",
       " 'visual_disturbances',\n",
       " 'vomiting',\n",
       " 'watering_from_eyes',\n",
       " 'weakness_in_limbs',\n",
       " 'weakness_of_one_body_side',\n",
       " 'weight_gain',\n",
       " 'weight_loss',\n",
       " 'yellow_crust_ooze',\n",
       " 'yellow_urine',\n",
       " 'yellowing_of_eyes',\n",
       " 'yellowish_skin']"
      ]
     },
     "execution_count": 3,
     "metadata": {},
     "output_type": "execute_result"
    }
   ],
   "source": [
    "sorted(train_df.columns.tolist()[:-1])"
   ]
  },
  {
   "cell_type": "markdown",
   "id": "bbe7e373",
   "metadata": {
    "papermill": {
     "duration": 0.033848,
     "end_time": "2022-02-23T14:54:05.803804",
     "exception": false,
     "start_time": "2022-02-23T14:54:05.769956",
     "status": "completed"
    },
    "tags": []
   },
   "source": [
    "> #### Seems like we 'fluid_overload' and 'fluid_overload.1'\n",
    "> #### Let us look at what prognosis they result in"
   ]
  },
  {
   "cell_type": "code",
   "execution_count": 4,
   "id": "3dbfb5d6",
   "metadata": {
    "execution": {
     "iopub.execute_input": "2022-02-23T14:54:05.884385Z",
     "iopub.status.busy": "2022-02-23T14:54:05.883608Z",
     "iopub.status.idle": "2022-02-23T14:54:05.890339Z",
     "shell.execute_reply": "2022-02-23T14:54:05.890859Z",
     "shell.execute_reply.started": "2022-02-23T13:49:57.754361Z"
    },
    "papermill": {
     "duration": 0.055656,
     "end_time": "2022-02-23T14:54:05.891025",
     "exception": false,
     "start_time": "2022-02-23T14:54:05.835369",
     "status": "completed"
    },
    "tags": []
   },
   "outputs": [
    {
     "data": {
      "text/html": [
       "<div>\n",
       "<style scoped>\n",
       "    .dataframe tbody tr th:only-of-type {\n",
       "        vertical-align: middle;\n",
       "    }\n",
       "\n",
       "    .dataframe tbody tr th {\n",
       "        vertical-align: top;\n",
       "    }\n",
       "\n",
       "    .dataframe thead th {\n",
       "        text-align: right;\n",
       "    }\n",
       "</style>\n",
       "<table border=\"1\" class=\"dataframe\">\n",
       "  <thead>\n",
       "    <tr style=\"text-align: right;\">\n",
       "      <th></th>\n",
       "      <th>itching</th>\n",
       "      <th>skin_rash</th>\n",
       "      <th>nodal_skin_eruptions</th>\n",
       "      <th>continuous_sneezing</th>\n",
       "      <th>shivering</th>\n",
       "      <th>chills</th>\n",
       "      <th>joint_pain</th>\n",
       "      <th>stomach_pain</th>\n",
       "      <th>acidity</th>\n",
       "      <th>ulcers_on_tongue</th>\n",
       "      <th>...</th>\n",
       "      <th>blackheads</th>\n",
       "      <th>scurring</th>\n",
       "      <th>skin_peeling</th>\n",
       "      <th>silver_like_dusting</th>\n",
       "      <th>small_dents_in_nails</th>\n",
       "      <th>inflammatory_nails</th>\n",
       "      <th>blister</th>\n",
       "      <th>red_sore_around_nose</th>\n",
       "      <th>yellow_crust_ooze</th>\n",
       "      <th>prognosis</th>\n",
       "    </tr>\n",
       "  </thead>\n",
       "  <tbody>\n",
       "  </tbody>\n",
       "</table>\n",
       "<p>0 rows × 133 columns</p>\n",
       "</div>"
      ],
      "text/plain": [
       "Empty DataFrame\n",
       "Columns: [itching, skin_rash, nodal_skin_eruptions, continuous_sneezing, shivering, chills, joint_pain, stomach_pain, acidity, ulcers_on_tongue, muscle_wasting, vomiting, burning_micturition, spotting_ urination, fatigue, weight_gain, anxiety, cold_hands_and_feets, mood_swings, weight_loss, restlessness, lethargy, patches_in_throat, irregular_sugar_level, cough, high_fever, sunken_eyes, breathlessness, sweating, dehydration, indigestion, headache, yellowish_skin, dark_urine, nausea, loss_of_appetite, pain_behind_the_eyes, back_pain, constipation, abdominal_pain, diarrhoea, mild_fever, yellow_urine, yellowing_of_eyes, acute_liver_failure, fluid_overload, swelling_of_stomach, swelled_lymph_nodes, malaise, blurred_and_distorted_vision, phlegm, throat_irritation, redness_of_eyes, sinus_pressure, runny_nose, congestion, chest_pain, weakness_in_limbs, fast_heart_rate, pain_during_bowel_movements, pain_in_anal_region, bloody_stool, irritation_in_anus, neck_pain, dizziness, cramps, bruising, obesity, swollen_legs, swollen_blood_vessels, puffy_face_and_eyes, enlarged_thyroid, brittle_nails, swollen_extremeties, excessive_hunger, extra_marital_contacts, drying_and_tingling_lips, slurred_speech, knee_pain, hip_joint_pain, muscle_weakness, stiff_neck, swelling_joints, movement_stiffness, spinning_movements, loss_of_balance, unsteadiness, weakness_of_one_body_side, loss_of_smell, bladder_discomfort, foul_smell_of urine, continuous_feel_of_urine, passage_of_gases, internal_itching, toxic_look_(typhos), depression, irritability, muscle_pain, altered_sensorium, red_spots_over_body, ...]\n",
       "Index: []\n",
       "\n",
       "[0 rows x 133 columns]"
      ]
     },
     "execution_count": 4,
     "metadata": {},
     "output_type": "execute_result"
    }
   ],
   "source": [
    "train_df[train_df['fluid_overload'] == 1]"
   ]
  },
  {
   "cell_type": "code",
   "execution_count": 5,
   "id": "2c89d9fd",
   "metadata": {
    "execution": {
     "iopub.execute_input": "2022-02-23T14:54:05.956796Z",
     "iopub.status.busy": "2022-02-23T14:54:05.956084Z",
     "iopub.status.idle": "2022-02-23T14:54:05.963369Z",
     "shell.execute_reply": "2022-02-23T14:54:05.964002Z",
     "shell.execute_reply.started": "2022-02-23T13:49:57.773914Z"
    },
    "papermill": {
     "duration": 0.042078,
     "end_time": "2022-02-23T14:54:05.964178",
     "exception": false,
     "start_time": "2022-02-23T14:54:05.922100",
     "status": "completed"
    },
    "tags": []
   },
   "outputs": [
    {
     "data": {
      "text/plain": [
       "array(['Alcoholic hepatitis'], dtype=object)"
      ]
     },
     "execution_count": 5,
     "metadata": {},
     "output_type": "execute_result"
    }
   ],
   "source": [
    "train_df[train_df['fluid_overload.1'] == 1].prognosis.unique()"
   ]
  },
  {
   "cell_type": "markdown",
   "id": "9234e8d7",
   "metadata": {
    "papermill": {
     "duration": 0.031033,
     "end_time": "2022-02-23T14:54:06.026865",
     "exception": false,
     "start_time": "2022-02-23T14:54:05.995832",
     "status": "completed"
    },
    "tags": []
   },
   "source": [
    "> #### Seems like fluid_overload is not much of an indicator by itself but fluid_overload.1 seems like an obvious indicator of alcoholic hepatitis\n",
    "> #### Matter of fact, let us take a look at all the various symptoms and their prognosis to see which symptoms is a very telling sign"
   ]
  },
  {
   "cell_type": "code",
   "execution_count": 6,
   "id": "7e5a6ec9",
   "metadata": {
    "execution": {
     "iopub.execute_input": "2022-02-23T14:54:06.093347Z",
     "iopub.status.busy": "2022-02-23T14:54:06.092649Z",
     "iopub.status.idle": "2022-02-23T14:54:06.627760Z",
     "shell.execute_reply": "2022-02-23T14:54:06.628344Z",
     "shell.execute_reply.started": "2022-02-23T13:49:57.786535Z"
    },
    "jupyter": {
     "source_hidden": true
    },
    "papermill": {
     "duration": 0.569524,
     "end_time": "2022-02-23T14:54:06.628507",
     "exception": false,
     "start_time": "2022-02-23T14:54:06.058983",
     "status": "completed"
    },
    "tags": []
   },
   "outputs": [
    {
     "data": {
      "text/html": [
       "<div>\n",
       "<style scoped>\n",
       "    .dataframe tbody tr th:only-of-type {\n",
       "        vertical-align: middle;\n",
       "    }\n",
       "\n",
       "    .dataframe tbody tr th {\n",
       "        vertical-align: top;\n",
       "    }\n",
       "\n",
       "    .dataframe thead th {\n",
       "        text-align: right;\n",
       "    }\n",
       "</style>\n",
       "<table border=\"1\" class=\"dataframe\">\n",
       "  <thead>\n",
       "    <tr style=\"text-align: right;\">\n",
       "      <th></th>\n",
       "      <th>Symptoms</th>\n",
       "      <th>Prognosis</th>\n",
       "      <th>length</th>\n",
       "    </tr>\n",
       "  </thead>\n",
       "  <tbody>\n",
       "    <tr>\n",
       "      <th>41</th>\n",
       "      <td>fatigue</td>\n",
       "      <td>[Diabetes , Bronchial Asthma, Jaundice, Chicke...</td>\n",
       "      <td>17.0</td>\n",
       "    </tr>\n",
       "    <tr>\n",
       "      <th>122</th>\n",
       "      <td>vomiting</td>\n",
       "      <td>[GERD, Chronic cholestasis, Peptic ulcer disea...</td>\n",
       "      <td>17.0</td>\n",
       "    </tr>\n",
       "    <tr>\n",
       "      <th>46</th>\n",
       "      <td>high_fever</td>\n",
       "      <td>[AIDS, Bronchial Asthma, Jaundice, Malaria, Ch...</td>\n",
       "      <td>12.0</td>\n",
       "    </tr>\n",
       "    <tr>\n",
       "      <th>72</th>\n",
       "      <td>nausea</td>\n",
       "      <td>[Chronic cholestasis, Malaria, Dengue, Typhoid...</td>\n",
       "      <td>10.0</td>\n",
       "    </tr>\n",
       "    <tr>\n",
       "      <th>61</th>\n",
       "      <td>loss_of_appetite</td>\n",
       "      <td>[Chronic cholestasis, Peptic ulcer diseae, Chi...</td>\n",
       "      <td>10.0</td>\n",
       "    </tr>\n",
       "    <tr>\n",
       "      <th>45</th>\n",
       "      <td>headache</td>\n",
       "      <td>[Hypertension , Migraine, Paralysis (brain hem...</td>\n",
       "      <td>10.0</td>\n",
       "    </tr>\n",
       "    <tr>\n",
       "      <th>0</th>\n",
       "      <td>abdominal_pain</td>\n",
       "      <td>[Chronic cholestasis, Peptic ulcer diseae, Jau...</td>\n",
       "      <td>9.0</td>\n",
       "    </tr>\n",
       "    <tr>\n",
       "      <th>131</th>\n",
       "      <td>yellowish_skin</td>\n",
       "      <td>[Chronic cholestasis, Jaundice, hepatitis A, H...</td>\n",
       "      <td>8.0</td>\n",
       "    </tr>\n",
       "    <tr>\n",
       "      <th>130</th>\n",
       "      <td>yellowing_of_eyes</td>\n",
       "      <td>[Chronic cholestasis, hepatitis A, Hepatitis B...</td>\n",
       "      <td>7.0</td>\n",
       "    </tr>\n",
       "    <tr>\n",
       "      <th>101</th>\n",
       "      <td>skin_rash</td>\n",
       "      <td>[Fungal infection, Drug Reaction, Chicken pox,...</td>\n",
       "      <td>7.0</td>\n",
       "    </tr>\n",
       "  </tbody>\n",
       "</table>\n",
       "</div>"
      ],
      "text/plain": [
       "              Symptoms                                          Prognosis  \\\n",
       "41             fatigue  [Diabetes , Bronchial Asthma, Jaundice, Chicke...   \n",
       "122           vomiting  [GERD, Chronic cholestasis, Peptic ulcer disea...   \n",
       "46          high_fever  [AIDS, Bronchial Asthma, Jaundice, Malaria, Ch...   \n",
       "72              nausea  [Chronic cholestasis, Malaria, Dengue, Typhoid...   \n",
       "61    loss_of_appetite  [Chronic cholestasis, Peptic ulcer diseae, Chi...   \n",
       "45            headache  [Hypertension , Migraine, Paralysis (brain hem...   \n",
       "0       abdominal_pain  [Chronic cholestasis, Peptic ulcer diseae, Jau...   \n",
       "131     yellowish_skin  [Chronic cholestasis, Jaundice, hepatitis A, H...   \n",
       "130  yellowing_of_eyes  [Chronic cholestasis, hepatitis A, Hepatitis B...   \n",
       "101          skin_rash  [Fungal infection, Drug Reaction, Chicken pox,...   \n",
       "\n",
       "     length  \n",
       "41     17.0  \n",
       "122    17.0  \n",
       "46     12.0  \n",
       "72     10.0  \n",
       "61     10.0  \n",
       "45     10.0  \n",
       "0       9.0  \n",
       "131     8.0  \n",
       "130     7.0  \n",
       "101     7.0  "
      ]
     },
     "execution_count": 6,
     "metadata": {},
     "output_type": "execute_result"
    }
   ],
   "source": [
    "data = {'Symptoms': [], 'Prognosis': [], 'length': []}\n",
    "table = pd.DataFrame(data)\n",
    "table = table.astype({\"Symptoms\": str, \"Prognosis\": object, 'length': int})\n",
    "i = 0\n",
    "\n",
    "for symp in sorted(train_df.columns.tolist()[:-1]):\n",
    "    prognosis = train_df[train_df[symp] == 1].prognosis.unique().tolist()\n",
    "    table = table.append({'Symptoms': symp}, {'Prognosis': prognosis}, {'length':len(prognosis)}) \n",
    "    table.at[i,'Prognosis'] = prognosis\n",
    "    table.at[i, 'length'] = len(prognosis)\n",
    "    i += 1\n",
    "    \n",
    "table.sort_values(by='length', ascending=False).head(10)"
   ]
  },
  {
   "cell_type": "markdown",
   "id": "6311d422",
   "metadata": {
    "papermill": {
     "duration": 0.031981,
     "end_time": "2022-02-23T14:54:06.692572",
     "exception": false,
     "start_time": "2022-02-23T14:54:06.660591",
     "status": "completed"
    },
    "tags": []
   },
   "source": [
    "> #### So, fatigue and vomiting are the two most common and most generic symptoms in this dataset and probably won't be an unique/significant predictor for an illness\n",
    "> #### What are the most telling symptom then?"
   ]
  },
  {
   "cell_type": "code",
   "execution_count": 7,
   "id": "b5f6580f",
   "metadata": {
    "execution": {
     "iopub.execute_input": "2022-02-23T14:54:06.759706Z",
     "iopub.status.busy": "2022-02-23T14:54:06.759068Z",
     "iopub.status.idle": "2022-02-23T14:54:06.774628Z",
     "shell.execute_reply": "2022-02-23T14:54:06.775178Z",
     "shell.execute_reply.started": "2022-02-23T13:53:40.148432Z"
    },
    "jupyter": {
     "source_hidden": true
    },
    "papermill": {
     "duration": 0.050588,
     "end_time": "2022-02-23T14:54:06.775359",
     "exception": false,
     "start_time": "2022-02-23T14:54:06.724771",
     "status": "completed"
    },
    "tags": []
   },
   "outputs": [
    {
     "data": {
      "text/html": [
       "<div>\n",
       "<style scoped>\n",
       "    .dataframe tbody tr th:only-of-type {\n",
       "        vertical-align: middle;\n",
       "    }\n",
       "\n",
       "    .dataframe tbody tr th {\n",
       "        vertical-align: top;\n",
       "    }\n",
       "\n",
       "    .dataframe thead th {\n",
       "        text-align: right;\n",
       "    }\n",
       "</style>\n",
       "<table border=\"1\" class=\"dataframe\">\n",
       "  <thead>\n",
       "    <tr style=\"text-align: right;\">\n",
       "      <th></th>\n",
       "      <th>Symptoms</th>\n",
       "      <th>Prognosis</th>\n",
       "      <th>length</th>\n",
       "    </tr>\n",
       "  </thead>\n",
       "  <tbody>\n",
       "    <tr>\n",
       "      <th>42</th>\n",
       "      <td>fluid_overload</td>\n",
       "      <td>[]</td>\n",
       "      <td>0.0</td>\n",
       "    </tr>\n",
       "    <tr>\n",
       "      <th>126</th>\n",
       "      <td>weight_gain</td>\n",
       "      <td>[Hypothyroidism]</td>\n",
       "      <td>1.0</td>\n",
       "    </tr>\n",
       "    <tr>\n",
       "      <th>87</th>\n",
       "      <td>pus_filled_pimples</td>\n",
       "      <td>[Acne]</td>\n",
       "      <td>1.0</td>\n",
       "    </tr>\n",
       "    <tr>\n",
       "      <th>86</th>\n",
       "      <td>puffy_face_and_eyes</td>\n",
       "      <td>[Hypothyroidism]</td>\n",
       "      <td>1.0</td>\n",
       "    </tr>\n",
       "    <tr>\n",
       "      <th>85</th>\n",
       "      <td>prominent_veins_on_calf</td>\n",
       "      <td>[Varicose veins]</td>\n",
       "      <td>1.0</td>\n",
       "    </tr>\n",
       "    <tr>\n",
       "      <th>84</th>\n",
       "      <td>polyuria</td>\n",
       "      <td>[Diabetes ]</td>\n",
       "      <td>1.0</td>\n",
       "    </tr>\n",
       "    <tr>\n",
       "      <th>82</th>\n",
       "      <td>patches_in_throat</td>\n",
       "      <td>[AIDS]</td>\n",
       "      <td>1.0</td>\n",
       "    </tr>\n",
       "    <tr>\n",
       "      <th>81</th>\n",
       "      <td>passage_of_gases</td>\n",
       "      <td>[Peptic ulcer diseae]</td>\n",
       "      <td>1.0</td>\n",
       "    </tr>\n",
       "    <tr>\n",
       "      <th>80</th>\n",
       "      <td>palpitations</td>\n",
       "      <td>[Hypoglycemia]</td>\n",
       "      <td>1.0</td>\n",
       "    </tr>\n",
       "    <tr>\n",
       "      <th>78</th>\n",
       "      <td>pain_in_anal_region</td>\n",
       "      <td>[Dimorphic hemmorhoids(piles)]</td>\n",
       "      <td>1.0</td>\n",
       "    </tr>\n",
       "  </tbody>\n",
       "</table>\n",
       "</div>"
      ],
      "text/plain": [
       "                    Symptoms                       Prognosis  length\n",
       "42            fluid_overload                              []     0.0\n",
       "126              weight_gain                [Hypothyroidism]     1.0\n",
       "87        pus_filled_pimples                          [Acne]     1.0\n",
       "86       puffy_face_and_eyes                [Hypothyroidism]     1.0\n",
       "85   prominent_veins_on_calf                [Varicose veins]     1.0\n",
       "84                  polyuria                     [Diabetes ]     1.0\n",
       "82         patches_in_throat                          [AIDS]     1.0\n",
       "81          passage_of_gases           [Peptic ulcer diseae]     1.0\n",
       "80              palpitations                  [Hypoglycemia]     1.0\n",
       "78       pain_in_anal_region  [Dimorphic hemmorhoids(piles)]     1.0"
      ]
     },
     "execution_count": 7,
     "metadata": {},
     "output_type": "execute_result"
    }
   ],
   "source": [
    "table.sort_values(by='length', ascending=True).head(10)"
   ]
  },
  {
   "cell_type": "markdown",
   "id": "c2bab660",
   "metadata": {
    "papermill": {
     "duration": 0.03208,
     "end_time": "2022-02-23T14:54:06.840068",
     "exception": false,
     "start_time": "2022-02-23T14:54:06.807988",
     "status": "completed"
    },
    "tags": []
   },
   "source": [
    "> #### As observed above, fluid_overload does seem to be a problematic symptom for our dataset. Apart from that, there are a great number of very telling symptoms such as patches_in_throat, with the prognosis being AIDS. \n",
    "> #### However, I do want wish to acknowledge a **limitation** here. This dataset is not a very large dataset and the prognosis is also pretty limited in diversity (41). Therefore, our model might not have much room to maneuver when it comes to finding relations between different symptoms to come up with a solid prognosis. "
   ]
  },
  {
   "cell_type": "markdown",
   "id": "3287cff7",
   "metadata": {
    "papermill": {
     "duration": 0.032848,
     "end_time": "2022-02-23T14:54:06.906718",
     "exception": false,
     "start_time": "2022-02-23T14:54:06.873870",
     "status": "completed"
    },
    "tags": []
   },
   "source": [
    "# What model could we use?"
   ]
  },
  {
   "cell_type": "markdown",
   "id": "15a7e81b",
   "metadata": {
    "papermill": {
     "duration": 0.033786,
     "end_time": "2022-02-23T14:54:06.975254",
     "exception": false,
     "start_time": "2022-02-23T14:54:06.941468",
     "status": "completed"
    },
    "tags": []
   },
   "source": [
    "> #### Now we know that this is a supervised learning problem and a classification problem too. \n",
    "> #### There won't be much feature engineering required for this as all possible values are limited to 0 and 1, including the target variable.\n",
    "> #### These conditions bring several models to mind\n",
    "> #### 1. Support Vector Classification\n",
    "> #### 2. KNN (k-nearest neighbors)\n",
    "> #### 3. Naive Bayes Classifier \n",
    "> #### 4. Random Forest\n",
    "> #### 5. Gradient Boosting"
   ]
  },
  {
   "cell_type": "markdown",
   "id": "5776b00a",
   "metadata": {
    "papermill": {
     "duration": 0.032321,
     "end_time": "2022-02-23T14:54:07.040416",
     "exception": false,
     "start_time": "2022-02-23T14:54:07.008095",
     "status": "completed"
    },
    "tags": []
   },
   "source": [
    "> #### First we would need to change our target variable 'Prognosis' into a form that our model would be able to understand"
   ]
  },
  {
   "cell_type": "markdown",
   "id": "e0e6e83a",
   "metadata": {
    "papermill": {
     "duration": 0.031903,
     "end_time": "2022-02-23T14:54:07.105333",
     "exception": false,
     "start_time": "2022-02-23T14:54:07.073430",
     "status": "completed"
    },
    "tags": []
   },
   "source": [
    "# Target Engineering"
   ]
  },
  {
   "cell_type": "code",
   "execution_count": 8,
   "id": "5be509e0",
   "metadata": {
    "execution": {
     "iopub.execute_input": "2022-02-23T14:54:07.172966Z",
     "iopub.status.busy": "2022-02-23T14:54:07.172332Z",
     "iopub.status.idle": "2022-02-23T14:54:07.178886Z",
     "shell.execute_reply": "2022-02-23T14:54:07.179369Z",
     "shell.execute_reply.started": "2022-02-23T14:12:19.245009Z"
    },
    "papermill": {
     "duration": 0.041884,
     "end_time": "2022-02-23T14:54:07.179529",
     "exception": false,
     "start_time": "2022-02-23T14:54:07.137645",
     "status": "completed"
    },
    "tags": []
   },
   "outputs": [],
   "source": [
    "features = train_df.iloc[:,0:-1]\n",
    "target = train_df.prognosis"
   ]
  },
  {
   "cell_type": "markdown",
   "id": "fbeb5092",
   "metadata": {
    "papermill": {
     "duration": 0.033305,
     "end_time": "2022-02-23T14:54:07.245195",
     "exception": false,
     "start_time": "2022-02-23T14:54:07.211890",
     "status": "completed"
    },
    "tags": []
   },
   "source": [
    "> #### Let us label our prognosis so that our model can understand its target variables"
   ]
  },
  {
   "cell_type": "code",
   "execution_count": 9,
   "id": "c385a956",
   "metadata": {
    "execution": {
     "iopub.execute_input": "2022-02-23T14:54:07.314817Z",
     "iopub.status.busy": "2022-02-23T14:54:07.314159Z",
     "iopub.status.idle": "2022-02-23T14:54:08.314560Z",
     "shell.execute_reply": "2022-02-23T14:54:08.315089Z",
     "shell.execute_reply.started": "2022-02-23T14:28:14.209287Z"
    },
    "papermill": {
     "duration": 1.03764,
     "end_time": "2022-02-23T14:54:08.315272",
     "exception": false,
     "start_time": "2022-02-23T14:54:07.277632",
     "status": "completed"
    },
    "tags": []
   },
   "outputs": [],
   "source": [
    "from sklearn import preprocessing\n",
    "le = preprocessing.LabelEncoder()\n",
    "\n",
    "le.fit(target.tolist())\n",
    "\n",
    "encoded_target = le.transform(target)"
   ]
  },
  {
   "cell_type": "code",
   "execution_count": 10,
   "id": "fc3b0a08",
   "metadata": {
    "execution": {
     "iopub.execute_input": "2022-02-23T14:54:08.385478Z",
     "iopub.status.busy": "2022-02-23T14:54:08.384699Z",
     "iopub.status.idle": "2022-02-23T14:54:08.455698Z",
     "shell.execute_reply": "2022-02-23T14:54:08.455118Z",
     "shell.execute_reply.started": "2022-02-23T14:28:14.570415Z"
    },
    "papermill": {
     "duration": 0.108299,
     "end_time": "2022-02-23T14:54:08.455871",
     "exception": false,
     "start_time": "2022-02-23T14:54:08.347572",
     "status": "completed"
    },
    "tags": []
   },
   "outputs": [],
   "source": [
    "from sklearn.model_selection import train_test_split\n",
    "X_train, X_test, y_train, y_test = train_test_split(features, encoded_target, test_size=0.20, random_state=42)"
   ]
  },
  {
   "cell_type": "markdown",
   "id": "d0d69e3a",
   "metadata": {
    "papermill": {
     "duration": 0.032029,
     "end_time": "2022-02-23T14:54:08.520541",
     "exception": false,
     "start_time": "2022-02-23T14:54:08.488512",
     "status": "completed"
    },
    "tags": []
   },
   "source": [
    "# Model Implementation "
   ]
  },
  {
   "cell_type": "markdown",
   "id": "3ae3d089",
   "metadata": {
    "papermill": {
     "duration": 0.032424,
     "end_time": "2022-02-23T14:54:08.585466",
     "exception": false,
     "start_time": "2022-02-23T14:54:08.553042",
     "status": "completed"
    },
    "tags": []
   },
   "source": [
    "> #### 1. Support Vector Classification"
   ]
  },
  {
   "cell_type": "code",
   "execution_count": 11,
   "id": "ae1fa54f",
   "metadata": {
    "execution": {
     "iopub.execute_input": "2022-02-23T14:54:08.656745Z",
     "iopub.status.busy": "2022-02-23T14:54:08.653388Z",
     "iopub.status.idle": "2022-02-23T14:54:09.367283Z",
     "shell.execute_reply": "2022-02-23T14:54:09.367799Z",
     "shell.execute_reply.started": "2022-02-23T14:35:24.304055Z"
    },
    "papermill": {
     "duration": 0.750079,
     "end_time": "2022-02-23T14:54:09.367980",
     "exception": false,
     "start_time": "2022-02-23T14:54:08.617901",
     "status": "completed"
    },
    "tags": []
   },
   "outputs": [
    {
     "name": "stdout",
     "output_type": "stream",
     "text": [
      "Accuracy score for SVC is 100.0%\n"
     ]
    }
   ],
   "source": [
    "from sklearn.svm import SVC\n",
    "from sklearn.metrics import accuracy_score\n",
    "from sklearn.model_selection import cross_val_score\n",
    "\n",
    "svc_model = SVC()\n",
    "\n",
    "svc_model.fit(X_train,y_train)\n",
    "\n",
    "pred = svc_model.predict(X_test)\n",
    "\n",
    "score = accuracy_score(y_test, pred)\n",
    "print(\"Accuracy score for SVC is {}%\".format(score*100))"
   ]
  },
  {
   "cell_type": "markdown",
   "id": "a76ec277",
   "metadata": {
    "papermill": {
     "duration": 0.032582,
     "end_time": "2022-02-23T14:54:09.433198",
     "exception": false,
     "start_time": "2022-02-23T14:54:09.400616",
     "status": "completed"
    },
    "tags": []
   },
   "source": [
    "> #### 2. KNN (k-nearest neighbors)"
   ]
  },
  {
   "cell_type": "code",
   "execution_count": 12,
   "id": "2fac6dcb",
   "metadata": {
    "execution": {
     "iopub.execute_input": "2022-02-23T14:54:09.502623Z",
     "iopub.status.busy": "2022-02-23T14:54:09.501662Z",
     "iopub.status.idle": "2022-02-23T14:54:10.178951Z",
     "shell.execute_reply": "2022-02-23T14:54:10.178351Z",
     "shell.execute_reply.started": "2022-02-23T14:35:32.37047Z"
    },
    "papermill": {
     "duration": 0.713096,
     "end_time": "2022-02-23T14:54:10.179095",
     "exception": false,
     "start_time": "2022-02-23T14:54:09.465999",
     "status": "completed"
    },
    "tags": []
   },
   "outputs": [
    {
     "name": "stdout",
     "output_type": "stream",
     "text": [
      "Accuracy score for KNN is 100.0%\n"
     ]
    }
   ],
   "source": [
    "from sklearn.neighbors import KNeighborsClassifier\n",
    "\n",
    "knn_model = KNeighborsClassifier(n_neighbors=3)\n",
    "\n",
    "knn_model.fit(X_train, y_train)\n",
    "\n",
    "pred = knn_model.predict(X_test)\n",
    "\n",
    "score = accuracy_score(y_test, pred)\n",
    "print(\"Accuracy score for KNN is {}%\".format(score*100))"
   ]
  },
  {
   "cell_type": "markdown",
   "id": "ef05d322",
   "metadata": {
    "papermill": {
     "duration": 0.033158,
     "end_time": "2022-02-23T14:54:10.245637",
     "exception": false,
     "start_time": "2022-02-23T14:54:10.212479",
     "status": "completed"
    },
    "tags": []
   },
   "source": [
    "> #### 3. Naive Bayes Classifier"
   ]
  },
  {
   "cell_type": "code",
   "execution_count": 13,
   "id": "acfc8e8e",
   "metadata": {
    "execution": {
     "iopub.execute_input": "2022-02-23T14:54:10.318389Z",
     "iopub.status.busy": "2022-02-23T14:54:10.317577Z",
     "iopub.status.idle": "2022-02-23T14:54:10.374478Z",
     "shell.execute_reply": "2022-02-23T14:54:10.375005Z",
     "shell.execute_reply.started": "2022-02-23T14:37:01.931699Z"
    },
    "papermill": {
     "duration": 0.096376,
     "end_time": "2022-02-23T14:54:10.375191",
     "exception": false,
     "start_time": "2022-02-23T14:54:10.278815",
     "status": "completed"
    },
    "tags": []
   },
   "outputs": [
    {
     "name": "stdout",
     "output_type": "stream",
     "text": [
      "Accuracy score for Naive Bayes Classifier is 100.0%\n"
     ]
    }
   ],
   "source": [
    "from sklearn.naive_bayes import GaussianNB\n",
    "\n",
    "nb_model = GaussianNB()\n",
    "\n",
    "nb_model.fit(X_train,y_train)\n",
    "\n",
    "pred = nb_model.predict(X_test)\n",
    "\n",
    "score = accuracy_score(y_test, pred)\n",
    "print(\"Accuracy score for Naive Bayes Classifier is {}%\".format(score*100))"
   ]
  },
  {
   "cell_type": "markdown",
   "id": "c24b551d",
   "metadata": {
    "papermill": {
     "duration": 0.033154,
     "end_time": "2022-02-23T14:54:10.442217",
     "exception": false,
     "start_time": "2022-02-23T14:54:10.409063",
     "status": "completed"
    },
    "tags": []
   },
   "source": [
    "> #### 4. Random Forest¶"
   ]
  },
  {
   "cell_type": "code",
   "execution_count": 14,
   "id": "cfb38943",
   "metadata": {
    "execution": {
     "iopub.execute_input": "2022-02-23T14:54:10.515129Z",
     "iopub.status.busy": "2022-02-23T14:54:10.514419Z",
     "iopub.status.idle": "2022-02-23T14:54:11.113910Z",
     "shell.execute_reply": "2022-02-23T14:54:11.114628Z",
     "shell.execute_reply.started": "2022-02-23T14:39:05.924614Z"
    },
    "papermill": {
     "duration": 0.639009,
     "end_time": "2022-02-23T14:54:11.114885",
     "exception": false,
     "start_time": "2022-02-23T14:54:10.475876",
     "status": "completed"
    },
    "tags": []
   },
   "outputs": [
    {
     "name": "stdout",
     "output_type": "stream",
     "text": [
      "Accuracy score for Random Forest is 100.0%\n"
     ]
    }
   ],
   "source": [
    "from sklearn.ensemble import RandomForestClassifier\n",
    "\n",
    "rf_model = RandomForestClassifier()\n",
    "\n",
    "rf_model.fit(X_train, y_train)\n",
    "\n",
    "pred = rf_model.predict(X_test)\n",
    "\n",
    "score = accuracy_score(y_test, pred)\n",
    "print(\"Accuracy score for Random Forest is {}%\".format(score*100))"
   ]
  },
  {
   "cell_type": "markdown",
   "id": "d63b30ff",
   "metadata": {
    "papermill": {
     "duration": 0.03358,
     "end_time": "2022-02-23T14:54:11.183850",
     "exception": false,
     "start_time": "2022-02-23T14:54:11.150270",
     "status": "completed"
    },
    "tags": []
   },
   "source": [
    "> #### 5. Gradient Boosting"
   ]
  },
  {
   "cell_type": "code",
   "execution_count": 15,
   "id": "f15675d9",
   "metadata": {
    "execution": {
     "iopub.execute_input": "2022-02-23T14:54:11.258987Z",
     "iopub.status.busy": "2022-02-23T14:54:11.258297Z",
     "iopub.status.idle": "2022-02-23T14:54:21.949216Z",
     "shell.execute_reply": "2022-02-23T14:54:21.951107Z",
     "shell.execute_reply.started": "2022-02-23T14:40:40.598585Z"
    },
    "papermill": {
     "duration": 10.732753,
     "end_time": "2022-02-23T14:54:21.951383",
     "exception": false,
     "start_time": "2022-02-23T14:54:11.218630",
     "status": "completed"
    },
    "tags": []
   },
   "outputs": [
    {
     "name": "stderr",
     "output_type": "stream",
     "text": [
      "/opt/conda/lib/python3.7/site-packages/xgboost/sklearn.py:1224: UserWarning: The use of label encoder in XGBClassifier is deprecated and will be removed in a future release. To remove this warning, do the following: 1) Pass option use_label_encoder=False when constructing XGBClassifier object; and 2) Encode your labels (y) as integers starting with 0, i.e. 0, 1, 2, ..., [num_class - 1].\n",
      "  warnings.warn(label_encoder_deprecation_msg, UserWarning)\n"
     ]
    },
    {
     "name": "stdout",
     "output_type": "stream",
     "text": [
      "[14:54:11] WARNING: ../src/learner.cc:1115: Starting in XGBoost 1.3.0, the default evaluation metric used with the objective 'multi:softprob' was changed from 'merror' to 'mlogloss'. Explicitly set eval_metric if you'd like to restore the old behavior.\n",
      "Accuracy score for Gradient Boosting is 100.0%\n"
     ]
    }
   ],
   "source": [
    "from xgboost import XGBClassifier\n",
    "\n",
    "xgb_model = XGBClassifier()\n",
    "\n",
    "xgb_model.fit(X_train, y_train)\n",
    "\n",
    "pred = xgb_model.predict(X_test)\n",
    "\n",
    "score = accuracy_score(y_test, pred)\n",
    "print(\"Accuracy score for Gradient Boosting is {}%\".format(score*100))"
   ]
  },
  {
   "cell_type": "markdown",
   "id": "1cbdb1a7",
   "metadata": {
    "papermill": {
     "duration": 0.036114,
     "end_time": "2022-02-23T14:54:22.025046",
     "exception": false,
     "start_time": "2022-02-23T14:54:21.988932",
     "status": "completed"
    },
    "tags": []
   },
   "source": [
    "# Observations"
   ]
  },
  {
   "cell_type": "markdown",
   "id": "48155a16",
   "metadata": {
    "papermill": {
     "duration": 0.034841,
     "end_time": "2022-02-23T14:54:22.097805",
     "exception": false,
     "start_time": "2022-02-23T14:54:22.062964",
     "status": "completed"
    },
    "tags": []
   },
   "source": [
    "> #### The 100% accuracy values on the validation sets for all of the models above is certainly very weird and nearly impossible to achieve. \n",
    "> #### 1. This could be very much due to our limited number of examples, only 4920.\n",
    "> #### 2. This could be due to a certain pattern existing in our dataset and not enough combinations between the different symptoms. \n",
    "> ##### We have 132 symptoms in total and there could be $2^{132}$ = $5.4 \\times 10^{39}$ possible combinations, which may be another limitations. \n",
    "> ##### With this limited combinations, it is almost certain that there are fixed patterns/relationships between symptoms already embedded in the dataset which is probably the reason for this insanely high accuracy value"
   ]
  }
 ],
 "metadata": {
  "kernelspec": {
   "display_name": "Python 3",
   "language": "python",
   "name": "python3"
  },
  "language_info": {
   "codemirror_mode": {
    "name": "ipython",
    "version": 3
   },
   "file_extension": ".py",
   "mimetype": "text/x-python",
   "name": "python",
   "nbconvert_exporter": "python",
   "pygments_lexer": "ipython3",
   "version": "3.7.12"
  },
  "papermill": {
   "default_parameters": {},
   "duration": 27.73458,
   "end_time": "2022-02-23T14:54:22.946877",
   "environment_variables": {},
   "exception": null,
   "input_path": "__notebook__.ipynb",
   "output_path": "__notebook__.ipynb",
   "parameters": {},
   "start_time": "2022-02-23T14:53:55.212297",
   "version": "2.3.3"
  }
 },
 "nbformat": 4,
 "nbformat_minor": 5
}
