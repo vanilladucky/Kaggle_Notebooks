{
 "cells": [
  {
   "cell_type": "code",
   "execution_count": 1,
   "id": "21db2cb8",
   "metadata": {
    "_cell_guid": "b1076dfc-b9ad-4769-8c92-a6c4dae69d19",
    "_kg_hide-input": true,
    "_kg_hide-output": true,
    "_uuid": "8f2839f25d086af736a60e9eeb907d3b93b6e0e5",
    "execution": {
     "iopub.execute_input": "2022-08-07T04:39:00.371112Z",
     "iopub.status.busy": "2022-08-07T04:39:00.370398Z",
     "iopub.status.idle": "2022-08-07T04:39:01.630356Z",
     "shell.execute_reply": "2022-08-07T04:39:01.630895Z",
     "shell.execute_reply.started": "2022-04-03T08:01:20.722366Z"
    },
    "jupyter": {
     "source_hidden": true
    },
    "papermill": {
     "duration": 1.317172,
     "end_time": "2022-08-07T04:39:01.631187",
     "exception": false,
     "start_time": "2022-08-07T04:39:00.314015",
     "status": "completed"
    },
    "tags": []
   },
   "outputs": [
    {
     "name": "stdout",
     "output_type": "stream",
     "text": [
      "/kaggle/input/heart-disease-prediction-using-logistic-regression/framingham.csv\n"
     ]
    }
   ],
   "source": [
    "# This Python 3 environment comes with many helpful analytics libraries installed\n",
    "# It is defined by the kaggle/python Docker image: https://github.com/kaggle/docker-python\n",
    "# For example, here's several helpful packages to load\n",
    "\n",
    "import numpy as np # linear algebra\n",
    "import pandas as pd # data processing, CSV file I/O (e.g. pd.read_csv)\n",
    "from sklearn.linear_model import LogisticRegression\n",
    "import matplotlib.pyplot as plt\n",
    "\n",
    "# Input data files are available in the read-only \"../input/\" directory\n",
    "# For example, running this (by clicking run or pressing Shift+Enter) will list all files under the input directory\n",
    "\n",
    "import os\n",
    "for dirname, _, filenames in os.walk('/kaggle/input'):\n",
    "    for filename in filenames:\n",
    "        print(os.path.join(dirname, filename))\n",
    "\n",
    "# You can write up to 20GB to the current directory (/kaggle/working/) that gets preserved as output when you create a version using \"Save & Run All\" \n",
    "# You can also write temporary files to /kaggle/temp/, but they won't be saved outside of the current session"
   ]
  },
  {
   "cell_type": "markdown",
   "id": "7dbe9ec1",
   "metadata": {
    "papermill": {
     "duration": 0.045529,
     "end_time": "2022-08-07T04:39:01.720895",
     "exception": false,
     "start_time": "2022-08-07T04:39:01.675366",
     "status": "completed"
    },
    "tags": []
   },
   "source": [
    "# Welcome to a full guide on Logistic Regression🤩✨"
   ]
  },
  {
   "cell_type": "markdown",
   "id": "a4c18d1a",
   "metadata": {
    "papermill": {
     "duration": 0.043056,
     "end_time": "2022-08-07T04:39:01.808393",
     "exception": false,
     "start_time": "2022-08-07T04:39:01.765337",
     "status": "completed"
    },
    "tags": []
   },
   "source": [
    "## This is the second guide and if you wish to check out the first one which was about Linear Regression, do click [here](https://www.kaggle.com/code/kimmik123/all-about-linear-regression?scriptVersionId=91849813) to read about it! "
   ]
  },
  {
   "cell_type": "markdown",
   "id": "a45360bf",
   "metadata": {
    "papermill": {
     "duration": 0.042737,
     "end_time": "2022-08-07T04:39:01.894846",
     "exception": false,
     "start_time": "2022-08-07T04:39:01.852109",
     "status": "completed"
    },
    "tags": []
   },
   "source": [
    "#### I'm sure we all heard of Logistic Regression too and many of us just starting out are surely confused about Linear and Logistic Regression. \n",
    "#### Both have the word regression in them but are very different yet slightly similiar algorithms 😂\n",
    "#### In this guide, I'm going to tell you guys about the concept and purpose for Logistic Regression, how the model is trained (both concept and mathematical knowledge), and finally show you guys what it looks like to implement this from scratch so that you guys can observe the inner workings of the model"
   ]
  },
  {
   "cell_type": "markdown",
   "id": "cdec385c",
   "metadata": {
    "papermill": {
     "duration": 0.042308,
     "end_time": "2022-08-07T04:39:01.980118",
     "exception": false,
     "start_time": "2022-08-07T04:39:01.937810",
     "status": "completed"
    },
    "tags": []
   },
   "source": [
    "## Now, let's see what happens behind the scenes when we type in model.fit()\n",
    "## Let's dive in!"
   ]
  },
  {
   "cell_type": "markdown",
   "id": "76465607",
   "metadata": {
    "papermill": {
     "duration": 0.042418,
     "end_time": "2022-08-07T04:39:02.065399",
     "exception": false,
     "start_time": "2022-08-07T04:39:02.022981",
     "status": "completed"
    },
    "tags": []
   },
   "source": [
    "<div style=\"width:100%;text-align: center;\"> <img align=middle src=\"https://images.unsplash.com/photo-1495756650324-e45118cb3e35?ixlib=rb-1.2.1&ixid=MnwxMjA3fDB8MHxzZWFyY2h8MXx8ZGl2ZSUyMGlufGVufDB8fDB8fA%3D%3D&auto=format&fit=crop&w=500&q=60\" style=\"width:50%;height:50%;margin:auto;\"> </div>\n",
    "<h5><center>Image from <a href=\"https://unsplash.com/s/photos/dive-in\">unsplash</a></center></h5>"
   ]
  },
  {
   "cell_type": "markdown",
   "id": "9416e52d",
   "metadata": {
    "papermill": {
     "duration": 0.042531,
     "end_time": "2022-08-07T04:39:02.150625",
     "exception": false,
     "start_time": "2022-08-07T04:39:02.108094",
     "status": "completed"
    },
    "tags": []
   },
   "source": [
    "# 1. Introduction"
   ]
  },
  {
   "cell_type": "markdown",
   "id": "c9e8609a",
   "metadata": {
    "papermill": {
     "duration": 0.042476,
     "end_time": "2022-08-07T04:39:02.235976",
     "exception": false,
     "start_time": "2022-08-07T04:39:02.193500",
     "status": "completed"
    },
    "tags": []
   },
   "source": [
    "#### One of the most asked questions from people when it comes to Logistic Regression would probably be \"Wait, it's not the same as linear regression?!\"\n",
    "#### Honestly I had the same confusion when I first started out so I don't anyone who is confused :)"
   ]
  },
  {
   "cell_type": "markdown",
   "id": "e1d47fa9",
   "metadata": {
    "papermill": {
     "duration": 0.04404,
     "end_time": "2022-08-07T04:39:02.322775",
     "exception": false,
     "start_time": "2022-08-07T04:39:02.278735",
     "status": "completed"
    },
    "tags": []
   },
   "source": [
    "#### Yes, they are very different algorithms and serve very different purposes.\n",
    "#### Logistic Regression is known as a classification algorithm. "
   ]
  },
  {
   "cell_type": "markdown",
   "id": "16578573",
   "metadata": {
    "papermill": {
     "duration": 0.044415,
     "end_time": "2022-08-07T04:39:02.410801",
     "exception": false,
     "start_time": "2022-08-07T04:39:02.366386",
     "status": "completed"
    },
    "tags": []
   },
   "source": [
    "#### Linear Regression attempts to predict a continuous value from linear combination of features which may possibly output infinite solutions.\n",
    "#### On the other hand, the whole point of Logistic Regression is to output 2 discrete values, hence a classification algorithm."
   ]
  },
  {
   "cell_type": "markdown",
   "id": "14485567",
   "metadata": {
    "papermill": {
     "duration": 0.042731,
     "end_time": "2022-08-07T04:39:02.497477",
     "exception": false,
     "start_time": "2022-08-07T04:39:02.454746",
     "status": "completed"
    },
    "tags": []
   },
   "source": [
    "# 2. Basic Concept"
   ]
  },
  {
   "cell_type": "markdown",
   "id": "8471abf0",
   "metadata": {
    "papermill": {
     "duration": 0.042646,
     "end_time": "2022-08-07T04:39:02.583061",
     "exception": false,
     "start_time": "2022-08-07T04:39:02.540415",
     "status": "completed"
    },
    "tags": []
   },
   "source": [
    "#### Now that you're acquainted with the rough idea of Logistic Regression, some of you might be asking..."
   ]
  },
  {
   "cell_type": "markdown",
   "id": "7fa0e231",
   "metadata": {
    "papermill": {
     "duration": 0.042773,
     "end_time": "2022-08-07T04:39:02.670392",
     "exception": false,
     "start_time": "2022-08-07T04:39:02.627619",
     "status": "completed"
    },
    "tags": []
   },
   "source": [
    "<h1><center><i>\"Then what's up with the Regression?\"</i></center></h1>"
   ]
  },
  {
   "cell_type": "markdown",
   "id": "63800e64",
   "metadata": {
    "papermill": {
     "duration": 0.043415,
     "end_time": "2022-08-07T04:39:02.757390",
     "exception": false,
     "start_time": "2022-08-07T04:39:02.713975",
     "status": "completed"
    },
    "tags": []
   },
   "source": [
    "### Exactly!\n",
    "#### What does Regression mean in this scenario?"
   ]
  },
  {
   "cell_type": "markdown",
   "id": "5d8635d6",
   "metadata": {
    "papermill": {
     "duration": 0.043134,
     "end_time": "2022-08-07T04:39:02.845836",
     "exception": false,
     "start_time": "2022-08-07T04:39:02.802702",
     "status": "completed"
    },
    "tags": []
   },
   "source": [
    "#### Well, this model still outputs a continuous value; a probability for being in a certain class, thus being called a Regression.\n",
    "#### However, as I have mentioned above, Logistic Regression is meant to output 2 **discrete** values.\n",
    "### So, how does that magic happen?"
   ]
  },
  {
   "cell_type": "markdown",
   "id": "a8df070f",
   "metadata": {
    "papermill": {
     "duration": 0.042292,
     "end_time": "2022-08-07T04:39:02.930555",
     "exception": false,
     "start_time": "2022-08-07T04:39:02.888263",
     "status": "completed"
    },
    "tags": []
   },
   "source": [
    "#### This is where the **Sigmoid Function** kicks in."
   ]
  },
  {
   "cell_type": "markdown",
   "id": "489de4fa",
   "metadata": {
    "papermill": {
     "duration": 0.042299,
     "end_time": "2022-08-07T04:39:03.015236",
     "exception": false,
     "start_time": "2022-08-07T04:39:02.972937",
     "status": "completed"
    },
    "tags": []
   },
   "source": [
    "#### Allow me to explain what this does in 'English' before I surprise you with the math. \n",
    "#### This function is a special function, in the sense that the function restricts the output to a range of [0,1].\n",
    "#### You might be wondering..."
   ]
  },
  {
   "cell_type": "markdown",
   "id": "77676367",
   "metadata": {
    "papermill": {
     "duration": 0.04208,
     "end_time": "2022-08-07T04:39:03.099990",
     "exception": false,
     "start_time": "2022-08-07T04:39:03.057910",
     "status": "completed"
    },
    "tags": []
   },
   "source": [
    "<h1><center><i>\"What's so special about that?\"</i></center></h1>"
   ]
  },
  {
   "cell_type": "markdown",
   "id": "bce55f0a",
   "metadata": {
    "papermill": {
     "duration": 0.042157,
     "end_time": "2022-08-07T04:39:03.184740",
     "exception": false,
     "start_time": "2022-08-07T04:39:03.142583",
     "status": "completed"
    },
    "tags": []
   },
   "source": [
    "#### That is because as I've mentioned above, Logistic Regression is trying to output a probability for being in a certain class and we all know that probabilities lie in the region of [0,1]. That is true.. at least on Earth! \n",
    "#### I believe if you take a look at the graph, you would be very convinced with this fact."
   ]
  },
  {
   "cell_type": "code",
   "execution_count": 2,
   "id": "d747cac7",
   "metadata": {
    "_kg_hide-input": true,
    "execution": {
     "iopub.execute_input": "2022-08-07T04:39:03.273340Z",
     "iopub.status.busy": "2022-08-07T04:39:03.272674Z",
     "iopub.status.idle": "2022-08-07T04:39:03.535906Z",
     "shell.execute_reply": "2022-08-07T04:39:03.536442Z",
     "shell.execute_reply.started": "2022-04-01T15:07:31.457056Z"
    },
    "jupyter": {
     "source_hidden": true
    },
    "papermill": {
     "duration": 0.309252,
     "end_time": "2022-08-07T04:39:03.536632",
     "exception": false,
     "start_time": "2022-08-07T04:39:03.227380",
     "status": "completed"
    },
    "tags": []
   },
   "outputs": [
    {
     "data": {
      "image/png": "[encoded data removed]",
      "text/plain": [
       "<Figure size 640x480 with 1 Axes>"
      ]
     },
     "metadata": {
      "needs_background": "light"
     },
     "output_type": "display_data"
    }
   ],
   "source": [
    "# Import matplotlib, numpy and math\n",
    "from matplotlib.pyplot import figure\n",
    "import math\n",
    "  \n",
    "figure(figsize=(8, 6), dpi=80)\n",
    "\n",
    "x = np.linspace(-10, 10, 100)\n",
    "z = 1/(1 + np.exp(-x))\n",
    "  \n",
    "plt.plot(x, z)\n",
    "plt.xlabel(\"x\", fontsize=15)\n",
    "plt.ylabel(\"Sigmoid(X)\", fontsize=15)\n",
    "plt.title(\"Sigmoid Function\", fontsize=20)\n",
    "  \n",
    "plt.show()"
   ]
  },
  {
   "cell_type": "markdown",
   "id": "92f3ae51",
   "metadata": {
    "papermill": {
     "duration": 0.04371,
     "end_time": "2022-08-07T04:39:03.625155",
     "exception": false,
     "start_time": "2022-08-07T04:39:03.581445",
     "status": "completed"
    },
    "tags": []
   },
   "source": [
    "#### I'm sure you're convined that the outputs lie in the region of [0,1].\n",
    "#### Now that you're convinced, allow me to present you the equation of this beautiful function."
   ]
  },
  {
   "cell_type": "markdown",
   "id": "87969603",
   "metadata": {
    "papermill": {
     "duration": 0.04396,
     "end_time": "2022-08-07T04:39:03.713379",
     "exception": false,
     "start_time": "2022-08-07T04:39:03.669419",
     "status": "completed"
    },
    "tags": []
   },
   "source": [
    "$$\\LARGE f(x) =  \\frac{\\mathrm{1} }{\\mathrm{1} + e^{-z} } $$"
   ]
  },
  {
   "cell_type": "markdown",
   "id": "a9db41f0",
   "metadata": {
    "papermill": {
     "duration": 0.043634,
     "end_time": "2022-08-07T04:39:03.801944",
     "exception": false,
     "start_time": "2022-08-07T04:39:03.758310",
     "status": "completed"
    },
    "tags": []
   },
   "source": [
    "#### where $$\\large z = w_0 + w_1x_1 + ... +  w_nx_n$$"
   ]
  },
  {
   "cell_type": "markdown",
   "id": "e2849a7c",
   "metadata": {
    "papermill": {
     "duration": 0.045245,
     "end_time": "2022-08-07T04:39:03.891409",
     "exception": false,
     "start_time": "2022-08-07T04:39:03.846164",
     "status": "completed"
    },
    "tags": []
   },
   "source": [
    "#### Now with this equation, we would be able to input all our feature variables and obtain a probability as to which class it belongs to and ultimately Logistic Regression would be able to predict which class that specific row/datapoint belongs to."
   ]
  },
  {
   "cell_type": "markdown",
   "id": "ec2af0a7",
   "metadata": {
    "papermill": {
     "duration": 0.044209,
     "end_time": "2022-08-07T04:39:03.980053",
     "exception": false,
     "start_time": "2022-08-07T04:39:03.935844",
     "status": "completed"
    },
    "tags": []
   },
   "source": [
    "#### Obviously it's all not that easy. \n",
    "#### As with all other models, we would need to train this model."
   ]
  },
  {
   "cell_type": "markdown",
   "id": "977b2517",
   "metadata": {
    "papermill": {
     "duration": 0.044327,
     "end_time": "2022-08-07T04:39:04.068629",
     "exception": false,
     "start_time": "2022-08-07T04:39:04.024302",
     "status": "completed"
    },
    "tags": []
   },
   "source": [
    "# 3. Training"
   ]
  },
  {
   "cell_type": "markdown",
   "id": "0b680bcb",
   "metadata": {
    "papermill": {
     "duration": 0.044061,
     "end_time": "2022-08-07T04:39:04.157134",
     "exception": false,
     "start_time": "2022-08-07T04:39:04.113073",
     "status": "completed"
    },
    "tags": []
   },
   "source": [
    "#### So how do we train these models?\n",
    "#### In machine/deep learning, models learn by attempting to minimize a cost function.\n",
    "#### You can understand by thinking that the model is training by trying to reduce the error it makes on the given dataset"
   ]
  },
  {
   "cell_type": "markdown",
   "id": "e224fc33",
   "metadata": {
    "papermill": {
     "duration": 0.043879,
     "end_time": "2022-08-07T04:39:04.245301",
     "exception": false,
     "start_time": "2022-08-07T04:39:04.201422",
     "status": "completed"
    },
    "tags": []
   },
   "source": [
    "#### But what is this cost function that Logistic Regression uses you might be wondering. \n",
    "#### For Logistic Regression, we use the **Log Log Function**."
   ]
  },
  {
   "cell_type": "markdown",
   "id": "93a50ffa",
   "metadata": {
    "papermill": {
     "duration": 0.043811,
     "end_time": "2022-08-07T04:39:04.333700",
     "exception": false,
     "start_time": "2022-08-07T04:39:04.289889",
     "status": "completed"
    },
    "tags": []
   },
   "source": [
    "$$\\LARGE -\\frac{1}{m} \\sum\\limits_{i=1}^n [{(y_i\\log(p_i) + (1 - y_i)\\log(1 - p_i)}] $$"
   ]
  },
  {
   "cell_type": "markdown",
   "id": "61550c53",
   "metadata": {
    "papermill": {
     "duration": 0.043796,
     "end_time": "2022-08-07T04:39:04.421782",
     "exception": false,
     "start_time": "2022-08-07T04:39:04.377986",
     "status": "completed"
    },
    "tags": []
   },
   "source": [
    "where $$\\large p_i = \\frac{\\mathrm{1} }{\\mathrm{1} + e^{-(w_0 + w_1x_{i1} + ... +  w_nx_{in})} } $$"
   ]
  },
  {
   "cell_type": "markdown",
   "id": "c2c7cbce",
   "metadata": {
    "papermill": {
     "duration": 0.043881,
     "end_time": "2022-08-07T04:39:04.509791",
     "exception": false,
     "start_time": "2022-08-07T04:39:04.465910",
     "status": "completed"
    },
    "tags": []
   },
   "source": [
    "#### Now, this equation looks very daunting and confusing initially, especially if you happen to dislike mathematical symbols\n",
    "#### However, allow me to explain to you what this beautiful equation states, by using two graphs below"
   ]
  },
  {
   "cell_type": "code",
   "execution_count": 3,
   "id": "6c68a42a",
   "metadata": {
    "_kg_hide-input": true,
    "execution": {
     "iopub.execute_input": "2022-08-07T04:39:04.617397Z",
     "iopub.status.busy": "2022-08-07T04:39:04.605910Z",
     "iopub.status.idle": "2022-08-07T04:39:05.044596Z",
     "shell.execute_reply": "2022-08-07T04:39:05.045063Z",
     "shell.execute_reply.started": "2022-04-03T08:16:51.427189Z"
    },
    "papermill": {
     "duration": 0.491212,
     "end_time": "2022-08-07T04:39:05.045259",
     "exception": false,
     "start_time": "2022-08-07T04:39:04.554047",
     "status": "completed"
    },
    "tags": []
   },
   "outputs": [
    {
     "data": {
      "text/plain": [
       "Text(0.5, 1.0, 'When y=0')"
      ]
     },
     "execution_count": 3,
     "metadata": {},
     "output_type": "execute_result"
    },
    {
     "data": {
      "image/png": "[encoded data removed]",
      "text/plain": [
       "<Figure size 1800x720 with 2 Axes>"
      ]
     },
     "metadata": {
      "needs_background": "light"
     },
     "output_type": "display_data"
    }
   ],
   "source": [
    "x = np.arange(0.001,1, 0.001).tolist()\n",
    "ones = [1]*len(x)\n",
    "y_1 = -np.log(x)\n",
    "y_2 = -np.log(np.array(ones)-np.array(x))\n",
    "\n",
    "fig, (ax1, ax2) = plt.subplots(1, 2, figsize=(25,10))\n",
    "\n",
    "fig.suptitle('Log Graphs', fontsize=30)\n",
    "\n",
    "ax1.plot(x, y_1)\n",
    "ax1.plot(1, -np.log(1), marker=\"o\")\n",
    "ax1.set_title('When y=1', fontsize=20)\n",
    "\n",
    "ax2.plot(x, y_2)\n",
    "ax2.plot(1, -np.log(0.001), marker=\"o\")\n",
    "ax2.set_title('When y=0', fontsize=20)"
   ]
  },
  {
   "cell_type": "markdown",
   "id": "ead39407",
   "metadata": {
    "papermill": {
     "duration": 0.045883,
     "end_time": "2022-08-07T04:39:05.137337",
     "exception": false,
     "start_time": "2022-08-07T04:39:05.091454",
     "status": "completed"
    },
    "tags": []
   },
   "source": [
    "#### As you can see, the left graph is the graph of -log(x) and this only happens when the y value is 1.\n",
    "#### When y = 1, the right side of the equation which is -log(1-x) becomes 0 and can be ignored, thus leaving only the left graph. \n",
    "#### As we can see from the left equation, when x = 1, the corresponding error value is 0 \n",
    "#### **What this tells us is that when x=1 and y=1 (which is the perfect/correct prediction), the error value is the smallest it can be, 0.**"
   ]
  },
  {
   "cell_type": "markdown",
   "id": "1f5dd1cc",
   "metadata": {
    "papermill": {
     "duration": 0.045974,
     "end_time": "2022-08-07T04:39:05.229428",
     "exception": false,
     "start_time": "2022-08-07T04:39:05.183454",
     "status": "completed"
    },
    "tags": []
   },
   "source": [
    "#### Let us say that the y=0 and lets look at the right graph. \n",
    "#### **If the corresponding value x = 1, which means the value of x is totally incorrect, the error value would be extremely high, almost infinity.**"
   ]
  },
  {
   "cell_type": "markdown",
   "id": "f932ce73",
   "metadata": {
    "papermill": {
     "duration": 0.045621,
     "end_time": "2022-08-07T04:39:05.321096",
     "exception": false,
     "start_time": "2022-08-07T04:39:05.275475",
     "status": "completed"
    },
    "tags": []
   },
   "source": [
    "#### Now, do you see what is happening in the equation? \n",
    "#### The equation serves the purpose of harshly penalizing incorrect predictions and minimally penalizing near-correct predictions.\n",
    "#### Furthermore, the degree of punishment differs relative to how inaccurate or accurate the predictions were."
   ]
  },
  {
   "cell_type": "markdown",
   "id": "5fe4b81c",
   "metadata": {
    "papermill": {
     "duration": 0.047373,
     "end_time": "2022-08-07T04:39:05.414769",
     "exception": false,
     "start_time": "2022-08-07T04:39:05.367396",
     "status": "completed"
    },
    "tags": []
   },
   "source": [
    "### Now that you've understood the cost function, as you should be wondering right now, how should we go about optimizing this highly complex structured cost function?"
   ]
  },
  {
   "cell_type": "markdown",
   "id": "c2341f6e",
   "metadata": {
    "papermill": {
     "duration": 0.045904,
     "end_time": "2022-08-07T04:39:05.506411",
     "exception": false,
     "start_time": "2022-08-07T04:39:05.460507",
     "status": "completed"
    },
    "tags": []
   },
   "source": [
    "# 4. Optimization"
   ]
  },
  {
   "cell_type": "markdown",
   "id": "b50cc96c",
   "metadata": {
    "papermill": {
     "duration": 0.04762,
     "end_time": "2022-08-07T04:39:05.600669",
     "exception": false,
     "start_time": "2022-08-07T04:39:05.553049",
     "status": "completed"
    },
    "tags": []
   },
   "source": [
    "#### The answer is..."
   ]
  },
  {
   "cell_type": "markdown",
   "id": "f49f03fb",
   "metadata": {
    "papermill": {
     "duration": 0.046638,
     "end_time": "2022-08-07T04:39:05.694675",
     "exception": false,
     "start_time": "2022-08-07T04:39:05.648037",
     "status": "completed"
    },
    "tags": []
   },
   "source": [
    "<h1><center><i>Gradient Descent!</i></center></h1>"
   ]
  },
  {
   "cell_type": "markdown",
   "id": "1dfcefc7",
   "metadata": {
    "papermill": {
     "duration": 0.045994,
     "end_time": "2022-08-07T04:39:05.787496",
     "exception": false,
     "start_time": "2022-08-07T04:39:05.741502",
     "status": "completed"
    },
    "tags": []
   },
   "source": [
    "#### Now, I won't be going into the proof and the details of gradient descent such as why we want to be moving in the opposite direction of partial derivatives and so on.\n",
    "#### If you wish to understand the algorithm more thorougly, please feel free to check out my [previous post](https://www.kaggle.com/code/kimmik123/all-about-linear-regression) where I painstakingly explained all the details and math behind Gradient Descent."
   ]
  },
  {
   "cell_type": "markdown",
   "id": "0a810d32",
   "metadata": {
    "papermill": {
     "duration": 0.045683,
     "end_time": "2022-08-07T04:39:05.879327",
     "exception": false,
     "start_time": "2022-08-07T04:39:05.833644",
     "status": "completed"
    },
    "tags": []
   },
   "source": [
    "#### However, I would be explaining how Gradient Descent is applied to Logistic Regression in order to minimize our cost function explained above."
   ]
  },
  {
   "cell_type": "markdown",
   "id": "c52d33ff",
   "metadata": {
    "papermill": {
     "duration": 0.049129,
     "end_time": "2022-08-07T04:39:05.977107",
     "exception": false,
     "start_time": "2022-08-07T04:39:05.927978",
     "status": "completed"
    },
    "tags": []
   },
   "source": [
    "#### Now, let us bring back our cost function, all integrated together, and label it as E. "
   ]
  },
  {
   "cell_type": "markdown",
   "id": "3df84992",
   "metadata": {
    "papermill": {
     "duration": 0.047509,
     "end_time": "2022-08-07T04:39:06.071883",
     "exception": false,
     "start_time": "2022-08-07T04:39:06.024374",
     "status": "completed"
    },
    "tags": []
   },
   "source": [
    "$$\\LARGE E = -\\frac{1}{m} \\sum\\limits_{i=1}^n [{(y_i\\log(\\frac{\\mathrm{1} }{\\mathrm{1} + e^{-(w_0 + w_1x_{i1} + ... +  w_nx_{in})} }) + (1 - y_i)\\log(1 - \\frac{\\mathrm{1} }{\\mathrm{1} + e^{-(w_0 + w_1x_{i1} + ... +  w_nx_{in})} })}] $$"
   ]
  },
  {
   "cell_type": "markdown",
   "id": "f91ecae8",
   "metadata": {
    "papermill": {
     "duration": 0.046905,
     "end_time": "2022-08-07T04:39:06.165860",
     "exception": false,
     "start_time": "2022-08-07T04:39:06.118955",
     "status": "completed"
    },
    "tags": []
   },
   "source": [
    "#### Now with Gradient Descent, we want to find the **partial derivatives** of E with respect to all the weights ($\\large w_i $). \n",
    "#### This is so that we can iteratively drop down in the direction of the steepest descent of our cost function to keep decreasing our cost value."
   ]
  },
  {
   "cell_type": "markdown",
   "id": "4c86f22e",
   "metadata": {
    "papermill": {
     "duration": 0.046692,
     "end_time": "2022-08-07T04:39:06.259548",
     "exception": false,
     "start_time": "2022-08-07T04:39:06.212856",
     "status": "completed"
    },
    "tags": []
   },
   "source": [
    "#### Let us express the partial derivatives as such for simplicity."
   ]
  },
  {
   "cell_type": "markdown",
   "id": "cb86caa7",
   "metadata": {
    "papermill": {
     "duration": 0.046021,
     "end_time": "2022-08-07T04:39:06.351664",
     "exception": false,
     "start_time": "2022-08-07T04:39:06.305643",
     "status": "completed"
    },
    "tags": []
   },
   "source": [
    "$$\\LARGE\\frac{\\partial E}{\\partial w_j} $$"
   ]
  },
  {
   "cell_type": "markdown",
   "id": "aeeee186",
   "metadata": {
    "papermill": {
     "duration": 0.046163,
     "end_time": "2022-08-07T04:39:06.445132",
     "exception": false,
     "start_time": "2022-08-07T04:39:06.398969",
     "status": "completed"
    },
    "tags": []
   },
   "source": [
    "#### Now comes the **chain rule** and I'm sure you have heard about this rule in one of your calculus classes. \n",
    "#### If you are unfamiliar with this rule, feel free to check out this [page](https://www.khanacademy.org/math/ap-calculus-ab/ab-differentiation-2-new/ab-3-1a/a/chain-rule-review) to gain a better understanding. "
   ]
  },
  {
   "cell_type": "markdown",
   "id": "507621c7",
   "metadata": {
    "papermill": {
     "duration": 0.047281,
     "end_time": "2022-08-07T04:39:06.538887",
     "exception": false,
     "start_time": "2022-08-07T04:39:06.491606",
     "status": "completed"
    },
    "tags": []
   },
   "source": [
    "#### Now using the chain rule, we can express the partial derivative as such."
   ]
  },
  {
   "cell_type": "markdown",
   "id": "0b9dd108",
   "metadata": {
    "papermill": {
     "duration": 0.04764,
     "end_time": "2022-08-07T04:39:06.634526",
     "exception": false,
     "start_time": "2022-08-07T04:39:06.586886",
     "status": "completed"
    },
    "tags": []
   },
   "source": [
    "$$\\LARGE \\frac{\\partial E}{\\partial w_j}  = \\frac{\\partial E}{\\partial p} \\cdot \\frac{\\partial p}{\\partial z} \\cdot \\frac{\\partial z}{\\partial w_j}$$"
   ]
  },
  {
   "cell_type": "markdown",
   "id": "66e4627a",
   "metadata": {
    "papermill": {
     "duration": 0.046858,
     "end_time": "2022-08-07T04:39:06.728570",
     "exception": false,
     "start_time": "2022-08-07T04:39:06.681712",
     "status": "completed"
    },
    "tags": []
   },
   "source": [
    "#### where $$\\large z = w_0 + w_1x_{i1} + ... +  w_nx_{in} $$"
   ]
  },
  {
   "cell_type": "markdown",
   "id": "e20d0695",
   "metadata": {
    "papermill": {
     "duration": 0.045802,
     "end_time": "2022-08-07T04:39:06.820775",
     "exception": false,
     "start_time": "2022-08-07T04:39:06.774973",
     "status": "completed"
    },
    "tags": []
   },
   "source": [
    "#### Now that looks way cleaner, doesn't it?\n",
    "#### Now all we have left is to calculate the 3 different partial derivatives.\n",
    "### Let's dive in!"
   ]
  },
  {
   "cell_type": "markdown",
   "id": "ab6ead3d",
   "metadata": {
    "papermill": {
     "duration": 0.045722,
     "end_time": "2022-08-07T04:39:06.912371",
     "exception": false,
     "start_time": "2022-08-07T04:39:06.866649",
     "status": "completed"
    },
    "tags": []
   },
   "source": [
    "$$\\LARGE E = -\\frac{1}{m} \\sum\\limits_{i=1}^n [{(y_i\\log(p_i) + (1 - y_i)\\log(1 - p_i)}] \\\\ \n",
    "\\LARGE \\frac{\\partial E}{\\partial p} = -\\frac{1}{m} \\sum\\limits_{i=1}^n (\\frac {y_i}{p_i} - \\frac{1-y_i}{1-p_i})\n",
    "$$"
   ]
  },
  {
   "cell_type": "markdown",
   "id": "196bf308",
   "metadata": {
    "papermill": {
     "duration": 0.047548,
     "end_time": "2022-08-07T04:39:07.005849",
     "exception": false,
     "start_time": "2022-08-07T04:39:06.958301",
     "status": "completed"
    },
    "tags": []
   },
   "source": [
    "#### That's one down!\n",
    "#### Let's move on the second one."
   ]
  },
  {
   "cell_type": "markdown",
   "id": "729788fe",
   "metadata": {
    "papermill": {
     "duration": 0.045899,
     "end_time": "2022-08-07T04:39:07.098461",
     "exception": false,
     "start_time": "2022-08-07T04:39:07.052562",
     "status": "completed"
    },
    "tags": []
   },
   "source": [
    "$$\\LARGE p_i = \\frac{\\mathrm{1} }{\\mathrm{1} + e^{-z}} \\\\\n",
    "\\LARGE \\frac{\\partial p_i}{\\partial z} = (1+e^{-z})^{-2} \\times (e^{-z}) \\\\ \n",
    "\\LARGE = \\frac {e^{-z}} {(1+e^{-z})^{2}} \\\\\n",
    "\\LARGE = \\frac {1}{1+e^{-z}} \\times \\frac {e^{-z}} {1+e^{-z}} \\\\\n",
    "\\LARGE = \\frac {1}{1+e^{-z}} \\times (\\frac {1+e^{-z}} {1+e^{-z}} - \\frac {1}{1+e^{-z}}) \\\\\n",
    "\\LARGE = p_i \\times (1-p_i)\n",
    "$$"
   ]
  },
  {
   "cell_type": "markdown",
   "id": "a487dd2a",
   "metadata": {
    "papermill": {
     "duration": 0.062348,
     "end_time": "2022-08-07T04:39:07.210097",
     "exception": false,
     "start_time": "2022-08-07T04:39:07.147749",
     "status": "completed"
    },
    "tags": []
   },
   "source": [
    "#### That's it!\n",
    "#### Finally, one more to go."
   ]
  },
  {
   "cell_type": "markdown",
   "id": "4bb910e6",
   "metadata": {
    "papermill": {
     "duration": 0.049736,
     "end_time": "2022-08-07T04:39:07.312639",
     "exception": false,
     "start_time": "2022-08-07T04:39:07.262903",
     "status": "completed"
    },
    "tags": []
   },
   "source": [
    "$$\\LARGE z = w_0 + w_1x_{i1} + ... +  w_nx_{in} \\\\ \n",
    "\\LARGE \\frac{\\partial z}{\\partial w_j} = x_{ij}\n",
    "$$"
   ]
  },
  {
   "cell_type": "markdown",
   "id": "7855d3f7",
   "metadata": {
    "papermill": {
     "duration": 0.049392,
     "end_time": "2022-08-07T04:39:07.409027",
     "exception": false,
     "start_time": "2022-08-07T04:39:07.359635",
     "status": "completed"
    },
    "tags": []
   },
   "source": [
    "#### There they all are! \n",
    "#### Now, all we need to do is multiply all of them sensibly.\n",
    "#### Let's hope we don't get anything wrong 🤯"
   ]
  },
  {
   "cell_type": "markdown",
   "id": "5ec95782",
   "metadata": {
    "papermill": {
     "duration": 0.050407,
     "end_time": "2022-08-07T04:39:07.506350",
     "exception": false,
     "start_time": "2022-08-07T04:39:07.455943",
     "status": "completed"
    },
    "tags": []
   },
   "source": [
    "$$\\LARGE \\frac{\\partial E}{\\partial w_j}  = -\\frac{1}{m} \\sum\\limits_{i=1}^n (\\frac {y_i}{p_i} - \\frac{1-y_i}{1-p_i}) \\cdot (p_i \\times (1-p_i)) \\cdot x_{ij} \\\\\n",
    "\\LARGE = \\frac{1}{m} \\sum\\limits_{i=1}^n ((y_i-p_i) \\cdot x_{ij})$$"
   ]
  },
  {
   "cell_type": "markdown",
   "id": "3c88ff29",
   "metadata": {
    "papermill": {
     "duration": 0.047498,
     "end_time": "2022-08-07T04:39:07.616311",
     "exception": false,
     "start_time": "2022-08-07T04:39:07.568813",
     "status": "completed"
    },
    "tags": []
   },
   "source": [
    "#### Finally, we got the partial derivative!\n",
    "#### Now with this equation, we would need to deduct it from existing weights to travel down the steepest descent to minimize the cost function."
   ]
  },
  {
   "cell_type": "markdown",
   "id": "2d342643",
   "metadata": {
    "papermill": {
     "duration": 0.046771,
     "end_time": "2022-08-07T04:39:07.709534",
     "exception": false,
     "start_time": "2022-08-07T04:39:07.662763",
     "status": "completed"
    },
    "tags": []
   },
   "source": [
    "$$\\LARGE w_j = w_j - LR(\\frac{1}{m} \\sum\\limits_{i=1}^n ((y_i-p_i) \\cdot x_{ij})) $$"
   ]
  },
  {
   "cell_type": "markdown",
   "id": "efb9bd7a",
   "metadata": {
    "papermill": {
     "duration": 0.045854,
     "end_time": "2022-08-07T04:39:07.802073",
     "exception": false,
     "start_time": "2022-08-07T04:39:07.756219",
     "status": "completed"
    },
    "tags": []
   },
   "source": [
    "#### where $\\large LR $ is the learning rate."
   ]
  },
  {
   "cell_type": "markdown",
   "id": "7ebe9c68",
   "metadata": {
    "papermill": {
     "duration": 0.046613,
     "end_time": "2022-08-07T04:39:07.895915",
     "exception": false,
     "start_time": "2022-08-07T04:39:07.849302",
     "status": "completed"
    },
    "tags": []
   },
   "source": [
    "#### Now that I've shown you the mathematical steps and rigor this algorithm takes, allow me to show you how to code it from scratch"
   ]
  },
  {
   "cell_type": "markdown",
   "id": "d8da965c",
   "metadata": {
    "papermill": {
     "duration": 0.046376,
     "end_time": "2022-08-07T04:39:07.989219",
     "exception": false,
     "start_time": "2022-08-07T04:39:07.942843",
     "status": "completed"
    },
    "tags": []
   },
   "source": [
    "# 5. Code"
   ]
  },
  {
   "cell_type": "markdown",
   "id": "c39ef4a8",
   "metadata": {
    "papermill": {
     "duration": 0.047357,
     "end_time": "2022-08-07T04:39:08.084040",
     "exception": false,
     "start_time": "2022-08-07T04:39:08.036683",
     "status": "completed"
    },
    "tags": []
   },
   "source": [
    "#### I'll be using a dataset from Kaggle to predict 10 year risk of coronary heart disease in the form of yes or no.\n",
    "#### As you can tell, this can be tackled by using Logistic Regression. \n",
    "#### First, I will use the most approachable form of machine learning, sklearn."
   ]
  },
  {
   "cell_type": "code",
   "execution_count": 4,
   "id": "b227f907",
   "metadata": {
    "_kg_hide-input": true,
    "execution": {
     "iopub.execute_input": "2022-08-07T04:39:08.181371Z",
     "iopub.status.busy": "2022-08-07T04:39:08.180695Z",
     "iopub.status.idle": "2022-08-07T04:39:10.281132Z",
     "shell.execute_reply": "2022-08-07T04:39:10.282180Z",
     "shell.execute_reply.started": "2022-04-03T09:29:49.528911Z"
    },
    "jupyter": {
     "source_hidden": true
    },
    "papermill": {
     "duration": 2.151958,
     "end_time": "2022-08-07T04:39:10.282512",
     "exception": false,
     "start_time": "2022-08-07T04:39:08.130554",
     "status": "completed"
    },
    "tags": []
   },
   "outputs": [
    {
     "name": "stdout",
     "output_type": "stream",
     "text": [
      "The model's accuracy is 0.8563001415762151\n"
     ]
    }
   ],
   "source": [
    "from sklearn.linear_model import LogisticRegression\n",
    "\n",
    "df = pd.read_csv('../input/heart-disease-prediction-using-logistic-regression/framingham.csv')\n",
    "df.fillna(df.mean(), inplace=True)\n",
    "target = df.pop('TenYearCHD')\n",
    "features = df\n",
    "\n",
    "model = LogisticRegression(max_iter=5000).fit(features, target)\n",
    "print(\"The model's accuracy is {}\".format(model.score(features, target)))"
   ]
  },
  {
   "cell_type": "markdown",
   "id": "ae6d5c46",
   "metadata": {
    "papermill": {
     "duration": 0.049491,
     "end_time": "2022-08-07T04:39:10.447619",
     "exception": false,
     "start_time": "2022-08-07T04:39:10.398128",
     "status": "completed"
    },
    "tags": []
   },
   "source": [
    "#### As we can see, an accuracy of 85.6% is not too bad for a basline model.\n",
    "#### I would love to visualize the results for you but this dataset exceeds humans' three dimensional reality so unless the movie Interstellar proves to be correct, I don't see a way to visualize this for you 😥"
   ]
  },
  {
   "cell_type": "markdown",
   "id": "bfa0cb9e",
   "metadata": {
    "papermill": {
     "duration": 0.046497,
     "end_time": "2022-08-07T04:39:10.540839",
     "exception": false,
     "start_time": "2022-08-07T04:39:10.494342",
     "status": "completed"
    },
    "tags": []
   },
   "source": [
    "<div style=\"width:100%;text-align: center;\"> <img align=middle src=\"https://i.pinimg.com/originals/38/cc/e8/38cce80092b92a776bdba82ad7f0c4ce.jpg\" style=\"width:50%;height:50%;margin:auto;\"> </div>\n",
    "<h5><center>Image from <a href=\"https://www.pinterest.com/pin/498070040016357902/\">\n",
    "Pinterest</a></center></h5>"
   ]
  },
  {
   "cell_type": "markdown",
   "id": "5a341dc4",
   "metadata": {
    "papermill": {
     "duration": 0.047516,
     "end_time": "2022-08-07T04:39:10.635030",
     "exception": false,
     "start_time": "2022-08-07T04:39:10.587514",
     "status": "completed"
    },
    "tags": []
   },
   "source": [
    "#### Now allow me to show you how to implement .fit() method from scratch using Gradient Descent."
   ]
  },
  {
   "cell_type": "code",
   "execution_count": 5,
   "id": "abcccacb",
   "metadata": {
    "_kg_hide-input": true,
    "execution": {
     "iopub.execute_input": "2022-08-07T04:39:10.741893Z",
     "iopub.status.busy": "2022-08-07T04:39:10.736470Z",
     "iopub.status.idle": "2022-08-07T04:39:10.891127Z",
     "shell.execute_reply": "2022-08-07T04:39:10.892186Z",
     "shell.execute_reply.started": "2022-04-03T10:40:52.387145Z"
    },
    "papermill": {
     "duration": 0.210652,
     "end_time": "2022-08-07T04:39:10.892559",
     "exception": false,
     "start_time": "2022-08-07T04:39:10.681907",
     "status": "completed"
    },
    "tags": []
   },
   "outputs": [
    {
     "name": "stdout",
     "output_type": "stream",
     "text": [
      "The initial accuracy without any training is 15.19584709768759\n",
      "The model's accuracy with Gradient Descent is 84.80415290231241\n"
     ]
    }
   ],
   "source": [
    "import warnings\n",
    "warnings.filterwarnings(\"ignore\")\n",
    "\n",
    "#simple functions\n",
    "def predict(weights, features):\n",
    "    temp = np.matmul(features, np.transpose(weights))\n",
    "    result = 1/(1+np.exp(-temp))    \n",
    "    \n",
    "    return result \n",
    "\n",
    "def accuracy(acc):\n",
    "    t = 0\n",
    "    for value in acc:\n",
    "        if value == True:\n",
    "            t+=1\n",
    "    acc = (t/len(acc))*100\n",
    "    return(acc)\n",
    "    \n",
    "#------------------------------------#\n",
    "\n",
    "# Random weights\n",
    "weights = np.random.rand(1, 15).flatten()\n",
    "\n",
    "# Hyperparameters\n",
    "epochs = 10\n",
    "lr = 1e-5\n",
    "\n",
    "# Initial Performance\n",
    "y_pred = predict(weights, features)\n",
    "y_pred[y_pred >= 0.5] = 1\n",
    "y_pred[y_pred < 0.5] = 0\n",
    "acc = y_pred == target\n",
    "accuracy_value = accuracy(acc)\n",
    "print(\"The initial accuracy without any training is {}\".format(accuracy_value))\n",
    "\n",
    "# Training!\n",
    "for epoch in range(epochs):\n",
    "    y_pred = predict(weights, features) # prediction\n",
    "    for (index,weight) in enumerate(weights):\n",
    "        weights[index] = weight - lr * np.matmul(np.transpose(y_pred-target),features.iloc[:,index]) # partial derivative\n",
    "\n",
    "# Setting a threshold\n",
    "y_pred[y_pred >= 0.5] = 1\n",
    "y_pred[y_pred < 0.5] = 0\n",
    "    \n",
    "acc = y_pred == target\n",
    "\n",
    "# Accuracy\n",
    "accuracy_value = accuracy(acc)\n",
    "\n",
    "print(\"The model's accuracy with Gradient Descent is {}\".format(accuracy_value))"
   ]
  },
  {
   "cell_type": "markdown",
   "id": "3f5e7c46",
   "metadata": {
    "papermill": {
     "duration": 0.046887,
     "end_time": "2022-08-07T04:39:11.043292",
     "exception": false,
     "start_time": "2022-08-07T04:39:10.996405",
     "status": "completed"
    },
    "tags": []
   },
   "source": [
    "#### As you can see, using Gradient Descent, we can obtain a similar accuracy of 84.8% which is pretty amazing for a model without any hyperparameter tuning and a few number of epochs."
   ]
  },
  {
   "cell_type": "markdown",
   "id": "cfd8f884",
   "metadata": {
    "papermill": {
     "duration": 0.047172,
     "end_time": "2022-08-07T04:39:11.139415",
     "exception": false,
     "start_time": "2022-08-07T04:39:11.092243",
     "status": "completed"
    },
    "tags": []
   },
   "source": [
    "# 6. Conclusion"
   ]
  },
  {
   "cell_type": "markdown",
   "id": "be478856",
   "metadata": {
    "papermill": {
     "duration": 0.046553,
     "end_time": "2022-08-07T04:39:11.232880",
     "exception": false,
     "start_time": "2022-08-07T04:39:11.186327",
     "status": "completed"
    },
    "tags": []
   },
   "source": [
    "#### If you have stuck by the guide till now, well done! \n",
    "#### It was really not easy, especially with all the derivatives you had to look at and the horrifying chain rule. \n",
    "#### Nonetheless, I hope you understood how Logistic Regression actually works under the hood and learn to appreciate the .fit() function way more."
   ]
  },
  {
   "cell_type": "markdown",
   "id": "27d5a393",
   "metadata": {
    "papermill": {
     "duration": 0.047259,
     "end_time": "2022-08-07T04:39:11.327035",
     "exception": false,
     "start_time": "2022-08-07T04:39:11.279776",
     "status": "completed"
    },
    "tags": []
   },
   "source": [
    "#### As always, do feel free to check out my other works [here](https://www.kaggle.com/kimmik123/code) and if you found this useful, please do leave an upvote ✔, it goes a long way!"
   ]
  },
  {
   "cell_type": "markdown",
   "id": "e5a81bf1",
   "metadata": {
    "papermill": {
     "duration": 0.04667,
     "end_time": "2022-08-07T04:39:11.420565",
     "exception": false,
     "start_time": "2022-08-07T04:39:11.373895",
     "status": "completed"
    },
    "tags": []
   },
   "source": [
    "#### Do keep a lookout for more guides soon, and until then... Cheers!!! 🤩"
   ]
  },
  {
   "cell_type": "markdown",
   "id": "035c188d",
   "metadata": {
    "papermill": {
     "duration": 0.046571,
     "end_time": "2022-08-07T04:39:11.514163",
     "exception": false,
     "start_time": "2022-08-07T04:39:11.467592",
     "status": "completed"
    },
    "tags": []
   },
   "source": [
    "# 7. Credit"
   ]
  },
  {
   "cell_type": "markdown",
   "id": "2cfa3a40",
   "metadata": {
    "papermill": {
     "duration": 0.046711,
     "end_time": "2022-08-07T04:39:11.607827",
     "exception": false,
     "start_time": "2022-08-07T04:39:11.561116",
     "status": "completed"
    },
    "tags": []
   },
   "source": [
    "* https://towardsdatascience.com/logistic-regression-from-scratch-69db4f587e17\n",
    "* https://machinelearningmastery.com/implement-logistic-regression-stochastic-gradient-descent-scratch-python/\n"
   ]
  }
 ],
 "metadata": {
  "kernelspec": {
   "display_name": "Python 3",
   "language": "python",
   "name": "python3"
  },
  "language_info": {
   "codemirror_mode": {
    "name": "ipython",
    "version": 3
   },
   "file_extension": ".py",
   "mimetype": "text/x-python",
   "name": "python",
   "nbconvert_exporter": "python",
   "pygments_lexer": "ipython3",
   "version": "3.7.12"
  },
  "papermill": {
   "default_parameters": {},
   "duration": 21.371566,
   "end_time": "2022-08-07T04:39:12.366062",
   "environment_variables": {},
   "exception": null,
   "input_path": "__notebook__.ipynb",
   "output_path": "__notebook__.ipynb",
   "parameters": {},
   "start_time": "2022-08-07T04:38:50.994496",
   "version": "2.3.3"
  }
 },
 "nbformat": 4,
 "nbformat_minor": 5
}
