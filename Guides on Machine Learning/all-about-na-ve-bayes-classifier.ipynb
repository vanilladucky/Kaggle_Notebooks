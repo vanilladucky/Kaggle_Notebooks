{
 "cells": [
  {
   "cell_type": "code",
   "execution_count": 1,
   "id": "5f3605b8",
   "metadata": {
    "_cell_guid": "b1076dfc-b9ad-4769-8c92-a6c4dae69d19",
    "_kg_hide-input": true,
    "_kg_hide-output": true,
    "_uuid": "8f2839f25d086af736a60e9eeb907d3b93b6e0e5",
    "execution": {
     "iopub.execute_input": "2022-08-06T17:46:36.477396Z",
     "iopub.status.busy": "2022-08-06T17:46:36.476522Z",
     "iopub.status.idle": "2022-08-06T17:46:36.496726Z",
     "shell.execute_reply": "2022-08-06T17:46:36.495305Z"
    },
    "papermill": {
     "duration": 0.03727,
     "end_time": "2022-08-06T17:46:36.499454",
     "exception": false,
     "start_time": "2022-08-06T17:46:36.462184",
     "status": "completed"
    },
    "tags": []
   },
   "outputs": [
    {
     "name": "stdout",
     "output_type": "stream",
     "text": [
      "/kaggle/input/iris-flower-dataset/IRIS.csv\n"
     ]
    }
   ],
   "source": [
    "# This Python 3 environment comes with many helpful analytics libraries installed\n",
    "# It is defined by the kaggle/python Docker image: https://github.com/kaggle/docker-python\n",
    "# For example, here's several helpful packages to load\n",
    "\n",
    "import numpy as np # linear algebra\n",
    "import pandas as pd # data processing, CSV file I/O (e.g. pd.read_csv)\n",
    "import warnings\n",
    "warnings.filterwarnings(\"ignore\")\n",
    "\n",
    "# Input data files are available in the read-only \"../input/\" directory\n",
    "# For example, running this (by clicking run or pressing Shift+Enter) will list all files under the input directory\n",
    "\n",
    "import os\n",
    "for dirname, _, filenames in os.walk('/kaggle/input'):\n",
    "    for filename in filenames:\n",
    "        print(os.path.join(dirname, filename))\n",
    "\n",
    "# You can write up to 20GB to the current directory (/kaggle/working/) that gets preserved as output when you create a version using \"Save & Run All\" \n",
    "# You can also write temporary files to /kaggle/temp/, but they won't be saved outside of the current session"
   ]
  },
  {
   "cell_type": "markdown",
   "id": "127218b0",
   "metadata": {
    "papermill": {
     "duration": 0.011188,
     "end_time": "2022-08-06T17:46:36.521991",
     "exception": false,
     "start_time": "2022-08-06T17:46:36.510803",
     "status": "completed"
    },
    "tags": []
   },
   "source": [
    "# Welcome to a full guide on Naïve Bayes Classifier 😶👌"
   ]
  },
  {
   "cell_type": "markdown",
   "id": "c05fac14",
   "metadata": {
    "papermill": {
     "duration": 0.010613,
     "end_time": "2022-08-06T17:46:36.543531",
     "exception": false,
     "start_time": "2022-08-06T17:46:36.532918",
     "status": "completed"
    },
    "tags": []
   },
   "source": [
    "#### Even the name of the algorithm sounds cute right? Naïve. What is so Naïve about it? \n",
    "#### For those of you who are unfamiliar with the word [Naïve](https://www.merriam-webster.com/dictionary/naive), it is a French adjective meaning 'innocent'.\n",
    "#### That is the best I can explain so please don't come at me for poor translation. \n",
    "#### I do better at math and science than literature 😅"
   ]
  },
  {
   "cell_type": "markdown",
   "id": "c69e528e",
   "metadata": {
    "papermill": {
     "duration": 0.011571,
     "end_time": "2022-08-06T17:46:36.565926",
     "exception": false,
     "start_time": "2022-08-06T17:46:36.554355",
     "status": "completed"
    },
    "tags": []
   },
   "source": [
    "#### Now even if you have heard of this word, the algorithm itself might not be familiar to you as this algorithm, I believe, requires the user to have some previous mathematical background to truly understanding its workings. \n",
    "#### However, fret not! I can guarantee you after some simple explanation, you would find out that this algorithm only looks daunting on the outside. \n",
    "#### A point I would also like to convey to you is that for this algorithm, it is extremely crucial you pay close attention to its assumptions and conditions, as it may spell disaster if you don't."
   ]
  },
  {
   "cell_type": "markdown",
   "id": "883b613e",
   "metadata": {
    "papermill": {
     "duration": 0.010485,
     "end_time": "2022-08-06T17:46:36.587270",
     "exception": false,
     "start_time": "2022-08-06T17:46:36.576785",
     "status": "completed"
    },
    "tags": []
   },
   "source": [
    "### Without further ado, let us begin!"
   ]
  },
  {
   "cell_type": "markdown",
   "id": "e18130c9",
   "metadata": {
    "papermill": {
     "duration": 0.010571,
     "end_time": "2022-08-06T17:46:36.608614",
     "exception": false,
     "start_time": "2022-08-06T17:46:36.598043",
     "status": "completed"
    },
    "tags": []
   },
   "source": [
    "<div style=\"width:100%;text-align: center;\"> <img align=middle src=\"https://images.unsplash.com/photo-1461896836934-ffe607ba8211?ixlib=rb-1.2.1&ixid=MnwxMjA3fDB8MHxzZWFyY2h8MXx8c3RhcnR8ZW58MHx8MHx8&auto=format&fit=crop&w=500&q=60\" style=\"width:50%;height:50%;margin:auto;\"> </div>"
   ]
  },
  {
   "cell_type": "markdown",
   "id": "323d27fd",
   "metadata": {
    "papermill": {
     "duration": 0.010709,
     "end_time": "2022-08-06T17:46:36.630469",
     "exception": false,
     "start_time": "2022-08-06T17:46:36.619760",
     "status": "completed"
    },
    "tags": []
   },
   "source": [
    "# 1. Introduction"
   ]
  },
  {
   "cell_type": "markdown",
   "id": "6f5d1a7f",
   "metadata": {
    "papermill": {
     "duration": 0.01052,
     "end_time": "2022-08-06T17:46:36.651920",
     "exception": false,
     "start_time": "2022-08-06T17:46:36.641400",
     "status": "completed"
    },
    "tags": []
   },
   "source": [
    "#### Naïve Bayes Classifier is a supervised learning model and one that is used for classification tasks. \n",
    "#### Some of the areas that the Naïve Bayes Classifier is mostly used in are text classification tasks, sentiment analysis, spam filtering and recommendation systems.\n",
    "#### Also, Naïve Bayes Classifier is a probabilistic model that is built on the famous Bayes Theorem, formulated by Thomas Bayes."
   ]
  },
  {
   "cell_type": "markdown",
   "id": "0b468373",
   "metadata": {
    "papermill": {
     "duration": 0.010446,
     "end_time": "2022-08-06T17:46:36.673177",
     "exception": false,
     "start_time": "2022-08-06T17:46:36.662731",
     "status": "completed"
    },
    "tags": []
   },
   "source": [
    "<div style=\"width:100%;text-align: center;\"> <img align=middle src=\"https://upload.wikimedia.org/wikipedia/commons/d/d4/Thomas_Bayes.gif\" style=\"width:20%;height:20%;margin:auto;\"> </div>"
   ]
  },
  {
   "cell_type": "markdown",
   "id": "dfb179ba",
   "metadata": {
    "papermill": {
     "duration": 0.010494,
     "end_time": "2022-08-06T17:46:36.694457",
     "exception": false,
     "start_time": "2022-08-06T17:46:36.683963",
     "status": "completed"
    },
    "tags": []
   },
   "source": [
    "#### Bayes Theorem? What's that? \n",
    "#### This is why I mentioned earlier that to understand this model, one may require prior mathematical knowledge on the concept of Bayes Theorem, prior and likelihood.\n",
    "#### If you are unfamiliar with these concepts, I got you! \n",
    "#### I will explain it right away."
   ]
  },
  {
   "cell_type": "markdown",
   "id": "3082ce1c",
   "metadata": {
    "papermill": {
     "duration": 0.010577,
     "end_time": "2022-08-06T17:46:36.715782",
     "exception": false,
     "start_time": "2022-08-06T17:46:36.705205",
     "status": "completed"
    },
    "tags": []
   },
   "source": [
    "# 2. Bayes Theorem"
   ]
  },
  {
   "cell_type": "markdown",
   "id": "45dc0f22",
   "metadata": {
    "papermill": {
     "duration": 0.01051,
     "end_time": "2022-08-06T17:46:36.737086",
     "exception": false,
     "start_time": "2022-08-06T17:46:36.726576",
     "status": "completed"
    },
    "tags": []
   },
   "source": [
    "#### Before I introduce any formula, allow me to give you the single statement summing up this whole algorithm.\n",
    "#### Simply put, this algorithm is asking \"Given these features, does this measurement belong to class A or B?\".\n",
    "#### There can be more than two classes but this is the general statement behind this algorithm."
   ]
  },
  {
   "cell_type": "markdown",
   "id": "8c180881",
   "metadata": {
    "papermill": {
     "duration": 0.010501,
     "end_time": "2022-08-06T17:46:36.758374",
     "exception": false,
     "start_time": "2022-08-06T17:46:36.747873",
     "status": "completed"
    },
    "tags": []
   },
   "source": [
    "#### Now that is out of the way, allow me to introduce to you the Bayes Theorem."
   ]
  },
  {
   "cell_type": "markdown",
   "id": "0839e2e1",
   "metadata": {
    "papermill": {
     "duration": 0.01054,
     "end_time": "2022-08-06T17:46:36.779682",
     "exception": false,
     "start_time": "2022-08-06T17:46:36.769142",
     "status": "completed"
    },
    "tags": []
   },
   "source": [
    "$$\\LARGE P(A|{B}) =  \\frac {P(B|A)P({A})}{P({B})} $$"
   ]
  },
  {
   "cell_type": "markdown",
   "id": "199d38de",
   "metadata": {
    "papermill": {
     "duration": 0.010399,
     "end_time": "2022-08-06T17:46:36.800780",
     "exception": false,
     "start_time": "2022-08-06T17:46:36.790381",
     "status": "completed"
    },
    "tags": []
   },
   "source": [
    "#### Now $\\large P(A|{B}) $ is read as probability of A happening given that B has happened and is known as the posterior.\n",
    "#### Furthermore $\\large P(B|{A}) $ is known as the likelihood, $\\large P(A) $ is known as the prior and $\\large P(B) $ is known as the marginal."
   ]
  },
  {
   "cell_type": "markdown",
   "id": "6ab18bb0",
   "metadata": {
    "papermill": {
     "duration": 0.010685,
     "end_time": "2022-08-06T17:46:36.822153",
     "exception": false,
     "start_time": "2022-08-06T17:46:36.811468",
     "status": "completed"
    },
    "tags": []
   },
   "source": [
    "#### Here is where you have to pay attention because I will be telling you the assumptions for this algorithm. \n",
    "#### The **two assumptions** are that \n",
    "#### **1**. The presence of one feature does not affect the others (Independence of features)\n",
    "#### **2**. Each feature has an equal contribution to the outcome."
   ]
  },
  {
   "cell_type": "markdown",
   "id": "d49e2e4c",
   "metadata": {
    "papermill": {
     "duration": 0.010578,
     "end_time": "2022-08-06T17:46:36.844110",
     "exception": false,
     "start_time": "2022-08-06T17:46:36.833532",
     "status": "completed"
    },
    "tags": []
   },
   "source": [
    "#### As you can tell intuitively, this two assumptions are extremely important as they are very fragile in reality, yet play a huge role in this algorithm.\n",
    "#### In reality, we cannot say confidently that features are totally independent and neither can we conclude that each features have an equal weightage in the outcome.\n",
    "#### However, this two assumptions are necessary for this algorithm to work out and is the reason for its simplicity and ubiquitousness."
   ]
  },
  {
   "cell_type": "markdown",
   "id": "74b91e36",
   "metadata": {
    "papermill": {
     "duration": 0.010736,
     "end_time": "2022-08-06T17:46:36.865760",
     "exception": false,
     "start_time": "2022-08-06T17:46:36.855024",
     "status": "completed"
    },
    "tags": []
   },
   "source": [
    "#### Furthermore, the word Naïve that I've been talking about since the start of this notebook can be explained by the first assumption. We are naively assuming that the features are independent from each other. \n",
    "#### I'll soon show you where this assumption gets utilized in the calculation."
   ]
  },
  {
   "cell_type": "markdown",
   "id": "6d7090a6",
   "metadata": {
    "papermill": {
     "duration": 0.010437,
     "end_time": "2022-08-06T17:46:36.886914",
     "exception": false,
     "start_time": "2022-08-06T17:46:36.876477",
     "status": "completed"
    },
    "tags": []
   },
   "source": [
    "# 3. Calculating with Bayes Theorem"
   ]
  },
  {
   "cell_type": "markdown",
   "id": "0dd7a7eb",
   "metadata": {
    "papermill": {
     "duration": 0.010576,
     "end_time": "2022-08-06T17:46:36.908362",
     "exception": false,
     "start_time": "2022-08-06T17:46:36.897786",
     "status": "completed"
    },
    "tags": []
   },
   "source": [
    "#### The whole point of this algorithm is to obtain the class with the **highest probability**. \n",
    "#### But that is too vague right? What probability are you talking about? \n",
    "#### This probabilty is the probability of the data belonging to a certain class when possessing the respective features."
   ]
  },
  {
   "cell_type": "markdown",
   "id": "abec0533",
   "metadata": {
    "papermill": {
     "duration": 0.01058,
     "end_time": "2022-08-06T17:46:36.929993",
     "exception": false,
     "start_time": "2022-08-06T17:46:36.919413",
     "status": "completed"
    },
    "tags": []
   },
   "source": [
    "$$\\LARGE P(y \\mid x_1, \\dots, x_n) = \\frac{ P(x_1, \\dots, x_n \\mid y)P(y)}\n",
    "                                 {P(x_1, \\dots, x_n)} $$"
   ]
  },
  {
   "cell_type": "markdown",
   "id": "b91e6148",
   "metadata": {
    "papermill": {
     "duration": 0.010596,
     "end_time": "2022-08-06T17:46:36.951544",
     "exception": false,
     "start_time": "2022-08-06T17:46:36.940948",
     "status": "completed"
    },
    "tags": []
   },
   "source": [
    "#### where $\\large x_1, \\dots, x_n $ refers to the different features in the dataset and $\\large y $ refers to the different possible classes."
   ]
  },
  {
   "cell_type": "markdown",
   "id": "b513b274",
   "metadata": {
    "papermill": {
     "duration": 0.01425,
     "end_time": "2022-08-06T17:46:36.976719",
     "exception": false,
     "start_time": "2022-08-06T17:46:36.962469",
     "status": "completed"
    },
    "tags": []
   },
   "source": [
    "#### Now this is where the assumption of independence kicks in (and it is REALLY HUGE)."
   ]
  },
  {
   "cell_type": "markdown",
   "id": "0b24f8a7",
   "metadata": {
    "papermill": {
     "duration": 0.012043,
     "end_time": "2022-08-06T17:46:37.001355",
     "exception": false,
     "start_time": "2022-08-06T17:46:36.989312",
     "status": "completed"
    },
    "tags": []
   },
   "source": [
    "$$\\LARGE P(y \\mid x_1, \\dots, x_n) = \\frac{ P(x_1\\mid y) P(x_2\\mid y) \\dots P(x_n\\mid y) P(y)}\n",
    "                                 {P(x_1)P(x_2) \\dots P(x_n)} $$"
   ]
  },
  {
   "cell_type": "markdown",
   "id": "398350ff",
   "metadata": {
    "papermill": {
     "duration": 0.015674,
     "end_time": "2022-08-06T17:46:37.030357",
     "exception": false,
     "start_time": "2022-08-06T17:46:37.014683",
     "status": "completed"
    },
    "tags": []
   },
   "source": [
    "#### and since $\\large {P(x_1)P(x_2) \\dots P(x_n)} $ is a constant, the whole equation can be simplified as follows."
   ]
  },
  {
   "cell_type": "markdown",
   "id": "8bfd8b90",
   "metadata": {
    "papermill": {
     "duration": 0.014492,
     "end_time": "2022-08-06T17:46:37.059429",
     "exception": false,
     "start_time": "2022-08-06T17:46:37.044937",
     "status": "completed"
    },
    "tags": []
   },
   "source": [
    "$$\\LARGE P(y \\mid x_1, \\dots, x_n) \\propto P(y) \\prod_{i=1}^{n} P(x_i \\mid y) $$"
   ]
  },
  {
   "cell_type": "markdown",
   "id": "fbbe2240",
   "metadata": {
    "papermill": {
     "duration": 0.014189,
     "end_time": "2022-08-06T17:46:37.086678",
     "exception": false,
     "start_time": "2022-08-06T17:46:37.072489",
     "status": "completed"
    },
    "tags": []
   },
   "source": [
    "#### Since the denominator is merely a normalizing function, we can just use proportionality to compare which has the highest probability.\n",
    "#### After all, we are not aiming to obtain an absolute probability value, but a comparitively larger probability value."
   ]
  },
  {
   "cell_type": "markdown",
   "id": "15695c3a",
   "metadata": {
    "papermill": {
     "duration": 0.010572,
     "end_time": "2022-08-06T17:46:37.108267",
     "exception": false,
     "start_time": "2022-08-06T17:46:37.097695",
     "status": "completed"
    },
    "tags": []
   },
   "source": [
    "$$\\LARGE \\hat{y} = \\arg\\max_y P(y) \\prod_{i=1}^{n} P(x_i \\mid y) $$"
   ]
  },
  {
   "cell_type": "markdown",
   "id": "46047a68",
   "metadata": {
    "papermill": {
     "duration": 0.010478,
     "end_time": "2022-08-06T17:46:37.129649",
     "exception": false,
     "start_time": "2022-08-06T17:46:37.119171",
     "status": "completed"
    },
    "tags": []
   },
   "source": [
    "#### This final form summarises our aim, to find the class (y) with the highest probability."
   ]
  },
  {
   "cell_type": "markdown",
   "id": "8a6b0c91",
   "metadata": {
    "papermill": {
     "duration": 0.010567,
     "end_time": "2022-08-06T17:46:37.151020",
     "exception": false,
     "start_time": "2022-08-06T17:46:37.140453",
     "status": "completed"
    },
    "tags": []
   },
   "source": [
    "#### Now to get in the nitty gritty of this equation, $\\large P(y) $ can easily found as it is the probability of a certain class. Just a simple fraction will do.\n",
    "#### However, the likelihood, $\\large P(x_i|y) $ is the complex part.\n",
    "#### But not to worry, I've got your back and I'll dive deeper to introduce to you the different types of Naive Bayes."
   ]
  },
  {
   "cell_type": "markdown",
   "id": "3bd17027",
   "metadata": {
    "papermill": {
     "duration": 0.010765,
     "end_time": "2022-08-06T17:46:37.172890",
     "exception": false,
     "start_time": "2022-08-06T17:46:37.162125",
     "status": "completed"
    },
    "tags": []
   },
   "source": [
    "# 4. Types of Naive Bayes Classifier"
   ]
  },
  {
   "cell_type": "markdown",
   "id": "fae88864",
   "metadata": {
    "papermill": {
     "duration": 0.01067,
     "end_time": "2022-08-06T17:46:37.194623",
     "exception": false,
     "start_time": "2022-08-06T17:46:37.183953",
     "status": "completed"
    },
    "tags": []
   },
   "source": [
    "#### Now to obtain the likelihoods, we need to know the distribution of it.\n",
    "#### The three most common distributions used are Multinomial, Bernoulli and Gaussian."
   ]
  },
  {
   "cell_type": "markdown",
   "id": "b9fde369",
   "metadata": {
    "papermill": {
     "duration": 0.01065,
     "end_time": "2022-08-06T17:46:37.216118",
     "exception": false,
     "start_time": "2022-08-06T17:46:37.205468",
     "status": "completed"
    },
    "tags": []
   },
   "source": [
    "#### Allow me to give you a brief introduction of these three distributions.\n",
    "#### Multinomial Naive Bayes is just what it sounds like. It is mostly used when there are discrete number of possible outcomes.\n",
    "#### Bernoulli Naive Bayes is similar to the previous one but is used when the outcome is of a binary type, only two possible value.\n",
    "#### Gaussian Naive Bayes, also known as the Normal distribution, is used when features are assumed to have continuous values from a gaussian distribution.\n",
    "#### If you want to read up more about other possible types or into the details of these three above, feel free to check out the [sklearn website](https://scikit-learn.org/stable/modules/naive_bayes.html#naive-bayes)!"
   ]
  },
  {
   "cell_type": "markdown",
   "id": "278b0fbc",
   "metadata": {
    "papermill": {
     "duration": 0.010558,
     "end_time": "2022-08-06T17:46:37.237562",
     "exception": false,
     "start_time": "2022-08-06T17:46:37.227004",
     "status": "completed"
    },
    "tags": []
   },
   "source": [
    "#### Allow me to just illustrate to you the likelihood of a Gaussian Naive Bayes Classifier.\n",
    "#### This is applicable when likelihood of the features is assumed to be Gaussian."
   ]
  },
  {
   "cell_type": "markdown",
   "id": "5c1a0280",
   "metadata": {
    "papermill": {
     "duration": 0.010445,
     "end_time": "2022-08-06T17:46:37.258865",
     "exception": false,
     "start_time": "2022-08-06T17:46:37.248420",
     "status": "completed"
    },
    "tags": []
   },
   "source": [
    "$$\\LARGE P(x_i \\mid y) = \\frac{1}{\\sqrt{2\\pi\\sigma^2_y}} \\exp\\left(-\\frac{(x_i - \\mu_y)^2}{2\\sigma^2_y}\\right) $$"
   ]
  },
  {
   "cell_type": "markdown",
   "id": "ee508793",
   "metadata": {
    "papermill": {
     "duration": 0.010529,
     "end_time": "2022-08-06T17:46:37.280268",
     "exception": false,
     "start_time": "2022-08-06T17:46:37.269739",
     "status": "completed"
    },
    "tags": []
   },
   "source": [
    "#### The parameters $\\large \\sigma_y $ and $\\large \\mu_y $ are estimated using maximum likelihood."
   ]
  },
  {
   "cell_type": "markdown",
   "id": "79aff212",
   "metadata": {
    "papermill": {
     "duration": 0.010582,
     "end_time": "2022-08-06T17:46:37.301614",
     "exception": false,
     "start_time": "2022-08-06T17:46:37.291032",
     "status": "completed"
    },
    "tags": []
   },
   "source": [
    "# 5. Naïve Bayes Classifier From Scratch"
   ]
  },
  {
   "cell_type": "markdown",
   "id": "96962d43",
   "metadata": {
    "papermill": {
     "duration": 0.010517,
     "end_time": "2022-08-06T17:46:37.323089",
     "exception": false,
     "start_time": "2022-08-06T17:46:37.312572",
     "status": "completed"
    },
    "tags": []
   },
   "source": [
    "#### Now that I have elaborated on how the theory works, allow me to demonstrate to you how the theory would be applied in code.\n",
    "#### We would utilize the famous iris dataset for our classification work."
   ]
  },
  {
   "cell_type": "code",
   "execution_count": 2,
   "id": "0a010343",
   "metadata": {
    "_kg_hide-input": true,
    "execution": {
     "iopub.execute_input": "2022-08-06T17:46:37.346346Z",
     "iopub.status.busy": "2022-08-06T17:46:37.345953Z",
     "iopub.status.idle": "2022-08-06T17:46:37.386055Z",
     "shell.execute_reply": "2022-08-06T17:46:37.384890Z"
    },
    "jupyter": {
     "source_hidden": true
    },
    "papermill": {
     "duration": 0.054584,
     "end_time": "2022-08-06T17:46:37.388491",
     "exception": false,
     "start_time": "2022-08-06T17:46:37.333907",
     "status": "completed"
    },
    "tags": []
   },
   "outputs": [
    {
     "data": {
      "text/html": [
       "<div>\n",
       "<style scoped>\n",
       "    .dataframe tbody tr th:only-of-type {\n",
       "        vertical-align: middle;\n",
       "    }\n",
       "\n",
       "    .dataframe tbody tr th {\n",
       "        vertical-align: top;\n",
       "    }\n",
       "\n",
       "    .dataframe thead th {\n",
       "        text-align: right;\n",
       "    }\n",
       "</style>\n",
       "<table border=\"1\" class=\"dataframe\">\n",
       "  <thead>\n",
       "    <tr style=\"text-align: right;\">\n",
       "      <th></th>\n",
       "      <th>sepal_length</th>\n",
       "      <th>sepal_width</th>\n",
       "      <th>petal_length</th>\n",
       "      <th>petal_width</th>\n",
       "      <th>species</th>\n",
       "    </tr>\n",
       "  </thead>\n",
       "  <tbody>\n",
       "    <tr>\n",
       "      <th>38</th>\n",
       "      <td>4.4</td>\n",
       "      <td>3.0</td>\n",
       "      <td>1.3</td>\n",
       "      <td>0.2</td>\n",
       "      <td>Iris-setosa</td>\n",
       "    </tr>\n",
       "    <tr>\n",
       "      <th>87</th>\n",
       "      <td>6.3</td>\n",
       "      <td>2.3</td>\n",
       "      <td>4.4</td>\n",
       "      <td>1.3</td>\n",
       "      <td>Iris-versicolor</td>\n",
       "    </tr>\n",
       "    <tr>\n",
       "      <th>70</th>\n",
       "      <td>5.9</td>\n",
       "      <td>3.2</td>\n",
       "      <td>4.8</td>\n",
       "      <td>1.8</td>\n",
       "      <td>Iris-versicolor</td>\n",
       "    </tr>\n",
       "    <tr>\n",
       "      <th>126</th>\n",
       "      <td>6.2</td>\n",
       "      <td>2.8</td>\n",
       "      <td>4.8</td>\n",
       "      <td>1.8</td>\n",
       "      <td>Iris-virginica</td>\n",
       "    </tr>\n",
       "    <tr>\n",
       "      <th>119</th>\n",
       "      <td>6.0</td>\n",
       "      <td>2.2</td>\n",
       "      <td>5.0</td>\n",
       "      <td>1.5</td>\n",
       "      <td>Iris-virginica</td>\n",
       "    </tr>\n",
       "    <tr>\n",
       "      <th>98</th>\n",
       "      <td>5.1</td>\n",
       "      <td>2.5</td>\n",
       "      <td>3.0</td>\n",
       "      <td>1.1</td>\n",
       "      <td>Iris-versicolor</td>\n",
       "    </tr>\n",
       "    <tr>\n",
       "      <th>34</th>\n",
       "      <td>4.9</td>\n",
       "      <td>3.1</td>\n",
       "      <td>1.5</td>\n",
       "      <td>0.1</td>\n",
       "      <td>Iris-setosa</td>\n",
       "    </tr>\n",
       "    <tr>\n",
       "      <th>23</th>\n",
       "      <td>5.1</td>\n",
       "      <td>3.3</td>\n",
       "      <td>1.7</td>\n",
       "      <td>0.5</td>\n",
       "      <td>Iris-setosa</td>\n",
       "    </tr>\n",
       "    <tr>\n",
       "      <th>89</th>\n",
       "      <td>5.5</td>\n",
       "      <td>2.5</td>\n",
       "      <td>4.0</td>\n",
       "      <td>1.3</td>\n",
       "      <td>Iris-versicolor</td>\n",
       "    </tr>\n",
       "    <tr>\n",
       "      <th>8</th>\n",
       "      <td>4.4</td>\n",
       "      <td>2.9</td>\n",
       "      <td>1.4</td>\n",
       "      <td>0.2</td>\n",
       "      <td>Iris-setosa</td>\n",
       "    </tr>\n",
       "  </tbody>\n",
       "</table>\n",
       "</div>"
      ],
      "text/plain": [
       "     sepal_length  sepal_width  petal_length  petal_width          species\n",
       "38            4.4          3.0           1.3          0.2      Iris-setosa\n",
       "87            6.3          2.3           4.4          1.3  Iris-versicolor\n",
       "70            5.9          3.2           4.8          1.8  Iris-versicolor\n",
       "126           6.2          2.8           4.8          1.8   Iris-virginica\n",
       "119           6.0          2.2           5.0          1.5   Iris-virginica\n",
       "98            5.1          2.5           3.0          1.1  Iris-versicolor\n",
       "34            4.9          3.1           1.5          0.1      Iris-setosa\n",
       "23            5.1          3.3           1.7          0.5      Iris-setosa\n",
       "89            5.5          2.5           4.0          1.3  Iris-versicolor\n",
       "8             4.4          2.9           1.4          0.2      Iris-setosa"
      ]
     },
     "execution_count": 2,
     "metadata": {},
     "output_type": "execute_result"
    }
   ],
   "source": [
    "df = pd.read_csv('../input/iris-flower-dataset/IRIS.csv')\n",
    "df.sample(10)"
   ]
  },
  {
   "cell_type": "markdown",
   "id": "cb0e1c9a",
   "metadata": {
    "papermill": {
     "duration": 0.010984,
     "end_time": "2022-08-06T17:46:37.410777",
     "exception": false,
     "start_time": "2022-08-06T17:46:37.399793",
     "status": "completed"
    },
    "tags": []
   },
   "source": [
    "#### As you can observe from the above dataframe, the features/values are continuous values, prompting us to utilize the well-known Gaussian distribution to estimate the parameters for the likelihood function.\n",
    "#### In order to do that, we would need to know its mean and variance, since those two are the parameters in the distribution."
   ]
  },
  {
   "cell_type": "code",
   "execution_count": 3,
   "id": "3f80dfc6",
   "metadata": {
    "execution": {
     "iopub.execute_input": "2022-08-06T17:46:37.435264Z",
     "iopub.status.busy": "2022-08-06T17:46:37.434484Z",
     "iopub.status.idle": "2022-08-06T17:46:37.440258Z",
     "shell.execute_reply": "2022-08-06T17:46:37.439418Z"
    },
    "papermill": {
     "duration": 0.020648,
     "end_time": "2022-08-06T17:46:37.442522",
     "exception": false,
     "start_time": "2022-08-06T17:46:37.421874",
     "status": "completed"
    },
    "tags": []
   },
   "outputs": [],
   "source": [
    "def statistics(dataframe, target):\n",
    "    \n",
    "    mean = dataframe.groupby(target).mean().to_numpy()\n",
    "    var = dataframe.groupby(target).apply(np.var).to_numpy()\n",
    "              \n",
    "    return mean,var"
   ]
  },
  {
   "cell_type": "markdown",
   "id": "436a46a3",
   "metadata": {
    "papermill": {
     "duration": 0.010914,
     "end_time": "2022-08-06T17:46:37.464610",
     "exception": false,
     "start_time": "2022-08-06T17:46:37.453696",
     "status": "completed"
    },
    "tags": []
   },
   "source": [
    "#### Now let us build up a function to convert the above Gaussian Density Function to workable code."
   ]
  },
  {
   "cell_type": "code",
   "execution_count": 4,
   "id": "1c3176c8",
   "metadata": {
    "execution": {
     "iopub.execute_input": "2022-08-06T17:46:37.489037Z",
     "iopub.status.busy": "2022-08-06T17:46:37.488263Z",
     "iopub.status.idle": "2022-08-06T17:46:37.494814Z",
     "shell.execute_reply": "2022-08-06T17:46:37.493853Z"
    },
    "papermill": {
     "duration": 0.021386,
     "end_time": "2022-08-06T17:46:37.497139",
     "exception": false,
     "start_time": "2022-08-06T17:46:37.475753",
     "status": "completed"
    },
    "tags": []
   },
   "outputs": [],
   "source": [
    "def gaussian_density(class_idx, x, mean, var):    # class_idx 0 for setosa, 1 for versicolor, 2 for virginica\n",
    "    mean = mean[class_idx]\n",
    "    var = var[class_idx]\n",
    "    numerator = np.exp(-1 * ( ((x-mean)**2) / (2*(var**2))) )\n",
    "    denominator = np.sqrt(2 * np.pi * (var**2))\n",
    "    prob = numerator / denominator\n",
    "    return prob"
   ]
  },
  {
   "cell_type": "code",
   "execution_count": 5,
   "id": "caf2c2d2",
   "metadata": {
    "execution": {
     "iopub.execute_input": "2022-08-06T17:46:37.521368Z",
     "iopub.status.busy": "2022-08-06T17:46:37.520953Z",
     "iopub.status.idle": "2022-08-06T17:46:37.531626Z",
     "shell.execute_reply": "2022-08-06T17:46:37.530762Z"
    },
    "papermill": {
     "duration": 0.025554,
     "end_time": "2022-08-06T17:46:37.534118",
     "exception": false,
     "start_time": "2022-08-06T17:46:37.508564",
     "status": "completed"
    },
    "tags": []
   },
   "outputs": [],
   "source": [
    "classes = df.species.unique().tolist() # A list of classes that the dataset has"
   ]
  },
  {
   "cell_type": "markdown",
   "id": "74c8d6dc",
   "metadata": {
    "papermill": {
     "duration": 0.011903,
     "end_time": "2022-08-06T17:46:37.557532",
     "exception": false,
     "start_time": "2022-08-06T17:46:37.545629",
     "status": "completed"
    },
    "tags": []
   },
   "source": [
    "#### Now to calculate the prior that we need and the final calculation of the posterior, which **REMEMBER**, is our goal."
   ]
  },
  {
   "cell_type": "code",
   "execution_count": 6,
   "id": "b10d4639",
   "metadata": {
    "execution": {
     "iopub.execute_input": "2022-08-06T17:46:37.582606Z",
     "iopub.status.busy": "2022-08-06T17:46:37.581845Z",
     "iopub.status.idle": "2022-08-06T17:46:37.589354Z",
     "shell.execute_reply": "2022-08-06T17:46:37.588456Z"
    },
    "papermill": {
     "duration": 0.022651,
     "end_time": "2022-08-06T17:46:37.591615",
     "exception": false,
     "start_time": "2022-08-06T17:46:37.568964",
     "status": "completed"
    },
    "tags": []
   },
   "outputs": [],
   "source": [
    "def prior(dataframe, target):\n",
    "    prior = (dataframe.groupby(target).apply(lambda x: len(x))/len(df)).to_numpy()\n",
    "    return prior\n",
    "\n",
    "def posterior(x,df,target,mean,var,prior):\n",
    "    posteriors = []\n",
    "    for i in range(df.groupby(target).ngroups):\n",
    "        pri = prior[i] \n",
    "        likelihood = np.prod(gaussian_density(i,x.astype(float), mean, var))\n",
    "        posterior = pri * likelihood\n",
    "        posteriors.append(posterior)\n",
    "    return np.argmax(posteriors)"
   ]
  },
  {
   "cell_type": "markdown",
   "id": "c5c4c630",
   "metadata": {
    "papermill": {
     "duration": 0.010922,
     "end_time": "2022-08-06T17:46:37.613701",
     "exception": false,
     "start_time": "2022-08-06T17:46:37.602779",
     "status": "completed"
    },
    "tags": []
   },
   "source": [
    "#### To finish it all off, we would need the fitting and predicting function."
   ]
  },
  {
   "cell_type": "code",
   "execution_count": 7,
   "id": "edc61aff",
   "metadata": {
    "execution": {
     "iopub.execute_input": "2022-08-06T17:46:37.638265Z",
     "iopub.status.busy": "2022-08-06T17:46:37.637870Z",
     "iopub.status.idle": "2022-08-06T17:46:37.645160Z",
     "shell.execute_reply": "2022-08-06T17:46:37.643780Z"
    },
    "papermill": {
     "duration": 0.022554,
     "end_time": "2022-08-06T17:46:37.647501",
     "exception": false,
     "start_time": "2022-08-06T17:46:37.624947",
     "status": "completed"
    },
    "tags": []
   },
   "outputs": [],
   "source": [
    "def fit(df,target):\n",
    "    mean,var = statistics(df, target)\n",
    "    mean = mean.astype(float)\n",
    "    var = var.astype(float)\n",
    "    pri = prior(df, target)\n",
    "    pri = pri.astype(float)\n",
    "    return mean,var,pri\n",
    "        \n",
    "def predict(df,target,mean,var,prior,classes):\n",
    "    prediction = []\n",
    "    for x in df.iloc[:,:4].to_numpy():\n",
    "        prediction.append(classes[posterior(x,df,target,mean,var,prior)])\n",
    "    return prediction"
   ]
  },
  {
   "cell_type": "markdown",
   "id": "3838ff1c",
   "metadata": {
    "papermill": {
     "duration": 0.011188,
     "end_time": "2022-08-06T17:46:37.670428",
     "exception": false,
     "start_time": "2022-08-06T17:46:37.659240",
     "status": "completed"
    },
    "tags": []
   },
   "source": [
    "#### Now all the necessary functions are written down, let us check whether it works out as expect it to!"
   ]
  },
  {
   "cell_type": "code",
   "execution_count": 8,
   "id": "5d327902",
   "metadata": {
    "execution": {
     "iopub.execute_input": "2022-08-06T17:46:37.695092Z",
     "iopub.status.busy": "2022-08-06T17:46:37.694710Z",
     "iopub.status.idle": "2022-08-06T17:46:37.770558Z",
     "shell.execute_reply": "2022-08-06T17:46:37.769420Z"
    },
    "papermill": {
     "duration": 0.091054,
     "end_time": "2022-08-06T17:46:37.773253",
     "exception": false,
     "start_time": "2022-08-06T17:46:37.682199",
     "status": "completed"
    },
    "tags": []
   },
   "outputs": [],
   "source": [
    "# To calculate the necessary statistics\n",
    "mean,var,pri = fit(df,'species')\n",
    "\n",
    "# Obtain the predictions\n",
    "pred = predict(df,'species',mean,var,pri,classes)"
   ]
  },
  {
   "cell_type": "markdown",
   "id": "f5b64f45",
   "metadata": {
    "papermill": {
     "duration": 0.010849,
     "end_time": "2022-08-06T17:46:37.795348",
     "exception": false,
     "start_time": "2022-08-06T17:46:37.784499",
     "status": "completed"
    },
    "tags": []
   },
   "source": [
    "#### Ok! So we know that our code works, but it would be nice to take a look at the accuracy, won't it?"
   ]
  },
  {
   "cell_type": "code",
   "execution_count": 9,
   "id": "95276cb0",
   "metadata": {
    "_kg_hide-input": false,
    "execution": {
     "iopub.execute_input": "2022-08-06T17:46:37.819356Z",
     "iopub.status.busy": "2022-08-06T17:46:37.818951Z",
     "iopub.status.idle": "2022-08-06T17:46:37.826267Z",
     "shell.execute_reply": "2022-08-06T17:46:37.825084Z"
    },
    "papermill": {
     "duration": 0.02239,
     "end_time": "2022-08-06T17:46:37.828825",
     "exception": false,
     "start_time": "2022-08-06T17:46:37.806435",
     "status": "completed"
    },
    "tags": []
   },
   "outputs": [
    {
     "name": "stdout",
     "output_type": "stream",
     "text": [
      "94%\n"
     ]
    }
   ],
   "source": [
    "def accuracy(df,pred):\n",
    "    true_answer = df.species.to_numpy().tolist()\n",
    "    correct = 0\n",
    "    for i in range(len(true_answer)):\n",
    "        if true_answer[i] == pred[i]:\n",
    "            correct += 1\n",
    "    return int(correct/len(true_answer)*100)\n",
    "\n",
    "print(\"{}%\".format(accuracy(df,pred)))"
   ]
  },
  {
   "cell_type": "markdown",
   "id": "bd8c9693",
   "metadata": {
    "papermill": {
     "duration": 0.010906,
     "end_time": "2022-08-06T17:46:37.850849",
     "exception": false,
     "start_time": "2022-08-06T17:46:37.839943",
     "status": "completed"
    },
    "tags": []
   },
   "source": [
    "#### Let us compare this to the accuracy of the Scikit Learn's model."
   ]
  },
  {
   "cell_type": "code",
   "execution_count": 10,
   "id": "bd90e1c5",
   "metadata": {
    "_kg_hide-input": false,
    "execution": {
     "iopub.execute_input": "2022-08-06T17:46:37.875642Z",
     "iopub.status.busy": "2022-08-06T17:46:37.874741Z",
     "iopub.status.idle": "2022-08-06T17:46:38.940254Z",
     "shell.execute_reply": "2022-08-06T17:46:38.939077Z"
    },
    "papermill": {
     "duration": 1.081397,
     "end_time": "2022-08-06T17:46:38.943394",
     "exception": false,
     "start_time": "2022-08-06T17:46:37.861997",
     "status": "completed"
    },
    "tags": []
   },
   "outputs": [
    {
     "name": "stdout",
     "output_type": "stream",
     "text": [
      "96%\n"
     ]
    }
   ],
   "source": [
    "from sklearn.naive_bayes import GaussianNB\n",
    "\n",
    "X = df.iloc[:,:4]\n",
    "y = df.iloc[:,-1]\n",
    "\n",
    "clf = GaussianNB()\n",
    "clf.fit(X, y)\n",
    "\n",
    "print(\"{}%\".format(int(clf.score(X,y)*100)))"
   ]
  },
  {
   "cell_type": "code",
   "execution_count": 11,
   "id": "1fcc6a78",
   "metadata": {
    "_kg_hide-input": true,
    "execution": {
     "iopub.execute_input": "2022-08-06T17:46:38.968338Z",
     "iopub.status.busy": "2022-08-06T17:46:38.967936Z",
     "iopub.status.idle": "2022-08-06T17:46:39.351161Z",
     "shell.execute_reply": "2022-08-06T17:46:39.350058Z"
    },
    "papermill": {
     "duration": 0.3984,
     "end_time": "2022-08-06T17:46:39.353591",
     "exception": false,
     "start_time": "2022-08-06T17:46:38.955191",
     "status": "completed"
    },
    "tags": []
   },
   "outputs": [
    {
     "data": {
      "text/plain": [
       "Text(0.5, 1.0, 'Accuracy comparison')"
      ]
     },
     "execution_count": 11,
     "metadata": {},
     "output_type": "execute_result"
    },
    {
     "data": {
      "image/png": "[encoded data removed]",
      "text/plain": [
       "<Figure size 360x720 with 1 Axes>"
      ]
     },
     "metadata": {},
     "output_type": "display_data"
    }
   ],
   "source": [
    "import seaborn as sns\n",
    "\n",
    "data = {'Model': ['Our Model', 'Scikit-Learn Model'],\n",
    "        'Accuracy': [accuracy(df,pred),int(clf.score(X,y)*100)]}\n",
    "data = pd.DataFrame(data)\n",
    "\n",
    "sns.set(rc={'figure.figsize':(5,10)})\n",
    "ax = sns.barplot(x='Model', y='Accuracy',data=data)\n",
    "ax.set(ylim=[90,100])\n",
    "ax.set_title('Accuracy comparison')"
   ]
  },
  {
   "cell_type": "markdown",
   "id": "9392cea4",
   "metadata": {
    "papermill": {
     "duration": 0.011353,
     "end_time": "2022-08-06T17:46:39.377609",
     "exception": false,
     "start_time": "2022-08-06T17:46:39.366256",
     "status": "completed"
    },
    "tags": []
   },
   "source": [
    "#### I mean just 94% by itself is extraordinary! \n",
    "#### Of course, this dataset is a simple one, so the power of the model might need to be tested on a much more difficult dataset.\n",
    "#### However, compared to the 96% accuracy from the Scikit Learn's model, I would say our simple yet elegant Naïve Bayes Classifier from scratch did a fantastic job don't you think?"
   ]
  },
  {
   "cell_type": "markdown",
   "id": "e1b225fe",
   "metadata": {
    "papermill": {
     "duration": 0.011298,
     "end_time": "2022-08-06T17:46:39.400486",
     "exception": false,
     "start_time": "2022-08-06T17:46:39.389188",
     "status": "completed"
    },
    "tags": []
   },
   "source": [
    "# 6. Conclusion"
   ]
  },
  {
   "cell_type": "markdown",
   "id": "18acf469",
   "metadata": {
    "papermill": {
     "duration": 0.011263,
     "end_time": "2022-08-06T17:46:39.423264",
     "exception": false,
     "start_time": "2022-08-06T17:46:39.412001",
     "status": "completed"
    },
    "tags": []
   },
   "source": [
    "#### After all that explanation and practical illustration, doesn't this whole algorithm seem more approachable now?\n",
    "#### As you can see for yourself, this algorithm is very intuitive, simple and does not require too much hyperparameter tuning unlike other more complex models.\n",
    "#### It is also built on the famous Bayes Theorem, making it simpler for people to understand what is going on behind the scenes."
   ]
  },
  {
   "cell_type": "markdown",
   "id": "14f06914",
   "metadata": {
    "papermill": {
     "duration": 0.011222,
     "end_time": "2022-08-06T17:46:39.446228",
     "exception": false,
     "start_time": "2022-08-06T17:46:39.435006",
     "status": "completed"
    },
    "tags": []
   },
   "source": [
    "#### However, this algorithm definitely has its flaws. \n",
    "#### With this algorithm, there exists a problem called \"Zero Frequency Problem\" where the frequencies for certain features or observations turn out to be 0. This may result in mathematical errors but [can be overcome](https://towardsdatascience.com/continuous-data-and-zero-frequency-problem-in-naive-bayes-classifier-7784f4066b51) rather simply.\n",
    "#### Furthermore, as I have mentioned earlier, the fragile assumptions can be damning when it isn't met, and that by itself is a high bar. \n",
    "#### But if one keeps an eye out for these potential pitfalls, Naïve Bayes Classifier can be a powerful weapon in ones machine learning arsenal."
   ]
  },
  {
   "cell_type": "markdown",
   "id": "66ed748a",
   "metadata": {
    "papermill": {
     "duration": 0.011177,
     "end_time": "2022-08-06T17:46:39.468933",
     "exception": false,
     "start_time": "2022-08-06T17:46:39.457756",
     "status": "completed"
    },
    "tags": []
   },
   "source": [
    "# 7. Credit"
   ]
  },
  {
   "cell_type": "markdown",
   "id": "a0f995fc",
   "metadata": {
    "papermill": {
     "duration": 0.011242,
     "end_time": "2022-08-06T17:46:39.491711",
     "exception": false,
     "start_time": "2022-08-06T17:46:39.480469",
     "status": "completed"
    },
    "tags": []
   },
   "source": [
    "* https://blog.devgenius.io/implementing-na%C3%AFve-bayes-classification-from-scratch-with-python-badd5a9be9c3\n",
    "* https://towardsdatascience.com/a-mathematical-explanation-of-naive-bayes-in-5-minutes-44adebcdb5f8\n",
    "* https://medium.com/@abhishek.km23/naive-bayes-classifier-calculation-of-prior-likelihood-evidence-posterior-74d7d27eec24\n",
    "* https://machinelearningmastery.com/classification-as-conditional-probability-and-the-naive-bayes-algorithm/\n",
    "* https://towardsdatascience.com/whats-so-naive-about-naive-bayes-58166a6a9eba\n",
    "* https://scikit-learn.org/stable/modules/naive_bayes.html#naive-bayes\n",
    "* https://towardsdatascience.com/continuous-data-and-zero-frequency-problem-in-naive-bayes-classifier-7784f4066b51\n",
    "* https://towardsdatascience.com/implementing-naive-bayes-algorithm-from-scratch-python-c6880cfc9c41"
   ]
  }
 ],
 "metadata": {
  "kernelspec": {
   "display_name": "Python 3",
   "language": "python",
   "name": "python3"
  },
  "language_info": {
   "codemirror_mode": {
    "name": "ipython",
    "version": 3
   },
   "file_extension": ".py",
   "mimetype": "text/x-python",
   "name": "python",
   "nbconvert_exporter": "python",
   "pygments_lexer": "ipython3",
   "version": "3.7.12"
  },
  "papermill": {
   "default_parameters": {},
   "duration": 13.30266,
   "end_time": "2022-08-06T17:46:40.225396",
   "environment_variables": {},
   "exception": null,
   "input_path": "__notebook__.ipynb",
   "output_path": "__notebook__.ipynb",
   "parameters": {},
   "start_time": "2022-08-06T17:46:26.922736",
   "version": "2.3.4"
  }
 },
 "nbformat": 4,
 "nbformat_minor": 5
}
