{
 "cells": [
  {
   "cell_type": "code",
   "execution_count": 1,
   "id": "68b3f2b3",
   "metadata": {
    "_cell_guid": "b1076dfc-b9ad-4769-8c92-a6c4dae69d19",
    "_kg_hide-input": true,
    "_kg_hide-output": true,
    "_uuid": "8f2839f25d086af736a60e9eeb907d3b93b6e0e5",
    "execution": {
     "iopub.execute_input": "2022-08-07T04:04:00.853067Z",
     "iopub.status.busy": "2022-08-07T04:04:00.851686Z",
     "iopub.status.idle": "2022-08-07T04:04:00.869349Z",
     "shell.execute_reply": "2022-08-07T04:04:00.869868Z",
     "shell.execute_reply.started": "2022-03-29T13:03:21.021895Z"
    },
    "jupyter": {
     "source_hidden": true
    },
    "papermill": {
     "duration": 0.088545,
     "end_time": "2022-08-07T04:04:00.870219",
     "exception": false,
     "start_time": "2022-08-07T04:04:00.781674",
     "status": "completed"
    },
    "tags": []
   },
   "outputs": [
    {
     "name": "stdout",
     "output_type": "stream",
     "text": [
      "/kaggle/input/random-linear-regression/train.csv\n",
      "/kaggle/input/random-linear-regression/test.csv\n"
     ]
    }
   ],
   "source": [
    "# This Python 3 environment comes with many helpful analytics libraries installed\n",
    "# It is defined by the kaggle/python Docker image: https://github.com/kaggle/docker-python\n",
    "# For example, here's several helpful packages to load\n",
    "\n",
    "import numpy as np # linear algebra\n",
    "import pandas as pd # data processing, CSV file I/O (e.g. pd.read_csv)\n",
    "\n",
    "# Input data files are available in the read-only \"../input/\" directory\n",
    "# For example, running this (by clicking run or pressing Shift+Enter) will list all files under the input directory\n",
    "\n",
    "import os\n",
    "for dirname, _, filenames in os.walk('/kaggle/input'):\n",
    "    for filename in filenames:\n",
    "        print(os.path.join(dirname, filename))\n",
    "\n",
    "# You can write up to 20GB to the current directory (/kaggle/working/) that gets preserved as output when you create a version using \"Save & Run All\" \n",
    "# You can also write temporary files to /kaggle/temp/, but they won't be saved outside of the current session"
   ]
  },
  {
   "cell_type": "markdown",
   "id": "934c1104",
   "metadata": {
    "papermill": {
     "duration": 0.065428,
     "end_time": "2022-08-07T04:04:01.003833",
     "exception": false,
     "start_time": "2022-08-07T04:04:00.938405",
     "status": "completed"
    },
    "tags": []
   },
   "source": [
    "# Welcome to a full guide on Linear Regression 📏🔥 \n"
   ]
  },
  {
   "cell_type": "markdown",
   "id": "063e9f02",
   "metadata": {
    "papermill": {
     "duration": 0.065842,
     "end_time": "2022-08-07T04:04:01.134780",
     "exception": false,
     "start_time": "2022-08-07T04:04:01.068938",
     "status": "completed"
    },
    "tags": []
   },
   "source": [
    "#### I'm sure that many of you have heard and used/implemented linear regression for some of your problems. \n",
    "#### But many of you might not have a full image of the method and simply run the code because it works very easily. \n",
    "#### I was doing that ever since I was interested in Machine Learning but after learning truly what was behind this method, I was more appreciative of the method and I wish more people would understand the model too. "
   ]
  },
  {
   "cell_type": "markdown",
   "id": "9a14d5e7",
   "metadata": {
    "papermill": {
     "duration": 0.066067,
     "end_time": "2022-08-07T04:04:01.266776",
     "exception": false,
     "start_time": "2022-08-07T04:04:01.200709",
     "status": "completed"
    },
    "tags": []
   },
   "source": [
    "## So today, I'm going to walk you through the foundations of Linear Regression"
   ]
  },
  {
   "cell_type": "markdown",
   "id": "93ea86a3",
   "metadata": {
    "papermill": {
     "duration": 0.068087,
     "end_time": "2022-08-07T04:04:01.400729",
     "exception": false,
     "start_time": "2022-08-07T04:04:01.332642",
     "status": "completed"
    },
    "tags": []
   },
   "source": [
    "<div style=\"width:100%;text-align: center;\"> <img align=middle src=\"https://upload.wikimedia.org/wikipedia/commons/thumb/0/05/Scikit_learn_logo_small.svg/1200px-Scikit_learn_logo_small.svg.png\" style=\"width:50%;height:50%;margin:auto;\"> </div>"
   ]
  },
  {
   "cell_type": "markdown",
   "id": "28f821d0",
   "metadata": {
    "papermill": {
     "duration": 0.066465,
     "end_time": "2022-08-07T04:04:01.534763",
     "exception": false,
     "start_time": "2022-08-07T04:04:01.468298",
     "status": "completed"
    },
    "tags": []
   },
   "source": [
    "# 1. Introduction"
   ]
  },
  {
   "cell_type": "markdown",
   "id": "9ad2e1a0",
   "metadata": {
    "papermill": {
     "duration": 0.066337,
     "end_time": "2022-08-07T04:04:01.667746",
     "exception": false,
     "start_time": "2022-08-07T04:04:01.601409",
     "status": "completed"
    },
    "tags": []
   },
   "source": [
    "## So, what is Linear Regression?\n",
    "\n",
    "#### Well, according to scikit-learn's webpage, it says \n",
    "####  [\"LinearRegression fits a linear model with coefficients w = (w1, …, wp) to minimize the residual sum of squares between the observed targets in the dataset, and the targets predicted by the linear approximation.\"](https://scikit-learn.org/stable/modules/generated/sklearn.linear_model.LinearRegression.html)"
   ]
  },
  {
   "cell_type": "markdown",
   "id": "3a12ec6b",
   "metadata": {
    "papermill": {
     "duration": 0.061649,
     "end_time": "2022-08-07T04:04:01.794285",
     "exception": false,
     "start_time": "2022-08-07T04:04:01.732636",
     "status": "completed"
    },
    "tags": []
   },
   "source": [
    "## But let us break that down!"
   ]
  },
  {
   "cell_type": "markdown",
   "id": "b9d65db8",
   "metadata": {
    "papermill": {
     "duration": 0.066246,
     "end_time": "2022-08-07T04:04:01.925993",
     "exception": false,
     "start_time": "2022-08-07T04:04:01.859747",
     "status": "completed"
    },
    "tags": []
   },
   "source": [
    "# 2. Basic Concept"
   ]
  },
  {
   "cell_type": "markdown",
   "id": "b5f8f8b3",
   "metadata": {
    "papermill": {
     "duration": 0.066256,
     "end_time": "2022-08-07T04:04:02.059765",
     "exception": false,
     "start_time": "2022-08-07T04:04:01.993509",
     "status": "completed"
    },
    "tags": []
   },
   "source": [
    "#### Let us say we have a set of data as shown below:"
   ]
  },
  {
   "cell_type": "markdown",
   "id": "dcdc4b55",
   "metadata": {
    "papermill": {
     "duration": 0.064151,
     "end_time": "2022-08-07T04:04:02.189425",
     "exception": false,
     "start_time": "2022-08-07T04:04:02.125274",
     "status": "completed"
    },
    "tags": []
   },
   "source": [
    "$$ \\LARGE (x_i, y_i)_{i=1}^N $$ "
   ]
  },
  {
   "cell_type": "markdown",
   "id": "6c956d63",
   "metadata": {
    "papermill": {
     "duration": 0.065572,
     "end_time": "2022-08-07T04:04:02.316518",
     "exception": false,
     "start_time": "2022-08-07T04:04:02.250946",
     "status": "completed"
    },
    "tags": []
   },
   "source": [
    "#### where i ranges from 1 to N - the number of data points in our dataset."
   ]
  },
  {
   "cell_type": "markdown",
   "id": "d65ec2d6",
   "metadata": {
    "papermill": {
     "duration": 0.06583,
     "end_time": "2022-08-07T04:04:02.447730",
     "exception": false,
     "start_time": "2022-08-07T04:04:02.381900",
     "status": "completed"
    },
    "tags": []
   },
   "source": [
    "#### Although in the definition above, it mentions 'p' number of coefficients, we are just going to work with one coefficient for now, to simplify the whole process. But keep in mind that this entire process works the same for multiple coefficients. "
   ]
  },
  {
   "cell_type": "markdown",
   "id": "3ec14743",
   "metadata": {
    "papermill": {
     "duration": 0.062654,
     "end_time": "2022-08-07T04:04:02.575317",
     "exception": false,
     "start_time": "2022-08-07T04:04:02.512663",
     "status": "completed"
    },
    "tags": []
   },
   "source": [
    "#### In the case of one coefficient, our **equation for linear regression** would look like this:"
   ]
  },
  {
   "cell_type": "markdown",
   "id": "50804212",
   "metadata": {
    "papermill": {
     "duration": 0.06542,
     "end_time": "2022-08-07T04:04:02.705565",
     "exception": false,
     "start_time": "2022-08-07T04:04:02.640145",
     "status": "completed"
    },
    "tags": []
   },
   "source": [
    "$$\\LARGE f_{w,b}(x) =  wx + b$$"
   ]
  },
  {
   "cell_type": "markdown",
   "id": "e81320c0",
   "metadata": {
    "papermill": {
     "duration": 0.065158,
     "end_time": "2022-08-07T04:04:02.834713",
     "exception": false,
     "start_time": "2022-08-07T04:04:02.769555",
     "status": "completed"
    },
    "tags": []
   },
   "source": [
    "#### As defined above, the aim for this equation is to \"*minimize the residual sum of squares between the observed targets in the dataset, and the targets*\""
   ]
  },
  {
   "cell_type": "markdown",
   "id": "1cab16a1",
   "metadata": {
    "papermill": {
     "duration": 0.06778,
     "end_time": "2022-08-07T04:04:02.970066",
     "exception": false,
     "start_time": "2022-08-07T04:04:02.902286",
     "status": "completed"
    },
    "tags": []
   },
   "source": [
    "#### In simpler terms, it means to draw a straight line (in 2D) that is closest to all the datapoints that has been plotted.\n",
    "#### Allow me to demonstrate."
   ]
  },
  {
   "cell_type": "code",
   "execution_count": 2,
   "id": "2dab7262",
   "metadata": {
    "_kg_hide-input": true,
    "execution": {
     "iopub.execute_input": "2022-08-07T04:04:03.110046Z",
     "iopub.status.busy": "2022-08-07T04:04:03.109371Z",
     "iopub.status.idle": "2022-08-07T04:04:04.536582Z",
     "shell.execute_reply": "2022-08-07T04:04:04.535920Z",
     "shell.execute_reply.started": "2022-03-29T13:04:36.106898Z"
    },
    "papermill": {
     "duration": 1.500589,
     "end_time": "2022-08-07T04:04:04.536729",
     "exception": false,
     "start_time": "2022-08-07T04:04:03.036140",
     "status": "completed"
    },
    "tags": []
   },
   "outputs": [
    {
     "data": {
      "image/png": "[encoded data removed]",
      "text/plain": [
       "<Figure size 640x480 with 1 Axes>"
      ]
     },
     "metadata": {
      "needs_background": "light"
     },
     "output_type": "display_data"
    }
   ],
   "source": [
    "import pandas as pd\n",
    "import matplotlib.pyplot as plt\n",
    "from matplotlib.pyplot import figure\n",
    "from sklearn import linear_model\n",
    "\n",
    "train_df = pd.read_csv('../input/random-linear-regression/train.csv')\n",
    "train_df = train_df[:50]\n",
    "\n",
    "# Create linear regression object\n",
    "regr = linear_model.LinearRegression()\n",
    "\n",
    "# Train the model using the training sets\n",
    "X = train_df['x'].values[:,np.newaxis]\n",
    "y = train_df['y'].values\n",
    "regr.fit(X,y)\n",
    "\n",
    "# Plotting the graph\n",
    "figure(figsize=(8, 6), dpi=80)\n",
    "plt.scatter(X, y)\n",
    "plt.plot(X, regr.predict(X),color='k')\n",
    "plt.title(\"Simple Linear Regression\", fontsize=20)\n",
    "plt.ylabel('Y values', fontsize=15)\n",
    "plt.xlabel('X values', fontsize=15)\n",
    "plt.show()"
   ]
  },
  {
   "cell_type": "markdown",
   "id": "957a25c0",
   "metadata": {
    "papermill": {
     "duration": 0.066311,
     "end_time": "2022-08-07T04:04:04.668373",
     "exception": false,
     "start_time": "2022-08-07T04:04:04.602062",
     "status": "completed"
    },
    "tags": []
   },
   "source": [
    "#### As you can see, the line is pretty close to all the datapoints that have been plotted. "
   ]
  },
  {
   "cell_type": "markdown",
   "id": "3eab07c3",
   "metadata": {
    "papermill": {
     "duration": 0.06688,
     "end_time": "2022-08-07T04:04:04.801666",
     "exception": false,
     "start_time": "2022-08-07T04:04:04.734786",
     "status": "completed"
    },
    "tags": []
   },
   "source": [
    "#### This is surely not hard to see for us. However, if I tweaked the line just a slight bit as shown below, how would you know which one is the best fitted Linear Regression line?"
   ]
  },
  {
   "cell_type": "code",
   "execution_count": 3,
   "id": "1daef045",
   "metadata": {
    "_kg_hide-input": true,
    "execution": {
     "iopub.execute_input": "2022-08-07T04:04:04.959466Z",
     "iopub.status.busy": "2022-08-07T04:04:04.945662Z",
     "iopub.status.idle": "2022-08-07T04:04:05.108783Z",
     "shell.execute_reply": "2022-08-07T04:04:05.108214Z",
     "shell.execute_reply.started": "2022-03-29T05:42:58.078749Z"
    },
    "papermill": {
     "duration": 0.239621,
     "end_time": "2022-08-07T04:04:05.108934",
     "exception": false,
     "start_time": "2022-08-07T04:04:04.869313",
     "status": "completed"
    },
    "tags": []
   },
   "outputs": [
    {
     "data": {
      "image/png": "[encoded data removed]",
      "text/plain": [
       "<Figure size 640x480 with 1 Axes>"
      ]
     },
     "metadata": {
      "needs_background": "light"
     },
     "output_type": "display_data"
    }
   ],
   "source": [
    "#Altering the value of the predicted \n",
    "y_new = regr.predict(X)\n",
    "y_new += 0.5\n",
    "\n",
    "# Plotting the graph\n",
    "figure(figsize=(8, 6), dpi=80)\n",
    "plt.scatter(X, y)\n",
    "plt.plot(X, y_new,color='k')\n",
    "plt.title(\"Tweaked Linear Regression\", fontsize=20)\n",
    "plt.ylabel('Y values', fontsize=15)\n",
    "plt.xlabel('X values', fontsize=15)\n",
    "plt.show()"
   ]
  },
  {
   "cell_type": "markdown",
   "id": "3694245b",
   "metadata": {
    "papermill": {
     "duration": 0.066078,
     "end_time": "2022-08-07T04:04:05.243435",
     "exception": false,
     "start_time": "2022-08-07T04:04:05.177357",
     "status": "completed"
    },
    "tags": []
   },
   "source": [
    "#### Can you spot the difference?"
   ]
  },
  {
   "cell_type": "markdown",
   "id": "1e72c318",
   "metadata": {
    "papermill": {
     "duration": 0.065411,
     "end_time": "2022-08-07T04:04:05.374710",
     "exception": false,
     "start_time": "2022-08-07T04:04:05.309299",
     "status": "completed"
    },
    "tags": []
   },
   "source": [
    "# 3. Optimization"
   ]
  },
  {
   "cell_type": "markdown",
   "id": "21220e06",
   "metadata": {
    "papermill": {
     "duration": 0.063426,
     "end_time": "2022-08-07T04:04:05.503160",
     "exception": false,
     "start_time": "2022-08-07T04:04:05.439734",
     "status": "completed"
    },
    "tags": []
   },
   "source": [
    "#### In Machine Learning, we 'teach' the computers to obtain the optimal results by ensuring it minimizes a specific [Cost Function](https://towardsdatascience.com/machine-learning-fundamentals-via-linear-regression-41a5d11f5220)."
   ]
  },
  {
   "cell_type": "markdown",
   "id": "4786a272",
   "metadata": {
    "papermill": {
     "duration": 0.064056,
     "end_time": "2022-08-07T04:04:05.630816",
     "exception": false,
     "start_time": "2022-08-07T04:04:05.566760",
     "status": "completed"
    },
    "tags": []
   },
   "source": [
    "#### It is comparable to a student trying one's hardest to get the least number of questions wrong, contrary to what most of us are trying to do which is trying to get the most number of questions correct."
   ]
  },
  {
   "cell_type": "markdown",
   "id": "08054b0b",
   "metadata": {
    "papermill": {
     "duration": 0.062936,
     "end_time": "2022-08-07T04:04:05.760055",
     "exception": false,
     "start_time": "2022-08-07T04:04:05.697119",
     "status": "completed"
    },
    "tags": []
   },
   "source": [
    "#### There are various Cost Functions out there in the ML field, but for linear regression, the most commonly used one is called [Mean Squared Error (MSE)](https://towardsdatascience.com/https-medium-com-chayankathuria-regression-why-mean-square-error-a8cad2a1c96f)."
   ]
  },
  {
   "cell_type": "markdown",
   "id": "6ca6c749",
   "metadata": {
    "papermill": {
     "duration": 0.062764,
     "end_time": "2022-08-07T04:04:05.886476",
     "exception": false,
     "start_time": "2022-08-07T04:04:05.823712",
     "status": "completed"
    },
    "tags": []
   },
   "source": [
    "$$\\LARGE \\frac{1}{N} \\Sigma_{i=1}^N({f_{w,b}(x_i)}-{y_i})^2$$"
   ]
  },
  {
   "cell_type": "markdown",
   "id": "7c2837de",
   "metadata": {
    "papermill": {
     "duration": 0.065464,
     "end_time": "2022-08-07T04:04:06.020000",
     "exception": false,
     "start_time": "2022-08-07T04:04:05.954536",
     "status": "completed"
    },
    "tags": []
   },
   "source": [
    "#### To understand this cost function, we first have to understand the loss function, a component that makes up this cost function. \n",
    "#### *The difference between a cost and loss function is that a loss function is for a single datapoint while a cost function is meant for the whole model*."
   ]
  },
  {
   "cell_type": "markdown",
   "id": "274f191b",
   "metadata": {
    "papermill": {
     "duration": 0.065068,
     "end_time": "2022-08-07T04:04:06.152885",
     "exception": false,
     "start_time": "2022-08-07T04:04:06.087817",
     "status": "completed"
    },
    "tags": []
   },
   "source": [
    "#### The loss function used to data points in Linear Regression is the [Squared Error Loss](https://www.sciencedirect.com.remotexs.ntu.edu.sg/topics/computer-science/squared-error-loss) as shown below:"
   ]
  },
  {
   "cell_type": "markdown",
   "id": "da75a716",
   "metadata": {
    "papermill": {
     "duration": 0.062985,
     "end_time": "2022-08-07T04:04:06.279132",
     "exception": false,
     "start_time": "2022-08-07T04:04:06.216147",
     "status": "completed"
    },
    "tags": []
   },
   "source": [
    "$$\\LARGE ({f_{w,b}(x_i)}-{y_i})^2 $$"
   ]
  },
  {
   "cell_type": "markdown",
   "id": "851b3ce2",
   "metadata": {
    "papermill": {
     "duration": 0.063388,
     "end_time": "2022-08-07T04:04:06.405857",
     "exception": false,
     "start_time": "2022-08-07T04:04:06.342469",
     "status": "completed"
    },
    "tags": []
   },
   "source": [
    "#### As you can see from the equation, the result for the Squared Error Loss is the difference between the predicted value and the actual value and squaring that term. The Cost Function thus would just be the average values for all the datapoints in the dataset. \n",
    "#### Therefore, as our model tries to minimize this Cost Function, our Linear Regression line would appear to 'fit' better to our dataset and be close to all possible points."
   ]
  },
  {
   "cell_type": "markdown",
   "id": "562c5c93",
   "metadata": {
    "papermill": {
     "duration": 0.063117,
     "end_time": "2022-08-07T04:04:06.532612",
     "exception": false,
     "start_time": "2022-08-07T04:04:06.469495",
     "status": "completed"
    },
    "tags": []
   },
   "source": [
    "## Note"
   ]
  },
  {
   "cell_type": "markdown",
   "id": "37238717",
   "metadata": {
    "papermill": {
     "duration": 0.063341,
     "end_time": "2022-08-07T04:04:06.659656",
     "exception": false,
     "start_time": "2022-08-07T04:04:06.596315",
     "status": "completed"
    },
    "tags": []
   },
   "source": [
    "#### Some of you might be asking, \"Why is the loss quadratic?\" and that is a very valid question to ask. \n",
    "#### Apparently the answer is pretty simple. \"Because... it's simple. Why keep it difficult?\"\n",
    "#### Apparently, squaring it, according to French mathematician [Adrien-Marie Legendre](https://encyclopediaofmath.org/wiki/Legendre,_Adrien-Marie), is convenient (Do let me know if you think so too in the comments 😂)\n"
   ]
  },
  {
   "cell_type": "markdown",
   "id": "11414b8a",
   "metadata": {
    "papermill": {
     "duration": 0.067256,
     "end_time": "2022-08-07T04:04:06.791801",
     "exception": false,
     "start_time": "2022-08-07T04:04:06.724545",
     "status": "completed"
    },
    "tags": []
   },
   "source": [
    "#### Furthermore, squaring the erros will **exaggerate** the difference between the predicted and actual values, thus penalizing larger errors more severely for the model."
   ]
  },
  {
   "cell_type": "markdown",
   "id": "07ac40c4",
   "metadata": {
    "papermill": {
     "duration": 0.063142,
     "end_time": "2022-08-07T04:04:06.921515",
     "exception": false,
     "start_time": "2022-08-07T04:04:06.858373",
     "status": "completed"
    },
    "tags": []
   },
   "source": [
    "# 4. The Math Behind The Scenes"
   ]
  },
  {
   "cell_type": "markdown",
   "id": "3d77fdb2",
   "metadata": {
    "papermill": {
     "duration": 0.066025,
     "end_time": "2022-08-07T04:04:07.054484",
     "exception": false,
     "start_time": "2022-08-07T04:04:06.988459",
     "status": "completed"
    },
    "tags": []
   },
   "source": [
    "#### If you managed to keep up till now, good! \n",
    "#### You have understood the basics and foundation of what and how a Linear Regression model works. \n",
    "#### However, some of you might be questioning, so how does the model *actually* optimize the Cost Function and manage to output the best fitting Linear Regression line.\n",
    "#### If you are curious, do read on! \n",
    "### Let's dive in!"
   ]
  },
  {
   "cell_type": "markdown",
   "id": "98aae75c",
   "metadata": {
    "papermill": {
     "duration": 0.065301,
     "end_time": "2022-08-07T04:04:07.186449",
     "exception": false,
     "start_time": "2022-08-07T04:04:07.121148",
     "status": "completed"
    },
    "tags": []
   },
   "source": [
    "<div style=\"width:100%;text-align: center;\"> <img align=middle src=\"https://images.unsplash.com/photo-1622151834625-66296f9f0e96?ixlib=rb-1.2.1&ixid=MnwxMjA3fDB8MHxzZWFyY2h8M3x8bWFuJTIwdGhpbmtpbmd8ZW58MHx8MHx8&auto=format&fit=crop&w=500&q=60\" style=\"width:50%;height:50%;margin:auto;\"> </div>"
   ]
  },
  {
   "cell_type": "markdown",
   "id": "9cb676f0",
   "metadata": {
    "papermill": {
     "duration": 0.063297,
     "end_time": "2022-08-07T04:04:07.314832",
     "exception": false,
     "start_time": "2022-08-07T04:04:07.251535",
     "status": "completed"
    },
    "tags": []
   },
   "source": [
    "## 4.1) For the first part, I will explain the easier method which is using **matrix manipulation** and **basic linear algebra** to solve directly."
   ]
  },
  {
   "cell_type": "markdown",
   "id": "57ebdd0a",
   "metadata": {
    "papermill": {
     "duration": 0.062989,
     "end_time": "2022-08-07T04:04:07.441064",
     "exception": false,
     "start_time": "2022-08-07T04:04:07.378075",
     "status": "completed"
    },
    "tags": []
   },
   "source": [
    "#### As I have mentioned, our equation looks like this:"
   ]
  },
  {
   "cell_type": "markdown",
   "id": "48ca148d",
   "metadata": {
    "papermill": {
     "duration": 0.063365,
     "end_time": "2022-08-07T04:04:07.567772",
     "exception": false,
     "start_time": "2022-08-07T04:04:07.504407",
     "status": "completed"
    },
    "tags": []
   },
   "source": [
    "$$\\LARGE f_{w,b}(x) =  wx + b$$"
   ]
  },
  {
   "cell_type": "markdown",
   "id": "a71b4f49",
   "metadata": {
    "papermill": {
     "duration": 0.063085,
     "end_time": "2022-08-07T04:04:07.694329",
     "exception": false,
     "start_time": "2022-08-07T04:04:07.631244",
     "status": "completed"
    },
    "tags": []
   },
   "source": [
    "#### However, for optimization purpose, let us describe this equation in a matrix format, which takes in all the datapoints"
   ]
  },
  {
   "cell_type": "markdown",
   "id": "0f11cb55",
   "metadata": {
    "papermill": {
     "duration": 0.062834,
     "end_time": "2022-08-07T04:04:07.822429",
     "exception": false,
     "start_time": "2022-08-07T04:04:07.759595",
     "status": "completed"
    },
    "tags": []
   },
   "source": [
    "$$\\LARGE \\vec y = B_1 \\vec X + B_0 $$"
   ]
  },
  {
   "cell_type": "markdown",
   "id": "0e33da02",
   "metadata": {
    "papermill": {
     "duration": 0.075405,
     "end_time": "2022-08-07T04:04:07.960657",
     "exception": false,
     "start_time": "2022-08-07T04:04:07.885252",
     "status": "completed"
    },
    "tags": []
   },
   "source": [
    "#### where"
   ]
  },
  {
   "cell_type": "markdown",
   "id": "11d23a0a",
   "metadata": {
    "papermill": {
     "duration": 0.067218,
     "end_time": "2022-08-07T04:04:08.096485",
     "exception": false,
     "start_time": "2022-08-07T04:04:08.029267",
     "status": "completed"
    },
    "tags": []
   },
   "source": [
    "$$\\large \\vec y =  f_{w,b}(x) = \n",
    "\\begin{bmatrix}\n",
    "y_1 \\\\\n",
    "\\vdots \\\\\n",
    "y_n \n",
    "\\end{bmatrix}$$,\n",
    "\n",
    "\n",
    "$$\\large \\vec X = \\begin{bmatrix} x_1 \\\\ \\vdots \\\\ x_n \\end{bmatrix} $$\n",
    "\n",
    "$$\\large B_1 = w $$ \n",
    "$$\\large B_0 = b $$"
   ]
  },
  {
   "cell_type": "markdown",
   "id": "2dd74c2c",
   "metadata": {
    "papermill": {
     "duration": 0.063178,
     "end_time": "2022-08-07T04:04:08.232551",
     "exception": false,
     "start_time": "2022-08-07T04:04:08.169373",
     "status": "completed"
    },
    "tags": []
   },
   "source": [
    "#### Now, let us tweak the above equation a bit more into this."
   ]
  },
  {
   "cell_type": "markdown",
   "id": "e366f121",
   "metadata": {
    "papermill": {
     "duration": 0.063029,
     "end_time": "2022-08-07T04:04:08.369885",
     "exception": false,
     "start_time": "2022-08-07T04:04:08.306856",
     "status": "completed"
    },
    "tags": []
   },
   "source": [
    "$$\\LARGE \\begin{bmatrix} y_1 \\\\ \\vdots \\\\ y_n \\end{bmatrix} = \\begin{bmatrix} 1 & x_1 \\\\ \\vdots & \\vdots \\\\ 1 & x_n \\end{bmatrix} \\begin{bmatrix} \\vec B_0 \\\\ \\vec B_1 \\end{bmatrix}$$\n"
   ]
  },
  {
   "cell_type": "markdown",
   "id": "5afaa200",
   "metadata": {
    "papermill": {
     "duration": 0.063029,
     "end_time": "2022-08-07T04:04:08.496115",
     "exception": false,
     "start_time": "2022-08-07T04:04:08.433086",
     "status": "completed"
    },
    "tags": []
   },
   "source": [
    "#### Here, we have to keep in mind what we are actually trying to solve for in this optimization task. \n",
    "#### We are trying to find the values of **w** and **b** that will give us the best fitting line."
   ]
  },
  {
   "cell_type": "markdown",
   "id": "165b55f5",
   "metadata": {
    "papermill": {
     "duration": 0.063002,
     "end_time": "2022-08-07T04:04:08.622763",
     "exception": false,
     "start_time": "2022-08-07T04:04:08.559761",
     "status": "completed"
    },
    "tags": []
   },
   "source": [
    "#### Simplifying the above code will result in:"
   ]
  },
  {
   "cell_type": "markdown",
   "id": "1dfb4075",
   "metadata": {
    "papermill": {
     "duration": 0.066508,
     "end_time": "2022-08-07T04:04:08.753533",
     "exception": false,
     "start_time": "2022-08-07T04:04:08.687025",
     "status": "completed"
    },
    "tags": []
   },
   "source": [
    "$$\\LARGE \\vec Y = \\vec X \\vec B $$"
   ]
  },
  {
   "cell_type": "markdown",
   "id": "de5cd6e2",
   "metadata": {
    "papermill": {
     "duration": 0.06274,
     "end_time": "2022-08-07T04:04:08.883077",
     "exception": false,
     "start_time": "2022-08-07T04:04:08.820337",
     "status": "completed"
    },
    "tags": []
   },
   "source": [
    "#### where"
   ]
  },
  {
   "cell_type": "markdown",
   "id": "aaf392c5",
   "metadata": {
    "papermill": {
     "duration": 0.0626,
     "end_time": "2022-08-07T04:04:09.010070",
     "exception": false,
     "start_time": "2022-08-07T04:04:08.947470",
     "status": "completed"
    },
    "tags": []
   },
   "source": [
    "$$\\large \\vec B = \\begin{bmatrix} \\vec B_0 \\\\ \\vec B_1 \\end{bmatrix} $$"
   ]
  },
  {
   "cell_type": "markdown",
   "id": "630f978c",
   "metadata": {
    "papermill": {
     "duration": 0.064512,
     "end_time": "2022-08-07T04:04:09.139493",
     "exception": false,
     "start_time": "2022-08-07T04:04:09.074981",
     "status": "completed"
    },
    "tags": []
   },
   "source": [
    "#### Assuming that the columns of the vector $\\large \\vec X $ is [linearly independent](https://en.wikipedia.org/wiki/Linear_independence#:~:text=In%20the%20theory%20of%20vector,said%20to%20be%20linearly%20independent.),"
   ]
  },
  {
   "cell_type": "markdown",
   "id": "9d4a8fd2",
   "metadata": {
    "papermill": {
     "duration": 0.062977,
     "end_time": "2022-08-07T04:04:09.265779",
     "exception": false,
     "start_time": "2022-08-07T04:04:09.202802",
     "status": "completed"
    },
    "tags": []
   },
   "source": [
    "$$\\LARGE \\vec X^T \\vec Y = \\vec X^T \\vec X \\vec B $$"
   ]
  },
  {
   "cell_type": "markdown",
   "id": "31d2c78c",
   "metadata": {
    "papermill": {
     "duration": 0.062228,
     "end_time": "2022-08-07T04:04:09.391054",
     "exception": false,
     "start_time": "2022-08-07T04:04:09.328826",
     "status": "completed"
    },
    "tags": []
   },
   "source": [
    "$$\\LARGE (\\vec X^T \\vec X)^{-1} \\vec X^T \\vec Y = \\vec B$$"
   ]
  },
  {
   "cell_type": "markdown",
   "id": "c0d4c471",
   "metadata": {
    "papermill": {
     "duration": 0.062722,
     "end_time": "2022-08-07T04:04:09.516737",
     "exception": false,
     "start_time": "2022-08-07T04:04:09.454015",
     "status": "completed"
    },
    "tags": []
   },
   "source": [
    "#### Voilà, we have finally found what we were looking for which was $\\large \\vec B $ which consists of **w** and **b**."
   ]
  },
  {
   "cell_type": "markdown",
   "id": "8336deda",
   "metadata": {
    "papermill": {
     "duration": 0.062496,
     "end_time": "2022-08-07T04:04:09.642474",
     "exception": false,
     "start_time": "2022-08-07T04:04:09.579978",
     "status": "completed"
    },
    "tags": []
   },
   "source": [
    "##### For those of you not very familiar with inverses, linear independence, linear algebra, I strongly recommend you check out [this course](https://ocw.mit.edu/courses/mathematics/18-06-linear-algebra-spring-2010/) from MITOpenCourseWare. \n",
    "##### You don't need to know all the details of linear algebra but the first few lectures for the foundations will help you tremendously!"
   ]
  },
  {
   "cell_type": "markdown",
   "id": "7a68b66c",
   "metadata": {
    "papermill": {
     "duration": 0.066038,
     "end_time": "2022-08-07T04:04:09.771894",
     "exception": false,
     "start_time": "2022-08-07T04:04:09.705856",
     "status": "completed"
    },
    "tags": []
   },
   "source": [
    "#### Let us apply this knowledge and see if we can apply it to recreate the simple Linear Regression line shown near the start."
   ]
  },
  {
   "cell_type": "code",
   "execution_count": 4,
   "id": "ae021549",
   "metadata": {
    "_kg_hide-input": true,
    "execution": {
     "iopub.execute_input": "2022-08-07T04:04:09.913349Z",
     "iopub.status.busy": "2022-08-07T04:04:09.912627Z",
     "iopub.status.idle": "2022-08-07T04:04:10.324672Z",
     "shell.execute_reply": "2022-08-07T04:04:10.325174Z",
     "shell.execute_reply.started": "2022-03-29T13:04:05.347794Z"
    },
    "papermill": {
     "duration": 0.490177,
     "end_time": "2022-08-07T04:04:10.325346",
     "exception": false,
     "start_time": "2022-08-07T04:04:09.835169",
     "status": "completed"
    },
    "tags": []
   },
   "outputs": [
    {
     "data": {
      "image/png": "[encoded data removed]",
      "text/plain": [
       "<Figure size 1440x720 with 2 Axes>"
      ]
     },
     "metadata": {
      "needs_background": "light"
     },
     "output_type": "display_data"
    }
   ],
   "source": [
    "# Making the X vector\n",
    "temp = pd.DataFrame([1 for i in range(50)])\n",
    "temp_0 = pd.concat([temp, train_df.x], axis=1)\n",
    "\n",
    "# Making data into vectors\n",
    "y = np.array(train_df.y).reshape(50,1)\n",
    "X = np.array(temp_0)\n",
    "X_T = np.transpose(X)\n",
    "\n",
    "# Calculations we just learnt!\n",
    "b = np.matmul(np.linalg.inv(np.matmul(X_T,X)), (np.matmul(X_T,y)))\n",
    "\n",
    "train_df = pd.read_csv('../input/random-linear-regression/train.csv')\n",
    "train_df = train_df[:50]\n",
    "\n",
    "X = train_df['x'].values[:,np.newaxis]\n",
    "y = train_df['y'].values\n",
    "y_pred = b[1]*X+b[0]\n",
    "\n",
    "# Create linear regression object\n",
    "regr = linear_model.LinearRegression()\n",
    "regr.fit(X,y)\n",
    "\n",
    "# Plotting the graph\n",
    "plt.rcParams['figure.figsize'] = (20,10)\n",
    "fig, (ax1, ax2) = plt.subplots(1, 2)\n",
    "fig.suptitle('With Matrix Manipulation', fontsize=20)\n",
    "\n",
    "ax1.set_title('Plotting with sklearn model', fontsize=20)\n",
    "ax1.scatter(X, y)\n",
    "ax1.plot(X, regr.predict(X))\n",
    "\n",
    "ax2.set_title('Plotting using calculated coefficients', fontsize=20)\n",
    "ax2.scatter(X, y)\n",
    "ax2.plot(X, y_pred,color='k')\n",
    "\n",
    "fig.tight_layout()"
   ]
  },
  {
   "cell_type": "markdown",
   "id": "5bd1748f",
   "metadata": {
    "papermill": {
     "duration": 0.064901,
     "end_time": "2022-08-07T04:04:10.455689",
     "exception": false,
     "start_time": "2022-08-07T04:04:10.390788",
     "status": "completed"
    },
    "tags": []
   },
   "source": [
    "#### GREAT! IT WORKS! \n",
    "#### Don't the two lines look very similar?"
   ]
  },
  {
   "cell_type": "markdown",
   "id": "21a8d4c0",
   "metadata": {
    "papermill": {
     "duration": 0.064615,
     "end_time": "2022-08-07T04:04:10.586431",
     "exception": false,
     "start_time": "2022-08-07T04:04:10.521816",
     "status": "completed"
    },
    "tags": []
   },
   "source": [
    "#### So we have seen one of the ways to obtain the coefficients of the linear regression line which can be used to output the desired best fitting line as shown above."
   ]
  },
  {
   "cell_type": "markdown",
   "id": "2bd2a086",
   "metadata": {
    "papermill": {
     "duration": 0.064756,
     "end_time": "2022-08-07T04:04:10.716157",
     "exception": false,
     "start_time": "2022-08-07T04:04:10.651401",
     "status": "completed"
    },
    "tags": []
   },
   "source": [
    "## 4.2) Now, for the second part, I will be explaining a slightly more complex and more mathematically rigorous method of optimization, also known as Gradient Descent."
   ]
  },
  {
   "cell_type": "markdown",
   "id": "51eab303",
   "metadata": {
    "papermill": {
     "duration": 0.065759,
     "end_time": "2022-08-07T04:04:10.848935",
     "exception": false,
     "start_time": "2022-08-07T04:04:10.783176",
     "status": "completed"
    },
    "tags": []
   },
   "source": [
    "#### So what is Gradient Descent? \n",
    "#### I'm sure many of you have heard of it in videos, articles or just from other people interested in Machine Learning and especially Deep Learning."
   ]
  },
  {
   "cell_type": "markdown",
   "id": "c2e9faae",
   "metadata": {
    "papermill": {
     "duration": 0.065437,
     "end_time": "2022-08-07T04:04:10.979713",
     "exception": false,
     "start_time": "2022-08-07T04:04:10.914276",
     "status": "completed"
    },
    "tags": []
   },
   "source": [
    "#### In essence, Gradient Descent is by nature an **iterative algorithm that is used to find either the maximum or minimum of a function**. \n",
    "#### It may sound very simple but it is a truly necessary tool for Machine Learning where models have to learn by trying to minimize the Cost Function as I have mentioned earlier."
   ]
  },
  {
   "cell_type": "markdown",
   "id": "2b4d9766",
   "metadata": {
    "papermill": {
     "duration": 0.07003,
     "end_time": "2022-08-07T04:04:11.114929",
     "exception": false,
     "start_time": "2022-08-07T04:04:11.044899",
     "status": "completed"
    },
    "tags": []
   },
   "source": [
    "#### The crucial mathematical knowledge behind this iterative algorithm is [partial derivatives](https://www.khanacademy.org/math/multivariable-calculus/multivariable-derivatives/partial-derivative-and-gradient-articles/a/introduction-to-partial-derivatives).\n",
    "#### You can read more about partial derivatives in the link above, but to give you a brief explanation, it is basically differentiating the overall multivariable  function by only varying one variable and keeping the other variables constant/unchanged.\n",
    "#### By doing so, we can see how the function changes with a change in a certain variable that's in focus."
   ]
  },
  {
   "cell_type": "markdown",
   "id": "5595df75",
   "metadata": {
    "papermill": {
     "duration": 0.0758,
     "end_time": "2022-08-07T04:04:11.269458",
     "exception": false,
     "start_time": "2022-08-07T04:04:11.193658",
     "status": "completed"
    },
    "tags": []
   },
   "source": [
    "#### So for our case, we are interested in the partial derivative of the Cost Function with respect to the variables **w** and **b**. \n",
    "#### We wish to find the values of **w** and **b** which **minimises** the value of the Cost Function."
   ]
  },
  {
   "cell_type": "markdown",
   "id": "dc57ce51",
   "metadata": {
    "papermill": {
     "duration": 0.065004,
     "end_time": "2022-08-07T04:04:11.403836",
     "exception": false,
     "start_time": "2022-08-07T04:04:11.338832",
     "status": "completed"
    },
    "tags": []
   },
   "source": [
    "#### Allow me to show you mathematically what I mean."
   ]
  },
  {
   "cell_type": "markdown",
   "id": "61dc5c7b",
   "metadata": {
    "papermill": {
     "duration": 0.064908,
     "end_time": "2022-08-07T04:04:11.533645",
     "exception": false,
     "start_time": "2022-08-07T04:04:11.468737",
     "status": "completed"
    },
    "tags": []
   },
   "source": [
    "#### We let the Cost Function be C"
   ]
  },
  {
   "cell_type": "markdown",
   "id": "8f6d9de4",
   "metadata": {
    "papermill": {
     "duration": 0.064503,
     "end_time": "2022-08-07T04:04:11.662937",
     "exception": false,
     "start_time": "2022-08-07T04:04:11.598434",
     "status": "completed"
    },
    "tags": []
   },
   "source": [
    "$$\\LARGE C = \\frac{1}{N} \\Sigma_{i=1}^N({f_{w,b}(x_i)}-{y_i})^2 $$ "
   ]
  },
  {
   "cell_type": "markdown",
   "id": "a36c1a40",
   "metadata": {
    "papermill": {
     "duration": 0.065454,
     "end_time": "2022-08-07T04:04:11.795564",
     "exception": false,
     "start_time": "2022-08-07T04:04:11.730110",
     "status": "completed"
    },
    "tags": []
   },
   "source": [
    "#### Since we have to optimize for **w** and **b**, we are interested in the partial derivatives of C with respect to **w** and **b**"
   ]
  },
  {
   "cell_type": "markdown",
   "id": "c0f9ed54",
   "metadata": {
    "papermill": {
     "duration": 0.065662,
     "end_time": "2022-08-07T04:04:11.928286",
     "exception": false,
     "start_time": "2022-08-07T04:04:11.862624",
     "status": "completed"
    },
    "tags": []
   },
   "source": [
    "$$\\LARGE C_w = \\frac{2}{N} \\Sigma_{i=1}^N x_i({f_{w,b}(x_i)}-{y_i}) $$ "
   ]
  },
  {
   "cell_type": "markdown",
   "id": "016694a7",
   "metadata": {
    "papermill": {
     "duration": 0.064327,
     "end_time": "2022-08-07T04:04:12.058859",
     "exception": false,
     "start_time": "2022-08-07T04:04:11.994532",
     "status": "completed"
    },
    "tags": []
   },
   "source": [
    "$$\\LARGE C_b = \\frac{2}{N} \\Sigma_{i=1}^N ({f_{w,b}(x_i)}-{y_i}) $$ "
   ]
  },
  {
   "cell_type": "markdown",
   "id": "9ca63a86",
   "metadata": {
    "papermill": {
     "duration": 0.064671,
     "end_time": "2022-08-07T04:04:12.188393",
     "exception": false,
     "start_time": "2022-08-07T04:04:12.123722",
     "status": "completed"
    },
    "tags": []
   },
   "source": [
    "#### After obtaining the partial derivatives, we want to move our function a certain amount in the opposite direction of the partial derivatives to reach the minimum value for our function"
   ]
  },
  {
   "cell_type": "markdown",
   "id": "fcd6c746",
   "metadata": {
    "papermill": {
     "duration": 0.064775,
     "end_time": "2022-08-07T04:04:12.318368",
     "exception": false,
     "start_time": "2022-08-07T04:04:12.253593",
     "status": "completed"
    },
    "tags": []
   },
   "source": [
    "$$\\LARGE W = W - lr \\times C_w $$"
   ]
  },
  {
   "cell_type": "markdown",
   "id": "bacff352",
   "metadata": {
    "papermill": {
     "duration": 0.06464,
     "end_time": "2022-08-07T04:04:12.447791",
     "exception": false,
     "start_time": "2022-08-07T04:04:12.383151",
     "status": "completed"
    },
    "tags": []
   },
   "source": [
    "$$\\LARGE b = b - lr \\times C_b $$"
   ]
  },
  {
   "cell_type": "markdown",
   "id": "c76453f6",
   "metadata": {
    "papermill": {
     "duration": 0.064539,
     "end_time": "2022-08-07T04:04:12.577086",
     "exception": false,
     "start_time": "2022-08-07T04:04:12.512547",
     "status": "completed"
    },
    "tags": []
   },
   "source": [
    "#### The $\\large lr $ in the above equation represents the [learning rate](https://machinelearningmastery.com/understand-the-dynamics-of-learning-rate-on-deep-learning-neural-networks/), which is a hyperparameter that is chosen by the user.\n",
    "#### It determines the extent by which the model moves in the opposite direction of the partial derivatives."
   ]
  },
  {
   "cell_type": "markdown",
   "id": "c7426733",
   "metadata": {
    "papermill": {
     "duration": 0.064857,
     "end_time": "2022-08-07T04:04:12.706793",
     "exception": false,
     "start_time": "2022-08-07T04:04:12.641936",
     "status": "completed"
    },
    "tags": []
   },
   "source": [
    "#### This process of obtaining the values of partial derivatives and the new values of **w** and **b** is **repeated** until the values of **w** and **b** outputs a loss function value near 0.\n",
    "#### Ideally, it would be great if our loss function reached 0.\n",
    "#### However, in reality that doesn't really happen, so this iterative algorithm is stopped when the decrease in the value of loss function is not as significant as it was."
   ]
  },
  {
   "cell_type": "markdown",
   "id": "ebbeebcd",
   "metadata": {
    "papermill": {
     "duration": 0.066497,
     "end_time": "2022-08-07T04:04:12.838679",
     "exception": false,
     "start_time": "2022-08-07T04:04:12.772182",
     "status": "completed"
    },
    "tags": []
   },
   "source": [
    "##### For those of you who want to learn more about this algorithm, I highly recommend this amazing [video](youtube.com/watch?v=IHZwWFHWa-w) "
   ]
  },
  {
   "cell_type": "markdown",
   "id": "74971b9b",
   "metadata": {
    "papermill": {
     "duration": 0.064725,
     "end_time": "2022-08-07T04:04:12.968835",
     "exception": false,
     "start_time": "2022-08-07T04:04:12.904110",
     "status": "completed"
    },
    "tags": []
   },
   "source": [
    "#### At this point, some of you might be asking \"Hey, why do you keep mentioning in the opposite direction of the partial derivatives\".\n",
    "#### If you realized this, kudos to you because this is a very relevant question when it comes to Gradient Descent and one that I had when I first learnt this.\n",
    "#### Before I move on to show you Gradient Descent Implementation in code, I first wish to explain to you why we want to move in the opposite direction of the partial derivatives."
   ]
  },
  {
   "cell_type": "markdown",
   "id": "b777a0c3",
   "metadata": {
    "papermill": {
     "duration": 0.064477,
     "end_time": "2022-08-07T04:04:13.099080",
     "exception": false,
     "start_time": "2022-08-07T04:04:13.034603",
     "status": "completed"
    },
    "tags": []
   },
   "source": [
    "## 4.3) Why do we move in the opposite direction of the [partial derivatives](https://towardsdatascience.com/wondering-why-do-you-subtract-gradient-in-a-gradient-descent-algorithm-9b5aabdf8150)?"
   ]
  },
  {
   "cell_type": "markdown",
   "id": "d1afa350",
   "metadata": {
    "papermill": {
     "duration": 0.064865,
     "end_time": "2022-08-07T04:04:13.228987",
     "exception": false,
     "start_time": "2022-08-07T04:04:13.164122",
     "status": "completed"
    },
    "tags": []
   },
   "source": [
    "#### As I have mentioned earlier, partial derivatives tells us the change in output when we change only one variable and keep the others constant."
   ]
  },
  {
   "cell_type": "markdown",
   "id": "00d95ce0",
   "metadata": {
    "papermill": {
     "duration": 0.064786,
     "end_time": "2022-08-07T04:04:13.358502",
     "exception": false,
     "start_time": "2022-08-07T04:04:13.293716",
     "status": "completed"
    },
    "tags": []
   },
   "source": [
    "#### But to truly appreciate the 'direction' of partial derivatives, we need to understand what [directional derivatives](https://mathworld.wolfram.com/DirectionalDerivative.html#:~:text=The%20directional%20derivative%20is%20the,(2)) are.\n",
    "#### **Directional derivatives** are similar to partial derivatives but the catch here is that '*what if we don't move only in one direction (x or y direction) but a combination of both variables, in the direction of $\\large \\vec u $*'."
   ]
  },
  {
   "cell_type": "markdown",
   "id": "469faea9",
   "metadata": {
    "papermill": {
     "duration": 0.064976,
     "end_time": "2022-08-07T04:04:13.488437",
     "exception": false,
     "start_time": "2022-08-07T04:04:13.423461",
     "status": "completed"
    },
    "tags": []
   },
   "source": [
    "$$\\LARGE \\nabla_u f = \\frac{\\partial f}{\\partial x} \\frac{\\partial u}{\\partial x} + \\frac{\\partial f}{\\partial y} \\frac{\\partial u}{\\partial y} + \\frac{\\partial f}{\\partial z}  \\frac{\\partial u}{\\partial z}$$"
   ]
  },
  {
   "cell_type": "markdown",
   "id": "6ba6d3ad",
   "metadata": {
    "papermill": {
     "duration": 0.064886,
     "end_time": "2022-08-07T04:04:13.618729",
     "exception": false,
     "start_time": "2022-08-07T04:04:13.553843",
     "status": "completed"
    },
    "tags": []
   },
   "source": [
    "#### Ok, this equation looks very daunting but allow me to give you an example."
   ]
  },
  {
   "cell_type": "markdown",
   "id": "aed96db9",
   "metadata": {
    "papermill": {
     "duration": 0.065684,
     "end_time": "2022-08-07T04:04:13.750531",
     "exception": false,
     "start_time": "2022-08-07T04:04:13.684847",
     "status": "completed"
    },
    "tags": []
   },
   "source": [
    "#### Let's say that we have a function $\\large f = 2x^2 + y^2 $ and a direction of $\\large u = [2,2] $ and currently at  $\\large [2,3] $"
   ]
  },
  {
   "cell_type": "markdown",
   "id": "6b16c761",
   "metadata": {
    "papermill": {
     "duration": 0.066681,
     "end_time": "2022-08-07T04:04:13.883501",
     "exception": false,
     "start_time": "2022-08-07T04:04:13.816820",
     "status": "completed"
    },
    "tags": []
   },
   "source": [
    "#### By how much would our function's output change when we move from our current position, in the direction of $\\large \\vec u $?"
   ]
  },
  {
   "cell_type": "markdown",
   "id": "aff358c2",
   "metadata": {
    "papermill": {
     "duration": 0.064735,
     "end_time": "2022-08-07T04:04:14.013861",
     "exception": false,
     "start_time": "2022-08-07T04:04:13.949126",
     "status": "completed"
    },
    "tags": []
   },
   "source": [
    "$$\\LARGE \\nabla_u f = 2 \\times 4x + 2 \\times 2y = 8x + 4y$$"
   ]
  },
  {
   "cell_type": "markdown",
   "id": "b9d1bf8d",
   "metadata": {
    "papermill": {
     "duration": 0.065184,
     "end_time": "2022-08-07T04:04:14.144976",
     "exception": false,
     "start_time": "2022-08-07T04:04:14.079792",
     "status": "completed"
    },
    "tags": []
   },
   "source": [
    "#### And since we are currently at (2,3), our function's output would change by a factor of"
   ]
  },
  {
   "cell_type": "markdown",
   "id": "f59bc10a",
   "metadata": {
    "papermill": {
     "duration": 0.065199,
     "end_time": "2022-08-07T04:04:14.276066",
     "exception": false,
     "start_time": "2022-08-07T04:04:14.210867",
     "status": "completed"
    },
    "tags": []
   },
   "source": [
    "$$\\LARGE \\nabla_u f = 16 + 12 = 28$$"
   ]
  },
  {
   "cell_type": "markdown",
   "id": "bafdb7ea",
   "metadata": {
    "papermill": {
     "duration": 0.064756,
     "end_time": "2022-08-07T04:04:14.405828",
     "exception": false,
     "start_time": "2022-08-07T04:04:14.341072",
     "status": "completed"
    },
    "tags": []
   },
   "source": [
    "#### Now, we are capable of moving in any direction we want, but how can we know the direction which increases the output by most, the direction of the steepest ascent?"
   ]
  },
  {
   "cell_type": "markdown",
   "id": "de908abd",
   "metadata": {
    "papermill": {
     "duration": 0.064547,
     "end_time": "2022-08-07T04:04:14.535538",
     "exception": false,
     "start_time": "2022-08-07T04:04:14.470991",
     "status": "completed"
    },
    "tags": []
   },
   "source": [
    "#### What we want to know can be formalized by the mathematical definition as shown below where $\\large \\vec w $ is the directional vector that we are looking for"
   ]
  },
  {
   "cell_type": "markdown",
   "id": "bec9c88e",
   "metadata": {
    "papermill": {
     "duration": 0.064653,
     "end_time": "2022-08-07T04:04:14.665156",
     "exception": false,
     "start_time": "2022-08-07T04:04:14.600503",
     "status": "completed"
    },
    "tags": []
   },
   "source": [
    "$$\\LARGE \\max_{||\\vec w||} \\nabla f(x,y,z) \\cdot \\vec w $$"
   ]
  },
  {
   "cell_type": "markdown",
   "id": "95158bec",
   "metadata": {
    "papermill": {
     "duration": 0.065058,
     "end_time": "2022-08-07T04:04:14.795538",
     "exception": false,
     "start_time": "2022-08-07T04:04:14.730480",
     "status": "completed"
    },
    "tags": []
   },
   "source": [
    "#### where "
   ]
  },
  {
   "cell_type": "markdown",
   "id": "9d38d2ea",
   "metadata": {
    "papermill": {
     "duration": 0.065583,
     "end_time": "2022-08-07T04:04:14.927279",
     "exception": false,
     "start_time": "2022-08-07T04:04:14.861696",
     "status": "completed"
    },
    "tags": []
   },
   "source": [
    "$$\\large \\nabla f(x,y,z) = gradient$$"
   ]
  },
  {
   "cell_type": "markdown",
   "id": "5f721af5",
   "metadata": {
    "papermill": {
     "duration": 0.065578,
     "end_time": "2022-08-07T04:04:15.058798",
     "exception": false,
     "start_time": "2022-08-07T04:04:14.993220",
     "status": "completed"
    },
    "tags": []
   },
   "source": [
    "#### Breaking this equation down to English, we are simply trying to find a certain $\\large \\vec w $ that maximizes the directional derivative i.e. **increases the function value by the most**."
   ]
  },
  {
   "cell_type": "markdown",
   "id": "fba0fc20",
   "metadata": {
    "papermill": {
     "duration": 0.064868,
     "end_time": "2022-08-07T04:04:15.189063",
     "exception": false,
     "start_time": "2022-08-07T04:04:15.124195",
     "status": "completed"
    },
    "tags": []
   },
   "source": [
    "#### Now, you should have heard of dot product as shown below"
   ]
  },
  {
   "cell_type": "markdown",
   "id": "85c936a7",
   "metadata": {
    "papermill": {
     "duration": 0.06495,
     "end_time": "2022-08-07T04:04:15.319080",
     "exception": false,
     "start_time": "2022-08-07T04:04:15.254130",
     "status": "completed"
    },
    "tags": []
   },
   "source": [
    "$$\\LARGE a \\cdot b = |a| |b| cos(\\theta) $$"
   ]
  },
  {
   "cell_type": "markdown",
   "id": "59e7d57f",
   "metadata": {
    "papermill": {
     "duration": 0.064767,
     "end_time": "2022-08-07T04:04:15.449087",
     "exception": false,
     "start_time": "2022-08-07T04:04:15.384320",
     "status": "completed"
    },
    "tags": []
   },
   "source": [
    "#### As you can see, the above equation had a dot product and we know that for the dot product to be maximum, the $\\large cos(\\theta) $ is the determining factor and that **$\\large \\theta $ has to be 0 degrees**."
   ]
  },
  {
   "cell_type": "markdown",
   "id": "5cbbd325",
   "metadata": {
    "papermill": {
     "duration": 0.064919,
     "end_time": "2022-08-07T04:04:15.579241",
     "exception": false,
     "start_time": "2022-08-07T04:04:15.514322",
     "status": "completed"
    },
    "tags": []
   },
   "source": [
    "#### **This means that the direction that we have to travel ($\\large \\vec w $) in for steepest ascent (largest increase in function) is parallel or in the same direction as the gradient of the function $\\large \\nabla f(x,y,z) $**."
   ]
  },
  {
   "cell_type": "markdown",
   "id": "15c2cb06",
   "metadata": {
    "papermill": {
     "duration": 0.0649,
     "end_time": "2022-08-07T04:04:15.709371",
     "exception": false,
     "start_time": "2022-08-07T04:04:15.644471",
     "status": "completed"
    },
    "tags": []
   },
   "source": [
    "#### Coming back to our original question, \"Why do we move in the opposite direction of the partial derivatives?\", since the direction that points in the steepest asecent is parallel to the \n",
    "#### direction of the function's gradient (which is a matrix of the function's partial derivatives), if we wish to travel in the 'steepest descent', we have to travel exactly opposite to the \n",
    "#### function's gradient / function's partial derivatives."
   ]
  },
  {
   "cell_type": "markdown",
   "id": "d9bd4a7b",
   "metadata": {
    "papermill": {
     "duration": 0.065246,
     "end_time": "2022-08-07T04:04:15.840238",
     "exception": false,
     "start_time": "2022-08-07T04:04:15.774992",
     "status": "completed"
    },
    "tags": []
   },
   "source": [
    "#### Therefore, we minus off the various partial derivatives after multiplying them with the chosen learning rates, to reach the minimum point of our Cost Function as quickly as possible."
   ]
  },
  {
   "cell_type": "markdown",
   "id": "4bef2152",
   "metadata": {
    "papermill": {
     "duration": 0.065628,
     "end_time": "2022-08-07T04:04:15.972479",
     "exception": false,
     "start_time": "2022-08-07T04:04:15.906851",
     "status": "completed"
    },
    "tags": []
   },
   "source": [
    "#### Now that we are fully aware of the Gradient Descent Algorithm and the elaborate mathematics behind it, let me display some code and show you the output."
   ]
  },
  {
   "cell_type": "code",
   "execution_count": 5,
   "id": "c110a155",
   "metadata": {
    "_kg_hide-input": true,
    "execution": {
     "iopub.execute_input": "2022-08-07T04:04:16.114044Z",
     "iopub.status.busy": "2022-08-07T04:04:16.113033Z",
     "iopub.status.idle": "2022-08-07T04:04:17.047181Z",
     "shell.execute_reply": "2022-08-07T04:04:17.047708Z",
     "shell.execute_reply.started": "2022-03-29T12:59:16.764081Z"
    },
    "papermill": {
     "duration": 1.008977,
     "end_time": "2022-08-07T04:04:17.047886",
     "exception": false,
     "start_time": "2022-08-07T04:04:16.038909",
     "status": "completed"
    },
    "tags": []
   },
   "outputs": [
    {
     "data": {
      "image/png": "[encoded data removed]",
      "text/plain": [
       "<Figure size 2160x1440 with 4 Axes>"
      ]
     },
     "metadata": {
      "needs_background": "light"
     },
     "output_type": "display_data"
    }
   ],
   "source": [
    "train_df = pd.read_csv('../input/random-linear-regression/train.csv')\n",
    "train_df = train_df[:50]\n",
    "\n",
    "# Create linear regression object\n",
    "regr = linear_model.LinearRegression()\n",
    "\n",
    "# Train the model using the training sets\n",
    "X = train_df['x'].values[:,np.newaxis]\n",
    "y = train_df['y'].values\n",
    "regr.fit(X,y)\n",
    "\n",
    "# Building the model\n",
    "m = 0\n",
    "c = 0\n",
    "\n",
    "L = 0.0001  # The learning Rate\n",
    "n = float(len(X)) # Number of elements in X\n",
    "epochs = 10\n",
    "# The number of iterations to perform gradient descent\n",
    "# Performing Gradient Descent \n",
    "for i in range(epochs): \n",
    "    y_pred = m*X + c  # The current predicted value of Y\n",
    "    y = np.array(y).reshape(50,1)\n",
    "    D_m = (2/n) * sum(X * (y_pred - y))  # Partial derivative wrt m\n",
    "    D_c = (2/n) * sum(y_pred - y)  # Partial derivative wrt c\n",
    "    m = m - L * D_m  # Update m\n",
    "    c = c - L * D_c  # Update c \n",
    "    if i==0:\n",
    "        y_pred_1 = m*X + c\n",
    "    elif i==4:\n",
    "        y_pred_5 = m*X + c\n",
    "    elif i==9:\n",
    "        y_pred_10 = m*X + c\n",
    "\n",
    "\n",
    "# Plotting the graph\n",
    "plt.rcParams['figure.figsize'] = (30,20)\n",
    "fig,ax = plt.subplots(2, 2)\n",
    "fig.suptitle('With Gradient Descent', fontsize=30)\n",
    "\n",
    "ax[0,0].set_title('Plotting with sklearn model', fontsize=30)\n",
    "ax[0,0].scatter(X, y)\n",
    "ax[0,0].plot(X, regr.predict(X))\n",
    "\n",
    "ax[0,1].set_title('Plotting using Gradient Descent with 1 epochs', fontsize=30)\n",
    "ax[0,1].scatter(X, y)\n",
    "ax[0,1].plot(X,y_pred_1, color='r')\n",
    "\n",
    "ax[1,0].set_title('Plotting using Gradient Descent with 5 epochs', fontsize=30)\n",
    "ax[1,0].scatter(X, y)\n",
    "ax[1,0].plot(X,y_pred_5, color='g')\n",
    "\n",
    "ax[1,1].set_title('Plotting using Gradient Descent with 10 epochs', fontsize=30)\n",
    "ax[1,1].scatter(X, y)\n",
    "ax[1,1].plot(X,y_pred_10, color='y')\n",
    "\n",
    "\n",
    "\n",
    "fig.tight_layout()"
   ]
  },
  {
   "cell_type": "markdown",
   "id": "77547a5f",
   "metadata": {
    "papermill": {
     "duration": 0.068863,
     "end_time": "2022-08-07T04:04:17.187139",
     "exception": false,
     "start_time": "2022-08-07T04:04:17.118276",
     "status": "completed"
    },
    "tags": []
   },
   "source": [
    "#### It is very obvious how effective the Gradient Descent Algorithm really is.\n",
    "#### It just needs a few epoch to get a rough picture and the more epochs we run the model through, the more accurate the model gets as we can see below."
   ]
  },
  {
   "cell_type": "code",
   "execution_count": 6,
   "id": "346b2654",
   "metadata": {
    "_kg_hide-input": true,
    "execution": {
     "iopub.execute_input": "2022-08-07T04:04:17.335942Z",
     "iopub.status.busy": "2022-08-07T04:04:17.334899Z",
     "iopub.status.idle": "2022-08-07T04:04:17.938791Z",
     "shell.execute_reply": "2022-08-07T04:04:17.939299Z",
     "shell.execute_reply.started": "2022-03-29T09:31:57.063156Z"
    },
    "papermill": {
     "duration": 0.683517,
     "end_time": "2022-08-07T04:04:17.939495",
     "exception": false,
     "start_time": "2022-08-07T04:04:17.255978",
     "status": "completed"
    },
    "tags": []
   },
   "outputs": [
    {
     "data": {
      "image/png": "[encoded data removed]",
      "text/plain": [
       "<Figure size 2160x1440 with 1 Axes>"
      ]
     },
     "metadata": {
      "needs_background": "light"
     },
     "output_type": "display_data"
    }
   ],
   "source": [
    "from sklearn.metrics import mean_squared_error\n",
    "\n",
    "m = 0\n",
    "c = 0\n",
    "lr = 0.0001\n",
    "epochs = 1000\n",
    "error = []\n",
    "\n",
    "# Performing Gradient Descent \n",
    "for i in range(epochs): \n",
    "    y_pred = m*X + c  # The current predicted value of Y\n",
    "    y = np.array(y).reshape(50,1)\n",
    "    D_m = (2/n) * sum(X * (y_pred - y))  # Partial derivative wrt m\n",
    "    D_c = (2/n) * sum(y_pred - y)  # Partial derivative wrt c\n",
    "    m = m - L * D_m  # Update m\n",
    "    c = c - L * D_c  # Update c   \n",
    "    error.append(mean_squared_error(y, y_pred))\n",
    "    \n",
    "plt.title('Number of epochs vs MSE loss', fontsize=30)\n",
    "plt.xlabel('Number of epochs', fontsize=25)\n",
    "plt.ylabel('MSE', fontsize=25)\n",
    "plt.plot([i for i in range(1000)], error)\n",
    "plt.show()"
   ]
  },
  {
   "cell_type": "markdown",
   "id": "52adb4c5",
   "metadata": {
    "papermill": {
     "duration": 0.072319,
     "end_time": "2022-08-07T04:04:18.082709",
     "exception": false,
     "start_time": "2022-08-07T04:04:18.010390",
     "status": "completed"
    },
    "tags": []
   },
   "source": [
    "#### Obviously the above Linear Regression problem was an extremely simple one so a few epochs and a simple Gradient Descent Algorithm should optimize very effectively."
   ]
  },
  {
   "cell_type": "markdown",
   "id": "af9da99d",
   "metadata": {
    "papermill": {
     "duration": 0.07115,
     "end_time": "2022-08-07T04:04:18.228222",
     "exception": false,
     "start_time": "2022-08-07T04:04:18.157072",
     "status": "completed"
    },
    "tags": []
   },
   "source": [
    "# 5. Conclusion"
   ]
  },
  {
   "cell_type": "markdown",
   "id": "0060dbb7",
   "metadata": {
    "papermill": {
     "duration": 0.071147,
     "end_time": "2022-08-07T04:04:18.370600",
     "exception": false,
     "start_time": "2022-08-07T04:04:18.299453",
     "status": "completed"
    },
    "tags": []
   },
   "source": [
    "#### If you managed to follow through all the way to the end, you deserve an award ✨"
   ]
  },
  {
   "cell_type": "markdown",
   "id": "f04c94af",
   "metadata": {
    "papermill": {
     "duration": 0.071339,
     "end_time": "2022-08-07T04:04:18.513320",
     "exception": false,
     "start_time": "2022-08-07T04:04:18.441981",
     "status": "completed"
    },
    "tags": []
   },
   "source": [
    "#### Linear Regression is one of the simplest yet one of the most effective and efficient models when it comes to tackling problems that is of a linear nature.\n",
    "#### Through this notebook, I do hope you learnt some new and interesting facts about Linear Regression and the rigorous mathematical knowledge that is at work behind the scenes when you call .fit() "
   ]
  },
  {
   "cell_type": "markdown",
   "id": "35062574",
   "metadata": {
    "papermill": {
     "duration": 0.071497,
     "end_time": "2022-08-07T04:04:18.657253",
     "exception": false,
     "start_time": "2022-08-07T04:04:18.585756",
     "status": "completed"
    },
    "tags": []
   },
   "source": [
    "#### If you enjoyed this work of mine, please do check out other pieces such as my [competition notebook for spaceshit titanic](https://www.kaggle.com/code/kimmik123/spaceship-titanic-xgboost-random-forest-79-5) or [data visualization and analysis on suicide ](https://www.kaggle.com/code/kimmik123/so-what-do-you-think-is-the-reason-for-suicide)."
   ]
  },
  {
   "cell_type": "markdown",
   "id": "7b942c12",
   "metadata": {
    "papermill": {
     "duration": 0.077073,
     "end_time": "2022-08-07T04:04:18.806258",
     "exception": false,
     "start_time": "2022-08-07T04:04:18.729185",
     "status": "completed"
    },
    "tags": []
   },
   "source": [
    "#### Do leave a comment if you wish and please upvote if you found this notebook useful! It motivates me to keep pushing forward ^_^"
   ]
  },
  {
   "cell_type": "markdown",
   "id": "a6f30302",
   "metadata": {
    "papermill": {
     "duration": 0.073133,
     "end_time": "2022-08-07T04:04:18.955315",
     "exception": false,
     "start_time": "2022-08-07T04:04:18.882182",
     "status": "completed"
    },
    "tags": []
   },
   "source": [
    "#### I will be posting similar guides about other Machine Learning models soon so do keep a lookout for those and until then... Cheers!"
   ]
  },
  {
   "cell_type": "markdown",
   "id": "5853f450",
   "metadata": {
    "papermill": {
     "duration": 0.072942,
     "end_time": "2022-08-07T04:04:19.100120",
     "exception": false,
     "start_time": "2022-08-07T04:04:19.027178",
     "status": "completed"
    },
    "tags": []
   },
   "source": [
    "# 6. Credit\n",
    "\n",
    " \n",
    "* https://en.wikipedia.org/wiki/Help:Displaying_a_formula#Functions,_symbols,_special_characters\n",
    "* https://krish9a.medium.com/mathematical-notations-for-machine-learning-markdown-5feb99e8d412\n",
    "* https://towardsdatascience.com/building-linear-regression-least-squares-with-linear-algebra-2adf071dd5dd\n",
    "* https://towardsdatascience.com/gradient-descent-algorithm-a-deep-dive-cf04e8115f21#:~:text=Gradient%20descent%20(GD)%20is%20an,e.g.%20in%20a%20linear%20regression).\n",
    "* https://towardsdatascience.com/linear-regression-using-gradient-descent-97a6c8700931\n",
    "* https://towardsdatascience.com/wondering-why-do-you-subtract-gradient-in-a-gradient-descent-algorithm-9b5aabdf8150"
   ]
  }
 ],
 "metadata": {
  "kernelspec": {
   "display_name": "Python 3",
   "language": "python",
   "name": "python3"
  },
  "language_info": {
   "codemirror_mode": {
    "name": "ipython",
    "version": 3
   },
   "file_extension": ".py",
   "mimetype": "text/x-python",
   "name": "python",
   "nbconvert_exporter": "python",
   "pygments_lexer": "ipython3",
   "version": "3.7.12"
  },
  "papermill": {
   "default_parameters": {},
   "duration": 28.887554,
   "end_time": "2022-08-07T04:04:19.882687",
   "environment_variables": {},
   "exception": null,
   "input_path": "__notebook__.ipynb",
   "output_path": "__notebook__.ipynb",
   "parameters": {},
   "start_time": "2022-08-07T04:03:50.995133",
   "version": "2.3.3"
  }
 },
 "nbformat": 4,
 "nbformat_minor": 5
}
