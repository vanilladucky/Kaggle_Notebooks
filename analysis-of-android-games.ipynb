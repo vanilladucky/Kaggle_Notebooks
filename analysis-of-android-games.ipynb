{
 "cells": [
  {
   "cell_type": "code",
   "execution_count": 1,
   "id": "adjusted-theater",
   "metadata": {
    "_cell_guid": "b1076dfc-b9ad-4769-8c92-a6c4dae69d19",
    "_uuid": "8f2839f25d086af736a60e9eeb907d3b93b6e0e5",
    "execution": {
     "iopub.execute_input": "2021-06-27T06:35:14.863459Z",
     "iopub.status.busy": "2021-06-27T06:35:14.861428Z",
     "iopub.status.idle": "2021-06-27T06:35:14.888328Z",
     "shell.execute_reply": "2021-06-27T06:35:14.888896Z",
     "shell.execute_reply.started": "2021-06-27T05:32:05.821601Z"
    },
    "jupyter": {
     "source_hidden": true
    },
    "papermill": {
     "duration": 0.064155,
     "end_time": "2021-06-27T06:35:14.889269",
     "exception": false,
     "start_time": "2021-06-27T06:35:14.825114",
     "status": "completed"
    },
    "tags": []
   },
   "outputs": [
    {
     "name": "stdout",
     "output_type": "stream",
     "text": [
      "/kaggle/input/top-play-store-games/android-games.csv\n"
     ]
    }
   ],
   "source": [
    "# This Python 3 environment comes with many helpful analytics libraries installed\n",
    "# It is defined by the kaggle/python Docker image: https://github.com/kaggle/docker-python\n",
    "# For example, here's several helpful packages to load\n",
    "\n",
    "import numpy as np # linear algebra\n",
    "import pandas as pd # data processing, CSV file I/O (e.g. pd.read_csv)\n",
    "import matplotlib.pyplot as plt\n",
    "\n",
    "# Input data files are available in the read-only \"../input/\" directory\n",
    "# For example, running this (by clicking run or pressing Shift+Enter) will list all files under the input directory\n",
    "\n",
    "import os\n",
    "for dirname, _, filenames in os.walk('/kaggle/input'):\n",
    "    for filename in filenames:\n",
    "        print(os.path.join(dirname, filename))\n",
    "\n",
    "# You can write up to 20GB to the current directory (/kaggle/working/) that gets preserved as output when you create a version using \"Save & Run All\" \n",
    "# You can also write temporary files to /kaggle/temp/, but they won't be saved outside of the current session"
   ]
  },
  {
   "cell_type": "markdown",
   "id": "polished-agreement",
   "metadata": {
    "papermill": {
     "duration": 0.034764,
     "end_time": "2021-06-27T06:35:14.958792",
     "exception": false,
     "start_time": "2021-06-27T06:35:14.924028",
     "status": "completed"
    },
    "tags": []
   },
   "source": [
    "![https://www.simon-kucher.com/sites/default/files/styles/670xh/public/2020-10/GamingStudy_Part2_Blog%20Header.jpg?itok=4S2Gg_fC](http://)"
   ]
  },
  {
   "cell_type": "markdown",
   "id": "bound-commons",
   "metadata": {
    "papermill": {
     "duration": 0.032005,
     "end_time": "2021-06-27T06:35:15.021863",
     "exception": false,
     "start_time": "2021-06-27T06:35:14.989858",
     "status": "completed"
    },
    "tags": []
   },
   "source": [
    "# Games on phone might not be as elaborate or graphically enticing as computer or console games. \n",
    "#### However, nowadays, they are popular more than ever, with **80 billion** mobile game downloads in 2020, with an **18%** YoY growth (*Udonis*)\n",
    "\n",
    "#### In this article, we would be diving into this publicly available dataset which showcases numerous games on the Google Play Store. We would be doing some exploration with this dataset, checking to see\n",
    "\n",
    "##### 1. If there is any correlation between its price and its ratings\n",
    "##### 2. Which categories showcase the highest ratings\n",
    "##### 3. Does rapid growth right after its release generally suggest greater ratings for the game? \n",
    "\n",
    "##### Let us first import the required dataset "
   ]
  },
  {
   "cell_type": "code",
   "execution_count": 2,
   "id": "dimensional-private",
   "metadata": {
    "execution": {
     "iopub.execute_input": "2021-06-27T06:35:15.081566Z",
     "iopub.status.busy": "2021-06-27T06:35:15.080575Z",
     "iopub.status.idle": "2021-06-27T06:35:15.110703Z",
     "shell.execute_reply": "2021-06-27T06:35:15.111207Z",
     "shell.execute_reply.started": "2021-06-27T05:32:05.843560Z"
    },
    "jupyter": {
     "source_hidden": true
    },
    "papermill": {
     "duration": 0.061274,
     "end_time": "2021-06-27T06:35:15.111409",
     "exception": false,
     "start_time": "2021-06-27T06:35:15.050135",
     "status": "completed"
    },
    "tags": []
   },
   "outputs": [],
   "source": [
    "df = pd.read_csv('../input/top-play-store-games/android-games.csv')"
   ]
  },
  {
   "cell_type": "markdown",
   "id": "obvious-concept",
   "metadata": {
    "papermill": {
     "duration": 0.027796,
     "end_time": "2021-06-27T06:35:15.167360",
     "exception": false,
     "start_time": "2021-06-27T06:35:15.139564",
     "status": "completed"
    },
    "tags": []
   },
   "source": [
    "# As always, let us look at the data information\n",
    "#### We would have to \n",
    "##### 1. Check for missing data \n",
    "##### 2. Deal with missing/invalid data \n",
    "##### 3. See whether all rows are eligible for data analysis "
   ]
  },
  {
   "cell_type": "code",
   "execution_count": 3,
   "id": "going-sydney",
   "metadata": {
    "execution": {
     "iopub.execute_input": "2021-06-27T06:35:15.226860Z",
     "iopub.status.busy": "2021-06-27T06:35:15.226250Z",
     "iopub.status.idle": "2021-06-27T06:35:15.255302Z",
     "shell.execute_reply": "2021-06-27T06:35:15.254470Z",
     "shell.execute_reply.started": "2021-06-27T05:32:05.871860Z"
    },
    "jupyter": {
     "source_hidden": true
    },
    "papermill": {
     "duration": 0.060476,
     "end_time": "2021-06-27T06:35:15.255498",
     "exception": false,
     "start_time": "2021-06-27T06:35:15.195022",
     "status": "completed"
    },
    "tags": []
   },
   "outputs": [
    {
     "name": "stdout",
     "output_type": "stream",
     "text": [
      "<class 'pandas.core.frame.DataFrame'>\n",
      "RangeIndex: 1730 entries, 0 to 1729\n",
      "Data columns (total 15 columns):\n",
      " #   Column            Non-Null Count  Dtype  \n",
      "---  ------            --------------  -----  \n",
      " 0   rank              1730 non-null   int64  \n",
      " 1   title             1730 non-null   object \n",
      " 2   total ratings     1730 non-null   int64  \n",
      " 3   installs          1730 non-null   object \n",
      " 4   average rating    1730 non-null   int64  \n",
      " 5   growth (30 days)  1730 non-null   float64\n",
      " 6   growth (60 days)  1730 non-null   float64\n",
      " 7   price             1730 non-null   float64\n",
      " 8   category          1730 non-null   object \n",
      " 9   5 star ratings    1730 non-null   int64  \n",
      " 10  4 star ratings    1730 non-null   int64  \n",
      " 11  3 star ratings    1730 non-null   int64  \n",
      " 12  2 star ratings    1730 non-null   int64  \n",
      " 13  1 star ratings    1730 non-null   int64  \n",
      " 14  paid              1730 non-null   bool   \n",
      "dtypes: bool(1), float64(3), int64(8), object(3)\n",
      "memory usage: 191.0+ KB\n"
     ]
    }
   ],
   "source": [
    "df.info()"
   ]
  },
  {
   "cell_type": "markdown",
   "id": "defined-photographer",
   "metadata": {
    "papermill": {
     "duration": 0.028098,
     "end_time": "2021-06-27T06:35:15.312274",
     "exception": false,
     "start_time": "2021-06-27T06:35:15.284176",
     "status": "completed"
    },
    "tags": []
   },
   "source": [
    "#### Thankfully, with this dataset, we have 0 null values, and 1730 full rows, with 15 attributes in total \n",
    "\n",
    "#### As mentioned in the first few lines, we only need data regarding the price, ratings, category, growth and title attributes \n",
    "* ##### So let us trim the dataset"
   ]
  },
  {
   "cell_type": "code",
   "execution_count": 4,
   "id": "undefined-growth",
   "metadata": {
    "execution": {
     "iopub.execute_input": "2021-06-27T06:35:15.378463Z",
     "iopub.status.busy": "2021-06-27T06:35:15.377682Z",
     "iopub.status.idle": "2021-06-27T06:35:15.390585Z",
     "shell.execute_reply": "2021-06-27T06:35:15.391092Z",
     "shell.execute_reply.started": "2021-06-27T05:32:05.904076Z"
    },
    "jupyter": {
     "source_hidden": true
    },
    "papermill": {
     "duration": 0.049681,
     "end_time": "2021-06-27T06:35:15.391279",
     "exception": false,
     "start_time": "2021-06-27T06:35:15.341598",
     "status": "completed"
    },
    "tags": []
   },
   "outputs": [
    {
     "name": "stdout",
     "output_type": "stream",
     "text": [
      "<class 'pandas.core.frame.DataFrame'>\n",
      "RangeIndex: 1730 entries, 0 to 1729\n",
      "Data columns (total 12 columns):\n",
      " #   Column            Non-Null Count  Dtype  \n",
      "---  ------            --------------  -----  \n",
      " 0   title             1730 non-null   object \n",
      " 1   average rating    1730 non-null   int64  \n",
      " 2   growth (30 days)  1730 non-null   float64\n",
      " 3   growth (60 days)  1730 non-null   float64\n",
      " 4   price             1730 non-null   float64\n",
      " 5   category          1730 non-null   object \n",
      " 6   5 star ratings    1730 non-null   int64  \n",
      " 7   4 star ratings    1730 non-null   int64  \n",
      " 8   3 star ratings    1730 non-null   int64  \n",
      " 9   2 star ratings    1730 non-null   int64  \n",
      " 10  1 star ratings    1730 non-null   int64  \n",
      " 11  paid              1730 non-null   bool   \n",
      "dtypes: bool(1), float64(3), int64(6), object(2)\n",
      "memory usage: 150.5+ KB\n"
     ]
    }
   ],
   "source": [
    "df = df.drop(labels = ['rank', 'installs', 'total ratings'], axis=1)\n",
    "df.info()"
   ]
  },
  {
   "cell_type": "markdown",
   "id": "understanding-eleven",
   "metadata": {
    "papermill": {
     "duration": 0.029677,
     "end_time": "2021-06-27T06:35:15.451431",
     "exception": false,
     "start_time": "2021-06-27T06:35:15.421754",
     "status": "completed"
    },
    "tags": []
   },
   "source": [
    "#### We have succesfully trimmed down our dataset to only the necessary attributes that we would be needing \n",
    "\n",
    "#### Now let us proceed about investigating our first question \n",
    "# 1. If there is any correlation between its price and its ratings\n",
    "\n",
    "#### However, before that, let us see how many paid games there are compared to free ones in this dataset"
   ]
  },
  {
   "cell_type": "code",
   "execution_count": 5,
   "id": "opened-marker",
   "metadata": {
    "execution": {
     "iopub.execute_input": "2021-06-27T06:35:15.514054Z",
     "iopub.status.busy": "2021-06-27T06:35:15.513382Z",
     "iopub.status.idle": "2021-06-27T06:35:15.539967Z",
     "shell.execute_reply": "2021-06-27T06:35:15.540488Z",
     "shell.execute_reply.started": "2021-06-27T05:32:05.926957Z"
    },
    "jupyter": {
     "source_hidden": true
    },
    "papermill": {
     "duration": 0.059491,
     "end_time": "2021-06-27T06:35:15.540671",
     "exception": false,
     "start_time": "2021-06-27T06:35:15.481180",
     "status": "completed"
    },
    "tags": []
   },
   "outputs": [
    {
     "data": {
      "text/plain": [
       "count      1730\n",
       "unique        2\n",
       "top       False\n",
       "freq       1723\n",
       "Name: paid, dtype: object"
      ]
     },
     "execution_count": 5,
     "metadata": {},
     "output_type": "execute_result"
    }
   ],
   "source": [
    "df.paid.describe()"
   ]
  },
  {
   "cell_type": "markdown",
   "id": "entitled-paintball",
   "metadata": {
    "papermill": {
     "duration": 0.028623,
     "end_time": "2021-06-27T06:35:15.598346",
     "exception": false,
     "start_time": "2021-06-27T06:35:15.569723",
     "status": "completed"
    },
    "tags": []
   },
   "source": [
    "#### As shown above, there are only 7 paid games, so our question might not be fairly answered, as the data is very biased towards free games and very well may not provide a complete and sufficient explanation for paid games\n",
    "\n",
    "#### However, we'll go ahead with checking for any relation by plotting a scatter diagram "
   ]
  },
  {
   "cell_type": "code",
   "execution_count": 6,
   "id": "suspended-massachusetts",
   "metadata": {
    "execution": {
     "iopub.execute_input": "2021-06-27T06:35:15.660073Z",
     "iopub.status.busy": "2021-06-27T06:35:15.659342Z",
     "iopub.status.idle": "2021-06-27T06:35:15.672381Z",
     "shell.execute_reply": "2021-06-27T06:35:15.671294Z",
     "shell.execute_reply.started": "2021-06-27T05:32:05.957106Z"
    },
    "jupyter": {
     "source_hidden": true
    },
    "papermill": {
     "duration": 0.045069,
     "end_time": "2021-06-27T06:35:15.672683",
     "exception": false,
     "start_time": "2021-06-27T06:35:15.627614",
     "status": "completed"
    },
    "tags": []
   },
   "outputs": [
    {
     "name": "stderr",
     "output_type": "stream",
     "text": [
      "/opt/conda/lib/python3.7/site-packages/ipykernel_launcher.py:3: SettingWithCopyWarning: \n",
      "A value is trying to be set on a copy of a slice from a DataFrame.\n",
      "Try using .loc[row_indexer,col_indexer] = value instead\n",
      "\n",
      "See the caveats in the documentation: https://pandas.pydata.org/pandas-docs/stable/user_guide/indexing.html#returning-a-view-versus-a-copy\n",
      "  This is separate from the ipykernel package so we can avoid doing imports until\n"
     ]
    }
   ],
   "source": [
    "# To make a dataset that only has price, title and the average rating \n",
    "first_df = df[['title', 'price', 'average rating']]\n",
    "first_df['avg_rating'] = (df['5 star ratings']*5 + df['4 star ratings']*4 + df['3 star ratings']*3 + df['2 star ratings']*2 + df['1 star ratings']*1) / (df['5 star ratings'] + df['4 star ratings'] + df['3 star ratings'] + df['2 star ratings'] + df['1 star ratings'])\n"
   ]
  },
  {
   "cell_type": "code",
   "execution_count": 7,
   "id": "difficult-generation",
   "metadata": {
    "execution": {
     "iopub.execute_input": "2021-06-27T06:35:15.755807Z",
     "iopub.status.busy": "2021-06-27T06:35:15.755161Z",
     "iopub.status.idle": "2021-06-27T06:35:15.962047Z",
     "shell.execute_reply": "2021-06-27T06:35:15.962574Z",
     "shell.execute_reply.started": "2021-06-27T05:32:05.972194Z"
    },
    "jupyter": {
     "source_hidden": true
    },
    "papermill": {
     "duration": 0.259335,
     "end_time": "2021-06-27T06:35:15.962752",
     "exception": false,
     "start_time": "2021-06-27T06:35:15.703417",
     "status": "completed"
    },
    "tags": []
   },
   "outputs": [
    {
     "data": {
      "image/png": "[encoded data removed]",
      "text/plain": [
       "<Figure size 432x288 with 1 Axes>"
      ]
     },
     "metadata": {
      "needs_background": "light"
     },
     "output_type": "display_data"
    }
   ],
   "source": [
    "plt.scatter(first_df['price'], first_df['avg_rating'])\n",
    "plt.xlabel('Price of game', fontsize=16)\n",
    "plt.ylabel('Average rating of the game', fontsize=16)\n",
    "plt.show()"
   ]
  },
  {
   "cell_type": "markdown",
   "id": "stuck-secret",
   "metadata": {
    "papermill": {
     "duration": 0.034999,
     "end_time": "2021-06-27T06:35:16.027514",
     "exception": false,
     "start_time": "2021-06-27T06:35:15.992515",
     "status": "completed"
    },
    "tags": []
   },
   "source": [
    "#### As we can see, there are not much points for paid games. However, from this data, we can roughly tell that the 7 paid games generally all have good ratings, above 4. \n",
    "#### However, it is not to say that free games had low ratings. Some of them had higher ratings than all of the paid games. Thus there does not seem to be a clear correlation between paid/free games with ratings\n",
    "\n",
    "### Although it would be unwise to draw any conclusions here, we won't be able to progress further than this conclusion due to the lack of unbiased, fair and sufficient data for paid games \n",
    "\n",
    "#### Now, we'll move onto the next question \n",
    "# 2. Which categories showcase the highest ratings"
   ]
  },
  {
   "cell_type": "markdown",
   "id": "alone-necessity",
   "metadata": {
    "papermill": {
     "duration": 0.029992,
     "end_time": "2021-06-27T06:35:16.091846",
     "exception": false,
     "start_time": "2021-06-27T06:35:16.061854",
     "status": "completed"
    },
    "tags": []
   },
   "source": [
    "#### Let us first see what the category attribute has in store for us "
   ]
  },
  {
   "cell_type": "code",
   "execution_count": 8,
   "id": "internal-tokyo",
   "metadata": {
    "execution": {
     "iopub.execute_input": "2021-06-27T06:35:16.166649Z",
     "iopub.status.busy": "2021-06-27T06:35:16.165882Z",
     "iopub.status.idle": "2021-06-27T06:35:16.169296Z",
     "shell.execute_reply": "2021-06-27T06:35:16.169844Z",
     "shell.execute_reply.started": "2021-06-27T05:32:06.175128Z"
    },
    "jupyter": {
     "source_hidden": true
    },
    "papermill": {
     "duration": 0.045931,
     "end_time": "2021-06-27T06:35:16.170097",
     "exception": false,
     "start_time": "2021-06-27T06:35:16.124166",
     "status": "completed"
    },
    "tags": []
   },
   "outputs": [
    {
     "name": "stdout",
     "output_type": "stream",
     "text": [
      "['GAME ACTION' 'GAME ADVENTURE' 'GAME ARCADE' 'GAME BOARD' 'GAME CARD'\n",
      " 'GAME CASINO' 'GAME CASUAL' 'GAME EDUCATIONAL' 'GAME MUSIC' 'GAME PUZZLE'\n",
      " 'GAME RACING' 'GAME ROLE PLAYING' 'GAME SIMULATION' 'GAME SPORTS'\n",
      " 'GAME STRATEGY' 'GAME TRIVIA' 'GAME WORD']\n",
      "GAME CARD            126\n",
      "GAME WORD            104\n",
      "GAME ADVENTURE       100\n",
      "GAME EDUCATIONAL     100\n",
      "GAME TRIVIA          100\n",
      "GAME RACING          100\n",
      "GAME ACTION          100\n",
      "GAME MUSIC           100\n",
      "GAME STRATEGY        100\n",
      "GAME ROLE PLAYING    100\n",
      "GAME CASUAL          100\n",
      "GAME SIMULATION      100\n",
      "GAME ARCADE          100\n",
      "GAME CASINO          100\n",
      "GAME SPORTS          100\n",
      "GAME PUZZLE          100\n",
      "GAME BOARD           100\n",
      "Name: category, dtype: int64\n"
     ]
    }
   ],
   "source": [
    "print(df.category.unique())\n",
    "print(df.category.value_counts())"
   ]
  },
  {
   "cell_type": "markdown",
   "id": "inappropriate-angola",
   "metadata": {
    "papermill": {
     "duration": 0.030124,
     "end_time": "2021-06-27T06:35:16.230776",
     "exception": false,
     "start_time": "2021-06-27T06:35:16.200652",
     "status": "completed"
    },
    "tags": []
   },
   "source": [
    "#### As shown above, there are 17 unique categories\n",
    "#### We shall group the categories together and seek out their average rating and plot a bar graph"
   ]
  },
  {
   "cell_type": "code",
   "execution_count": 9,
   "id": "cosmetic-plane",
   "metadata": {
    "execution": {
     "iopub.execute_input": "2021-06-27T06:35:16.296753Z",
     "iopub.status.busy": "2021-06-27T06:35:16.296070Z",
     "iopub.status.idle": "2021-06-27T06:35:16.301471Z",
     "shell.execute_reply": "2021-06-27T06:35:16.302060Z",
     "shell.execute_reply.started": "2021-06-27T05:32:06.184986Z"
    },
    "jupyter": {
     "source_hidden": true
    },
    "papermill": {
     "duration": 0.040053,
     "end_time": "2021-06-27T06:35:16.302243",
     "exception": false,
     "start_time": "2021-06-27T06:35:16.262190",
     "status": "completed"
    },
    "tags": []
   },
   "outputs": [],
   "source": [
    "df_second = pd.concat([df['category'], first_df['avg_rating']], axis=1, join='inner')\n"
   ]
  },
  {
   "cell_type": "code",
   "execution_count": 10,
   "id": "understanding-samba",
   "metadata": {
    "execution": {
     "iopub.execute_input": "2021-06-27T06:35:16.367510Z",
     "iopub.status.busy": "2021-06-27T06:35:16.366735Z",
     "iopub.status.idle": "2021-06-27T06:35:16.655538Z",
     "shell.execute_reply": "2021-06-27T06:35:16.656117Z",
     "shell.execute_reply.started": "2021-06-27T05:32:06.196988Z"
    },
    "jupyter": {
     "source_hidden": true
    },
    "papermill": {
     "duration": 0.322288,
     "end_time": "2021-06-27T06:35:16.656301",
     "exception": false,
     "start_time": "2021-06-27T06:35:16.334013",
     "status": "completed"
    },
    "tags": []
   },
   "outputs": [
    {
     "data": {
      "image/png": "[encoded data removed]",
      "text/plain": [
       "<Figure size 432x288 with 1 Axes>"
      ]
     },
     "metadata": {
      "needs_background": "light"
     },
     "output_type": "display_data"
    }
   ],
   "source": [
    "df_second_group = df_second.groupby('category').agg({'avg_rating': 'mean'})\n",
    "y_pos = np.arange(17)\n",
    "df_second_group = df_second_group.sort_values(by = 'avg_rating', axis = 0, ascending = True)\n",
    "categories = list(df_second_group.index)\n",
    "\n",
    "\n",
    "plt.barh(y_pos, df_second_group['avg_rating'], align='center', alpha=0.5)\n",
    "plt.yticks(y_pos, categories)\n",
    "plt.xlabel('Average Rating')\n",
    "plt.axis(xmin= 4, xmax=4.5)\n",
    "plt.title('Game categories\\' average ratings')\n",
    "plt.show()\n"
   ]
  },
  {
   "cell_type": "markdown",
   "id": "convenient-million",
   "metadata": {
    "papermill": {
     "duration": 0.031235,
     "end_time": "2021-06-27T06:35:16.719500",
     "exception": false,
     "start_time": "2021-06-27T06:35:16.688265",
     "status": "completed"
    },
    "tags": []
   },
   "source": [
    "#### As we can see, casino games are the most famous, along with word games and the least favorable being music games. \n",
    "#### **Through this, we could conclude that game developers designing any of the top games would have a more favorable chance to have a high rating.**\n",
    "#### All of the categories have the same amount of data, with at least 100 each and the most being 126, not deviating much from the most common 100. So it would be hard to say this analysis was biased. \n",
    "#### Now let us move onto the next question "
   ]
  },
  {
   "cell_type": "markdown",
   "id": "artistic-award",
   "metadata": {
    "papermill": {
     "duration": 0.031055,
     "end_time": "2021-06-27T06:35:16.781476",
     "exception": false,
     "start_time": "2021-06-27T06:35:16.750421",
     "status": "completed"
    },
    "tags": []
   },
   "source": [
    "# 3. Does rapid growth right after its release generally suggest greater ratings for the game? "
   ]
  },
  {
   "cell_type": "code",
   "execution_count": 11,
   "id": "vocal-hormone",
   "metadata": {
    "execution": {
     "iopub.execute_input": "2021-06-27T06:35:16.846002Z",
     "iopub.status.busy": "2021-06-27T06:35:16.845260Z",
     "iopub.status.idle": "2021-06-27T06:35:16.860365Z",
     "shell.execute_reply": "2021-06-27T06:35:16.861007Z",
     "shell.execute_reply.started": "2021-06-27T05:34:37.097184Z"
    },
    "jupyter": {
     "source_hidden": true
    },
    "papermill": {
     "duration": 0.048954,
     "end_time": "2021-06-27T06:35:16.861199",
     "exception": false,
     "start_time": "2021-06-27T06:35:16.812245",
     "status": "completed"
    },
    "tags": []
   },
   "outputs": [
    {
     "name": "stdout",
     "output_type": "stream",
     "text": [
      "      growth (30 days)  growth (60 days)  avg_rating\n",
      "0                  2.1               6.9    4.216242\n",
      "1                  1.8               3.6    4.304170\n",
      "2                  1.5               3.2    4.126486\n",
      "3                  1.4               4.4    4.265578\n",
      "4                  0.8               1.5    4.329449\n",
      "...                ...               ...         ...\n",
      "1725               0.9               1.8    4.760191\n",
      "1726               0.9               2.3    4.677241\n",
      "1727               0.9               1.9    4.045402\n",
      "1728               1.9               4.1    4.817627\n",
      "1729               1.1               2.5    3.593839\n",
      "\n",
      "[1730 rows x 3 columns]\n"
     ]
    }
   ],
   "source": [
    "df_third = pd.concat([df[['growth (30 days)', 'growth (60 days)']], first_df['avg_rating']], axis=1, join='inner')\n",
    "print(df_third)"
   ]
  },
  {
   "cell_type": "markdown",
   "id": "indirect-portsmouth",
   "metadata": {
    "papermill": {
     "duration": 0.030874,
     "end_time": "2021-06-27T06:35:16.924561",
     "exception": false,
     "start_time": "2021-06-27T06:35:16.893687",
     "status": "completed"
    },
    "tags": []
   },
   "source": [
    "##### We have to keep in mind that the growth values are expressed in percentage(%) \n",
    "\n",
    "#### Let us first compare the growth for 30 days with the avg_rating"
   ]
  },
  {
   "cell_type": "code",
   "execution_count": 12,
   "id": "blond-tulsa",
   "metadata": {
    "execution": {
     "iopub.execute_input": "2021-06-27T06:35:16.989413Z",
     "iopub.status.busy": "2021-06-27T06:35:16.988716Z",
     "iopub.status.idle": "2021-06-27T06:35:17.140686Z",
     "shell.execute_reply": "2021-06-27T06:35:17.141235Z",
     "shell.execute_reply.started": "2021-06-27T05:42:04.352039Z"
    },
    "jupyter": {
     "source_hidden": true
    },
    "papermill": {
     "duration": 0.185919,
     "end_time": "2021-06-27T06:35:17.141413",
     "exception": false,
     "start_time": "2021-06-27T06:35:16.955494",
     "status": "completed"
    },
    "tags": []
   },
   "outputs": [
    {
     "data": {
      "image/png": "[encoded data removed]",
      "text/plain": [
       "<Figure size 432x288 with 1 Axes>"
      ]
     },
     "metadata": {
      "needs_background": "light"
     },
     "output_type": "display_data"
    }
   ],
   "source": [
    "plt.scatter(df_third['growth (30 days)'], df_third['avg_rating'])\n",
    "plt.xlabel('Growth (30 days)')\n",
    "plt.ylabel('Average Rating')\n",
    "plt.show()\n"
   ]
  },
  {
   "cell_type": "markdown",
   "id": "looking-myrtle",
   "metadata": {
    "papermill": {
     "duration": 0.031748,
     "end_time": "2021-06-27T06:35:17.205203",
     "exception": false,
     "start_time": "2021-06-27T06:35:17.173455",
     "status": "completed"
    },
    "tags": []
   },
   "source": [
    "##### There seems to be a few extreme outliers where the growth value is pretty huge. Let us take a look at those data "
   ]
  },
  {
   "cell_type": "code",
   "execution_count": 13,
   "id": "subtle-beast",
   "metadata": {
    "execution": {
     "iopub.execute_input": "2021-06-27T06:35:17.274030Z",
     "iopub.status.busy": "2021-06-27T06:35:17.273359Z",
     "iopub.status.idle": "2021-06-27T06:35:17.298072Z",
     "shell.execute_reply": "2021-06-27T06:35:17.297501Z",
     "shell.execute_reply.started": "2021-06-27T05:50:47.568688Z"
    },
    "jupyter": {
     "source_hidden": true
    },
    "papermill": {
     "duration": 0.060665,
     "end_time": "2021-06-27T06:35:17.298230",
     "exception": false,
     "start_time": "2021-06-27T06:35:17.237565",
     "status": "completed"
    },
    "tags": []
   },
   "outputs": [
    {
     "name": "stdout",
     "output_type": "stream",
     "text": [
      "Mini World: Block Art\n",
      "Street Chaser\n",
      "Durak Online\n",
      "Belote.com - Free Belote Game\n",
      "Dummy ดัมมี่ ไพ่แคง เกมไพ่ฟรี\n",
      "GAMEE Prizes - Play Free Games, WIN REAL CASH!\n",
      "Truck games for kids - build a house, car wash\n",
      "Truck Driver Cargo\n",
      "세븐나이츠\n",
      "Soccer Star 2021 Top Leagues: Play the SOCCER game\n",
      "Mobile Soccer League\n",
      "Gartic\n",
      "New QuizDuel!\n"
     ]
    }
   ],
   "source": [
    "for i in range(len(df['growth (30 days)'])):\n",
    "    if df['growth (30 days)'][i] > 5000:\n",
    "        print(df['title'][i])"
   ]
  },
  {
   "cell_type": "markdown",
   "id": "convinced-shuttle",
   "metadata": {
    "papermill": {
     "duration": 0.032513,
     "end_time": "2021-06-27T06:35:17.363303",
     "exception": false,
     "start_time": "2021-06-27T06:35:17.330790",
     "status": "completed"
    },
    "tags": []
   },
   "source": [
    "#### A growth rate of over 5000% in 30 days seems to be very unusual and pretty unreasonable to achieve for most games. Thus we shall factor out these games to take a look at the scatter plot "
   ]
  },
  {
   "cell_type": "code",
   "execution_count": 14,
   "id": "japanese-doubt",
   "metadata": {
    "execution": {
     "iopub.execute_input": "2021-06-27T06:35:17.432865Z",
     "iopub.status.busy": "2021-06-27T06:35:17.431899Z",
     "iopub.status.idle": "2021-06-27T06:35:17.581147Z",
     "shell.execute_reply": "2021-06-27T06:35:17.581656Z",
     "shell.execute_reply.started": "2021-06-27T05:50:55.444159Z"
    },
    "jupyter": {
     "source_hidden": true
    },
    "papermill": {
     "duration": 0.185491,
     "end_time": "2021-06-27T06:35:17.581826",
     "exception": false,
     "start_time": "2021-06-27T06:35:17.396335",
     "status": "completed"
    },
    "tags": []
   },
   "outputs": [
    {
     "data": {
      "image/png": "[encoded data removed]",
      "text/plain": [
       "<Figure size 432x288 with 1 Axes>"
      ]
     },
     "metadata": {
      "needs_background": "light"
     },
     "output_type": "display_data"
    }
   ],
   "source": [
    "plt.scatter(df_third['growth (30 days)'], df_third['avg_rating'])\n",
    "plt.xlabel('Growth (30 days)')\n",
    "plt.ylabel('Average Rating')\n",
    "plt.xlim([0, 5000])\n",
    "plt.show()"
   ]
  },
  {
   "cell_type": "markdown",
   "id": "danish-recycling",
   "metadata": {
    "papermill": {
     "duration": 0.033008,
     "end_time": "2021-06-27T06:35:17.647753",
     "exception": false,
     "start_time": "2021-06-27T06:35:17.614745",
     "status": "completed"
    },
    "tags": []
   },
   "source": [
    "#### By looking at this graph, it does not really show us any relationship. This may be due to the fact that majority of our data is clustered around low growth numbers and thus not showing up properly. So let us divide the graph into two. One with growth ranging from 0 to 100 and the other's growth ranging from 100 to 5000"
   ]
  },
  {
   "cell_type": "code",
   "execution_count": 15,
   "id": "based-launch",
   "metadata": {
    "execution": {
     "iopub.execute_input": "2021-06-27T06:35:17.719093Z",
     "iopub.status.busy": "2021-06-27T06:35:17.717922Z",
     "iopub.status.idle": "2021-06-27T06:35:17.871832Z",
     "shell.execute_reply": "2021-06-27T06:35:17.872409Z",
     "shell.execute_reply.started": "2021-06-27T05:56:05.560162Z"
    },
    "jupyter": {
     "source_hidden": true
    },
    "papermill": {
     "duration": 0.190544,
     "end_time": "2021-06-27T06:35:17.872589",
     "exception": false,
     "start_time": "2021-06-27T06:35:17.682045",
     "status": "completed"
    },
    "tags": []
   },
   "outputs": [
    {
     "data": {
      "image/png": "[encoded data removed]",
      "text/plain": [
       "<Figure size 432x288 with 1 Axes>"
      ]
     },
     "metadata": {
      "needs_background": "light"
     },
     "output_type": "display_data"
    }
   ],
   "source": [
    "plt.scatter(df_third['growth (30 days)'], df_third['avg_rating'])\n",
    "plt.xlabel('Growth (30 days)')\n",
    "plt.ylabel('Average Rating')\n",
    "plt.xlim([0, 100])\n",
    "plt.title('Growth from 0% to 100%')\n",
    "plt.show()"
   ]
  },
  {
   "cell_type": "code",
   "execution_count": 16,
   "id": "beneficial-documentary",
   "metadata": {
    "execution": {
     "iopub.execute_input": "2021-06-27T06:35:17.957664Z",
     "iopub.status.busy": "2021-06-27T06:35:17.956938Z",
     "iopub.status.idle": "2021-06-27T06:35:18.097690Z",
     "shell.execute_reply": "2021-06-27T06:35:18.098192Z",
     "shell.execute_reply.started": "2021-06-27T05:56:15.695022Z"
    },
    "jupyter": {
     "source_hidden": true
    },
    "papermill": {
     "duration": 0.191649,
     "end_time": "2021-06-27T06:35:18.098385",
     "exception": false,
     "start_time": "2021-06-27T06:35:17.906736",
     "status": "completed"
    },
    "tags": []
   },
   "outputs": [
    {
     "data": {
      "image/png": "[encoded data removed]",
      "text/plain": [
       "<Figure size 432x288 with 1 Axes>"
      ]
     },
     "metadata": {
      "needs_background": "light"
     },
     "output_type": "display_data"
    }
   ],
   "source": [
    "plt.scatter(df_third['growth (30 days)'], df_third['avg_rating'])\n",
    "plt.xlabel('Growth (30 days)')\n",
    "plt.ylabel('Average Rating')\n",
    "plt.xlim([100, 5000])\n",
    "plt.title('Growth from 100% to 5000%')\n",
    "plt.show()"
   ]
  },
  {
   "cell_type": "markdown",
   "id": "daily-librarian",
   "metadata": {
    "papermill": {
     "duration": 0.035213,
     "end_time": "2021-06-27T06:35:18.168653",
     "exception": false,
     "start_time": "2021-06-27T06:35:18.133440",
     "status": "completed"
    },
    "tags": []
   },
   "source": [
    "#### For growth from 100% to 5000%, the effect of higher growth seems to wear off as most of the games usually lie between 4 and 4.5 in average ratings. \n",
    "\n",
    "#### However, for growth from 0% to 100%, the effect still doesn't seem to be visible as most of the data is consolidated between 0% and 10%. So let us take a look there"
   ]
  },
  {
   "cell_type": "code",
   "execution_count": 17,
   "id": "indonesian-offering",
   "metadata": {
    "execution": {
     "iopub.execute_input": "2021-06-27T06:35:18.246871Z",
     "iopub.status.busy": "2021-06-27T06:35:18.246184Z",
     "iopub.status.idle": "2021-06-27T06:35:19.024941Z",
     "shell.execute_reply": "2021-06-27T06:35:19.025523Z",
     "shell.execute_reply.started": "2021-06-27T06:20:40.457251Z"
    },
    "jupyter": {
     "source_hidden": true
    },
    "papermill": {
     "duration": 0.818239,
     "end_time": "2021-06-27T06:35:19.025735",
     "exception": false,
     "start_time": "2021-06-27T06:35:18.207496",
     "status": "completed"
    },
    "tags": []
   },
   "outputs": [
    {
     "data": {
      "image/png": "[encoded data removed]",
      "text/plain": [
       "<Figure size 432x288 with 1 Axes>"
      ]
     },
     "metadata": {
      "needs_background": "light"
     },
     "output_type": "display_data"
    }
   ],
   "source": [
    "import math\n",
    "from scipy.optimize import curve_fit \n",
    "df_four = df \n",
    "for i in range(len(df_four['growth (30 days)'])):\n",
    "    if df_four['growth (30 days)'][i] > 10:\n",
    "        df_four = df_four.drop(labels = i, axis = 0)\n",
    "df_four['avg_rating'] = (df_four['5 star ratings']*5 + df_four['4 star ratings']*4 + df_four['3 star ratings']*3 + df_four['2 star ratings']*2 + df_four['1 star ratings']*1) / (df_four['5 star ratings'] + df_four['4 star ratings'] + df_four['3 star ratings'] + df_four['2 star ratings'] + df_four['1 star ratings'])\n",
    "\n",
    "# Linear fit \n",
    "m, b = np.polyfit(df_four['growth (30 days)'], df_four['avg_rating'], 1)\n",
    "x = df_four['growth (30 days)']\n",
    "\n",
    "# Quadratic fit \n",
    "def f_quadratic(t,a,b,c):\n",
    "    return a*pow(t,2) +b*t + c \n",
    "popt, pcov = curve_fit(f_quadratic, df_four['growth (30 days)'], df_four['avg_rating'])\n",
    "quadratic_cp = f_quadratic(np.array(df_four['growth (30 days)']), *popt)\n",
    "\n",
    "\n",
    "# Plotting \n",
    "plt.plot(x, m*x + b, color = 'red')\n",
    "plt.plot(x, quadratic_cp, color = 'green')\n",
    "plt.scatter(df_third['growth (30 days)'], df_third['avg_rating'])\n",
    "plt.xlabel('Growth (30 days)')\n",
    "plt.ylabel('Average Rating')\n",
    "plt.xlim([0, 10])\n",
    "plt.title('Growth from 0% to 10%')\n",
    "plt.show()"
   ]
  },
  {
   "cell_type": "markdown",
   "id": "identified-philadelphia",
   "metadata": {
    "papermill": {
     "duration": 0.035366,
     "end_time": "2021-06-27T06:35:19.097130",
     "exception": false,
     "start_time": "2021-06-27T06:35:19.061764",
     "status": "completed"
    },
    "tags": []
   },
   "source": [
    "#### The red line depicts the line of best fit and the green line depicts an attempted quadratic fit. The line of best fit shows a slight gradient, **showing a general trend of higher growth leading to higher average rating**. \n",
    "#### Additionally, I have attempted a quadratic fit as the data seemed more complicated than a simple line of best fit. However, most of the data points seems to be consolidated at the higher end of the average rating, thus resulting in a similar quadratic fit compared to the line of best fit. "
   ]
  },
  {
   "cell_type": "markdown",
   "id": "every-colony",
   "metadata": {
    "papermill": {
     "duration": 0.03678,
     "end_time": "2021-06-27T06:35:19.171315",
     "exception": false,
     "start_time": "2021-06-27T06:35:19.134535",
     "status": "completed"
    },
    "tags": []
   },
   "source": [
    "#### **Therefore, we can conclude that at the lower end of the growth percentage for 30 days, it is true that higher growth may predict a higher average rating. However, at higher values of growth levels, the effect seems to wear off.** "
   ]
  },
  {
   "cell_type": "code",
   "execution_count": 18,
   "id": "fifth-spectrum",
   "metadata": {
    "execution": {
     "iopub.execute_input": "2021-06-27T06:35:19.282771Z",
     "iopub.status.busy": "2021-06-27T06:35:19.275057Z",
     "iopub.status.idle": "2021-06-27T06:35:19.405501Z",
     "shell.execute_reply": "2021-06-27T06:35:19.404805Z",
     "shell.execute_reply.started": "2021-06-27T06:27:45.660979Z"
    },
    "jupyter": {
     "source_hidden": true
    },
    "papermill": {
     "duration": 0.196813,
     "end_time": "2021-06-27T06:35:19.405653",
     "exception": false,
     "start_time": "2021-06-27T06:35:19.208840",
     "status": "completed"
    },
    "tags": []
   },
   "outputs": [
    {
     "data": {
      "image/png": "[encoded data removed]",
      "text/plain": [
       "<Figure size 432x288 with 1 Axes>"
      ]
     },
     "metadata": {
      "needs_background": "light"
     },
     "output_type": "display_data"
    }
   ],
   "source": [
    "plt.scatter(df_third['growth (60 days)'], df_third['avg_rating'])\n",
    "plt.xlabel('Growth (60 days)')\n",
    "plt.ylabel('Average Rating')\n",
    "plt.xlim([0,50])\n",
    "plt.show()"
   ]
  },
  {
   "cell_type": "markdown",
   "id": "thrown-halifax",
   "metadata": {
    "papermill": {
     "duration": 0.036683,
     "end_time": "2021-06-27T06:35:19.479123",
     "exception": false,
     "start_time": "2021-06-27T06:35:19.442440",
     "status": "completed"
    },
    "tags": []
   },
   "source": [
    "#### Let us check out the growth for 60 days, but with a higher limit, from 0 to 50% "
   ]
  },
  {
   "cell_type": "code",
   "execution_count": 19,
   "id": "organized-criterion",
   "metadata": {
    "execution": {
     "iopub.execute_input": "2021-06-27T06:35:19.565534Z",
     "iopub.status.busy": "2021-06-27T06:35:19.563483Z",
     "iopub.status.idle": "2021-06-27T06:35:19.795618Z",
     "shell.execute_reply": "2021-06-27T06:35:19.795013Z",
     "shell.execute_reply.started": "2021-06-27T06:30:26.763380Z"
    },
    "jupyter": {
     "source_hidden": true
    },
    "papermill": {
     "duration": 0.279386,
     "end_time": "2021-06-27T06:35:19.795762",
     "exception": false,
     "start_time": "2021-06-27T06:35:19.516376",
     "status": "completed"
    },
    "tags": []
   },
   "outputs": [
    {
     "data": {
      "image/png": "[encoded data removed]",
      "text/plain": [
       "<Figure size 432x288 with 1 Axes>"
      ]
     },
     "metadata": {
      "needs_background": "light"
     },
     "output_type": "display_data"
    }
   ],
   "source": [
    "df_five = df \n",
    "for i in range(len(df_five['growth (60 days)'])):\n",
    "    if df_five['growth (60 days)'][i] > 50:\n",
    "        df_five = df_five.drop(labels = i, axis = 0)\n",
    "df_five['avg_rating'] = (df_five['5 star ratings']*5 + df_five['4 star ratings']*4 + df_five['3 star ratings']*3 + df_five['2 star ratings']*2 + df_five['1 star ratings']*1) / (df_five['5 star ratings'] + df_five['4 star ratings'] + df_five['3 star ratings'] + df_five['2 star ratings'] + df_five['1 star ratings'])\n",
    "\n",
    "# Quadratic fit \n",
    "def f_quadratic(t,a,b,c):\n",
    "    return a*pow(t,2) +b*t + c \n",
    "popt, pcov = curve_fit(f_quadratic, df_five['growth (60 days)'], df_five['avg_rating'])\n",
    "quadratic_cp = f_quadratic(np.array(df_five['growth (60 days)']), *popt)\n",
    "x = df_five['growth (60 days)']\n",
    "\n",
    "# Plotting \n",
    "plt.plot(x, quadratic_cp, color = 'green')\n",
    "plt.scatter(df_five['growth (60 days)'], df_five['avg_rating'])\n",
    "plt.xlabel('Growth (60 days)')\n",
    "plt.ylabel('Average Rating')\n",
    "plt.xlim([0, 50])\n",
    "plt.title('Growth from 0% to 50%')\n",
    "plt.show()"
   ]
  },
  {
   "cell_type": "markdown",
   "id": "apparent-cameroon",
   "metadata": {
    "papermill": {
     "duration": 0.037102,
     "end_time": "2021-06-27T06:35:19.870383",
     "exception": false,
     "start_time": "2021-06-27T06:35:19.833281",
     "status": "completed"
    },
    "tags": []
   },
   "source": [
    "#### The quadratic curve doesn't seem to different from when growth is limited to 30 days. Thus the conclusion still stands as the same "
   ]
  },
  {
   "cell_type": "markdown",
   "id": "criminal-title",
   "metadata": {
    "papermill": {
     "duration": 0.036876,
     "end_time": "2021-06-27T06:35:19.949486",
     "exception": false,
     "start_time": "2021-06-27T06:35:19.912610",
     "status": "completed"
    },
    "tags": []
   },
   "source": [
    "# We have looked at all of the three questions that we have set out for this article. We have concluded that basically \n",
    "### 1. There does not seem to be a clear correlation between paid/free games with ratings\n",
    "### 2. Casino, Word and Card games are the most favorable and have the highest average ratings \n",
    "### 3. It is true that higher growth may predict a higher average rating. However, at higher values of growth levels, the effect seems to wear off"
   ]
  },
  {
   "cell_type": "markdown",
   "id": "synthetic-christmas",
   "metadata": {
    "papermill": {
     "duration": 0.036825,
     "end_time": "2021-06-27T06:35:20.023377",
     "exception": false,
     "start_time": "2021-06-27T06:35:19.986552",
     "status": "completed"
    },
    "tags": []
   },
   "source": [
    "## Thanks for reading my article and hope to hear some valuable feedbacks if you have any! Thank you :) "
   ]
  }
 ],
 "metadata": {
  "kernelspec": {
   "display_name": "Python 3",
   "language": "python",
   "name": "python3"
  },
  "language_info": {
   "codemirror_mode": {
    "name": "ipython",
    "version": 3
   },
   "file_extension": ".py",
   "mimetype": "text/x-python",
   "name": "python",
   "nbconvert_exporter": "python",
   "pygments_lexer": "ipython3",
   "version": "3.7.10"
  },
  "papermill": {
   "default_parameters": {},
   "duration": 14.878098,
   "end_time": "2021-06-27T06:35:21.534838",
   "environment_variables": {},
   "exception": null,
   "input_path": "__notebook__.ipynb",
   "output_path": "__notebook__.ipynb",
   "parameters": {},
   "start_time": "2021-06-27T06:35:06.656740",
   "version": "2.3.3"
  }
 },
 "nbformat": 4,
 "nbformat_minor": 5
}
