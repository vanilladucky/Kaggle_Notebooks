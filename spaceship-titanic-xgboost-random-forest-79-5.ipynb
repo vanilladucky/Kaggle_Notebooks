{
 "cells": [
  {
   "cell_type": "code",
   "execution_count": 1,
   "id": "548282d1",
   "metadata": {
    "_cell_guid": "b1076dfc-b9ad-4769-8c92-a6c4dae69d19",
    "_kg_hide-input": true,
    "_uuid": "8f2839f25d086af736a60e9eeb907d3b93b6e0e5",
    "execution": {
     "iopub.execute_input": "2022-08-07T01:47:15.674194Z",
     "iopub.status.busy": "2022-08-07T01:47:15.672204Z",
     "iopub.status.idle": "2022-08-07T01:47:15.689592Z",
     "shell.execute_reply": "2022-08-07T01:47:15.690160Z",
     "shell.execute_reply.started": "2022-03-18T12:39:43.691385Z"
    },
    "papermill": {
     "duration": 0.082804,
     "end_time": "2022-08-07T01:47:15.690484",
     "exception": false,
     "start_time": "2022-08-07T01:47:15.607680",
     "status": "completed"
    },
    "tags": []
   },
   "outputs": [
    {
     "name": "stdout",
     "output_type": "stream",
     "text": [
      "/kaggle/input/spaceship-titanic/sample_submission.csv\n",
      "/kaggle/input/spaceship-titanic/train.csv\n",
      "/kaggle/input/spaceship-titanic/test.csv\n"
     ]
    }
   ],
   "source": [
    "# This Python 3 environment comes with many helpful analytics libraries installed\n",
    "# It is defined by the kaggle/python Docker image: https://github.com/kaggle/docker-python\n",
    "# For example, here's several helpful packages to load\n",
    "\n",
    "import numpy as np # linear algebra\n",
    "import pandas as pd # data processing, CSV file I/O (e.g. pd.read_csv)\n",
    "\n",
    "# Input data files are available in the read-only \"../input/\" directory\n",
    "# For example, running this (by clicking run or pressing Shift+Enter) will list all files under the input directory\n",
    "\n",
    "import os\n",
    "for dirname, _, filenames in os.walk('/kaggle/input'):\n",
    "    for filename in filenames:\n",
    "        print(os.path.join(dirname, filename))\n",
    "\n",
    "# You can write up to 20GB to the current directory (/kaggle/working/) that gets preserved as output when you create a version using \"Save & Run All\" \n",
    "# You can also write temporary files to /kaggle/temp/, but they won't be saved outside of the current session"
   ]
  },
  {
   "cell_type": "markdown",
   "id": "fffb25ab",
   "metadata": {
    "execution": {
     "iopub.execute_input": "2022-02-27T05:01:38.293465Z",
     "iopub.status.busy": "2022-02-27T05:01:38.293049Z",
     "iopub.status.idle": "2022-02-27T05:01:38.298566Z",
     "shell.execute_reply": "2022-02-27T05:01:38.29741Z",
     "shell.execute_reply.started": "2022-02-27T05:01:38.293424Z"
    },
    "papermill": {
     "duration": 0.051182,
     "end_time": "2022-08-07T01:47:15.821506",
     "exception": false,
     "start_time": "2022-08-07T01:47:15.770324",
     "status": "completed"
    },
    "tags": []
   },
   "source": [
    "<h1><center>Lost at space?\n",
    "    </center></h1>\n"
   ]
  },
  {
   "cell_type": "markdown",
   "id": "63d3dcc2",
   "metadata": {
    "papermill": {
     "duration": 0.050956,
     "end_time": "2022-08-07T01:47:15.924312",
     "exception": false,
     "start_time": "2022-08-07T01:47:15.873356",
     "status": "completed"
    },
    "tags": []
   },
   "source": [
    "<p align=\"center\">\n",
    "  <img width=\"2000\" height=\"1000\" src=\"https://cdn.pixabay.com/photo/2017/08/30/01/05/milky-way-2695569__480.jpg\">\n",
    "</p>"
   ]
  },
  {
   "cell_type": "markdown",
   "id": "c1421d12",
   "metadata": {
    "papermill": {
     "duration": 0.050396,
     "end_time": "2022-08-07T01:47:16.025572",
     "exception": false,
     "start_time": "2022-08-07T01:47:15.975176",
     "status": "completed"
    },
    "tags": []
   },
   "source": [
    "\n",
    "## 1. Feature Observation (Visualization)\n",
    "* Dividing the columns according to their data types \n",
    "* Using Seaborn for visualization\n",
    "\n",
    "## 2. Feature Engineering\n",
    "* Extracting the Cabin column\n",
    "* Perform one hot encoding for necessary features\n",
    "* Getting features ready for our model (train + validation split)\n",
    "\n",
    "## 3. Training + Validation\n",
    "* Random Forest Model Implementation\n",
    "* XGBoost Model Implementation\n",
    "* Hyperparameter Tuning through Random Search\n",
    "\n",
    "## 4. Machine Learning Model Report (Random Forest)\n",
    "* Confusion Matrix\n",
    "* Feature Importances\n",
    "\n",
    "## 5. Summary\n",
    "* Making our submission file\n",
    "* Possible areas of improvement\n",
    "* acknowledgements\n",
    "\n",
    "## 6. PyTorch"
   ]
  },
  {
   "cell_type": "code",
   "execution_count": 2,
   "id": "0ea3f70c",
   "metadata": {
    "_kg_hide-input": true,
    "execution": {
     "iopub.execute_input": "2022-08-07T01:47:16.135463Z",
     "iopub.status.busy": "2022-08-07T01:47:16.134772Z",
     "iopub.status.idle": "2022-08-07T01:47:16.217284Z",
     "shell.execute_reply": "2022-08-07T01:47:16.216501Z",
     "shell.execute_reply.started": "2022-03-18T12:39:44.281249Z"
    },
    "papermill": {
     "duration": 0.138417,
     "end_time": "2022-08-07T01:47:16.217441",
     "exception": false,
     "start_time": "2022-08-07T01:47:16.079024",
     "status": "completed"
    },
    "tags": []
   },
   "outputs": [],
   "source": [
    "train_df = pd.read_csv('../input/spaceship-titanic/train.csv')\n",
    "test_df = pd.read_csv('../input/spaceship-titanic/test.csv')\n",
    "sample_df = pd.read_csv('../input/spaceship-titanic/sample_submission.csv')"
   ]
  },
  {
   "cell_type": "markdown",
   "id": "df554709",
   "metadata": {
    "execution": {
     "iopub.execute_input": "2022-02-27T04:58:55.256143Z",
     "iopub.status.busy": "2022-02-27T04:58:55.25585Z",
     "iopub.status.idle": "2022-02-27T04:58:55.294303Z",
     "shell.execute_reply": "2022-02-27T04:58:55.293568Z",
     "shell.execute_reply.started": "2022-02-27T04:58:55.256115Z"
    },
    "papermill": {
     "duration": 0.050905,
     "end_time": "2022-08-07T01:47:16.320236",
     "exception": false,
     "start_time": "2022-08-07T01:47:16.269331",
     "status": "completed"
    },
    "tags": []
   },
   "source": [
    "# 1. Feature Observation"
   ]
  },
  {
   "cell_type": "code",
   "execution_count": 3,
   "id": "f88c936c",
   "metadata": {
    "_kg_hide-input": true,
    "execution": {
     "iopub.execute_input": "2022-08-07T01:47:16.433362Z",
     "iopub.status.busy": "2022-08-07T01:47:16.432629Z",
     "iopub.status.idle": "2022-08-07T01:47:16.468562Z",
     "shell.execute_reply": "2022-08-07T01:47:16.469132Z",
     "shell.execute_reply.started": "2022-03-18T12:39:44.361502Z"
    },
    "papermill": {
     "duration": 0.096116,
     "end_time": "2022-08-07T01:47:16.469320",
     "exception": false,
     "start_time": "2022-08-07T01:47:16.373204",
     "status": "completed"
    },
    "tags": []
   },
   "outputs": [
    {
     "data": {
      "text/html": [
       "<div>\n",
       "<style scoped>\n",
       "    .dataframe tbody tr th:only-of-type {\n",
       "        vertical-align: middle;\n",
       "    }\n",
       "\n",
       "    .dataframe tbody tr th {\n",
       "        vertical-align: top;\n",
       "    }\n",
       "\n",
       "    .dataframe thead th {\n",
       "        text-align: right;\n",
       "    }\n",
       "</style>\n",
       "<table border=\"1\" class=\"dataframe\">\n",
       "  <thead>\n",
       "    <tr style=\"text-align: right;\">\n",
       "      <th></th>\n",
       "      <th>PassengerId</th>\n",
       "      <th>HomePlanet</th>\n",
       "      <th>CryoSleep</th>\n",
       "      <th>Cabin</th>\n",
       "      <th>Destination</th>\n",
       "      <th>Age</th>\n",
       "      <th>VIP</th>\n",
       "      <th>RoomService</th>\n",
       "      <th>FoodCourt</th>\n",
       "      <th>ShoppingMall</th>\n",
       "      <th>Spa</th>\n",
       "      <th>VRDeck</th>\n",
       "      <th>Name</th>\n",
       "      <th>Transported</th>\n",
       "    </tr>\n",
       "  </thead>\n",
       "  <tbody>\n",
       "    <tr>\n",
       "      <th>0</th>\n",
       "      <td>0001_01</td>\n",
       "      <td>Europa</td>\n",
       "      <td>False</td>\n",
       "      <td>B/0/P</td>\n",
       "      <td>TRAPPIST-1e</td>\n",
       "      <td>39.0</td>\n",
       "      <td>False</td>\n",
       "      <td>0.0</td>\n",
       "      <td>0.0</td>\n",
       "      <td>0.0</td>\n",
       "      <td>0.0</td>\n",
       "      <td>0.0</td>\n",
       "      <td>Maham Ofracculy</td>\n",
       "      <td>False</td>\n",
       "    </tr>\n",
       "    <tr>\n",
       "      <th>1</th>\n",
       "      <td>0002_01</td>\n",
       "      <td>Earth</td>\n",
       "      <td>False</td>\n",
       "      <td>F/0/S</td>\n",
       "      <td>TRAPPIST-1e</td>\n",
       "      <td>24.0</td>\n",
       "      <td>False</td>\n",
       "      <td>109.0</td>\n",
       "      <td>9.0</td>\n",
       "      <td>25.0</td>\n",
       "      <td>549.0</td>\n",
       "      <td>44.0</td>\n",
       "      <td>Juanna Vines</td>\n",
       "      <td>True</td>\n",
       "    </tr>\n",
       "    <tr>\n",
       "      <th>2</th>\n",
       "      <td>0003_01</td>\n",
       "      <td>Europa</td>\n",
       "      <td>False</td>\n",
       "      <td>A/0/S</td>\n",
       "      <td>TRAPPIST-1e</td>\n",
       "      <td>58.0</td>\n",
       "      <td>True</td>\n",
       "      <td>43.0</td>\n",
       "      <td>3576.0</td>\n",
       "      <td>0.0</td>\n",
       "      <td>6715.0</td>\n",
       "      <td>49.0</td>\n",
       "      <td>Altark Susent</td>\n",
       "      <td>False</td>\n",
       "    </tr>\n",
       "    <tr>\n",
       "      <th>3</th>\n",
       "      <td>0003_02</td>\n",
       "      <td>Europa</td>\n",
       "      <td>False</td>\n",
       "      <td>A/0/S</td>\n",
       "      <td>TRAPPIST-1e</td>\n",
       "      <td>33.0</td>\n",
       "      <td>False</td>\n",
       "      <td>0.0</td>\n",
       "      <td>1283.0</td>\n",
       "      <td>371.0</td>\n",
       "      <td>3329.0</td>\n",
       "      <td>193.0</td>\n",
       "      <td>Solam Susent</td>\n",
       "      <td>False</td>\n",
       "    </tr>\n",
       "    <tr>\n",
       "      <th>4</th>\n",
       "      <td>0004_01</td>\n",
       "      <td>Earth</td>\n",
       "      <td>False</td>\n",
       "      <td>F/1/S</td>\n",
       "      <td>TRAPPIST-1e</td>\n",
       "      <td>16.0</td>\n",
       "      <td>False</td>\n",
       "      <td>303.0</td>\n",
       "      <td>70.0</td>\n",
       "      <td>151.0</td>\n",
       "      <td>565.0</td>\n",
       "      <td>2.0</td>\n",
       "      <td>Willy Santantines</td>\n",
       "      <td>True</td>\n",
       "    </tr>\n",
       "    <tr>\n",
       "      <th>...</th>\n",
       "      <td>...</td>\n",
       "      <td>...</td>\n",
       "      <td>...</td>\n",
       "      <td>...</td>\n",
       "      <td>...</td>\n",
       "      <td>...</td>\n",
       "      <td>...</td>\n",
       "      <td>...</td>\n",
       "      <td>...</td>\n",
       "      <td>...</td>\n",
       "      <td>...</td>\n",
       "      <td>...</td>\n",
       "      <td>...</td>\n",
       "      <td>...</td>\n",
       "    </tr>\n",
       "    <tr>\n",
       "      <th>8688</th>\n",
       "      <td>9276_01</td>\n",
       "      <td>Europa</td>\n",
       "      <td>False</td>\n",
       "      <td>A/98/P</td>\n",
       "      <td>55 Cancri e</td>\n",
       "      <td>41.0</td>\n",
       "      <td>True</td>\n",
       "      <td>0.0</td>\n",
       "      <td>6819.0</td>\n",
       "      <td>0.0</td>\n",
       "      <td>1643.0</td>\n",
       "      <td>74.0</td>\n",
       "      <td>Gravior Noxnuther</td>\n",
       "      <td>False</td>\n",
       "    </tr>\n",
       "    <tr>\n",
       "      <th>8689</th>\n",
       "      <td>9278_01</td>\n",
       "      <td>Earth</td>\n",
       "      <td>True</td>\n",
       "      <td>G/1499/S</td>\n",
       "      <td>PSO J318.5-22</td>\n",
       "      <td>18.0</td>\n",
       "      <td>False</td>\n",
       "      <td>0.0</td>\n",
       "      <td>0.0</td>\n",
       "      <td>0.0</td>\n",
       "      <td>0.0</td>\n",
       "      <td>0.0</td>\n",
       "      <td>Kurta Mondalley</td>\n",
       "      <td>False</td>\n",
       "    </tr>\n",
       "    <tr>\n",
       "      <th>8690</th>\n",
       "      <td>9279_01</td>\n",
       "      <td>Earth</td>\n",
       "      <td>False</td>\n",
       "      <td>G/1500/S</td>\n",
       "      <td>TRAPPIST-1e</td>\n",
       "      <td>26.0</td>\n",
       "      <td>False</td>\n",
       "      <td>0.0</td>\n",
       "      <td>0.0</td>\n",
       "      <td>1872.0</td>\n",
       "      <td>1.0</td>\n",
       "      <td>0.0</td>\n",
       "      <td>Fayey Connon</td>\n",
       "      <td>True</td>\n",
       "    </tr>\n",
       "    <tr>\n",
       "      <th>8691</th>\n",
       "      <td>9280_01</td>\n",
       "      <td>Europa</td>\n",
       "      <td>False</td>\n",
       "      <td>E/608/S</td>\n",
       "      <td>55 Cancri e</td>\n",
       "      <td>32.0</td>\n",
       "      <td>False</td>\n",
       "      <td>0.0</td>\n",
       "      <td>1049.0</td>\n",
       "      <td>0.0</td>\n",
       "      <td>353.0</td>\n",
       "      <td>3235.0</td>\n",
       "      <td>Celeon Hontichre</td>\n",
       "      <td>False</td>\n",
       "    </tr>\n",
       "    <tr>\n",
       "      <th>8692</th>\n",
       "      <td>9280_02</td>\n",
       "      <td>Europa</td>\n",
       "      <td>False</td>\n",
       "      <td>E/608/S</td>\n",
       "      <td>TRAPPIST-1e</td>\n",
       "      <td>44.0</td>\n",
       "      <td>False</td>\n",
       "      <td>126.0</td>\n",
       "      <td>4688.0</td>\n",
       "      <td>0.0</td>\n",
       "      <td>0.0</td>\n",
       "      <td>12.0</td>\n",
       "      <td>Propsh Hontichre</td>\n",
       "      <td>True</td>\n",
       "    </tr>\n",
       "  </tbody>\n",
       "</table>\n",
       "<p>8693 rows × 14 columns</p>\n",
       "</div>"
      ],
      "text/plain": [
       "     PassengerId HomePlanet CryoSleep     Cabin    Destination   Age    VIP  \\\n",
       "0        0001_01     Europa     False     B/0/P    TRAPPIST-1e  39.0  False   \n",
       "1        0002_01      Earth     False     F/0/S    TRAPPIST-1e  24.0  False   \n",
       "2        0003_01     Europa     False     A/0/S    TRAPPIST-1e  58.0   True   \n",
       "3        0003_02     Europa     False     A/0/S    TRAPPIST-1e  33.0  False   \n",
       "4        0004_01      Earth     False     F/1/S    TRAPPIST-1e  16.0  False   \n",
       "...          ...        ...       ...       ...            ...   ...    ...   \n",
       "8688     9276_01     Europa     False    A/98/P    55 Cancri e  41.0   True   \n",
       "8689     9278_01      Earth      True  G/1499/S  PSO J318.5-22  18.0  False   \n",
       "8690     9279_01      Earth     False  G/1500/S    TRAPPIST-1e  26.0  False   \n",
       "8691     9280_01     Europa     False   E/608/S    55 Cancri e  32.0  False   \n",
       "8692     9280_02     Europa     False   E/608/S    TRAPPIST-1e  44.0  False   \n",
       "\n",
       "      RoomService  FoodCourt  ShoppingMall     Spa  VRDeck               Name  \\\n",
       "0             0.0        0.0           0.0     0.0     0.0    Maham Ofracculy   \n",
       "1           109.0        9.0          25.0   549.0    44.0       Juanna Vines   \n",
       "2            43.0     3576.0           0.0  6715.0    49.0      Altark Susent   \n",
       "3             0.0     1283.0         371.0  3329.0   193.0       Solam Susent   \n",
       "4           303.0       70.0         151.0   565.0     2.0  Willy Santantines   \n",
       "...           ...        ...           ...     ...     ...                ...   \n",
       "8688          0.0     6819.0           0.0  1643.0    74.0  Gravior Noxnuther   \n",
       "8689          0.0        0.0           0.0     0.0     0.0    Kurta Mondalley   \n",
       "8690          0.0        0.0        1872.0     1.0     0.0       Fayey Connon   \n",
       "8691          0.0     1049.0           0.0   353.0  3235.0   Celeon Hontichre   \n",
       "8692        126.0     4688.0           0.0     0.0    12.0   Propsh Hontichre   \n",
       "\n",
       "      Transported  \n",
       "0           False  \n",
       "1            True  \n",
       "2           False  \n",
       "3           False  \n",
       "4            True  \n",
       "...           ...  \n",
       "8688        False  \n",
       "8689        False  \n",
       "8690         True  \n",
       "8691        False  \n",
       "8692         True  \n",
       "\n",
       "[8693 rows x 14 columns]"
      ]
     },
     "execution_count": 3,
     "metadata": {},
     "output_type": "execute_result"
    }
   ],
   "source": [
    "train_df"
   ]
  },
  {
   "cell_type": "markdown",
   "id": "2982b529",
   "metadata": {
    "papermill": {
     "duration": 0.051551,
     "end_time": "2022-08-07T01:47:16.572729",
     "exception": false,
     "start_time": "2022-08-07T01:47:16.521178",
     "status": "completed"
    },
    "tags": []
   },
   "source": [
    "#### Let us first divide the features into 'objects', 'boolean', 'float' datatypes"
   ]
  },
  {
   "cell_type": "code",
   "execution_count": 4,
   "id": "9d0ddc6f",
   "metadata": {
    "execution": {
     "iopub.execute_input": "2022-08-07T01:47:16.690730Z",
     "iopub.status.busy": "2022-08-07T01:47:16.682847Z",
     "iopub.status.idle": "2022-08-07T01:47:16.698349Z",
     "shell.execute_reply": "2022-08-07T01:47:16.697800Z",
     "shell.execute_reply.started": "2022-03-18T12:39:44.406285Z"
    },
    "papermill": {
     "duration": 0.073333,
     "end_time": "2022-08-07T01:47:16.698510",
     "exception": false,
     "start_time": "2022-08-07T01:47:16.625177",
     "status": "completed"
    },
    "tags": []
   },
   "outputs": [],
   "source": [
    "objects = train_df.select_dtypes(include='object')\n",
    "boolean = train_df.select_dtypes(include='bool')\n",
    "numbers = train_df.select_dtypes(include='float')"
   ]
  },
  {
   "cell_type": "markdown",
   "id": "80254b1f",
   "metadata": {
    "execution": {
     "iopub.execute_input": "2022-02-27T05:08:20.395403Z",
     "iopub.status.busy": "2022-02-27T05:08:20.3948Z",
     "iopub.status.idle": "2022-02-27T05:08:20.414595Z",
     "shell.execute_reply": "2022-02-27T05:08:20.413926Z",
     "shell.execute_reply.started": "2022-02-27T05:08:20.395344Z"
    },
    "papermill": {
     "duration": 0.051817,
     "end_time": "2022-08-07T01:47:16.802914",
     "exception": false,
     "start_time": "2022-08-07T01:47:16.751097",
     "status": "completed"
    },
    "tags": []
   },
   "source": [
    "## 1.1 Numerical Feature Observation"
   ]
  },
  {
   "cell_type": "code",
   "execution_count": 5,
   "id": "d384d1c5",
   "metadata": {
    "_kg_hide-input": true,
    "execution": {
     "iopub.execute_input": "2022-08-07T01:47:16.915432Z",
     "iopub.status.busy": "2022-08-07T01:47:16.914731Z",
     "iopub.status.idle": "2022-08-07T01:47:19.593385Z",
     "shell.execute_reply": "2022-08-07T01:47:19.593943Z",
     "shell.execute_reply.started": "2022-03-18T12:39:44.490549Z"
    },
    "papermill": {
     "duration": 2.73861,
     "end_time": "2022-08-07T01:47:19.594127",
     "exception": false,
     "start_time": "2022-08-07T01:47:16.855517",
     "status": "completed"
    },
    "tags": []
   },
   "outputs": [
    {
     "data": {
      "text/plain": [
       "Text(0.5, 0.98, 'Distribution of Numerical Features')"
      ]
     },
     "execution_count": 5,
     "metadata": {},
     "output_type": "execute_result"
    },
    {
     "data": {
      "image/png": "[encoded data removed]",
      "text/plain": [
       "<Figure size 1440x1440 with 6 Axes>"
      ]
     },
     "metadata": {
      "needs_background": "light"
     },
     "output_type": "display_data"
    }
   ],
   "source": [
    "import matplotlib.pyplot as plt\n",
    "import seaborn as sns\n",
    "\n",
    "plt.figure(figsize=(20,20))\n",
    "    \n",
    "# Draw the plot\n",
    "for count, feature in enumerate(numbers.columns.tolist()):\n",
    "    ax = plt.subplot(3, 2, count+1)    \n",
    "    ax.set_title(\"{}\".format(feature), size = 30)\n",
    "    ax.hist(numbers[feature],color = 'pink', edgecolor = 'black', bins = 50)\n",
    "    \n",
    "plt.suptitle(\"Distribution of Numerical Features\", fontsize = 50)"
   ]
  },
  {
   "cell_type": "markdown",
   "id": "8e18e85a",
   "metadata": {
    "papermill": {
     "duration": 0.054098,
     "end_time": "2022-08-07T01:47:19.703020",
     "exception": false,
     "start_time": "2022-08-07T01:47:19.648922",
     "status": "completed"
    },
    "tags": []
   },
   "source": [
    "> #### Seems like majority of the people onboard did not spend much at each of the Spaceship Titanic's many luxury amenities. \n",
    "> #### For the age wise, it seems like majority of our passengers were between the ages of 20 to 30 while there was a pretty large number of infants onboard too"
   ]
  },
  {
   "cell_type": "markdown",
   "id": "c020e433",
   "metadata": {
    "papermill": {
     "duration": 0.055148,
     "end_time": "2022-08-07T01:47:19.812658",
     "exception": false,
     "start_time": "2022-08-07T01:47:19.757510",
     "status": "completed"
    },
    "tags": []
   },
   "source": [
    "## 1.2 Object Feature Observation"
   ]
  },
  {
   "cell_type": "code",
   "execution_count": 6,
   "id": "8afb9218",
   "metadata": {
    "_kg_hide-input": true,
    "execution": {
     "iopub.execute_input": "2022-08-07T01:47:19.937900Z",
     "iopub.status.busy": "2022-08-07T01:47:19.927817Z",
     "iopub.status.idle": "2022-08-07T01:47:19.941857Z",
     "shell.execute_reply": "2022-08-07T01:47:19.941245Z",
     "shell.execute_reply.started": "2022-03-18T12:40:06.99973Z"
    },
    "papermill": {
     "duration": 0.074173,
     "end_time": "2022-08-07T01:47:19.942004",
     "exception": false,
     "start_time": "2022-08-07T01:47:19.867831",
     "status": "completed"
    },
    "tags": []
   },
   "outputs": [
    {
     "data": {
      "text/html": [
       "<div>\n",
       "<style scoped>\n",
       "    .dataframe tbody tr th:only-of-type {\n",
       "        vertical-align: middle;\n",
       "    }\n",
       "\n",
       "    .dataframe tbody tr th {\n",
       "        vertical-align: top;\n",
       "    }\n",
       "\n",
       "    .dataframe thead th {\n",
       "        text-align: right;\n",
       "    }\n",
       "</style>\n",
       "<table border=\"1\" class=\"dataframe\">\n",
       "  <thead>\n",
       "    <tr style=\"text-align: right;\">\n",
       "      <th></th>\n",
       "      <th>PassengerId</th>\n",
       "      <th>HomePlanet</th>\n",
       "      <th>CryoSleep</th>\n",
       "      <th>Cabin</th>\n",
       "      <th>Destination</th>\n",
       "      <th>VIP</th>\n",
       "      <th>Name</th>\n",
       "    </tr>\n",
       "  </thead>\n",
       "  <tbody>\n",
       "    <tr>\n",
       "      <th>0</th>\n",
       "      <td>0001_01</td>\n",
       "      <td>Europa</td>\n",
       "      <td>False</td>\n",
       "      <td>B/0/P</td>\n",
       "      <td>TRAPPIST-1e</td>\n",
       "      <td>False</td>\n",
       "      <td>Maham Ofracculy</td>\n",
       "    </tr>\n",
       "    <tr>\n",
       "      <th>1</th>\n",
       "      <td>0002_01</td>\n",
       "      <td>Earth</td>\n",
       "      <td>False</td>\n",
       "      <td>F/0/S</td>\n",
       "      <td>TRAPPIST-1e</td>\n",
       "      <td>False</td>\n",
       "      <td>Juanna Vines</td>\n",
       "    </tr>\n",
       "    <tr>\n",
       "      <th>2</th>\n",
       "      <td>0003_01</td>\n",
       "      <td>Europa</td>\n",
       "      <td>False</td>\n",
       "      <td>A/0/S</td>\n",
       "      <td>TRAPPIST-1e</td>\n",
       "      <td>True</td>\n",
       "      <td>Altark Susent</td>\n",
       "    </tr>\n",
       "    <tr>\n",
       "      <th>3</th>\n",
       "      <td>0003_02</td>\n",
       "      <td>Europa</td>\n",
       "      <td>False</td>\n",
       "      <td>A/0/S</td>\n",
       "      <td>TRAPPIST-1e</td>\n",
       "      <td>False</td>\n",
       "      <td>Solam Susent</td>\n",
       "    </tr>\n",
       "    <tr>\n",
       "      <th>4</th>\n",
       "      <td>0004_01</td>\n",
       "      <td>Earth</td>\n",
       "      <td>False</td>\n",
       "      <td>F/1/S</td>\n",
       "      <td>TRAPPIST-1e</td>\n",
       "      <td>False</td>\n",
       "      <td>Willy Santantines</td>\n",
       "    </tr>\n",
       "    <tr>\n",
       "      <th>...</th>\n",
       "      <td>...</td>\n",
       "      <td>...</td>\n",
       "      <td>...</td>\n",
       "      <td>...</td>\n",
       "      <td>...</td>\n",
       "      <td>...</td>\n",
       "      <td>...</td>\n",
       "    </tr>\n",
       "    <tr>\n",
       "      <th>8688</th>\n",
       "      <td>9276_01</td>\n",
       "      <td>Europa</td>\n",
       "      <td>False</td>\n",
       "      <td>A/98/P</td>\n",
       "      <td>55 Cancri e</td>\n",
       "      <td>True</td>\n",
       "      <td>Gravior Noxnuther</td>\n",
       "    </tr>\n",
       "    <tr>\n",
       "      <th>8689</th>\n",
       "      <td>9278_01</td>\n",
       "      <td>Earth</td>\n",
       "      <td>True</td>\n",
       "      <td>G/1499/S</td>\n",
       "      <td>PSO J318.5-22</td>\n",
       "      <td>False</td>\n",
       "      <td>Kurta Mondalley</td>\n",
       "    </tr>\n",
       "    <tr>\n",
       "      <th>8690</th>\n",
       "      <td>9279_01</td>\n",
       "      <td>Earth</td>\n",
       "      <td>False</td>\n",
       "      <td>G/1500/S</td>\n",
       "      <td>TRAPPIST-1e</td>\n",
       "      <td>False</td>\n",
       "      <td>Fayey Connon</td>\n",
       "    </tr>\n",
       "    <tr>\n",
       "      <th>8691</th>\n",
       "      <td>9280_01</td>\n",
       "      <td>Europa</td>\n",
       "      <td>False</td>\n",
       "      <td>E/608/S</td>\n",
       "      <td>55 Cancri e</td>\n",
       "      <td>False</td>\n",
       "      <td>Celeon Hontichre</td>\n",
       "    </tr>\n",
       "    <tr>\n",
       "      <th>8692</th>\n",
       "      <td>9280_02</td>\n",
       "      <td>Europa</td>\n",
       "      <td>False</td>\n",
       "      <td>E/608/S</td>\n",
       "      <td>TRAPPIST-1e</td>\n",
       "      <td>False</td>\n",
       "      <td>Propsh Hontichre</td>\n",
       "    </tr>\n",
       "  </tbody>\n",
       "</table>\n",
       "<p>8693 rows × 7 columns</p>\n",
       "</div>"
      ],
      "text/plain": [
       "     PassengerId HomePlanet CryoSleep     Cabin    Destination    VIP  \\\n",
       "0        0001_01     Europa     False     B/0/P    TRAPPIST-1e  False   \n",
       "1        0002_01      Earth     False     F/0/S    TRAPPIST-1e  False   \n",
       "2        0003_01     Europa     False     A/0/S    TRAPPIST-1e   True   \n",
       "3        0003_02     Europa     False     A/0/S    TRAPPIST-1e  False   \n",
       "4        0004_01      Earth     False     F/1/S    TRAPPIST-1e  False   \n",
       "...          ...        ...       ...       ...            ...    ...   \n",
       "8688     9276_01     Europa     False    A/98/P    55 Cancri e   True   \n",
       "8689     9278_01      Earth      True  G/1499/S  PSO J318.5-22  False   \n",
       "8690     9279_01      Earth     False  G/1500/S    TRAPPIST-1e  False   \n",
       "8691     9280_01     Europa     False   E/608/S    55 Cancri e  False   \n",
       "8692     9280_02     Europa     False   E/608/S    TRAPPIST-1e  False   \n",
       "\n",
       "                   Name  \n",
       "0       Maham Ofracculy  \n",
       "1          Juanna Vines  \n",
       "2         Altark Susent  \n",
       "3          Solam Susent  \n",
       "4     Willy Santantines  \n",
       "...                 ...  \n",
       "8688  Gravior Noxnuther  \n",
       "8689    Kurta Mondalley  \n",
       "8690       Fayey Connon  \n",
       "8691   Celeon Hontichre  \n",
       "8692   Propsh Hontichre  \n",
       "\n",
       "[8693 rows x 7 columns]"
      ]
     },
     "execution_count": 6,
     "metadata": {},
     "output_type": "execute_result"
    }
   ],
   "source": [
    "objects"
   ]
  },
  {
   "cell_type": "code",
   "execution_count": 7,
   "id": "4196814b",
   "metadata": {
    "_kg_hide-input": true,
    "execution": {
     "iopub.execute_input": "2022-08-07T01:47:20.074284Z",
     "iopub.status.busy": "2022-08-07T01:47:20.073524Z",
     "iopub.status.idle": "2022-08-07T01:47:20.078723Z",
     "shell.execute_reply": "2022-08-07T01:47:20.078132Z",
     "shell.execute_reply.started": "2022-03-18T12:40:07.021835Z"
    },
    "papermill": {
     "duration": 0.081655,
     "end_time": "2022-08-07T01:47:20.078875",
     "exception": false,
     "start_time": "2022-08-07T01:47:19.997220",
     "status": "completed"
    },
    "tags": []
   },
   "outputs": [
    {
     "name": "stdout",
     "output_type": "stream",
     "text": [
      "count      8492\n",
      "unique        3\n",
      "top       Earth\n",
      "freq       4602\n",
      "Name: HomePlanet, dtype: object \n",
      "\n",
      "count      8476\n",
      "unique        2\n",
      "top       False\n",
      "freq       5439\n",
      "Name: CryoSleep, dtype: object \n",
      "\n",
      "count        8494\n",
      "unique       6560\n",
      "top       G/734/S\n",
      "freq            8\n",
      "Name: Cabin, dtype: object \n",
      "\n",
      "count            8511\n",
      "unique              3\n",
      "top       TRAPPIST-1e\n",
      "freq             5915\n",
      "Name: Destination, dtype: object \n",
      "\n",
      "count      8490\n",
      "unique        2\n",
      "top       False\n",
      "freq       8291\n",
      "Name: VIP, dtype: object \n",
      "\n"
     ]
    }
   ],
   "source": [
    "for i in objects.columns.tolist()[1:-1]:\n",
    "    print(objects[i].describe(),\"\\n\")"
   ]
  },
  {
   "cell_type": "code",
   "execution_count": 8,
   "id": "55c7e1b7",
   "metadata": {
    "_kg_hide-input": true,
    "execution": {
     "iopub.execute_input": "2022-08-07T01:47:20.199099Z",
     "iopub.status.busy": "2022-08-07T01:47:20.198325Z",
     "iopub.status.idle": "2022-08-07T01:47:20.969734Z",
     "shell.execute_reply": "2022-08-07T01:47:20.969157Z",
     "shell.execute_reply.started": "2022-03-18T12:40:07.061801Z"
    },
    "papermill": {
     "duration": 0.835461,
     "end_time": "2022-08-07T01:47:20.969890",
     "exception": false,
     "start_time": "2022-08-07T01:47:20.134429",
     "status": "completed"
    },
    "tags": []
   },
   "outputs": [
    {
     "data": {
      "image/png": "[encoded data removed]",
      "text/plain": [
       "<Figure size 1080x1080 with 4 Axes>"
      ]
     },
     "metadata": {},
     "output_type": "display_data"
    }
   ],
   "source": [
    "sns.set_theme(style=\"darkgrid\")\n",
    "fig, ax =plt.subplots(2, 2,figsize=(15, 15))\n",
    "sns.countplot(x = 'HomePlanet', data = objects, ax=ax[0][0])\n",
    "sns.countplot(x = 'CryoSleep', data=objects, ax=ax[0][1])\n",
    "sns.countplot(x = 'Destination', data = objects, ax=ax[1][0])\n",
    "sns.countplot(x = 'VIP', data = objects, ax=ax[1][1])\n",
    "fig.suptitle('Comparisons of different Categorical Features', fontsize=20)\n",
    "fig.show()"
   ]
  },
  {
   "cell_type": "markdown",
   "id": "3b7ec2e3",
   "metadata": {
    "papermill": {
     "duration": 0.061928,
     "end_time": "2022-08-07T01:47:21.090423",
     "exception": false,
     "start_time": "2022-08-07T01:47:21.028495",
     "status": "completed"
    },
    "tags": []
   },
   "source": [
    "> #### Seems like most of the people on board were from Earth and a vast majority of them were headed for the TRAPPIST-1e. \n",
    "> #### It can also be seen that almost all of them were not VIP and about 5500 of them did not opt for cryosleep for the journey\n",
    "> #### For Cabin, we will leave that to the feature engineering section to accomplish and we wound visualize the outcomes then"
   ]
  },
  {
   "cell_type": "markdown",
   "id": "3a7076f4",
   "metadata": {
    "papermill": {
     "duration": 0.05738,
     "end_time": "2022-08-07T01:47:21.205585",
     "exception": false,
     "start_time": "2022-08-07T01:47:21.148205",
     "status": "completed"
    },
    "tags": []
   },
   "source": [
    "# 2. Feature Engineering"
   ]
  },
  {
   "cell_type": "markdown",
   "id": "1bcf2c27",
   "metadata": {
    "papermill": {
     "duration": 0.057174,
     "end_time": "2022-08-07T01:47:21.320283",
     "exception": false,
     "start_time": "2022-08-07T01:47:21.263109",
     "status": "completed"
    },
    "tags": []
   },
   "source": [
    "#### I will first engineer the **Cabin** column which seems pretty important\n",
    "#### The column contains these following information\n",
    "* deck\n",
    "* num\n",
    "* side\n",
    "\n",
    "#### If we can extract out those informations to three different columns, our model would be able to extract weights from those individual columns for a possibly more accurate prediction"
   ]
  },
  {
   "cell_type": "code",
   "execution_count": 9,
   "id": "161b0195",
   "metadata": {
    "execution": {
     "iopub.execute_input": "2022-08-07T01:47:21.438451Z",
     "iopub.status.busy": "2022-08-07T01:47:21.437794Z",
     "iopub.status.idle": "2022-08-07T01:47:21.444229Z",
     "shell.execute_reply": "2022-08-07T01:47:21.444845Z",
     "shell.execute_reply.started": "2022-03-18T12:40:07.72872Z"
    },
    "papermill": {
     "duration": 0.067178,
     "end_time": "2022-08-07T01:47:21.445030",
     "exception": false,
     "start_time": "2022-08-07T01:47:21.377852",
     "status": "completed"
    },
    "tags": []
   },
   "outputs": [
    {
     "data": {
      "text/plain": [
       "0          B/0/P\n",
       "1          F/0/S\n",
       "2          A/0/S\n",
       "3          A/0/S\n",
       "4          F/1/S\n",
       "          ...   \n",
       "8688      A/98/P\n",
       "8689    G/1499/S\n",
       "8690    G/1500/S\n",
       "8691     E/608/S\n",
       "8692     E/608/S\n",
       "Name: Cabin, Length: 8693, dtype: object"
      ]
     },
     "execution_count": 9,
     "metadata": {},
     "output_type": "execute_result"
    }
   ],
   "source": [
    "objects['Cabin']"
   ]
  },
  {
   "cell_type": "code",
   "execution_count": 10,
   "id": "d39117ff",
   "metadata": {
    "_kg_hide-input": true,
    "execution": {
     "iopub.execute_input": "2022-08-07T01:47:21.563353Z",
     "iopub.status.busy": "2022-08-07T01:47:21.562727Z",
     "iopub.status.idle": "2022-08-07T01:47:21.574272Z",
     "shell.execute_reply": "2022-08-07T01:47:21.574783Z",
     "shell.execute_reply.started": "2022-03-18T12:40:07.740631Z"
    },
    "papermill": {
     "duration": 0.072493,
     "end_time": "2022-08-07T01:47:21.574979",
     "exception": false,
     "start_time": "2022-08-07T01:47:21.502486",
     "status": "completed"
    },
    "tags": []
   },
   "outputs": [
    {
     "name": "stderr",
     "output_type": "stream",
     "text": [
      "/opt/conda/lib/python3.7/site-packages/pandas/core/generic.py:6392: SettingWithCopyWarning: \n",
      "A value is trying to be set on a copy of a slice from a DataFrame\n",
      "\n",
      "See the caveats in the documentation: https://pandas.pydata.org/pandas-docs/stable/user_guide/indexing.html#returning-a-view-versus-a-copy\n",
      "  return self._update_inplace(result)\n"
     ]
    }
   ],
   "source": [
    "objects['Cabin'].fillna(0, inplace=True)"
   ]
  },
  {
   "cell_type": "code",
   "execution_count": 11,
   "id": "23b7774f",
   "metadata": {
    "_kg_hide-input": true,
    "execution": {
     "iopub.execute_input": "2022-08-07T01:47:21.695592Z",
     "iopub.status.busy": "2022-08-07T01:47:21.694907Z",
     "iopub.status.idle": "2022-08-07T01:47:21.899921Z",
     "shell.execute_reply": "2022-08-07T01:47:21.900424Z",
     "shell.execute_reply.started": "2022-03-18T12:40:07.752946Z"
    },
    "papermill": {
     "duration": 0.26713,
     "end_time": "2022-08-07T01:47:21.900625",
     "exception": false,
     "start_time": "2022-08-07T01:47:21.633495",
     "status": "completed"
    },
    "tags": []
   },
   "outputs": [
    {
     "name": "stderr",
     "output_type": "stream",
     "text": [
      "/opt/conda/lib/python3.7/site-packages/ipykernel_launcher.py:15: SettingWithCopyWarning: \n",
      "A value is trying to be set on a copy of a slice from a DataFrame.\n",
      "Try using .loc[row_indexer,col_indexer] = value instead\n",
      "\n",
      "See the caveats in the documentation: https://pandas.pydata.org/pandas-docs/stable/user_guide/indexing.html#returning-a-view-versus-a-copy\n",
      "  from ipykernel import kernelapp as app\n",
      "/opt/conda/lib/python3.7/site-packages/ipykernel_launcher.py:16: SettingWithCopyWarning: \n",
      "A value is trying to be set on a copy of a slice from a DataFrame.\n",
      "Try using .loc[row_indexer,col_indexer] = value instead\n",
      "\n",
      "See the caveats in the documentation: https://pandas.pydata.org/pandas-docs/stable/user_guide/indexing.html#returning-a-view-versus-a-copy\n",
      "  app.launch_new_instance()\n",
      "/opt/conda/lib/python3.7/site-packages/ipykernel_launcher.py:17: SettingWithCopyWarning: \n",
      "A value is trying to be set on a copy of a slice from a DataFrame.\n",
      "Try using .loc[row_indexer,col_indexer] = value instead\n",
      "\n",
      "See the caveats in the documentation: https://pandas.pydata.org/pandas-docs/stable/user_guide/indexing.html#returning-a-view-versus-a-copy\n"
     ]
    },
    {
     "data": {
      "text/html": [
       "<div>\n",
       "<style scoped>\n",
       "    .dataframe tbody tr th:only-of-type {\n",
       "        vertical-align: middle;\n",
       "    }\n",
       "\n",
       "    .dataframe tbody tr th {\n",
       "        vertical-align: top;\n",
       "    }\n",
       "\n",
       "    .dataframe thead th {\n",
       "        text-align: right;\n",
       "    }\n",
       "</style>\n",
       "<table border=\"1\" class=\"dataframe\">\n",
       "  <thead>\n",
       "    <tr style=\"text-align: right;\">\n",
       "      <th></th>\n",
       "      <th>PassengerId</th>\n",
       "      <th>HomePlanet</th>\n",
       "      <th>CryoSleep</th>\n",
       "      <th>Cabin</th>\n",
       "      <th>Destination</th>\n",
       "      <th>VIP</th>\n",
       "      <th>Name</th>\n",
       "      <th>Deck</th>\n",
       "      <th>Num</th>\n",
       "      <th>Side</th>\n",
       "    </tr>\n",
       "  </thead>\n",
       "  <tbody>\n",
       "    <tr>\n",
       "      <th>0</th>\n",
       "      <td>0001_01</td>\n",
       "      <td>Europa</td>\n",
       "      <td>False</td>\n",
       "      <td>B/0/P</td>\n",
       "      <td>TRAPPIST-1e</td>\n",
       "      <td>False</td>\n",
       "      <td>Maham Ofracculy</td>\n",
       "      <td>B</td>\n",
       "      <td>0</td>\n",
       "      <td>P</td>\n",
       "    </tr>\n",
       "    <tr>\n",
       "      <th>1</th>\n",
       "      <td>0002_01</td>\n",
       "      <td>Earth</td>\n",
       "      <td>False</td>\n",
       "      <td>F/0/S</td>\n",
       "      <td>TRAPPIST-1e</td>\n",
       "      <td>False</td>\n",
       "      <td>Juanna Vines</td>\n",
       "      <td>F</td>\n",
       "      <td>0</td>\n",
       "      <td>S</td>\n",
       "    </tr>\n",
       "    <tr>\n",
       "      <th>2</th>\n",
       "      <td>0003_01</td>\n",
       "      <td>Europa</td>\n",
       "      <td>False</td>\n",
       "      <td>A/0/S</td>\n",
       "      <td>TRAPPIST-1e</td>\n",
       "      <td>True</td>\n",
       "      <td>Altark Susent</td>\n",
       "      <td>A</td>\n",
       "      <td>0</td>\n",
       "      <td>S</td>\n",
       "    </tr>\n",
       "    <tr>\n",
       "      <th>3</th>\n",
       "      <td>0003_02</td>\n",
       "      <td>Europa</td>\n",
       "      <td>False</td>\n",
       "      <td>A/0/S</td>\n",
       "      <td>TRAPPIST-1e</td>\n",
       "      <td>False</td>\n",
       "      <td>Solam Susent</td>\n",
       "      <td>A</td>\n",
       "      <td>0</td>\n",
       "      <td>S</td>\n",
       "    </tr>\n",
       "    <tr>\n",
       "      <th>4</th>\n",
       "      <td>0004_01</td>\n",
       "      <td>Earth</td>\n",
       "      <td>False</td>\n",
       "      <td>F/1/S</td>\n",
       "      <td>TRAPPIST-1e</td>\n",
       "      <td>False</td>\n",
       "      <td>Willy Santantines</td>\n",
       "      <td>F</td>\n",
       "      <td>1</td>\n",
       "      <td>S</td>\n",
       "    </tr>\n",
       "    <tr>\n",
       "      <th>...</th>\n",
       "      <td>...</td>\n",
       "      <td>...</td>\n",
       "      <td>...</td>\n",
       "      <td>...</td>\n",
       "      <td>...</td>\n",
       "      <td>...</td>\n",
       "      <td>...</td>\n",
       "      <td>...</td>\n",
       "      <td>...</td>\n",
       "      <td>...</td>\n",
       "    </tr>\n",
       "    <tr>\n",
       "      <th>8688</th>\n",
       "      <td>9276_01</td>\n",
       "      <td>Europa</td>\n",
       "      <td>False</td>\n",
       "      <td>A/98/P</td>\n",
       "      <td>55 Cancri e</td>\n",
       "      <td>True</td>\n",
       "      <td>Gravior Noxnuther</td>\n",
       "      <td>A</td>\n",
       "      <td>98</td>\n",
       "      <td>P</td>\n",
       "    </tr>\n",
       "    <tr>\n",
       "      <th>8689</th>\n",
       "      <td>9278_01</td>\n",
       "      <td>Earth</td>\n",
       "      <td>True</td>\n",
       "      <td>G/1499/S</td>\n",
       "      <td>PSO J318.5-22</td>\n",
       "      <td>False</td>\n",
       "      <td>Kurta Mondalley</td>\n",
       "      <td>G</td>\n",
       "      <td>1499</td>\n",
       "      <td>S</td>\n",
       "    </tr>\n",
       "    <tr>\n",
       "      <th>8690</th>\n",
       "      <td>9279_01</td>\n",
       "      <td>Earth</td>\n",
       "      <td>False</td>\n",
       "      <td>G/1500/S</td>\n",
       "      <td>TRAPPIST-1e</td>\n",
       "      <td>False</td>\n",
       "      <td>Fayey Connon</td>\n",
       "      <td>G</td>\n",
       "      <td>1500</td>\n",
       "      <td>S</td>\n",
       "    </tr>\n",
       "    <tr>\n",
       "      <th>8691</th>\n",
       "      <td>9280_01</td>\n",
       "      <td>Europa</td>\n",
       "      <td>False</td>\n",
       "      <td>E/608/S</td>\n",
       "      <td>55 Cancri e</td>\n",
       "      <td>False</td>\n",
       "      <td>Celeon Hontichre</td>\n",
       "      <td>E</td>\n",
       "      <td>608</td>\n",
       "      <td>S</td>\n",
       "    </tr>\n",
       "    <tr>\n",
       "      <th>8692</th>\n",
       "      <td>9280_02</td>\n",
       "      <td>Europa</td>\n",
       "      <td>False</td>\n",
       "      <td>E/608/S</td>\n",
       "      <td>TRAPPIST-1e</td>\n",
       "      <td>False</td>\n",
       "      <td>Propsh Hontichre</td>\n",
       "      <td>E</td>\n",
       "      <td>608</td>\n",
       "      <td>S</td>\n",
       "    </tr>\n",
       "  </tbody>\n",
       "</table>\n",
       "<p>8693 rows × 10 columns</p>\n",
       "</div>"
      ],
      "text/plain": [
       "     PassengerId HomePlanet CryoSleep     Cabin    Destination    VIP  \\\n",
       "0        0001_01     Europa     False     B/0/P    TRAPPIST-1e  False   \n",
       "1        0002_01      Earth     False     F/0/S    TRAPPIST-1e  False   \n",
       "2        0003_01     Europa     False     A/0/S    TRAPPIST-1e   True   \n",
       "3        0003_02     Europa     False     A/0/S    TRAPPIST-1e  False   \n",
       "4        0004_01      Earth     False     F/1/S    TRAPPIST-1e  False   \n",
       "...          ...        ...       ...       ...            ...    ...   \n",
       "8688     9276_01     Europa     False    A/98/P    55 Cancri e   True   \n",
       "8689     9278_01      Earth      True  G/1499/S  PSO J318.5-22  False   \n",
       "8690     9279_01      Earth     False  G/1500/S    TRAPPIST-1e  False   \n",
       "8691     9280_01     Europa     False   E/608/S    55 Cancri e  False   \n",
       "8692     9280_02     Europa     False   E/608/S    TRAPPIST-1e  False   \n",
       "\n",
       "                   Name Deck   Num Side  \n",
       "0       Maham Ofracculy    B     0    P  \n",
       "1          Juanna Vines    F     0    S  \n",
       "2         Altark Susent    A     0    S  \n",
       "3          Solam Susent    A     0    S  \n",
       "4     Willy Santantines    F     1    S  \n",
       "...                 ...  ...   ...  ...  \n",
       "8688  Gravior Noxnuther    A    98    P  \n",
       "8689    Kurta Mondalley    G  1499    S  \n",
       "8690       Fayey Connon    G  1500    S  \n",
       "8691   Celeon Hontichre    E   608    S  \n",
       "8692   Propsh Hontichre    E   608    S  \n",
       "\n",
       "[8693 rows x 10 columns]"
      ]
     },
     "execution_count": 11,
     "metadata": {},
     "output_type": "execute_result"
    }
   ],
   "source": [
    "import math\n",
    "deck = []\n",
    "num = []\n",
    "side = []\n",
    "\n",
    "for i in range(len(objects['Cabin'])):\n",
    "    if objects['Cabin'].iloc[i] == 0:\n",
    "        result = [math.nan, math.nan, math.nan]\n",
    "    else:\n",
    "        result = objects['Cabin'].iloc[i].split('/')\n",
    "    deck.append(result[0])\n",
    "    num.append(result[1])\n",
    "    side.append(result[2])\n",
    "    \n",
    "objects['Deck'] = deck\n",
    "objects['Num'] = num\n",
    "objects['Side'] = side\n",
    "\n",
    "objects"
   ]
  },
  {
   "cell_type": "code",
   "execution_count": 12,
   "id": "10b46f0f",
   "metadata": {
    "_kg_hide-input": true,
    "execution": {
     "iopub.execute_input": "2022-08-07T01:47:22.028882Z",
     "iopub.status.busy": "2022-08-07T01:47:22.028144Z",
     "iopub.status.idle": "2022-08-07T01:47:22.412084Z",
     "shell.execute_reply": "2022-08-07T01:47:22.411508Z",
     "shell.execute_reply.started": "2022-03-18T12:40:08.002427Z"
    },
    "papermill": {
     "duration": 0.45299,
     "end_time": "2022-08-07T01:47:22.412237",
     "exception": false,
     "start_time": "2022-08-07T01:47:21.959247",
     "status": "completed"
    },
    "tags": []
   },
   "outputs": [
    {
     "data": {
      "image/png": "[encoded data removed]",
      "text/plain": [
       "<Figure size 1080x1080 with 2 Axes>"
      ]
     },
     "metadata": {},
     "output_type": "display_data"
    }
   ],
   "source": [
    "sns.set_theme(style=\"darkgrid\")\n",
    "fig, ax =plt.subplots(1,2,figsize=(15, 15))\n",
    "sns.countplot(x = 'Deck', data = objects, ax=ax[0])\n",
    "sns.countplot(x = 'Side', data=objects, ax=ax[1])\n",
    "\n",
    "fig.suptitle('Comparisons of elements of Cabin feature', fontsize=20)\n",
    "fig.show()"
   ]
  },
  {
   "cell_type": "code",
   "execution_count": 13,
   "id": "c13d7442",
   "metadata": {
    "execution": {
     "iopub.execute_input": "2022-08-07T01:47:22.544349Z",
     "iopub.status.busy": "2022-08-07T01:47:22.543641Z",
     "iopub.status.idle": "2022-08-07T01:47:22.545598Z",
     "shell.execute_reply": "2022-08-07T01:47:22.546205Z",
     "shell.execute_reply.started": "2022-03-18T12:40:08.427838Z"
    },
    "papermill": {
     "duration": 0.072685,
     "end_time": "2022-08-07T01:47:22.546382",
     "exception": false,
     "start_time": "2022-08-07T01:47:22.473697",
     "status": "completed"
    },
    "tags": []
   },
   "outputs": [],
   "source": [
    "#Changing datatype of 'Num' into float for visualization as shown below\n",
    "objects = objects.astype({\"Num\": float})"
   ]
  },
  {
   "cell_type": "code",
   "execution_count": 14,
   "id": "2a958ea7",
   "metadata": {
    "_kg_hide-input": true,
    "execution": {
     "iopub.execute_input": "2022-08-07T01:47:22.675871Z",
     "iopub.status.busy": "2022-08-07T01:47:22.671302Z",
     "iopub.status.idle": "2022-08-07T01:47:23.105468Z",
     "shell.execute_reply": "2022-08-07T01:47:23.104893Z",
     "shell.execute_reply.started": "2022-03-18T12:40:08.443296Z"
    },
    "papermill": {
     "duration": 0.497653,
     "end_time": "2022-08-07T01:47:23.105653",
     "exception": false,
     "start_time": "2022-08-07T01:47:22.608000",
     "status": "completed"
    },
    "tags": []
   },
   "outputs": [
    {
     "data": {
      "text/plain": [
       "<seaborn.axisgrid.FacetGrid at 0x7f3eb58737d0>"
      ]
     },
     "execution_count": 14,
     "metadata": {},
     "output_type": "execute_result"
    },
    {
     "data": {
      "image/png": "[encoded data removed]",
      "text/plain": [
       "<Figure size 720x720 with 1 Axes>"
      ]
     },
     "metadata": {},
     "output_type": "display_data"
    }
   ],
   "source": [
    "sns.displot(objects, x=\"Num\",kind=\"kde\", height=10)"
   ]
  },
  {
   "cell_type": "markdown",
   "id": "9632f656",
   "metadata": {
    "papermill": {
     "duration": 0.061649,
     "end_time": "2022-08-07T01:47:23.231611",
     "exception": false,
     "start_time": "2022-08-07T01:47:23.169962",
     "status": "completed"
    },
    "tags": []
   },
   "source": [
    "> #### It seems like for the Decks, majority of the people were in F and G while the number on the portside was similar to the ones on the starboard side. \n",
    "> #### For the Num column, seems like the majority is around 100 to 200. This Cabin number at first might seem like it doesn't pose much information but since we do not know the layout of the spaceship, leaving the learning to the model might help the model predict the room number in which the occupants had a higher rate of survival possibility, probably due to the distance to the exit"
   ]
  },
  {
   "cell_type": "markdown",
   "id": "da969345",
   "metadata": {
    "papermill": {
     "duration": 0.061642,
     "end_time": "2022-08-07T01:47:23.355322",
     "exception": false,
     "start_time": "2022-08-07T01:47:23.293680",
     "status": "completed"
    },
    "tags": []
   },
   "source": [
    "#### Now let us ensure our feature columns are in one single dataframe and split them into 70% training data and 30% validation data"
   ]
  },
  {
   "cell_type": "markdown",
   "id": "d7febc86",
   "metadata": {
    "papermill": {
     "duration": 0.061603,
     "end_time": "2022-08-07T01:47:23.479448",
     "exception": false,
     "start_time": "2022-08-07T01:47:23.417845",
     "status": "completed"
    },
    "tags": []
   },
   "source": [
    "## 2.1 Data Preparation"
   ]
  },
  {
   "cell_type": "code",
   "execution_count": 15,
   "id": "13b81fd7",
   "metadata": {
    "execution": {
     "iopub.execute_input": "2022-08-07T01:47:23.609843Z",
     "iopub.status.busy": "2022-08-07T01:47:23.608853Z",
     "iopub.status.idle": "2022-08-07T01:47:23.661855Z",
     "shell.execute_reply": "2022-08-07T01:47:23.661063Z",
     "shell.execute_reply.started": "2022-03-18T12:40:08.826409Z"
    },
    "papermill": {
     "duration": 0.120158,
     "end_time": "2022-08-07T01:47:23.662027",
     "exception": false,
     "start_time": "2022-08-07T01:47:23.541869",
     "status": "completed"
    },
    "tags": []
   },
   "outputs": [],
   "source": [
    "train_df = pd.read_csv('../input/spaceship-titanic/train.csv')\n",
    "test_df = pd.read_csv('../input/spaceship-titanic/test.csv')\n",
    "\n",
    "train_df['label'] = 'train'\n",
    "test_df['label'] = 'test'\n",
    "\n",
    "# Concat\n",
    "concat_df = pd.concat([train_df , test_df])"
   ]
  },
  {
   "cell_type": "code",
   "execution_count": 16,
   "id": "032fb93d",
   "metadata": {
    "execution": {
     "iopub.execute_input": "2022-08-07T01:47:23.855723Z",
     "iopub.status.busy": "2022-08-07T01:47:23.834920Z",
     "iopub.status.idle": "2022-08-07T01:47:24.077081Z",
     "shell.execute_reply": "2022-08-07T01:47:24.076428Z",
     "shell.execute_reply.started": "2022-03-18T12:40:08.88867Z"
    },
    "papermill": {
     "duration": 0.349561,
     "end_time": "2022-08-07T01:47:24.077237",
     "exception": false,
     "start_time": "2022-08-07T01:47:23.727676",
     "status": "completed"
    },
    "tags": []
   },
   "outputs": [],
   "source": [
    "#Extracting out the 'Cabin' column\n",
    "concat_df['Cabin'].fillna(0, inplace=True)\n",
    "\n",
    "deck = []\n",
    "num = []\n",
    "side = []\n",
    "\n",
    "for i in range(len(concat_df['Cabin'])):\n",
    "    if concat_df['Cabin'].iloc[i] == 0:\n",
    "        result = [math.nan, math.nan, math.nan]\n",
    "    else:\n",
    "        result = concat_df['Cabin'].iloc[i].split('/')\n",
    "    deck.append(result[0])\n",
    "    num.append(result[1])\n",
    "    side.append(result[2])\n",
    "    \n",
    "concat_df['Deck'] = deck\n",
    "concat_df['Num'] = num\n",
    "concat_df['Side'] = side"
   ]
  },
  {
   "cell_type": "code",
   "execution_count": 17,
   "id": "ecb0428f",
   "metadata": {
    "execution": {
     "iopub.execute_input": "2022-08-07T01:47:24.206877Z",
     "iopub.status.busy": "2022-08-07T01:47:24.206198Z",
     "iopub.status.idle": "2022-08-07T01:47:24.217798Z",
     "shell.execute_reply": "2022-08-07T01:47:24.217145Z",
     "shell.execute_reply.started": "2022-03-18T12:40:09.227628Z"
    },
    "papermill": {
     "duration": 0.078523,
     "end_time": "2022-08-07T01:47:24.217958",
     "exception": false,
     "start_time": "2022-08-07T01:47:24.139435",
     "status": "completed"
    },
    "tags": []
   },
   "outputs": [],
   "source": [
    "concat_df.drop(['PassengerId', 'Name', 'Cabin'], axis=1, inplace=True)"
   ]
  },
  {
   "cell_type": "markdown",
   "id": "02107d22",
   "metadata": {
    "papermill": {
     "duration": 0.06206,
     "end_time": "2022-08-07T01:47:24.342262",
     "exception": false,
     "start_time": "2022-08-07T01:47:24.280202",
     "status": "completed"
    },
    "tags": []
   },
   "source": [
    "> #### Let's proceed on with one-hot encoding for our categorical features"
   ]
  },
  {
   "cell_type": "code",
   "execution_count": 18,
   "id": "3c6fa2ae",
   "metadata": {
    "execution": {
     "iopub.execute_input": "2022-08-07T01:47:24.481225Z",
     "iopub.status.busy": "2022-08-07T01:47:24.478287Z",
     "iopub.status.idle": "2022-08-07T01:47:24.900919Z",
     "shell.execute_reply": "2022-08-07T01:47:24.900251Z",
     "shell.execute_reply.started": "2022-03-18T12:40:09.241311Z"
    },
    "papermill": {
     "duration": 0.496186,
     "end_time": "2022-08-07T01:47:24.901079",
     "exception": false,
     "start_time": "2022-08-07T01:47:24.404893",
     "status": "completed"
    },
    "tags": []
   },
   "outputs": [],
   "source": [
    "onehotencoding = pd.get_dummies(concat_df.select_dtypes(include='object').drop(['Transported', 'label'], axis=1))\n",
    "concat_df.drop(concat_df.select_dtypes(include='object').drop(['Transported', 'label'], axis=1), axis=1, inplace=True)\n",
    "concat_set = pd.concat([concat_df, onehotencoding], axis=1)\n",
    "\n",
    "# Split your data\n",
    "train_df = concat_set[concat_set['label'] == 'train']\n",
    "test_df = concat_set[concat_set['label'] == 'test']\n",
    "\n",
    "# Drop your labels\n",
    "train_df = train_df.drop('label', axis=1)\n",
    "test_df = test_df.drop('label', axis=1)"
   ]
  },
  {
   "cell_type": "markdown",
   "id": "9f52f218",
   "metadata": {
    "papermill": {
     "duration": 0.064657,
     "end_time": "2022-08-07T01:47:25.029130",
     "exception": false,
     "start_time": "2022-08-07T01:47:24.964473",
     "status": "completed"
    },
    "tags": []
   },
   "source": [
    "> #### One hot encoding is done\n",
    "> #### We won't carry out any feature scaling and normalization as we would be using Random Forest model for this classification problem\n",
    "> #### However, we would need to fill in the missing (NaN) values for numerical columns for this model to work"
   ]
  },
  {
   "cell_type": "code",
   "execution_count": 19,
   "id": "150ee9ae",
   "metadata": {
    "_kg_hide-input": true,
    "execution": {
     "iopub.execute_input": "2022-08-07T01:47:25.172061Z",
     "iopub.status.busy": "2022-08-07T01:47:25.171286Z",
     "iopub.status.idle": "2022-08-07T01:47:25.199149Z",
     "shell.execute_reply": "2022-08-07T01:47:25.198508Z",
     "shell.execute_reply.started": "2022-03-18T12:40:09.687361Z"
    },
    "papermill": {
     "duration": 0.105415,
     "end_time": "2022-08-07T01:47:25.199312",
     "exception": false,
     "start_time": "2022-08-07T01:47:25.093897",
     "status": "completed"
    },
    "tags": []
   },
   "outputs": [
    {
     "data": {
      "text/plain": [
       "Age                  179\n",
       "RoomService          181\n",
       "FoodCourt            183\n",
       "ShoppingMall         208\n",
       "Spa                  183\n",
       "VRDeck               188\n",
       "Transported            0\n",
       "HomePlanet_Earth       0\n",
       "HomePlanet_Europa      0\n",
       "HomePlanet_Mars        0\n",
       "dtype: int64"
      ]
     },
     "execution_count": 19,
     "metadata": {},
     "output_type": "execute_result"
    }
   ],
   "source": [
    "train_df.isna().sum().head(10)"
   ]
  },
  {
   "cell_type": "markdown",
   "id": "a8616b03",
   "metadata": {
    "papermill": {
     "duration": 0.062794,
     "end_time": "2022-08-07T01:47:25.325058",
     "exception": false,
     "start_time": "2022-08-07T01:47:25.262264",
     "status": "completed"
    },
    "tags": []
   },
   "source": [
    "#### For 'Age', we would use MissForest Imputation.\n",
    "\n",
    "#### For the rest of the missing numerical columns, I will just impute it with the mode value as the data is very skewed towards the low values. "
   ]
  },
  {
   "cell_type": "code",
   "execution_count": 20,
   "id": "0021d01c",
   "metadata": {
    "execution": {
     "iopub.execute_input": "2022-08-07T01:47:25.459073Z",
     "iopub.status.busy": "2022-08-07T01:47:25.458304Z",
     "iopub.status.idle": "2022-08-07T01:47:38.015768Z",
     "shell.execute_reply": "2022-08-07T01:47:38.015060Z",
     "shell.execute_reply.started": "2022-03-18T12:40:09.730219Z"
    },
    "papermill": {
     "duration": 12.626884,
     "end_time": "2022-08-07T01:47:38.015926",
     "exception": false,
     "start_time": "2022-08-07T01:47:25.389042",
     "status": "completed"
    },
    "tags": []
   },
   "outputs": [
    {
     "name": "stdout",
     "output_type": "stream",
     "text": [
      "Collecting missingpy\r\n",
      "  Downloading missingpy-0.2.0-py3-none-any.whl (49 kB)\r\n",
      "     |████████████████████████████████| 49 kB 203 kB/s            \r\n",
      "\u001b[?25hInstalling collected packages: missingpy\r\n",
      "Successfully installed missingpy-0.2.0\r\n",
      "\u001b[33mWARNING: Running pip as the 'root' user can result in broken permissions and conflicting behaviour with the system package manager. It is recommended to use a virtual environment instead: https://pip.pypa.io/warnings/venv\u001b[0m\r\n",
      "Note: you may need to restart the kernel to use updated packages.\n"
     ]
    }
   ],
   "source": [
    "pip install missingpy"
   ]
  },
  {
   "cell_type": "code",
   "execution_count": 21,
   "id": "eee70aa6",
   "metadata": {
    "execution": {
     "iopub.execute_input": "2022-08-07T01:47:38.155937Z",
     "iopub.status.busy": "2022-08-07T01:47:38.154797Z",
     "iopub.status.idle": "2022-08-07T01:47:55.197960Z",
     "shell.execute_reply": "2022-08-07T01:47:55.198506Z",
     "shell.execute_reply.started": "2022-03-18T12:40:18.623354Z"
    },
    "papermill": {
     "duration": 17.116836,
     "end_time": "2022-08-07T01:47:55.198730",
     "exception": false,
     "start_time": "2022-08-07T01:47:38.081894",
     "status": "completed"
    },
    "tags": []
   },
   "outputs": [
    {
     "name": "stderr",
     "output_type": "stream",
     "text": [
      "/opt/conda/lib/python3.7/site-packages/sklearn/utils/deprecation.py:143: FutureWarning: The sklearn.neighbors.base module is  deprecated in version 0.22 and will be removed in version 0.24. The corresponding classes / functions should instead be imported from sklearn.neighbors. Anything that cannot be imported from sklearn.neighbors is now part of the private API.\n",
      "  warnings.warn(message, FutureWarning)\n"
     ]
    },
    {
     "name": "stdout",
     "output_type": "stream",
     "text": [
      "Iteration: 0\n",
      "Iteration: 1\n",
      "Iteration: 2\n"
     ]
    },
    {
     "data": {
      "text/html": [
       "<div>\n",
       "<style scoped>\n",
       "    .dataframe tbody tr th:only-of-type {\n",
       "        vertical-align: middle;\n",
       "    }\n",
       "\n",
       "    .dataframe tbody tr th {\n",
       "        vertical-align: top;\n",
       "    }\n",
       "\n",
       "    .dataframe thead th {\n",
       "        text-align: right;\n",
       "    }\n",
       "</style>\n",
       "<table border=\"1\" class=\"dataframe\">\n",
       "  <thead>\n",
       "    <tr style=\"text-align: right;\">\n",
       "      <th></th>\n",
       "      <th>Age</th>\n",
       "      <th>RoomService</th>\n",
       "      <th>FoodCourt</th>\n",
       "      <th>ShoppingMall</th>\n",
       "      <th>Spa</th>\n",
       "      <th>VRDeck</th>\n",
       "    </tr>\n",
       "  </thead>\n",
       "  <tbody>\n",
       "    <tr>\n",
       "      <th>0</th>\n",
       "      <td>39.0</td>\n",
       "      <td>0.0</td>\n",
       "      <td>0.0</td>\n",
       "      <td>0.0</td>\n",
       "      <td>0.0</td>\n",
       "      <td>0.0</td>\n",
       "    </tr>\n",
       "    <tr>\n",
       "      <th>1</th>\n",
       "      <td>24.0</td>\n",
       "      <td>109.0</td>\n",
       "      <td>9.0</td>\n",
       "      <td>25.0</td>\n",
       "      <td>549.0</td>\n",
       "      <td>44.0</td>\n",
       "    </tr>\n",
       "    <tr>\n",
       "      <th>2</th>\n",
       "      <td>58.0</td>\n",
       "      <td>43.0</td>\n",
       "      <td>3576.0</td>\n",
       "      <td>0.0</td>\n",
       "      <td>6715.0</td>\n",
       "      <td>49.0</td>\n",
       "    </tr>\n",
       "    <tr>\n",
       "      <th>3</th>\n",
       "      <td>33.0</td>\n",
       "      <td>0.0</td>\n",
       "      <td>1283.0</td>\n",
       "      <td>371.0</td>\n",
       "      <td>3329.0</td>\n",
       "      <td>193.0</td>\n",
       "    </tr>\n",
       "    <tr>\n",
       "      <th>4</th>\n",
       "      <td>16.0</td>\n",
       "      <td>303.0</td>\n",
       "      <td>70.0</td>\n",
       "      <td>151.0</td>\n",
       "      <td>565.0</td>\n",
       "      <td>2.0</td>\n",
       "    </tr>\n",
       "    <tr>\n",
       "      <th>...</th>\n",
       "      <td>...</td>\n",
       "      <td>...</td>\n",
       "      <td>...</td>\n",
       "      <td>...</td>\n",
       "      <td>...</td>\n",
       "      <td>...</td>\n",
       "    </tr>\n",
       "    <tr>\n",
       "      <th>8688</th>\n",
       "      <td>41.0</td>\n",
       "      <td>0.0</td>\n",
       "      <td>6819.0</td>\n",
       "      <td>0.0</td>\n",
       "      <td>1643.0</td>\n",
       "      <td>74.0</td>\n",
       "    </tr>\n",
       "    <tr>\n",
       "      <th>8689</th>\n",
       "      <td>18.0</td>\n",
       "      <td>0.0</td>\n",
       "      <td>0.0</td>\n",
       "      <td>0.0</td>\n",
       "      <td>0.0</td>\n",
       "      <td>0.0</td>\n",
       "    </tr>\n",
       "    <tr>\n",
       "      <th>8690</th>\n",
       "      <td>26.0</td>\n",
       "      <td>0.0</td>\n",
       "      <td>0.0</td>\n",
       "      <td>1872.0</td>\n",
       "      <td>1.0</td>\n",
       "      <td>0.0</td>\n",
       "    </tr>\n",
       "    <tr>\n",
       "      <th>8691</th>\n",
       "      <td>32.0</td>\n",
       "      <td>0.0</td>\n",
       "      <td>1049.0</td>\n",
       "      <td>0.0</td>\n",
       "      <td>353.0</td>\n",
       "      <td>3235.0</td>\n",
       "    </tr>\n",
       "    <tr>\n",
       "      <th>8692</th>\n",
       "      <td>44.0</td>\n",
       "      <td>126.0</td>\n",
       "      <td>4688.0</td>\n",
       "      <td>0.0</td>\n",
       "      <td>0.0</td>\n",
       "      <td>12.0</td>\n",
       "    </tr>\n",
       "  </tbody>\n",
       "</table>\n",
       "<p>8693 rows × 6 columns</p>\n",
       "</div>"
      ],
      "text/plain": [
       "       Age  RoomService  FoodCourt  ShoppingMall     Spa  VRDeck\n",
       "0     39.0          0.0        0.0           0.0     0.0     0.0\n",
       "1     24.0        109.0        9.0          25.0   549.0    44.0\n",
       "2     58.0         43.0     3576.0           0.0  6715.0    49.0\n",
       "3     33.0          0.0     1283.0         371.0  3329.0   193.0\n",
       "4     16.0        303.0       70.0         151.0   565.0     2.0\n",
       "...    ...          ...        ...           ...     ...     ...\n",
       "8688  41.0          0.0     6819.0           0.0  1643.0    74.0\n",
       "8689  18.0          0.0        0.0           0.0     0.0     0.0\n",
       "8690  26.0          0.0        0.0        1872.0     1.0     0.0\n",
       "8691  32.0          0.0     1049.0           0.0   353.0  3235.0\n",
       "8692  44.0        126.0     4688.0           0.0     0.0    12.0\n",
       "\n",
       "[8693 rows x 6 columns]"
      ]
     },
     "execution_count": 21,
     "metadata": {},
     "output_type": "execute_result"
    }
   ],
   "source": [
    "from missingpy import MissForest\n",
    "\n",
    "# Impute\n",
    "imputer = MissForest()\n",
    "data_imputed = imputer.fit_transform(train_df.iloc[: , :6])\n",
    "data_imputed = pd.DataFrame(data=data_imputed, columns=train_df.iloc[: , :6].columns)\n",
    "\n",
    "data_imputed"
   ]
  },
  {
   "cell_type": "code",
   "execution_count": 22,
   "id": "c2bfdbe6",
   "metadata": {
    "execution": {
     "iopub.execute_input": "2022-08-07T01:47:55.340230Z",
     "iopub.status.busy": "2022-08-07T01:47:55.336695Z",
     "iopub.status.idle": "2022-08-07T01:47:55.404766Z",
     "shell.execute_reply": "2022-08-07T01:47:55.404198Z",
     "shell.execute_reply.started": "2022-03-18T12:40:47.576988Z"
    },
    "papermill": {
     "duration": 0.138844,
     "end_time": "2022-08-07T01:47:55.404920",
     "exception": false,
     "start_time": "2022-08-07T01:47:55.266076",
     "status": "completed"
    },
    "tags": []
   },
   "outputs": [
    {
     "data": {
      "text/plain": [
       "Transported          0\n",
       "HomePlanet_Earth     0\n",
       "HomePlanet_Europa    0\n",
       "HomePlanet_Mars      0\n",
       "CryoSleep_False      0\n",
       "                    ..\n",
       "RoomService          0\n",
       "FoodCourt            0\n",
       "ShoppingMall         0\n",
       "Spa                  0\n",
       "VRDeck               0\n",
       "Length: 1921, dtype: int64"
      ]
     },
     "execution_count": 22,
     "metadata": {},
     "output_type": "execute_result"
    }
   ],
   "source": [
    "train_df.drop(['Age', 'RoomService', 'FoodCourt', 'ShoppingMall', 'Spa', 'VRDeck'], axis = 1, inplace=True)\n",
    "train_df = pd.concat([train_df, data_imputed], axis=1)\n",
    "train_df.isna().sum()"
   ]
  },
  {
   "cell_type": "code",
   "execution_count": 23,
   "id": "3dcdd2bb",
   "metadata": {
    "execution": {
     "iopub.execute_input": "2022-08-07T01:47:55.546389Z",
     "iopub.status.busy": "2022-08-07T01:47:55.543073Z",
     "iopub.status.idle": "2022-08-07T01:47:55.550373Z",
     "shell.execute_reply": "2022-08-07T01:47:55.549834Z",
     "shell.execute_reply.started": "2022-03-18T12:40:47.64776Z"
    },
    "papermill": {
     "duration": 0.077749,
     "end_time": "2022-08-07T01:47:55.550521",
     "exception": false,
     "start_time": "2022-08-07T01:47:55.472772",
     "status": "completed"
    },
    "tags": []
   },
   "outputs": [],
   "source": [
    "train_df.Transported = train_df.Transported.astype(bool)"
   ]
  },
  {
   "cell_type": "markdown",
   "id": "3eeba9f4",
   "metadata": {
    "papermill": {
     "duration": 0.068136,
     "end_time": "2022-08-07T01:47:55.686123",
     "exception": false,
     "start_time": "2022-08-07T01:47:55.617987",
     "status": "completed"
    },
    "tags": []
   },
   "source": [
    "#### All the work is done for imputation "
   ]
  },
  {
   "cell_type": "code",
   "execution_count": 24,
   "id": "3e765932",
   "metadata": {
    "execution": {
     "iopub.execute_input": "2022-08-07T01:47:55.832366Z",
     "iopub.status.busy": "2022-08-07T01:47:55.830328Z",
     "iopub.status.idle": "2022-08-07T01:47:55.950883Z",
     "shell.execute_reply": "2022-08-07T01:47:55.950229Z",
     "shell.execute_reply.started": "2022-03-14T15:14:36.162686Z"
    },
    "papermill": {
     "duration": 0.196174,
     "end_time": "2022-08-07T01:47:55.951046",
     "exception": false,
     "start_time": "2022-08-07T01:47:55.754872",
     "status": "completed"
    },
    "tags": []
   },
   "outputs": [],
   "source": [
    "from sklearn.model_selection import train_test_split\n",
    "y = train_df['Transported']\n",
    "X = train_df.drop('Transported', axis=1)\n",
    "\n",
    "X_train, X_val, y_train, y_val = train_test_split(X, y, test_size=0.30, random_state=42)"
   ]
  },
  {
   "cell_type": "markdown",
   "id": "51c7cec7",
   "metadata": {
    "papermill": {
     "duration": 0.067795,
     "end_time": "2022-08-07T01:47:56.086290",
     "exception": false,
     "start_time": "2022-08-07T01:47:56.018495",
     "status": "completed"
    },
    "tags": []
   },
   "source": [
    "# 3. Training + Validation"
   ]
  },
  {
   "cell_type": "markdown",
   "id": "7cedc159",
   "metadata": {
    "papermill": {
     "duration": 0.067647,
     "end_time": "2022-08-07T01:47:56.221632",
     "exception": false,
     "start_time": "2022-08-07T01:47:56.153985",
     "status": "completed"
    },
    "tags": []
   },
   "source": [
    "![](https://i.ytimg.com/vi/goPiwckWE9M/maxresdefault.jpg)"
   ]
  },
  {
   "cell_type": "markdown",
   "id": "bf3b7164",
   "metadata": {
    "papermill": {
     "duration": 0.066966,
     "end_time": "2022-08-07T01:47:56.356785",
     "exception": false,
     "start_time": "2022-08-07T01:47:56.289819",
     "status": "completed"
    },
    "tags": []
   },
   "source": [
    "##### Image taken from https://www.youtube.com/watch?v=goPiwckWE9M"
   ]
  },
  {
   "cell_type": "markdown",
   "id": "b20c5ded",
   "metadata": {
    "papermill": {
     "duration": 0.067863,
     "end_time": "2022-08-07T01:47:56.493380",
     "exception": false,
     "start_time": "2022-08-07T01:47:56.425517",
     "status": "completed"
    },
    "tags": []
   },
   "source": [
    "#### For this dataset, I would be using **Random Forest Classifier**. \n",
    "#### For those of you not familiar with this model, it is basically a ensemble method where there are numerous numbers of decision trees and averaging is used to improve the predictive accuracy and control over-fitting. \n",
    "#### This model heavily relies on the \"Wisdom of Crowds\"\n",
    "#### As we know, decision trees can prove to be extremely accurate and does not need its features to be scaled nor normalized \n",
    "#### Furthermore, overfitting will be controlled later in the hyperparameter tuning section via hyperparameters such as n_estimators and max_depth\n",
    "#### For more information, please visit this website https://towardsdatascience.com/understanding-random-forest-58381e0602d2 which I think does a terrific job of explaining this model"
   ]
  },
  {
   "cell_type": "code",
   "execution_count": 25,
   "id": "9b273d03",
   "metadata": {
    "execution": {
     "iopub.execute_input": "2022-08-07T01:47:56.653603Z",
     "iopub.status.busy": "2022-08-07T01:47:56.652207Z",
     "iopub.status.idle": "2022-08-07T01:47:59.463420Z",
     "shell.execute_reply": "2022-08-07T01:47:59.462589Z",
     "shell.execute_reply.started": "2022-03-05T11:43:03.04231Z"
    },
    "papermill": {
     "duration": 2.902981,
     "end_time": "2022-08-07T01:47:59.463612",
     "exception": false,
     "start_time": "2022-08-07T01:47:56.560631",
     "status": "completed"
    },
    "tags": []
   },
   "outputs": [
    {
     "name": "stdout",
     "output_type": "stream",
     "text": [
      "The accuracy is 0.7891104294478528 and roc_auc_score is 0.865280136172936\n"
     ]
    }
   ],
   "source": [
    "from sklearn.ensemble import RandomForestClassifier\n",
    "from sklearn.metrics import accuracy_score\n",
    "from sklearn.metrics import roc_auc_score\n",
    "\n",
    "model = RandomForestClassifier(n_jobs=-1, random_state=42)\n",
    "\n",
    "#Fitting the model\n",
    "model.fit(X_train,y_train)\n",
    "\n",
    "#Prediction\n",
    "pred = model.predict(X_val)\n",
    "\n",
    "#Evaluation\n",
    "accuracy = accuracy_score(y_val, pred)\n",
    "auc = roc_auc_score(y_val, model.predict_proba(X_val)[:, 1])\n",
    "\n",
    "#Statement\n",
    "print(\"The accuracy is {} and roc_auc_score is {}\".format(accuracy, auc))"
   ]
  },
  {
   "cell_type": "markdown",
   "id": "bfebcd48",
   "metadata": {
    "papermill": {
     "duration": 0.068068,
     "end_time": "2022-08-07T01:47:59.599778",
     "exception": false,
     "start_time": "2022-08-07T01:47:59.531710",
     "status": "completed"
    },
    "tags": []
   },
   "source": [
    "#### Our model engineering won't be complete without some Hyperparameter Tuning which I will be performing using GridSearch with Cross Validation"
   ]
  },
  {
   "cell_type": "code",
   "execution_count": 26,
   "id": "993119ac",
   "metadata": {
    "_kg_hide-output": true,
    "collapsed": true,
    "execution": {
     "iopub.execute_input": "2022-08-07T01:47:59.770562Z",
     "iopub.status.busy": "2022-08-07T01:47:59.765193Z",
     "iopub.status.idle": "2022-08-07T02:02:05.670046Z",
     "shell.execute_reply": "2022-08-07T02:02:05.669293Z",
     "shell.execute_reply.started": "2022-03-05T11:43:06.020857Z"
    },
    "jupyter": {
     "outputs_hidden": true
    },
    "papermill": {
     "duration": 845.99682,
     "end_time": "2022-08-07T02:02:05.670233",
     "exception": false,
     "start_time": "2022-08-07T01:47:59.673413",
     "status": "completed"
    },
    "tags": []
   },
   "outputs": [
    {
     "name": "stdout",
     "output_type": "stream",
     "text": [
      "Fitting 3 folds for each of 180 candidates, totalling 540 fits\n"
     ]
    },
    {
     "name": "stderr",
     "output_type": "stream",
     "text": [
      "[Parallel(n_jobs=-1)]: Using backend LokyBackend with 4 concurrent workers.\n",
      "[Parallel(n_jobs=-1)]: Done  33 tasks      | elapsed:  1.7min\n",
      "[Parallel(n_jobs=-1)]: Done 154 tasks      | elapsed:  4.5min\n"
     ]
    },
    {
     "name": "stdout",
     "output_type": "stream",
     "text": [
      "[CV] max_depth=70, min_samples_leaf=1, min_samples_split=2, n_estimators=100 \n",
      "[CV]  max_depth=70, min_samples_leaf=1, min_samples_split=2, n_estimators=100, total=   7.1s\n",
      "[CV] max_depth=70, min_samples_leaf=1, min_samples_split=2, n_estimators=200 \n",
      "[CV]  max_depth=70, min_samples_leaf=1, min_samples_split=2, n_estimators=200, total=  12.8s\n",
      "[CV] max_depth=70, min_samples_leaf=1, min_samples_split=2, n_estimators=250 \n",
      "[CV]  max_depth=70, min_samples_leaf=1, min_samples_split=2, n_estimators=250, total=  15.5s\n",
      "[CV] max_depth=70, min_samples_leaf=1, min_samples_split=2, n_estimators=300 \n",
      "[CV]  max_depth=70, min_samples_leaf=1, min_samples_split=2, n_estimators=300, total=  18.3s\n",
      "[CV] max_depth=70, min_samples_leaf=1, min_samples_split=4, n_estimators=150 \n",
      "[CV]  max_depth=70, min_samples_leaf=1, min_samples_split=4, n_estimators=150, total=   8.8s\n",
      "[CV] max_depth=70, min_samples_leaf=1, min_samples_split=4, n_estimators=250 \n",
      "[CV]  max_depth=70, min_samples_leaf=1, min_samples_split=4, n_estimators=250, total=  14.4s\n",
      "[CV] max_depth=70, min_samples_leaf=1, min_samples_split=4, n_estimators=300 \n",
      "[CV]  max_depth=70, min_samples_leaf=1, min_samples_split=4, n_estimators=300, total=  17.5s\n",
      "[CV] max_depth=70, min_samples_leaf=1, min_samples_split=6, n_estimators=150 \n",
      "[CV]  max_depth=70, min_samples_leaf=1, min_samples_split=6, n_estimators=150, total=   9.0s\n",
      "[CV] max_depth=70, min_samples_leaf=1, min_samples_split=6, n_estimators=200 \n",
      "[CV]  max_depth=70, min_samples_leaf=1, min_samples_split=6, n_estimators=200, total=  11.0s\n",
      "[CV] max_depth=70, min_samples_leaf=1, min_samples_split=6, n_estimators=250 \n",
      "[CV]  max_depth=70, min_samples_leaf=1, min_samples_split=6, n_estimators=250, total=  14.2s\n",
      "[CV] max_depth=70, min_samples_leaf=2, min_samples_split=2, n_estimators=100 \n",
      "[CV]  max_depth=70, min_samples_leaf=2, min_samples_split=2, n_estimators=100, total=   2.9s\n",
      "[CV] max_depth=70, min_samples_leaf=2, min_samples_split=2, n_estimators=100 \n",
      "[CV]  max_depth=70, min_samples_leaf=2, min_samples_split=2, n_estimators=100, total=   2.8s\n",
      "[CV] max_depth=70, min_samples_leaf=2, min_samples_split=2, n_estimators=150 \n",
      "[CV]  max_depth=70, min_samples_leaf=2, min_samples_split=2, n_estimators=150, total=   3.7s\n",
      "[CV] max_depth=70, min_samples_leaf=2, min_samples_split=2, n_estimators=200 \n",
      "[CV]  max_depth=70, min_samples_leaf=2, min_samples_split=2, n_estimators=200, total=   3.7s\n",
      "[CV] max_depth=70, min_samples_leaf=2, min_samples_split=2, n_estimators=250 \n",
      "[CV]  max_depth=70, min_samples_leaf=2, min_samples_split=2, n_estimators=250, total=   4.6s\n",
      "[CV] max_depth=70, min_samples_leaf=2, min_samples_split=2, n_estimators=300 \n",
      "[CV]  max_depth=70, min_samples_leaf=2, min_samples_split=2, n_estimators=300, total=   5.4s\n",
      "[CV] max_depth=70, min_samples_leaf=2, min_samples_split=4, n_estimators=200 \n",
      "[CV]  max_depth=70, min_samples_leaf=2, min_samples_split=4, n_estimators=200, total=   3.7s\n",
      "[CV] max_depth=70, min_samples_leaf=2, min_samples_split=4, n_estimators=250 \n",
      "[CV]  max_depth=70, min_samples_leaf=2, min_samples_split=4, n_estimators=250, total=   4.8s\n",
      "[CV] max_depth=70, min_samples_leaf=2, min_samples_split=4, n_estimators=300 \n",
      "[CV]  max_depth=70, min_samples_leaf=2, min_samples_split=4, n_estimators=300, total=   5.2s\n",
      "[CV] max_depth=70, min_samples_leaf=2, min_samples_split=6, n_estimators=150 \n",
      "[CV]  max_depth=70, min_samples_leaf=2, min_samples_split=6, n_estimators=150, total=   3.0s\n",
      "[CV] max_depth=70, min_samples_leaf=2, min_samples_split=6, n_estimators=250 \n",
      "[CV]  max_depth=70, min_samples_leaf=2, min_samples_split=6, n_estimators=250, total=   4.7s\n",
      "[CV] max_depth=70, min_samples_leaf=2, min_samples_split=6, n_estimators=300 \n",
      "[CV]  max_depth=70, min_samples_leaf=2, min_samples_split=6, n_estimators=300, total=   5.0s\n",
      "[CV] max_depth=70, min_samples_leaf=3, min_samples_split=2, n_estimators=150 \n",
      "[CV]  max_depth=70, min_samples_leaf=3, min_samples_split=2, n_estimators=150, total=   2.1s\n",
      "[CV] max_depth=70, min_samples_leaf=3, min_samples_split=2, n_estimators=200 \n",
      "[CV]  max_depth=70, min_samples_leaf=3, min_samples_split=2, n_estimators=200, total=   2.6s\n",
      "[CV] max_depth=70, min_samples_leaf=3, min_samples_split=2, n_estimators=250 \n",
      "[CV]  max_depth=70, min_samples_leaf=3, min_samples_split=2, n_estimators=250, total=   3.4s\n",
      "[CV] max_depth=70, min_samples_leaf=3, min_samples_split=4, n_estimators=100 \n",
      "[CV]  max_depth=70, min_samples_leaf=3, min_samples_split=4, n_estimators=100, total=   1.7s\n",
      "[CV] max_depth=70, min_samples_leaf=3, min_samples_split=4, n_estimators=150 \n",
      "[CV]  max_depth=70, min_samples_leaf=3, min_samples_split=4, n_estimators=150, total=   1.9s\n",
      "[CV] max_depth=70, min_samples_leaf=3, min_samples_split=4, n_estimators=200 \n",
      "[CV]  max_depth=70, min_samples_leaf=3, min_samples_split=4, n_estimators=200, total=   2.6s\n",
      "[CV] max_depth=70, min_samples_leaf=3, min_samples_split=4, n_estimators=250 \n",
      "[CV]  max_depth=70, min_samples_leaf=3, min_samples_split=4, n_estimators=250, total=   3.3s\n",
      "[CV] max_depth=70, min_samples_leaf=3, min_samples_split=6, n_estimators=100 \n",
      "[CV]  max_depth=70, min_samples_leaf=3, min_samples_split=6, n_estimators=100, total=   1.8s\n",
      "[CV] max_depth=70, min_samples_leaf=3, min_samples_split=6, n_estimators=100 \n",
      "[CV]  max_depth=70, min_samples_leaf=3, min_samples_split=6, n_estimators=100, total=   1.4s\n",
      "[CV] max_depth=70, min_samples_leaf=3, min_samples_split=6, n_estimators=200 \n",
      "[CV]  max_depth=70, min_samples_leaf=3, min_samples_split=6, n_estimators=200, total=   2.5s\n",
      "[CV] max_depth=70, min_samples_leaf=3, min_samples_split=6, n_estimators=250 \n",
      "[CV]  max_depth=70, min_samples_leaf=3, min_samples_split=6, n_estimators=250, total=   3.2s\n",
      "[CV] max_depth=70, min_samples_leaf=3, min_samples_split=6, n_estimators=300 \n",
      "[CV]  max_depth=70, min_samples_leaf=3, min_samples_split=6, n_estimators=300, total=   4.9s\n",
      "[CV] max_depth=90, min_samples_leaf=1, min_samples_split=2, n_estimators=150 \n",
      "[CV]  max_depth=90, min_samples_leaf=1, min_samples_split=2, n_estimators=150, total=   9.6s\n",
      "[CV] max_depth=90, min_samples_leaf=1, min_samples_split=2, n_estimators=200 \n",
      "[CV]  max_depth=90, min_samples_leaf=1, min_samples_split=2, n_estimators=200, total=  12.5s\n",
      "[CV] max_depth=90, min_samples_leaf=1, min_samples_split=2, n_estimators=250 \n",
      "[CV]  max_depth=90, min_samples_leaf=1, min_samples_split=2, n_estimators=250, total=  16.2s\n",
      "[CV] max_depth=90, min_samples_leaf=1, min_samples_split=4, n_estimators=100 \n",
      "[CV]  max_depth=90, min_samples_leaf=1, min_samples_split=4, n_estimators=100, total=   6.8s\n",
      "[CV] max_depth=90, min_samples_leaf=1, min_samples_split=4, n_estimators=100 \n",
      "[CV]  max_depth=90, min_samples_leaf=1, min_samples_split=4, n_estimators=100, total=   6.4s\n",
      "[CV] max_depth=90, min_samples_leaf=1, min_samples_split=4, n_estimators=150 \n",
      "[CV]  max_depth=90, min_samples_leaf=1, min_samples_split=4, n_estimators=150, total=   9.3s\n",
      "[CV] max_depth=90, min_samples_leaf=1, min_samples_split=4, n_estimators=250 \n",
      "[CV]  max_depth=90, min_samples_leaf=1, min_samples_split=4, n_estimators=250, total=  15.4s\n",
      "[CV] max_depth=90, min_samples_leaf=1, min_samples_split=4, n_estimators=300 \n",
      "[CV]  max_depth=90, min_samples_leaf=1, min_samples_split=4, n_estimators=300, total=  17.5s\n",
      "[CV] max_depth=90, min_samples_leaf=1, min_samples_split=6, n_estimators=150 \n",
      "[CV]  max_depth=90, min_samples_leaf=1, min_samples_split=6, n_estimators=150, total=   8.8s\n",
      "[CV] max_depth=90, min_samples_leaf=1, min_samples_split=6, n_estimators=200 \n",
      "[CV]  max_depth=90, min_samples_leaf=1, min_samples_split=6, n_estimators=200, total=  11.8s\n",
      "[CV] max_depth=90, min_samples_leaf=1, min_samples_split=6, n_estimators=250 \n",
      "[CV]  max_depth=90, min_samples_leaf=1, min_samples_split=6, n_estimators=250, total=  14.7s\n",
      "[CV] max_depth=90, min_samples_leaf=2, min_samples_split=2, n_estimators=100 \n",
      "[CV]  max_depth=90, min_samples_leaf=2, min_samples_split=2, n_estimators=100, total=   2.9s\n",
      "[CV] max_depth=90, min_samples_leaf=2, min_samples_split=2, n_estimators=100 \n",
      "[CV]  max_depth=90, min_samples_leaf=2, min_samples_split=2, n_estimators=100, total=   2.6s\n",
      "[CV] max_depth=90, min_samples_leaf=2, min_samples_split=2, n_estimators=150 \n",
      "[CV]  max_depth=90, min_samples_leaf=2, min_samples_split=2, n_estimators=150, total=   3.1s[CV] max_depth=70, min_samples_leaf=1, min_samples_split=2, n_estimators=150 \n",
      "[CV]  max_depth=70, min_samples_leaf=1, min_samples_split=2, n_estimators=150, total=   9.5s\n",
      "[CV] max_depth=70, min_samples_leaf=1, min_samples_split=2, n_estimators=200 \n",
      "[CV]  max_depth=70, min_samples_leaf=1, min_samples_split=2, n_estimators=200, total=  12.8s\n",
      "[CV] max_depth=70, min_samples_leaf=1, min_samples_split=2, n_estimators=250 \n",
      "[CV]  max_depth=70, min_samples_leaf=1, min_samples_split=2, n_estimators=250, total=  15.6s\n",
      "[CV] max_depth=70, min_samples_leaf=1, min_samples_split=4, n_estimators=100 \n",
      "[CV]  max_depth=70, min_samples_leaf=1, min_samples_split=4, n_estimators=100, total=   7.0s\n",
      "[CV] max_depth=70, min_samples_leaf=1, min_samples_split=4, n_estimators=100 \n",
      "[CV]  max_depth=70, min_samples_leaf=1, min_samples_split=4, n_estimators=100, total=   6.4s\n",
      "[CV] max_depth=70, min_samples_leaf=1, min_samples_split=4, n_estimators=150 \n",
      "[CV]  max_depth=70, min_samples_leaf=1, min_samples_split=4, n_estimators=150, total=   9.1s\n",
      "[CV] max_depth=70, min_samples_leaf=1, min_samples_split=4, n_estimators=200 \n",
      "[CV]  max_depth=70, min_samples_leaf=1, min_samples_split=4, n_estimators=200, total=  12.0s\n",
      "[CV] max_depth=70, min_samples_leaf=1, min_samples_split=4, n_estimators=300 \n",
      "[CV]  max_depth=70, min_samples_leaf=1, min_samples_split=4, n_estimators=300, total=  18.0s\n",
      "[CV] max_depth=70, min_samples_leaf=1, min_samples_split=6, n_estimators=100 \n",
      "[CV]  max_depth=70, min_samples_leaf=1, min_samples_split=6, n_estimators=100, total=   5.9s\n",
      "[CV] max_depth=70, min_samples_leaf=1, min_samples_split=6, n_estimators=150 \n",
      "[CV]  max_depth=70, min_samples_leaf=1, min_samples_split=6, n_estimators=150, total=   8.1s\n",
      "[CV] max_depth=70, min_samples_leaf=1, min_samples_split=6, n_estimators=200 \n",
      "[CV]  max_depth=70, min_samples_leaf=1, min_samples_split=6, n_estimators=200, total=  11.1s\n",
      "[CV] max_depth=70, min_samples_leaf=1, min_samples_split=6, n_estimators=300 \n",
      "[CV]  max_depth=70, min_samples_leaf=1, min_samples_split=6, n_estimators=300, total=  17.3s\n",
      "[CV] max_depth=70, min_samples_leaf=2, min_samples_split=2, n_estimators=100 \n",
      "[CV]  max_depth=70, min_samples_leaf=2, min_samples_split=2, n_estimators=100, total=   2.7s\n",
      "[CV] max_depth=70, min_samples_leaf=2, min_samples_split=2, n_estimators=150 \n",
      "[CV]  max_depth=70, min_samples_leaf=2, min_samples_split=2, n_estimators=150, total=   3.0s\n",
      "[CV] max_depth=70, min_samples_leaf=2, min_samples_split=2, n_estimators=200 \n",
      "[CV]  max_depth=70, min_samples_leaf=2, min_samples_split=2, n_estimators=200, total=   3.7s\n",
      "[CV] max_depth=70, min_samples_leaf=2, min_samples_split=2, n_estimators=250 \n",
      "[CV]  max_depth=70, min_samples_leaf=2, min_samples_split=2, n_estimators=250, total=   4.5s\n",
      "[CV] max_depth=70, min_samples_leaf=2, min_samples_split=4, n_estimators=100 \n",
      "[CV]  max_depth=70, min_samples_leaf=2, min_samples_split=4, n_estimators=100, total=   2.1s\n",
      "[CV] max_depth=70, min_samples_leaf=2, min_samples_split=4, n_estimators=100 \n",
      "[CV]  max_depth=70, min_samples_leaf=2, min_samples_split=4, n_estimators=100, total=   1.9s\n",
      "[CV] max_depth=70, min_samples_leaf=2, min_samples_split=4, n_estimators=150 \n",
      "[CV]  max_depth=70, min_samples_leaf=2, min_samples_split=4, n_estimators=150, total=   2.8s\n",
      "[CV] max_depth=70, min_samples_leaf=2, min_samples_split=4, n_estimators=250 \n",
      "[CV]  max_depth=70, min_samples_leaf=2, min_samples_split=4, n_estimators=250, total=   4.4s\n",
      "[CV] max_depth=70, min_samples_leaf=2, min_samples_split=4, n_estimators=300 \n",
      "[CV]  max_depth=70, min_samples_leaf=2, min_samples_split=4, n_estimators=300, total=   5.7s\n",
      "[CV] max_depth=70, min_samples_leaf=2, min_samples_split=6, n_estimators=150 \n",
      "[CV]  max_depth=70, min_samples_leaf=2, min_samples_split=6, n_estimators=150, total=   2.6s\n",
      "[CV] max_depth=70, min_samples_leaf=2, min_samples_split=6, n_estimators=200 \n",
      "[CV]  max_depth=70, min_samples_leaf=2, min_samples_split=6, n_estimators=200, total=   3.7s\n",
      "[CV] max_depth=70, min_samples_leaf=2, min_samples_split=6, n_estimators=250 \n",
      "[CV]  max_depth=70, min_samples_leaf=2, min_samples_split=6, n_estimators=250, total=   5.0s\n",
      "[CV] max_depth=70, min_samples_leaf=3, min_samples_split=2, n_estimators=100 \n",
      "[CV]  max_depth=70, min_samples_leaf=3, min_samples_split=2, n_estimators=100, total=   2.0s\n",
      "[CV] max_depth=70, min_samples_leaf=3, min_samples_split=2, n_estimators=100 \n",
      "[CV]  max_depth=70, min_samples_leaf=3, min_samples_split=2, n_estimators=100, total=   1.6s\n",
      "[CV] max_depth=70, min_samples_leaf=3, min_samples_split=2, n_estimators=150 \n",
      "[CV]  max_depth=70, min_samples_leaf=3, min_samples_split=2, n_estimators=150, total=   1.9s\n",
      "[CV] max_depth=70, min_samples_leaf=3, min_samples_split=2, n_estimators=200 \n",
      "[CV]  max_depth=70, min_samples_leaf=3, min_samples_split=2, n_estimators=200, total=   2.7s\n",
      "[CV] max_depth=70, min_samples_leaf=3, min_samples_split=2, n_estimators=300 \n",
      "[CV]  max_depth=70, min_samples_leaf=3, min_samples_split=2, n_estimators=300, total=   3.5s\n",
      "[CV] max_depth=70, min_samples_leaf=3, min_samples_split=4, n_estimators=100 \n",
      "[CV]  max_depth=70, min_samples_leaf=3, min_samples_split=4, n_estimators=100, total=   1.4s\n",
      "[CV] max_depth=70, min_samples_leaf=3, min_samples_split=4, n_estimators=150 \n",
      "[CV]  max_depth=70, min_samples_leaf=3, min_samples_split=4, n_estimators=150, total=   2.0s\n",
      "[CV] max_depth=70, min_samples_leaf=3, min_samples_split=4, n_estimators=200 \n",
      "[CV]  max_depth=70, min_samples_leaf=3, min_samples_split=4, n_estimators=200, total=   2.8s\n",
      "[CV] max_depth=70, min_samples_leaf=3, min_samples_split=4, n_estimators=300 \n",
      "[CV]  max_depth=70, min_samples_leaf=3, min_samples_split=4, n_estimators=300, total=   4.0s\n",
      "[CV] max_depth=70, min_samples_leaf=3, min_samples_split=6, n_estimators=100 \n",
      "[CV]  max_depth=70, min_samples_leaf=3, min_samples_split=6, n_estimators=100, total=   1.5s\n",
      "[CV] max_depth=70, min_samples_leaf=3, min_samples_split=6, n_estimators=150 \n",
      "[CV]  max_depth=70, min_samples_leaf=3, min_samples_split=6, n_estimators=150, total=   2.0s\n",
      "[CV] max_depth=70, min_samples_leaf=3, min_samples_split=6, n_estimators=250 \n",
      "[CV]  max_depth=70, min_samples_leaf=3, min_samples_split=6, n_estimators=250, total=   3.1s\n",
      "[CV] max_depth=70, min_samples_leaf=3, min_samples_split=6, n_estimators=300 \n",
      "[CV]  max_depth=70, min_samples_leaf=3, min_samples_split=6, n_estimators=300, total=   4.3s\n",
      "[CV] max_depth=90, min_samples_leaf=1, min_samples_split=2, n_estimators=100 \n",
      "[CV]  max_depth=90, min_samples_leaf=1, min_samples_split=2, n_estimators=100, total=   6.4s\n",
      "[CV] max_depth=90, min_samples_leaf=1, min_samples_split=2, n_estimators=200 \n",
      "[CV]  max_depth=90, min_samples_leaf=1, min_samples_split=2, n_estimators=200, total=  12.6s\n",
      "[CV] max_depth=90, min_samples_leaf=1, min_samples_split=2, n_estimators=250 \n",
      "[CV]  max_depth=90, min_samples_leaf=1, min_samples_split=2, n_estimators=250, total=  15.8s\n",
      "[CV] max_depth=90, min_samples_leaf=1, min_samples_split=2, n_estimators=300 \n",
      "[CV]  max_depth=90, min_samples_leaf=1, min_samples_split=2, n_estimators=300, total=  18.6s\n",
      "[CV] max_depth=90, min_samples_leaf=1, min_samples_split=4, n_estimators=200 \n",
      "[CV]  max_depth=90, min_samples_leaf=1, min_samples_split=4, n_estimators=200, total=  11.7s\n",
      "[CV] max_depth=90, min_samples_leaf=1, min_samples_split=4, n_estimators=250 \n",
      "[CV]  max_depth=90, min_samples_leaf=1, min_samples_split=4, n_estimators=250, total=  15.3s\n",
      "[CV] max_depth=90, min_samples_leaf=1, min_samples_split=4, n_estimators=300 \n",
      "[CV]  max_depth=90, min_samples_leaf=1, min_samples_split=4, n_estimators=300, total=  17.3s\n",
      "[CV] max_depth=90, min_samples_leaf=1, min_samples_split=6, n_estimators=150 \n",
      "[CV]  max_depth=90, min_samples_leaf=1, min_samples_split=6, n_estimators=150, total=   8.6s\n",
      "[CV] max_depth=90, min_samples_leaf=1, min_samples_split=6, n_estimators=250 \n",
      "[CV]  max_depth=90, min_samples_leaf=1, min_samples_split=6, n_estimators=250, total=  14.5s\n",
      "[CV] max_depth=90, min_samples_leaf=1, min_samples_split=6, n_estimators=300 \n",
      "[CV]  max_depth=90, min_samples_leaf=1, min_samples_split=6, n_estimators=300, total=  16.5s\n",
      "[CV] max_depth=90, min_samples_leaf=2, min_samples_split=2, n_estimators=150 \n",
      "[CV]  max_depth=90, min_samples_leaf=2, min_samples_split=2, n_estimators=150, total=   3.3s[CV] max_depth=70, min_samples_leaf=1, min_samples_split=2, n_estimators=100 \n",
      "[CV]  max_depth=70, min_samples_leaf=1, min_samples_split=2, n_estimators=100, total=   6.7s\n",
      "[CV] max_depth=70, min_samples_leaf=1, min_samples_split=2, n_estimators=150 \n",
      "[CV]  max_depth=70, min_samples_leaf=1, min_samples_split=2, n_estimators=150, total=   9.2s\n",
      "[CV] max_depth=70, min_samples_leaf=1, min_samples_split=2, n_estimators=200 \n",
      "[CV]  max_depth=70, min_samples_leaf=1, min_samples_split=2, n_estimators=200, total=  12.4s\n",
      "[CV] max_depth=70, min_samples_leaf=1, min_samples_split=2, n_estimators=300 \n",
      "[CV]  max_depth=70, min_samples_leaf=1, min_samples_split=2, n_estimators=300, total=  19.0s\n",
      "[CV] max_depth=70, min_samples_leaf=1, min_samples_split=4, n_estimators=100 \n",
      "[CV]  max_depth=70, min_samples_leaf=1, min_samples_split=4, n_estimators=100, total=   6.6s\n",
      "[CV] max_depth=70, min_samples_leaf=1, min_samples_split=4, n_estimators=200 \n",
      "[CV]  max_depth=70, min_samples_leaf=1, min_samples_split=4, n_estimators=200, total=  11.3s\n",
      "[CV] max_depth=70, min_samples_leaf=1, min_samples_split=4, n_estimators=250 \n",
      "[CV]  max_depth=70, min_samples_leaf=1, min_samples_split=4, n_estimators=250, total=  14.4s\n",
      "[CV] max_depth=70, min_samples_leaf=1, min_samples_split=4, n_estimators=300 \n",
      "[CV]  max_depth=70, min_samples_leaf=1, min_samples_split=4, n_estimators=300, total=  17.3s\n",
      "[CV] max_depth=70, min_samples_leaf=1, min_samples_split=6, n_estimators=150 \n",
      "[CV]  max_depth=70, min_samples_leaf=1, min_samples_split=6, n_estimators=150, total=   8.6s\n",
      "[CV] max_depth=70, min_samples_leaf=1, min_samples_split=6, n_estimators=250 \n",
      "[CV]  max_depth=70, min_samples_leaf=1, min_samples_split=6, n_estimators=250, total=  14.3s\n",
      "[CV] max_depth=70, min_samples_leaf=1, min_samples_split=6, n_estimators=300 \n",
      "[CV]  max_depth=70, min_samples_leaf=1, min_samples_split=6, n_estimators=300, total=  16.0s\n",
      "[CV] max_depth=70, min_samples_leaf=2, min_samples_split=2, n_estimators=150 \n",
      "[CV]  max_depth=70, min_samples_leaf=2, min_samples_split=2, n_estimators=150, total=   3.3s\n",
      "[CV] max_depth=70, min_samples_leaf=2, min_samples_split=2, n_estimators=250 \n",
      "[CV]  max_depth=70, min_samples_leaf=2, min_samples_split=2, n_estimators=250, total=   4.7s\n",
      "[CV] max_depth=70, min_samples_leaf=2, min_samples_split=2, n_estimators=300 \n",
      "[CV]  max_depth=70, min_samples_leaf=2, min_samples_split=2, n_estimators=300, total=   5.8s\n",
      "[CV] max_depth=70, min_samples_leaf=2, min_samples_split=4, n_estimators=150 \n",
      "[CV]  max_depth=70, min_samples_leaf=2, min_samples_split=4, n_estimators=150, total=   3.1s\n",
      "[CV] max_depth=70, min_samples_leaf=2, min_samples_split=4, n_estimators=200 \n",
      "[CV]  max_depth=70, min_samples_leaf=2, min_samples_split=4, n_estimators=200, total=   3.6s\n",
      "[CV] max_depth=70, min_samples_leaf=2, min_samples_split=4, n_estimators=250 \n",
      "[CV]  max_depth=70, min_samples_leaf=2, min_samples_split=4, n_estimators=250, total=   4.7s\n",
      "[CV] max_depth=70, min_samples_leaf=2, min_samples_split=6, n_estimators=100 \n",
      "[CV]  max_depth=70, min_samples_leaf=2, min_samples_split=6, n_estimators=100, total=   2.4s\n",
      "[CV] max_depth=70, min_samples_leaf=2, min_samples_split=6, n_estimators=100 \n",
      "[CV]  max_depth=70, min_samples_leaf=2, min_samples_split=6, n_estimators=100, total=   2.1s\n",
      "[CV] max_depth=70, min_samples_leaf=2, min_samples_split=6, n_estimators=200 \n",
      "[CV]  max_depth=70, min_samples_leaf=2, min_samples_split=6, n_estimators=200, total=   3.8s\n",
      "[CV] max_depth=70, min_samples_leaf=2, min_samples_split=6, n_estimators=250 \n",
      "[CV]  max_depth=70, min_samples_leaf=2, min_samples_split=6, n_estimators=250, total=   5.0s\n",
      "[CV] max_depth=70, min_samples_leaf=2, min_samples_split=6, n_estimators=300 \n",
      "[CV]  max_depth=70, min_samples_leaf=2, min_samples_split=6, n_estimators=300, total=   5.0s\n",
      "[CV] max_depth=70, min_samples_leaf=3, min_samples_split=2, n_estimators=200 \n",
      "[CV]  max_depth=70, min_samples_leaf=3, min_samples_split=2, n_estimators=200, total=   2.6s\n",
      "[CV] max_depth=70, min_samples_leaf=3, min_samples_split=2, n_estimators=250 \n",
      "[CV]  max_depth=70, min_samples_leaf=3, min_samples_split=2, n_estimators=250, total=   3.4s\n",
      "[CV] max_depth=70, min_samples_leaf=3, min_samples_split=2, n_estimators=300 \n",
      "[CV]  max_depth=70, min_samples_leaf=3, min_samples_split=2, n_estimators=300, total=   3.7s\n",
      "[CV] max_depth=70, min_samples_leaf=3, min_samples_split=4, n_estimators=150 \n",
      "[CV]  max_depth=70, min_samples_leaf=3, min_samples_split=4, n_estimators=150, total=   1.9s\n",
      "[CV] max_depth=70, min_samples_leaf=3, min_samples_split=4, n_estimators=250 \n",
      "[CV]  max_depth=70, min_samples_leaf=3, min_samples_split=4, n_estimators=250, total=   3.2s\n",
      "[CV] max_depth=70, min_samples_leaf=3, min_samples_split=4, n_estimators=300 \n",
      "[CV]  max_depth=70, min_samples_leaf=3, min_samples_split=4, n_estimators=300, total=   3.6s\n",
      "[CV] max_depth=70, min_samples_leaf=3, min_samples_split=6, n_estimators=150 \n",
      "[CV]  max_depth=70, min_samples_leaf=3, min_samples_split=6, n_estimators=150, total=   2.0s\n",
      "[CV] max_depth=70, min_samples_leaf=3, min_samples_split=6, n_estimators=200 \n",
      "[CV]  max_depth=70, min_samples_leaf=3, min_samples_split=6, n_estimators=200, total=   2.6s\n",
      "[CV] max_depth=70, min_samples_leaf=3, min_samples_split=6, n_estimators=250 \n",
      "[CV]  max_depth=70, min_samples_leaf=3, min_samples_split=6, n_estimators=250, total=   3.5s\n",
      "[CV] max_depth=90, min_samples_leaf=1, min_samples_split=2, n_estimators=100 \n",
      "[CV]  max_depth=90, min_samples_leaf=1, min_samples_split=2, n_estimators=100, total=   6.1s\n",
      "[CV] max_depth=90, min_samples_leaf=1, min_samples_split=2, n_estimators=150 \n",
      "[CV]  max_depth=90, min_samples_leaf=1, min_samples_split=2, n_estimators=150, total=   9.6s\n",
      "[CV] max_depth=90, min_samples_leaf=1, min_samples_split=2, n_estimators=200 \n",
      "[CV]  max_depth=90, min_samples_leaf=1, min_samples_split=2, n_estimators=200, total=  12.7s\n",
      "[CV] max_depth=90, min_samples_leaf=1, min_samples_split=2, n_estimators=300 \n",
      "[CV]  max_depth=90, min_samples_leaf=1, min_samples_split=2, n_estimators=300, total=  19.4s\n",
      "[CV] max_depth=90, min_samples_leaf=1, min_samples_split=4, n_estimators=100 \n",
      "[CV]  max_depth=90, min_samples_leaf=1, min_samples_split=4, n_estimators=100, total=   6.2s\n",
      "[CV] max_depth=90, min_samples_leaf=1, min_samples_split=4, n_estimators=150 \n",
      "[CV]  max_depth=90, min_samples_leaf=1, min_samples_split=4, n_estimators=150, total=   8.7s\n",
      "[CV] max_depth=90, min_samples_leaf=1, min_samples_split=4, n_estimators=200 \n",
      "[CV]  max_depth=90, min_samples_leaf=1, min_samples_split=4, n_estimators=200, total=  12.2s\n",
      "[CV] max_depth=90, min_samples_leaf=1, min_samples_split=4, n_estimators=300 \n",
      "[CV]  max_depth=90, min_samples_leaf=1, min_samples_split=4, n_estimators=300, total=  18.0s\n",
      "[CV] max_depth=90, min_samples_leaf=1, min_samples_split=6, n_estimators=100 \n",
      "[CV]  max_depth=90, min_samples_leaf=1, min_samples_split=6, n_estimators=100, total=   6.0s\n",
      "[CV] max_depth=90, min_samples_leaf=1, min_samples_split=6, n_estimators=150 \n",
      "[CV]  max_depth=90, min_samples_leaf=1, min_samples_split=6, n_estimators=150, total=   8.6s\n",
      "[CV] max_depth=90, min_samples_leaf=1, min_samples_split=6, n_estimators=200 \n",
      "[CV]  max_depth=90, min_samples_leaf=1, min_samples_split=6, n_estimators=200, total=  11.8s\n",
      "[CV] max_depth=90, min_samples_leaf=1, min_samples_split=6, n_estimators=300 \n",
      "[CV]  max_depth=90, min_samples_leaf=1, min_samples_split=6, n_estimators=300, total=  17.0s\n",
      "[CV] max_depth=90, min_samples_leaf=2, min_samples_split=2, n_estimators=100 \n",
      "[CV]  max_depth=90, min_samples_leaf=2, min_samples_split=2, n_estimators=100, total=   2.5s\n",
      "[CV] max_depth=90, min_samples_leaf=2, min_samples_split=2, n_estimators=150 \n",
      "[CV]  max_depth=90, min_samples_leaf=2, min_samples_split=2, n_estimators=150, total=   3.1s\n",
      "[CV] max_depth=90, min_samples_leaf=2, min_samples_split=2, n_estimators=200 \n",
      "[CV]  max_depth=90, min_samples_leaf=2, min_samples_split=2, n_estimators=200, total=   3.5s\n",
      "[CV] max_depth=90, min_samples_leaf=2, min_samples_split=2, n_estimators=250 \n",
      "[CV]  max_depth=90, min_samples_leaf=2, min_samples_split=2, n_estimators=250, total=   4.4s\n",
      "[CV] max_depth=90, min_samples_leaf=2, min_samples_split=4, n_estimators=100 \n",
      "[CV]  max_depth=90, min_samples_leaf=2, min_samples_split=4, n_estimators=100, total=   2.1s[CV] max_depth=70, min_samples_leaf=1, min_samples_split=2, n_estimators=100 \n",
      "[CV]  max_depth=70, min_samples_leaf=1, min_samples_split=2, n_estimators=100, total=   6.9s\n",
      "[CV] max_depth=70, min_samples_leaf=1, min_samples_split=2, n_estimators=150 \n",
      "[CV]  max_depth=70, min_samples_leaf=1, min_samples_split=2, n_estimators=150, total=   9.7s\n",
      "[CV] max_depth=70, min_samples_leaf=1, min_samples_split=2, n_estimators=250 \n",
      "[CV]  max_depth=70, min_samples_leaf=1, min_samples_split=2, n_estimators=250, total=  15.6s\n",
      "[CV] max_depth=70, min_samples_leaf=1, min_samples_split=2, n_estimators=300 \n",
      "[CV]  max_depth=70, min_samples_leaf=1, min_samples_split=2, n_estimators=300, total=  18.8s\n",
      "[CV] max_depth=70, min_samples_leaf=1, min_samples_split=4, n_estimators=150 \n",
      "[CV]  max_depth=70, min_samples_leaf=1, min_samples_split=4, n_estimators=150, total=   8.4s\n",
      "[CV] max_depth=70, min_samples_leaf=1, min_samples_split=4, n_estimators=200 \n",
      "[CV]  max_depth=70, min_samples_leaf=1, min_samples_split=4, n_estimators=200, total=  11.5s\n",
      "[CV] max_depth=70, min_samples_leaf=1, min_samples_split=4, n_estimators=250 \n",
      "[CV]  max_depth=70, min_samples_leaf=1, min_samples_split=4, n_estimators=250, total=  14.1s\n",
      "[CV] max_depth=70, min_samples_leaf=1, min_samples_split=6, n_estimators=100 \n",
      "[CV]  max_depth=70, min_samples_leaf=1, min_samples_split=6, n_estimators=100, total=   6.9s\n",
      "[CV] max_depth=70, min_samples_leaf=1, min_samples_split=6, n_estimators=100 \n",
      "[CV]  max_depth=70, min_samples_leaf=1, min_samples_split=6, n_estimators=100, total=   5.7s\n",
      "[CV] max_depth=70, min_samples_leaf=1, min_samples_split=6, n_estimators=200 \n",
      "[CV]  max_depth=70, min_samples_leaf=1, min_samples_split=6, n_estimators=200, total=  11.4s\n",
      "[CV] max_depth=70, min_samples_leaf=1, min_samples_split=6, n_estimators=250 \n",
      "[CV]  max_depth=70, min_samples_leaf=1, min_samples_split=6, n_estimators=250, total=  14.5s\n",
      "[CV] max_depth=70, min_samples_leaf=1, min_samples_split=6, n_estimators=300 \n",
      "[CV]  max_depth=70, min_samples_leaf=1, min_samples_split=6, n_estimators=300, total=  15.4s\n",
      "[CV] max_depth=70, min_samples_leaf=2, min_samples_split=2, n_estimators=200 \n",
      "[CV]  max_depth=70, min_samples_leaf=2, min_samples_split=2, n_estimators=200, total=   3.8s\n",
      "[CV] max_depth=70, min_samples_leaf=2, min_samples_split=2, n_estimators=300 \n",
      "[CV]  max_depth=70, min_samples_leaf=2, min_samples_split=2, n_estimators=300, total=   5.5s\n",
      "[CV] max_depth=70, min_samples_leaf=2, min_samples_split=4, n_estimators=100 \n",
      "[CV]  max_depth=70, min_samples_leaf=2, min_samples_split=4, n_estimators=100, total=   2.2s\n",
      "[CV] max_depth=70, min_samples_leaf=2, min_samples_split=4, n_estimators=150 \n",
      "[CV]  max_depth=70, min_samples_leaf=2, min_samples_split=4, n_estimators=150, total=   3.1s\n",
      "[CV] max_depth=70, min_samples_leaf=2, min_samples_split=4, n_estimators=200 \n",
      "[CV]  max_depth=70, min_samples_leaf=2, min_samples_split=4, n_estimators=200, total=   3.6s\n",
      "[CV] max_depth=70, min_samples_leaf=2, min_samples_split=4, n_estimators=300 \n",
      "[CV]  max_depth=70, min_samples_leaf=2, min_samples_split=4, n_estimators=300, total=   5.6s\n",
      "[CV] max_depth=70, min_samples_leaf=2, min_samples_split=6, n_estimators=100 \n",
      "[CV]  max_depth=70, min_samples_leaf=2, min_samples_split=6, n_estimators=100, total=   2.1s\n",
      "[CV] max_depth=70, min_samples_leaf=2, min_samples_split=6, n_estimators=150 \n",
      "[CV]  max_depth=70, min_samples_leaf=2, min_samples_split=6, n_estimators=150, total=   2.6s\n",
      "[CV] max_depth=70, min_samples_leaf=2, min_samples_split=6, n_estimators=200 \n",
      "[CV]  max_depth=70, min_samples_leaf=2, min_samples_split=6, n_estimators=200, total=   3.7s\n",
      "[CV] max_depth=70, min_samples_leaf=2, min_samples_split=6, n_estimators=300 \n",
      "[CV]  max_depth=70, min_samples_leaf=2, min_samples_split=6, n_estimators=300, total=   6.3s\n",
      "[CV] max_depth=70, min_samples_leaf=3, min_samples_split=2, n_estimators=100 \n",
      "[CV]  max_depth=70, min_samples_leaf=3, min_samples_split=2, n_estimators=100, total=   1.7s\n",
      "[CV] max_depth=70, min_samples_leaf=3, min_samples_split=2, n_estimators=150 \n",
      "[CV]  max_depth=70, min_samples_leaf=3, min_samples_split=2, n_estimators=150, total=   2.0s\n",
      "[CV] max_depth=70, min_samples_leaf=3, min_samples_split=2, n_estimators=250 \n",
      "[CV]  max_depth=70, min_samples_leaf=3, min_samples_split=2, n_estimators=250, total=   3.0s\n",
      "[CV] max_depth=70, min_samples_leaf=3, min_samples_split=2, n_estimators=300 \n",
      "[CV]  max_depth=70, min_samples_leaf=3, min_samples_split=2, n_estimators=300, total=   3.7s\n",
      "[CV] max_depth=70, min_samples_leaf=3, min_samples_split=4, n_estimators=100 \n",
      "[CV]  max_depth=70, min_samples_leaf=3, min_samples_split=4, n_estimators=100, total=   1.5s\n",
      "[CV] max_depth=70, min_samples_leaf=3, min_samples_split=4, n_estimators=200 \n",
      "[CV]  max_depth=70, min_samples_leaf=3, min_samples_split=4, n_estimators=200, total=   2.4s\n",
      "[CV] max_depth=70, min_samples_leaf=3, min_samples_split=4, n_estimators=250 \n",
      "[CV]  max_depth=70, min_samples_leaf=3, min_samples_split=4, n_estimators=250, total=   3.1s\n",
      "[CV] max_depth=70, min_samples_leaf=3, min_samples_split=4, n_estimators=300 \n",
      "[CV]  max_depth=70, min_samples_leaf=3, min_samples_split=4, n_estimators=300, total=   3.9s\n",
      "[CV] max_depth=70, min_samples_leaf=3, min_samples_split=6, n_estimators=150 \n",
      "[CV]  max_depth=70, min_samples_leaf=3, min_samples_split=6, n_estimators=150, total=   1.9s\n",
      "[CV] max_depth=70, min_samples_leaf=3, min_samples_split=6, n_estimators=200 \n",
      "[CV]  max_depth=70, min_samples_leaf=3, min_samples_split=6, n_estimators=200, total=   2.6s\n",
      "[CV] max_depth=70, min_samples_leaf=3, min_samples_split=6, n_estimators=300 \n",
      "[CV]  max_depth=70, min_samples_leaf=3, min_samples_split=6, n_estimators=300, total=   4.3s\n",
      "[CV] max_depth=90, min_samples_leaf=1, min_samples_split=2, n_estimators=100 \n",
      "[CV]  max_depth=90, min_samples_leaf=1, min_samples_split=2, n_estimators=100, total=   6.3s\n",
      "[CV] max_depth=90, min_samples_leaf=1, min_samples_split=2, n_estimators=150 \n",
      "[CV]  max_depth=90, min_samples_leaf=1, min_samples_split=2, n_estimators=150, total=   9.7s\n",
      "[CV] max_depth=90, min_samples_leaf=1, min_samples_split=2, n_estimators=250 \n",
      "[CV]  max_depth=90, min_samples_leaf=1, min_samples_split=2, n_estimators=250, total=  15.7s\n",
      "[CV] max_depth=90, min_samples_leaf=1, min_samples_split=2, n_estimators=300 \n",
      "[CV]  max_depth=90, min_samples_leaf=1, min_samples_split=2, n_estimators=300, total=  18.9s\n",
      "[CV] max_depth=90, min_samples_leaf=1, min_samples_split=4, n_estimators=150 \n",
      "[CV]  max_depth=90, min_samples_leaf=1, min_samples_split=4, n_estimators=150, total=   9.0s\n",
      "[CV] max_depth=90, min_samples_leaf=1, min_samples_split=4, n_estimators=200 \n",
      "[CV]  max_depth=90, min_samples_leaf=1, min_samples_split=4, n_estimators=200, total=  12.0s\n",
      "[CV] max_depth=90, min_samples_leaf=1, min_samples_split=4, n_estimators=250 \n",
      "[CV]  max_depth=90, min_samples_leaf=1, min_samples_split=4, n_estimators=250, total=  15.1s\n",
      "[CV] max_depth=90, min_samples_leaf=1, min_samples_split=6, n_estimators=100 \n",
      "[CV]  max_depth=90, min_samples_leaf=1, min_samples_split=6, n_estimators=100, total=   6.6s\n",
      "[CV] max_depth=90, min_samples_leaf=1, min_samples_split=6, n_estimators=100 \n",
      "[CV]  max_depth=90, min_samples_leaf=1, min_samples_split=6, n_estimators=100, total=   5.5s\n",
      "[CV] max_depth=90, min_samples_leaf=1, min_samples_split=6, n_estimators=200 \n",
      "[CV]  max_depth=90, min_samples_leaf=1, min_samples_split=6, n_estimators=200, total=  11.5s\n",
      "[CV] max_depth=90, min_samples_leaf=1, min_samples_split=6, n_estimators=250 \n",
      "[CV]  max_depth=90, min_samples_leaf=1, min_samples_split=6, n_estimators=250, total=  14.5s\n",
      "[CV] max_depth=90, min_samples_leaf=1, min_samples_split=6, n_estimators=300 \n",
      "[CV]  max_depth=90, min_samples_leaf=1, min_samples_split=6, n_estimators=300, total=  15.7s\n",
      "[CV] max_depth=90, min_samples_leaf=2, min_samples_split=2, n_estimators=200 \n",
      "[CV]  max_depth=90, min_samples_leaf=2, min_samples_split=2, n_estimators=200, total=   3.8s\n",
      "[CV] max_depth=90, min_samples_leaf=2, min_samples_split=2, n_estimators=300 \n",
      "[CV]  max_depth=90, min_samples_leaf=2, min_samples_split=2, n_estimators=300, total=   5.7s\n",
      "[CV] max_depth=90, min_samples_leaf=2, min_samples_split=4, n_estimators=100 \n",
      "[CV]  max_depth=90, min_samples_leaf=2, min_samples_split=4, n_estimators=100, total=   2.0s"
     ]
    },
    {
     "name": "stderr",
     "output_type": "stream",
     "text": [
      "[Parallel(n_jobs=-1)]: Done 357 tasks      | elapsed:  9.9min\n"
     ]
    },
    {
     "name": "stdout",
     "output_type": "stream",
     "text": [
      "\n",
      "[CV] max_depth=90, min_samples_leaf=2, min_samples_split=2, n_estimators=250 \n",
      "[CV]  max_depth=90, min_samples_leaf=2, min_samples_split=2, n_estimators=250, total=   4.7s\n",
      "[CV] max_depth=90, min_samples_leaf=2, min_samples_split=2, n_estimators=300 \n",
      "[CV]  max_depth=90, min_samples_leaf=2, min_samples_split=2, n_estimators=300, total=   5.3s\n",
      "[CV] max_depth=90, min_samples_leaf=2, min_samples_split=4, n_estimators=150 \n",
      "[CV]  max_depth=90, min_samples_leaf=2, min_samples_split=4, n_estimators=150, total=   3.4s\n",
      "[CV] max_depth=90, min_samples_leaf=2, min_samples_split=4, n_estimators=200 \n",
      "[CV]  max_depth=90, min_samples_leaf=2, min_samples_split=4, n_estimators=200, total=   3.6s\n",
      "[CV] max_depth=90, min_samples_leaf=2, min_samples_split=4, n_estimators=250 \n",
      "[CV]  max_depth=90, min_samples_leaf=2, min_samples_split=4, n_estimators=250, total=   4.9s\n",
      "[CV] max_depth=90, min_samples_leaf=2, min_samples_split=6, n_estimators=100 \n",
      "[CV]  max_depth=90, min_samples_leaf=2, min_samples_split=6, n_estimators=100, total=   2.2s\n",
      "[CV] max_depth=90, min_samples_leaf=2, min_samples_split=6, n_estimators=100 \n",
      "[CV]  max_depth=90, min_samples_leaf=2, min_samples_split=6, n_estimators=100, total=   1.9s\n",
      "[CV] max_depth=90, min_samples_leaf=2, min_samples_split=6, n_estimators=200 \n",
      "[CV]  max_depth=90, min_samples_leaf=2, min_samples_split=6, n_estimators=200, total=   3.5s\n",
      "[CV] max_depth=90, min_samples_leaf=2, min_samples_split=6, n_estimators=250 \n",
      "[CV]  max_depth=90, min_samples_leaf=2, min_samples_split=6, n_estimators=250, total=   4.6s\n",
      "[CV] max_depth=90, min_samples_leaf=2, min_samples_split=6, n_estimators=300 \n",
      "[CV]  max_depth=90, min_samples_leaf=2, min_samples_split=6, n_estimators=300, total=   5.0s\n",
      "[CV] max_depth=90, min_samples_leaf=3, min_samples_split=2, n_estimators=200 \n",
      "[CV]  max_depth=90, min_samples_leaf=3, min_samples_split=2, n_estimators=200, total=   2.8s\n",
      "[CV] max_depth=90, min_samples_leaf=3, min_samples_split=2, n_estimators=250 \n",
      "[CV]  max_depth=90, min_samples_leaf=3, min_samples_split=2, n_estimators=250, total=   3.2s\n",
      "[CV] max_depth=90, min_samples_leaf=3, min_samples_split=2, n_estimators=300 \n",
      "[CV]  max_depth=90, min_samples_leaf=3, min_samples_split=2, n_estimators=300, total=   3.9s\n",
      "[CV] max_depth=90, min_samples_leaf=3, min_samples_split=4, n_estimators=150 \n",
      "[CV]  max_depth=90, min_samples_leaf=3, min_samples_split=4, n_estimators=150, total=   1.9s\n",
      "[CV] max_depth=90, min_samples_leaf=3, min_samples_split=4, n_estimators=250 \n",
      "[CV]  max_depth=90, min_samples_leaf=3, min_samples_split=4, n_estimators=250, total=   3.0s\n",
      "[CV] max_depth=90, min_samples_leaf=3, min_samples_split=4, n_estimators=300 \n",
      "[CV]  max_depth=90, min_samples_leaf=3, min_samples_split=4, n_estimators=300, total=   3.8s\n",
      "[CV] max_depth=90, min_samples_leaf=3, min_samples_split=6, n_estimators=150 \n",
      "[CV]  max_depth=90, min_samples_leaf=3, min_samples_split=6, n_estimators=150, total=   1.9s\n",
      "[CV] max_depth=90, min_samples_leaf=3, min_samples_split=6, n_estimators=200 \n",
      "[CV]  max_depth=90, min_samples_leaf=3, min_samples_split=6, n_estimators=200, total=   2.5s\n",
      "[CV] max_depth=90, min_samples_leaf=3, min_samples_split=6, n_estimators=250 \n",
      "[CV]  max_depth=90, min_samples_leaf=3, min_samples_split=6, n_estimators=250, total=   3.1s\n",
      "[CV] max_depth=110, min_samples_leaf=1, min_samples_split=2, n_estimators=100 \n",
      "[CV]  max_depth=110, min_samples_leaf=1, min_samples_split=2, n_estimators=100, total=   5.7s\n",
      "[CV] max_depth=110, min_samples_leaf=1, min_samples_split=2, n_estimators=150 \n",
      "[CV]  max_depth=110, min_samples_leaf=1, min_samples_split=2, n_estimators=150, total=   9.4s\n",
      "[CV] max_depth=110, min_samples_leaf=1, min_samples_split=2, n_estimators=200 \n",
      "[CV]  max_depth=110, min_samples_leaf=1, min_samples_split=2, n_estimators=200, total=  13.0s\n",
      "[CV] max_depth=110, min_samples_leaf=1, min_samples_split=2, n_estimators=300 \n",
      "[CV]  max_depth=110, min_samples_leaf=1, min_samples_split=2, n_estimators=300, total=  19.1s\n",
      "[CV] max_depth=110, min_samples_leaf=1, min_samples_split=4, n_estimators=100 \n",
      "[CV]  max_depth=110, min_samples_leaf=1, min_samples_split=4, n_estimators=100, total=   6.5s\n",
      "[CV] max_depth=110, min_samples_leaf=1, min_samples_split=4, n_estimators=150 \n",
      "[CV]  max_depth=110, min_samples_leaf=1, min_samples_split=4, n_estimators=150, total=   8.9s\n",
      "[CV] max_depth=110, min_samples_leaf=1, min_samples_split=4, n_estimators=200 \n",
      "[CV]  max_depth=110, min_samples_leaf=1, min_samples_split=4, n_estimators=200, total=  12.2s\n",
      "[CV] max_depth=110, min_samples_leaf=1, min_samples_split=4, n_estimators=300 \n",
      "[CV]  max_depth=110, min_samples_leaf=1, min_samples_split=4, n_estimators=300, total=  18.2s\n",
      "[CV] max_depth=110, min_samples_leaf=1, min_samples_split=6, n_estimators=100 \n",
      "[CV]  max_depth=110, min_samples_leaf=1, min_samples_split=6, n_estimators=100, total=   6.8s\n",
      "[CV] max_depth=110, min_samples_leaf=1, min_samples_split=6, n_estimators=150 \n",
      "[CV]  max_depth=110, min_samples_leaf=1, min_samples_split=6, n_estimators=150, total=   8.7s\n",
      "[CV] max_depth=110, min_samples_leaf=1, min_samples_split=6, n_estimators=200 \n",
      "[CV]  max_depth=110, min_samples_leaf=1, min_samples_split=6, n_estimators=200, total=  11.3s\n",
      "[CV] max_depth=110, min_samples_leaf=1, min_samples_split=6, n_estimators=300 \n",
      "[CV]  max_depth=110, min_samples_leaf=1, min_samples_split=6, n_estimators=300, total=  17.1s\n",
      "[CV] max_depth=110, min_samples_leaf=2, min_samples_split=2, n_estimators=100 \n",
      "[CV]  max_depth=110, min_samples_leaf=2, min_samples_split=2, n_estimators=100, total=   2.2s\n",
      "[CV] max_depth=110, min_samples_leaf=2, min_samples_split=2, n_estimators=150 \n",
      "[CV]  max_depth=110, min_samples_leaf=2, min_samples_split=2, n_estimators=150, total=   3.3s\n",
      "[CV] max_depth=110, min_samples_leaf=2, min_samples_split=2, n_estimators=200 \n",
      "[CV]  max_depth=110, min_samples_leaf=2, min_samples_split=2, n_estimators=200, total=   4.1s\n",
      "[CV] max_depth=110, min_samples_leaf=2, min_samples_split=2, n_estimators=250 \n",
      "[CV]  max_depth=110, min_samples_leaf=2, min_samples_split=2, n_estimators=250, total=   4.2s\n",
      "[CV] max_depth=110, min_samples_leaf=2, min_samples_split=4, n_estimators=100 \n",
      "[CV]  max_depth=110, min_samples_leaf=2, min_samples_split=4, n_estimators=100, total=   2.5s\n",
      "[CV] max_depth=110, min_samples_leaf=2, min_samples_split=4, n_estimators=100 \n",
      "[CV]  max_depth=110, min_samples_leaf=2, min_samples_split=4, n_estimators=100, total=   2.0s\n",
      "[CV] max_depth=110, min_samples_leaf=2, min_samples_split=4, n_estimators=150 \n",
      "[CV]  max_depth=110, min_samples_leaf=2, min_samples_split=4, n_estimators=150, total=   2.9s\n",
      "[CV] max_depth=110, min_samples_leaf=2, min_samples_split=4, n_estimators=250 \n",
      "[CV]  max_depth=110, min_samples_leaf=2, min_samples_split=4, n_estimators=250, total=   4.5s\n",
      "[CV] max_depth=110, min_samples_leaf=2, min_samples_split=4, n_estimators=300 \n",
      "[CV]  max_depth=110, min_samples_leaf=2, min_samples_split=4, n_estimators=300, total=   5.6s\n",
      "[CV] max_depth=110, min_samples_leaf=2, min_samples_split=6, n_estimators=150 \n",
      "[CV]  max_depth=110, min_samples_leaf=2, min_samples_split=6, n_estimators=150, total=   2.7s\n",
      "[CV] max_depth=110, min_samples_leaf=2, min_samples_split=6, n_estimators=200 \n",
      "[CV]  max_depth=110, min_samples_leaf=2, min_samples_split=6, n_estimators=200, total=   3.7s\n",
      "[CV] max_depth=110, min_samples_leaf=2, min_samples_split=6, n_estimators=250 \n",
      "[CV]  max_depth=110, min_samples_leaf=2, min_samples_split=6, n_estimators=250, total=   4.5s\n",
      "[CV] max_depth=110, min_samples_leaf=3, min_samples_split=2, n_estimators=100 \n",
      "[CV]  max_depth=110, min_samples_leaf=3, min_samples_split=2, n_estimators=100, total=   1.7s\n",
      "[CV] max_depth=110, min_samples_leaf=3, min_samples_split=2, n_estimators=100 \n",
      "[CV]  max_depth=110, min_samples_leaf=3, min_samples_split=2, n_estimators=100, total=   1.6s\n",
      "[CV] max_depth=110, min_samples_leaf=3, min_samples_split=2, n_estimators=150 \n",
      "[CV]  max_depth=110, min_samples_leaf=3, min_samples_split=2, n_estimators=150, total=   2.0s\n",
      "[CV] max_depth=110, min_samples_leaf=3, min_samples_split=2, n_estimators=250 \n",
      "[CV]  max_depth=110, min_samples_leaf=3, min_samples_split=2, n_estimators=250, total=   3.2s\n",
      "[CV] max_depth=110, min_samples_leaf=3, min_samples_split=2, n_estimators=300 \n",
      "[CV]  max_depth=110, min_samples_leaf=3, min_samples_split=2, n_estimators=300, total=   4.7s\n",
      "[CV] max_depth=90, min_samples_leaf=2, min_samples_split=4, n_estimators=150 \n",
      "[CV]  max_depth=90, min_samples_leaf=2, min_samples_split=4, n_estimators=150, total=   2.9s\n",
      "[CV] max_depth=90, min_samples_leaf=2, min_samples_split=4, n_estimators=200 \n",
      "[CV]  max_depth=90, min_samples_leaf=2, min_samples_split=4, n_estimators=200, total=   3.7s\n",
      "[CV] max_depth=90, min_samples_leaf=2, min_samples_split=4, n_estimators=300 \n",
      "[CV]  max_depth=90, min_samples_leaf=2, min_samples_split=4, n_estimators=300, total=   5.6s\n",
      "[CV] max_depth=90, min_samples_leaf=2, min_samples_split=6, n_estimators=100 \n",
      "[CV]  max_depth=90, min_samples_leaf=2, min_samples_split=6, n_estimators=100, total=   2.1s\n",
      "[CV] max_depth=90, min_samples_leaf=2, min_samples_split=6, n_estimators=150 \n",
      "[CV]  max_depth=90, min_samples_leaf=2, min_samples_split=6, n_estimators=150, total=   2.5s\n",
      "[CV] max_depth=90, min_samples_leaf=2, min_samples_split=6, n_estimators=200 \n",
      "[CV]  max_depth=90, min_samples_leaf=2, min_samples_split=6, n_estimators=200, total=   3.5s\n",
      "[CV] max_depth=90, min_samples_leaf=2, min_samples_split=6, n_estimators=300 \n",
      "[CV]  max_depth=90, min_samples_leaf=2, min_samples_split=6, n_estimators=300, total=   5.4s\n",
      "[CV] max_depth=90, min_samples_leaf=3, min_samples_split=2, n_estimators=100 \n",
      "[CV]  max_depth=90, min_samples_leaf=3, min_samples_split=2, n_estimators=100, total=   1.7s\n",
      "[CV] max_depth=90, min_samples_leaf=3, min_samples_split=2, n_estimators=150 \n",
      "[CV]  max_depth=90, min_samples_leaf=3, min_samples_split=2, n_estimators=150, total=   1.8s\n",
      "[CV] max_depth=90, min_samples_leaf=3, min_samples_split=2, n_estimators=200 \n",
      "[CV]  max_depth=90, min_samples_leaf=3, min_samples_split=2, n_estimators=200, total=   2.5s\n",
      "[CV] max_depth=90, min_samples_leaf=3, min_samples_split=2, n_estimators=250 \n",
      "[CV]  max_depth=90, min_samples_leaf=3, min_samples_split=2, n_estimators=250, total=   3.3s\n",
      "[CV] max_depth=90, min_samples_leaf=3, min_samples_split=4, n_estimators=100 \n",
      "[CV]  max_depth=90, min_samples_leaf=3, min_samples_split=4, n_estimators=100, total=   1.9s\n",
      "[CV] max_depth=90, min_samples_leaf=3, min_samples_split=4, n_estimators=150 \n",
      "[CV]  max_depth=90, min_samples_leaf=3, min_samples_split=4, n_estimators=150, total=   2.2s\n",
      "[CV] max_depth=90, min_samples_leaf=3, min_samples_split=4, n_estimators=200 \n",
      "[CV]  max_depth=90, min_samples_leaf=3, min_samples_split=4, n_estimators=200, total=   2.6s\n",
      "[CV] max_depth=90, min_samples_leaf=3, min_samples_split=4, n_estimators=250 \n",
      "[CV]  max_depth=90, min_samples_leaf=3, min_samples_split=4, n_estimators=250, total=   3.1s\n",
      "[CV] max_depth=90, min_samples_leaf=3, min_samples_split=6, n_estimators=100 \n",
      "[CV]  max_depth=90, min_samples_leaf=3, min_samples_split=6, n_estimators=100, total=   1.8s\n",
      "[CV] max_depth=90, min_samples_leaf=3, min_samples_split=6, n_estimators=100 \n",
      "[CV]  max_depth=90, min_samples_leaf=3, min_samples_split=6, n_estimators=100, total=   1.4s\n",
      "[CV] max_depth=90, min_samples_leaf=3, min_samples_split=6, n_estimators=200 \n",
      "[CV]  max_depth=90, min_samples_leaf=3, min_samples_split=6, n_estimators=200, total=   2.4s\n",
      "[CV] max_depth=90, min_samples_leaf=3, min_samples_split=6, n_estimators=250 \n",
      "[CV]  max_depth=90, min_samples_leaf=3, min_samples_split=6, n_estimators=250, total=   3.2s\n",
      "[CV] max_depth=90, min_samples_leaf=3, min_samples_split=6, n_estimators=300 \n",
      "[CV]  max_depth=90, min_samples_leaf=3, min_samples_split=6, n_estimators=300, total=   4.1s\n",
      "[CV] max_depth=110, min_samples_leaf=1, min_samples_split=2, n_estimators=150 \n",
      "[CV]  max_depth=110, min_samples_leaf=1, min_samples_split=2, n_estimators=150, total=   9.6s\n",
      "[CV] max_depth=110, min_samples_leaf=1, min_samples_split=2, n_estimators=200 \n",
      "[CV]  max_depth=110, min_samples_leaf=1, min_samples_split=2, n_estimators=200, total=  12.8s\n",
      "[CV] max_depth=110, min_samples_leaf=1, min_samples_split=2, n_estimators=250 \n",
      "[CV]  max_depth=110, min_samples_leaf=1, min_samples_split=2, n_estimators=250, total=  16.2s\n",
      "[CV] max_depth=110, min_samples_leaf=1, min_samples_split=4, n_estimators=100 \n",
      "[CV]  max_depth=110, min_samples_leaf=1, min_samples_split=4, n_estimators=100, total=   6.9s\n",
      "[CV] max_depth=110, min_samples_leaf=1, min_samples_split=4, n_estimators=100 \n",
      "[CV]  max_depth=110, min_samples_leaf=1, min_samples_split=4, n_estimators=100, total=   6.4s\n",
      "[CV] max_depth=110, min_samples_leaf=1, min_samples_split=4, n_estimators=150 \n",
      "[CV]  max_depth=110, min_samples_leaf=1, min_samples_split=4, n_estimators=150, total=   9.4s\n",
      "[CV] max_depth=110, min_samples_leaf=1, min_samples_split=4, n_estimators=250 \n",
      "[CV]  max_depth=110, min_samples_leaf=1, min_samples_split=4, n_estimators=250, total=  15.2s\n",
      "[CV] max_depth=110, min_samples_leaf=1, min_samples_split=4, n_estimators=300 \n",
      "[CV]  max_depth=110, min_samples_leaf=1, min_samples_split=4, n_estimators=300, total=  17.8s\n",
      "[CV] max_depth=110, min_samples_leaf=1, min_samples_split=6, n_estimators=150 \n",
      "[CV]  max_depth=110, min_samples_leaf=1, min_samples_split=6, n_estimators=150, total=   8.7s\n",
      "[CV] max_depth=110, min_samples_leaf=1, min_samples_split=6, n_estimators=200 \n",
      "[CV]  max_depth=110, min_samples_leaf=1, min_samples_split=6, n_estimators=200, total=  11.2s\n",
      "[CV] max_depth=110, min_samples_leaf=1, min_samples_split=6, n_estimators=250 \n",
      "[CV]  max_depth=110, min_samples_leaf=1, min_samples_split=6, n_estimators=250, total=  14.3s\n",
      "[CV] max_depth=110, min_samples_leaf=2, min_samples_split=2, n_estimators=100 \n",
      "[CV]  max_depth=110, min_samples_leaf=2, min_samples_split=2, n_estimators=100, total=   3.0s\n",
      "[CV] max_depth=110, min_samples_leaf=2, min_samples_split=2, n_estimators=100 \n",
      "[CV]  max_depth=110, min_samples_leaf=2, min_samples_split=2, n_estimators=100, total=   2.8s\n",
      "[CV] max_depth=110, min_samples_leaf=2, min_samples_split=2, n_estimators=150 \n",
      "[CV]  max_depth=110, min_samples_leaf=2, min_samples_split=2, n_estimators=150, total=   3.6s\n",
      "[CV] max_depth=110, min_samples_leaf=2, min_samples_split=2, n_estimators=200 \n",
      "[CV]  max_depth=110, min_samples_leaf=2, min_samples_split=2, n_estimators=200, total=   4.3s\n",
      "[CV] max_depth=110, min_samples_leaf=2, min_samples_split=2, n_estimators=250 \n",
      "[CV]  max_depth=110, min_samples_leaf=2, min_samples_split=2, n_estimators=250, total=   4.6s\n",
      "[CV] max_depth=110, min_samples_leaf=2, min_samples_split=2, n_estimators=300 \n",
      "[CV]  max_depth=110, min_samples_leaf=2, min_samples_split=2, n_estimators=300, total=   5.2s\n",
      "[CV] max_depth=110, min_samples_leaf=2, min_samples_split=4, n_estimators=200 \n",
      "[CV]  max_depth=110, min_samples_leaf=2, min_samples_split=4, n_estimators=200, total=   3.5s\n",
      "[CV] max_depth=110, min_samples_leaf=2, min_samples_split=4, n_estimators=250 \n",
      "[CV]  max_depth=110, min_samples_leaf=2, min_samples_split=4, n_estimators=250, total=   4.8s\n",
      "[CV] max_depth=110, min_samples_leaf=2, min_samples_split=4, n_estimators=300 \n",
      "[CV]  max_depth=110, min_samples_leaf=2, min_samples_split=4, n_estimators=300, total=   5.6s\n",
      "[CV] max_depth=110, min_samples_leaf=2, min_samples_split=6, n_estimators=150 \n",
      "[CV]  max_depth=110, min_samples_leaf=2, min_samples_split=6, n_estimators=150, total=   2.8s\n",
      "[CV] max_depth=110, min_samples_leaf=2, min_samples_split=6, n_estimators=250 \n",
      "[CV]  max_depth=110, min_samples_leaf=2, min_samples_split=6, n_estimators=250, total=   4.3s\n",
      "[CV] max_depth=110, min_samples_leaf=2, min_samples_split=6, n_estimators=300 \n",
      "[CV]  max_depth=110, min_samples_leaf=2, min_samples_split=6, n_estimators=300, total=   5.7s\n",
      "[CV] max_depth=110, min_samples_leaf=3, min_samples_split=2, n_estimators=150 \n",
      "[CV]  max_depth=110, min_samples_leaf=3, min_samples_split=2, n_estimators=150, total=   2.0s\n",
      "[CV] max_depth=110, min_samples_leaf=3, min_samples_split=2, n_estimators=200 \n",
      "[CV]  max_depth=110, min_samples_leaf=3, min_samples_split=2, n_estimators=200, total=   2.6s\n",
      "[CV] max_depth=110, min_samples_leaf=3, min_samples_split=2, n_estimators=300 \n",
      "[CV]  max_depth=110, min_samples_leaf=3, min_samples_split=2, n_estimators=300, total=   3.9s\n",
      "[CV] max_depth=110, min_samples_leaf=3, min_samples_split=4, n_estimators=100 \n",
      "[CV]  max_depth=110, min_samples_leaf=3, min_samples_split=4, n_estimators=100, total=   1.7s\n",
      "[CV] max_depth=110, min_samples_leaf=3, min_samples_split=4, n_estimators=150 \n",
      "[CV]  max_depth=110, min_samples_leaf=3, min_samples_split=4, n_estimators=150, total=   1.9s\n",
      "[CV] max_depth=90, min_samples_leaf=2, min_samples_split=4, n_estimators=100 \n",
      "[CV]  max_depth=90, min_samples_leaf=2, min_samples_split=4, n_estimators=100, total=   2.1s\n",
      "[CV] max_depth=90, min_samples_leaf=2, min_samples_split=4, n_estimators=150 \n",
      "[CV]  max_depth=90, min_samples_leaf=2, min_samples_split=4, n_estimators=150, total=   3.1s\n",
      "[CV] max_depth=90, min_samples_leaf=2, min_samples_split=4, n_estimators=250 \n",
      "[CV]  max_depth=90, min_samples_leaf=2, min_samples_split=4, n_estimators=250, total=   4.4s\n",
      "[CV] max_depth=90, min_samples_leaf=2, min_samples_split=4, n_estimators=300 \n",
      "[CV]  max_depth=90, min_samples_leaf=2, min_samples_split=4, n_estimators=300, total=   5.4s\n",
      "[CV] max_depth=90, min_samples_leaf=2, min_samples_split=6, n_estimators=150 \n",
      "[CV]  max_depth=90, min_samples_leaf=2, min_samples_split=6, n_estimators=150, total=   2.9s\n",
      "[CV] max_depth=90, min_samples_leaf=2, min_samples_split=6, n_estimators=200 \n",
      "[CV]  max_depth=90, min_samples_leaf=2, min_samples_split=6, n_estimators=200, total=   3.7s\n",
      "[CV] max_depth=90, min_samples_leaf=2, min_samples_split=6, n_estimators=250 \n",
      "[CV]  max_depth=90, min_samples_leaf=2, min_samples_split=6, n_estimators=250, total=   4.3s\n",
      "[CV] max_depth=90, min_samples_leaf=3, min_samples_split=2, n_estimators=100 \n",
      "[CV]  max_depth=90, min_samples_leaf=3, min_samples_split=2, n_estimators=100, total=   1.6s\n",
      "[CV] max_depth=90, min_samples_leaf=3, min_samples_split=2, n_estimators=100 \n",
      "[CV]  max_depth=90, min_samples_leaf=3, min_samples_split=2, n_estimators=100, total=   1.7s\n",
      "[CV] max_depth=90, min_samples_leaf=3, min_samples_split=2, n_estimators=150 \n",
      "[CV]  max_depth=90, min_samples_leaf=3, min_samples_split=2, n_estimators=150, total=   2.0s\n",
      "[CV] max_depth=90, min_samples_leaf=3, min_samples_split=2, n_estimators=200 \n",
      "[CV]  max_depth=90, min_samples_leaf=3, min_samples_split=2, n_estimators=200, total=   2.5s\n",
      "[CV] max_depth=90, min_samples_leaf=3, min_samples_split=2, n_estimators=300 \n",
      "[CV]  max_depth=90, min_samples_leaf=3, min_samples_split=2, n_estimators=300, total=   3.6s\n",
      "[CV] max_depth=90, min_samples_leaf=3, min_samples_split=4, n_estimators=100 \n",
      "[CV]  max_depth=90, min_samples_leaf=3, min_samples_split=4, n_estimators=100, total=   1.9s\n",
      "[CV] max_depth=90, min_samples_leaf=3, min_samples_split=4, n_estimators=150 \n",
      "[CV]  max_depth=90, min_samples_leaf=3, min_samples_split=4, n_estimators=150, total=   2.0s\n",
      "[CV] max_depth=90, min_samples_leaf=3, min_samples_split=4, n_estimators=200 \n",
      "[CV]  max_depth=90, min_samples_leaf=3, min_samples_split=4, n_estimators=200, total=   2.6s\n",
      "[CV] max_depth=90, min_samples_leaf=3, min_samples_split=4, n_estimators=300 \n",
      "[CV]  max_depth=90, min_samples_leaf=3, min_samples_split=4, n_estimators=300, total=   3.6s\n",
      "[CV] max_depth=90, min_samples_leaf=3, min_samples_split=6, n_estimators=100 \n",
      "[CV]  max_depth=90, min_samples_leaf=3, min_samples_split=6, n_estimators=100, total=   1.5s\n",
      "[CV] max_depth=90, min_samples_leaf=3, min_samples_split=6, n_estimators=150 \n",
      "[CV]  max_depth=90, min_samples_leaf=3, min_samples_split=6, n_estimators=150, total=   1.9s\n",
      "[CV] max_depth=90, min_samples_leaf=3, min_samples_split=6, n_estimators=200 \n",
      "[CV]  max_depth=90, min_samples_leaf=3, min_samples_split=6, n_estimators=200, total=   2.5s\n",
      "[CV] max_depth=90, min_samples_leaf=3, min_samples_split=6, n_estimators=300 \n",
      "[CV]  max_depth=90, min_samples_leaf=3, min_samples_split=6, n_estimators=300, total=   4.0s\n",
      "[CV] max_depth=110, min_samples_leaf=1, min_samples_split=2, n_estimators=100 \n",
      "[CV]  max_depth=110, min_samples_leaf=1, min_samples_split=2, n_estimators=100, total=   6.3s\n",
      "[CV] max_depth=110, min_samples_leaf=1, min_samples_split=2, n_estimators=150 \n",
      "[CV]  max_depth=110, min_samples_leaf=1, min_samples_split=2, n_estimators=150, total=   9.3s\n",
      "[CV] max_depth=110, min_samples_leaf=1, min_samples_split=2, n_estimators=250 \n",
      "[CV]  max_depth=110, min_samples_leaf=1, min_samples_split=2, n_estimators=250, total=  16.7s\n",
      "[CV] max_depth=110, min_samples_leaf=1, min_samples_split=2, n_estimators=300 \n",
      "[CV]  max_depth=110, min_samples_leaf=1, min_samples_split=2, n_estimators=300, total=  18.8s\n",
      "[CV] max_depth=110, min_samples_leaf=1, min_samples_split=4, n_estimators=150 \n",
      "[CV]  max_depth=110, min_samples_leaf=1, min_samples_split=4, n_estimators=150, total=   9.1s\n",
      "[CV] max_depth=110, min_samples_leaf=1, min_samples_split=4, n_estimators=200 \n",
      "[CV]  max_depth=110, min_samples_leaf=1, min_samples_split=4, n_estimators=200, total=  11.5s\n",
      "[CV] max_depth=110, min_samples_leaf=1, min_samples_split=4, n_estimators=250 \n",
      "[CV]  max_depth=110, min_samples_leaf=1, min_samples_split=4, n_estimators=250, total=  15.0s\n",
      "[CV] max_depth=110, min_samples_leaf=1, min_samples_split=6, n_estimators=100 \n",
      "[CV]  max_depth=110, min_samples_leaf=1, min_samples_split=6, n_estimators=100, total=   6.2s\n",
      "[CV] max_depth=110, min_samples_leaf=1, min_samples_split=6, n_estimators=100 \n",
      "[CV]  max_depth=110, min_samples_leaf=1, min_samples_split=6, n_estimators=100, total=   6.6s\n",
      "[CV] max_depth=110, min_samples_leaf=1, min_samples_split=6, n_estimators=150 \n",
      "[CV]  max_depth=110, min_samples_leaf=1, min_samples_split=6, n_estimators=150, total=   9.0s\n",
      "[CV] max_depth=110, min_samples_leaf=1, min_samples_split=6, n_estimators=250 \n",
      "[CV]  max_depth=110, min_samples_leaf=1, min_samples_split=6, n_estimators=250, total=  14.5s\n",
      "[CV] max_depth=110, min_samples_leaf=1, min_samples_split=6, n_estimators=300 \n",
      "[CV]  max_depth=110, min_samples_leaf=1, min_samples_split=6, n_estimators=300, total=  16.0s\n",
      "[CV] max_depth=110, min_samples_leaf=2, min_samples_split=2, n_estimators=150 \n",
      "[CV]  max_depth=110, min_samples_leaf=2, min_samples_split=2, n_estimators=150, total=   3.3s\n",
      "[CV] max_depth=110, min_samples_leaf=2, min_samples_split=2, n_estimators=250 \n",
      "[CV]  max_depth=110, min_samples_leaf=2, min_samples_split=2, n_estimators=250, total=   4.8s\n",
      "[CV] max_depth=110, min_samples_leaf=2, min_samples_split=2, n_estimators=300 \n",
      "[CV]  max_depth=110, min_samples_leaf=2, min_samples_split=2, n_estimators=300, total=   5.6s\n",
      "[CV] max_depth=110, min_samples_leaf=2, min_samples_split=4, n_estimators=150 \n",
      "[CV]  max_depth=110, min_samples_leaf=2, min_samples_split=4, n_estimators=150, total=   3.0s\n",
      "[CV] max_depth=110, min_samples_leaf=2, min_samples_split=4, n_estimators=200 \n",
      "[CV]  max_depth=110, min_samples_leaf=2, min_samples_split=4, n_estimators=200, total=   3.8s\n",
      "[CV] max_depth=110, min_samples_leaf=2, min_samples_split=4, n_estimators=250 \n",
      "[CV]  max_depth=110, min_samples_leaf=2, min_samples_split=4, n_estimators=250, total=   4.4s\n",
      "[CV] max_depth=110, min_samples_leaf=2, min_samples_split=6, n_estimators=100 \n",
      "[CV]  max_depth=110, min_samples_leaf=2, min_samples_split=6, n_estimators=100, total=   2.3s\n",
      "[CV] max_depth=110, min_samples_leaf=2, min_samples_split=6, n_estimators=100 \n",
      "[CV]  max_depth=110, min_samples_leaf=2, min_samples_split=6, n_estimators=100, total=   2.1s\n",
      "[CV] max_depth=110, min_samples_leaf=2, min_samples_split=6, n_estimators=200 \n",
      "[CV]  max_depth=110, min_samples_leaf=2, min_samples_split=6, n_estimators=200, total=   4.1s\n",
      "[CV] max_depth=110, min_samples_leaf=2, min_samples_split=6, n_estimators=250 \n",
      "[CV]  max_depth=110, min_samples_leaf=2, min_samples_split=6, n_estimators=250, total=   5.0s\n",
      "[CV] max_depth=110, min_samples_leaf=2, min_samples_split=6, n_estimators=300 \n",
      "[CV]  max_depth=110, min_samples_leaf=2, min_samples_split=6, n_estimators=300, total=   5.1s\n",
      "[CV] max_depth=110, min_samples_leaf=3, min_samples_split=2, n_estimators=200 \n",
      "[CV]  max_depth=110, min_samples_leaf=3, min_samples_split=2, n_estimators=200, total=   2.5s\n",
      "[CV] max_depth=110, min_samples_leaf=3, min_samples_split=2, n_estimators=250 \n",
      "[CV]  max_depth=110, min_samples_leaf=3, min_samples_split=2, n_estimators=250, total=   3.4s\n",
      "[CV] max_depth=110, min_samples_leaf=3, min_samples_split=2, n_estimators=300 \n",
      "[CV]  max_depth=110, min_samples_leaf=3, min_samples_split=2, n_estimators=300, total=   3.5s\n",
      "[CV] max_depth=110, min_samples_leaf=3, min_samples_split=4, n_estimators=200 \n",
      "[CV]  max_depth=110, min_samples_leaf=3, min_samples_split=4, n_estimators=200, total=   2.7s\n",
      "[CV] max_depth=110, min_samples_leaf=3, min_samples_split=4, n_estimators=250 \n",
      "[CV]  max_depth=110, min_samples_leaf=3, min_samples_split=4, n_estimators=250, total=   3.2s\n",
      "[CV] max_depth=90, min_samples_leaf=2, min_samples_split=2, n_estimators=200 \n",
      "[CV]  max_depth=90, min_samples_leaf=2, min_samples_split=2, n_estimators=200, total=   3.7s\n",
      "[CV] max_depth=90, min_samples_leaf=2, min_samples_split=2, n_estimators=250 \n",
      "[CV]  max_depth=90, min_samples_leaf=2, min_samples_split=2, n_estimators=250, total=   4.5s\n",
      "[CV] max_depth=90, min_samples_leaf=2, min_samples_split=2, n_estimators=300 \n",
      "[CV]  max_depth=90, min_samples_leaf=2, min_samples_split=2, n_estimators=300, total=   5.2s\n",
      "[CV] max_depth=90, min_samples_leaf=2, min_samples_split=4, n_estimators=200 \n",
      "[CV]  max_depth=90, min_samples_leaf=2, min_samples_split=4, n_estimators=200, total=   4.4s\n",
      "[CV] max_depth=90, min_samples_leaf=2, min_samples_split=4, n_estimators=250 \n",
      "[CV]  max_depth=90, min_samples_leaf=2, min_samples_split=4, n_estimators=250, total=   4.1s\n",
      "[CV] max_depth=90, min_samples_leaf=2, min_samples_split=4, n_estimators=300 \n",
      "[CV]  max_depth=90, min_samples_leaf=2, min_samples_split=4, n_estimators=300, total=   5.2s\n",
      "[CV] max_depth=90, min_samples_leaf=2, min_samples_split=6, n_estimators=150 \n",
      "[CV]  max_depth=90, min_samples_leaf=2, min_samples_split=6, n_estimators=150, total=   2.8s\n",
      "[CV] max_depth=90, min_samples_leaf=2, min_samples_split=6, n_estimators=250 \n",
      "[CV]  max_depth=90, min_samples_leaf=2, min_samples_split=6, n_estimators=250, total=   4.5s\n",
      "[CV] max_depth=90, min_samples_leaf=2, min_samples_split=6, n_estimators=300 \n",
      "[CV]  max_depth=90, min_samples_leaf=2, min_samples_split=6, n_estimators=300, total=   5.7s\n",
      "[CV] max_depth=90, min_samples_leaf=3, min_samples_split=2, n_estimators=150 \n",
      "[CV]  max_depth=90, min_samples_leaf=3, min_samples_split=2, n_estimators=150, total=   1.9s\n",
      "[CV] max_depth=90, min_samples_leaf=3, min_samples_split=2, n_estimators=250 \n",
      "[CV]  max_depth=90, min_samples_leaf=3, min_samples_split=2, n_estimators=250, total=   3.0s\n",
      "[CV] max_depth=90, min_samples_leaf=3, min_samples_split=2, n_estimators=300 \n",
      "[CV]  max_depth=90, min_samples_leaf=3, min_samples_split=2, n_estimators=300, total=   4.1s\n",
      "[CV] max_depth=90, min_samples_leaf=3, min_samples_split=4, n_estimators=100 \n",
      "[CV]  max_depth=90, min_samples_leaf=3, min_samples_split=4, n_estimators=100, total=   1.5s\n",
      "[CV] max_depth=90, min_samples_leaf=3, min_samples_split=4, n_estimators=200 \n",
      "[CV]  max_depth=90, min_samples_leaf=3, min_samples_split=4, n_estimators=200, total=   2.6s\n",
      "[CV] max_depth=90, min_samples_leaf=3, min_samples_split=4, n_estimators=250 \n",
      "[CV]  max_depth=90, min_samples_leaf=3, min_samples_split=4, n_estimators=250, total=   3.4s\n",
      "[CV] max_depth=90, min_samples_leaf=3, min_samples_split=4, n_estimators=300 \n",
      "[CV]  max_depth=90, min_samples_leaf=3, min_samples_split=4, n_estimators=300, total=   3.6s\n",
      "[CV] max_depth=90, min_samples_leaf=3, min_samples_split=6, n_estimators=150 \n",
      "[CV]  max_depth=90, min_samples_leaf=3, min_samples_split=6, n_estimators=150, total=   1.9s\n",
      "[CV] max_depth=90, min_samples_leaf=3, min_samples_split=6, n_estimators=250 \n",
      "[CV]  max_depth=90, min_samples_leaf=3, min_samples_split=6, n_estimators=250, total=   3.3s\n",
      "[CV] max_depth=90, min_samples_leaf=3, min_samples_split=6, n_estimators=300 \n",
      "[CV]  max_depth=90, min_samples_leaf=3, min_samples_split=6, n_estimators=300, total=   4.1s\n",
      "[CV] max_depth=110, min_samples_leaf=1, min_samples_split=2, n_estimators=100 \n",
      "[CV]  max_depth=110, min_samples_leaf=1, min_samples_split=2, n_estimators=100, total=   6.2s\n",
      "[CV] max_depth=110, min_samples_leaf=1, min_samples_split=2, n_estimators=200 \n",
      "[CV]  max_depth=110, min_samples_leaf=1, min_samples_split=2, n_estimators=200, total=  13.2s\n",
      "[CV] max_depth=110, min_samples_leaf=1, min_samples_split=2, n_estimators=250 \n",
      "[CV]  max_depth=110, min_samples_leaf=1, min_samples_split=2, n_estimators=250, total=  16.2s\n",
      "[CV] max_depth=110, min_samples_leaf=1, min_samples_split=2, n_estimators=300 \n",
      "[CV]  max_depth=110, min_samples_leaf=1, min_samples_split=2, n_estimators=300, total=  18.3s\n",
      "[CV] max_depth=110, min_samples_leaf=1, min_samples_split=4, n_estimators=200 \n",
      "[CV]  max_depth=110, min_samples_leaf=1, min_samples_split=4, n_estimators=200, total=  12.5s\n",
      "[CV] max_depth=110, min_samples_leaf=1, min_samples_split=4, n_estimators=250 \n",
      "[CV]  max_depth=110, min_samples_leaf=1, min_samples_split=4, n_estimators=250, total=  14.8s\n",
      "[CV] max_depth=110, min_samples_leaf=1, min_samples_split=4, n_estimators=300 \n",
      "[CV]  max_depth=110, min_samples_leaf=1, min_samples_split=4, n_estimators=300, total=  17.4s\n",
      "[CV] max_depth=110, min_samples_leaf=1, min_samples_split=6, n_estimators=200 \n",
      "[CV]  max_depth=110, min_samples_leaf=1, min_samples_split=6, n_estimators=200, total=  11.4s\n",
      "[CV] max_depth=110, min_samples_leaf=1, min_samples_split=6, n_estimators=250 \n",
      "[CV]  max_depth=110, min_samples_leaf=1, min_samples_split=6, n_estimators=250, total=  14.1s\n",
      "[CV] max_depth=110, min_samples_leaf=1, min_samples_split=6, n_estimators=300 \n",
      "[CV]  max_depth=110, min_samples_leaf=1, min_samples_split=6, n_estimators=300, total=  16.1s\n",
      "[CV] max_depth=110, min_samples_leaf=2, min_samples_split=2, n_estimators=200 \n",
      "[CV]  max_depth=110, min_samples_leaf=2, min_samples_split=2, n_estimators=200, total=   3.6s\n",
      "[CV] max_depth=110, min_samples_leaf=2, min_samples_split=2, n_estimators=300 \n",
      "[CV]  max_depth=110, min_samples_leaf=2, min_samples_split=2, n_estimators=300, total=   5.5s\n",
      "[CV] max_depth=110, min_samples_leaf=2, min_samples_split=4, n_estimators=100 \n",
      "[CV]  max_depth=110, min_samples_leaf=2, min_samples_split=4, n_estimators=100, total=   2.3s\n",
      "[CV] max_depth=110, min_samples_leaf=2, min_samples_split=4, n_estimators=150 \n",
      "[CV]  max_depth=110, min_samples_leaf=2, min_samples_split=4, n_estimators=150, total=   3.0s\n",
      "[CV] max_depth=110, min_samples_leaf=2, min_samples_split=4, n_estimators=200 \n",
      "[CV]  max_depth=110, min_samples_leaf=2, min_samples_split=4, n_estimators=200, total=   3.5s\n",
      "[CV] max_depth=110, min_samples_leaf=2, min_samples_split=4, n_estimators=300 \n",
      "[CV]  max_depth=110, min_samples_leaf=2, min_samples_split=4, n_estimators=300, total=   5.5s\n",
      "[CV] max_depth=110, min_samples_leaf=2, min_samples_split=6, n_estimators=100 \n",
      "[CV]  max_depth=110, min_samples_leaf=2, min_samples_split=6, n_estimators=100, total=   2.2s\n",
      "[CV] max_depth=110, min_samples_leaf=2, min_samples_split=6, n_estimators=150 \n",
      "[CV]  max_depth=110, min_samples_leaf=2, min_samples_split=6, n_estimators=150, total=   2.7s\n",
      "[CV] max_depth=110, min_samples_leaf=2, min_samples_split=6, n_estimators=200 \n",
      "[CV]  max_depth=110, min_samples_leaf=2, min_samples_split=6, n_estimators=200, total=   3.5s\n",
      "[CV] max_depth=110, min_samples_leaf=2, min_samples_split=6, n_estimators=300 \n",
      "[CV]  max_depth=110, min_samples_leaf=2, min_samples_split=6, n_estimators=300, total=   5.4s\n",
      "[CV] max_depth=110, min_samples_leaf=3, min_samples_split=2, n_estimators=100 \n",
      "[CV]  max_depth=110, min_samples_leaf=3, min_samples_split=2, n_estimators=100, total=   1.7s\n",
      "[CV] max_depth=110, min_samples_leaf=3, min_samples_split=2, n_estimators=150 \n",
      "[CV]  max_depth=110, min_samples_leaf=3, min_samples_split=2, n_estimators=150, total=   1.9s\n",
      "[CV] max_depth=110, min_samples_leaf=3, min_samples_split=2, n_estimators=200 \n",
      "[CV]  max_depth=110, min_samples_leaf=3, min_samples_split=2, n_estimators=200, total=   2.5s\n",
      "[CV] max_depth=110, min_samples_leaf=3, min_samples_split=2, n_estimators=250 \n",
      "[CV]  max_depth=110, min_samples_leaf=3, min_samples_split=2, n_estimators=250, total=   3.6s\n",
      "[CV] max_depth=110, min_samples_leaf=3, min_samples_split=4, n_estimators=100 \n",
      "[CV]  max_depth=110, min_samples_leaf=3, min_samples_split=4, n_estimators=100, total=   1.6s\n",
      "[CV] max_depth=110, min_samples_leaf=3, min_samples_split=4, n_estimators=100 \n",
      "[CV]  max_depth=110, min_samples_leaf=3, min_samples_split=4, n_estimators=100, total=   1.4s\n",
      "[CV] max_depth=110, min_samples_leaf=3, min_samples_split=4, n_estimators=150 \n",
      "[CV]  max_depth=110, min_samples_leaf=3, min_samples_split=4, n_estimators=150, total=   1.9s\n",
      "[CV] max_depth=110, min_samples_leaf=3, min_samples_split=4, n_estimators=250 \n",
      "[CV]  max_depth=110, min_samples_leaf=3, min_samples_split=4, n_estimators=250, total=   3.0s\n",
      "[CV] max_depth=110, min_samples_leaf=3, min_samples_split=4, n_estimators=300 \n",
      "[CV]  max_depth=110, min_samples_leaf=3, min_samples_split=4, n_estimators=300, total=   4.2s"
     ]
    },
    {
     "name": "stderr",
     "output_type": "stream",
     "text": [
      "[Parallel(n_jobs=-1)]: Done 540 out of 540 | elapsed: 14.0min finished\n"
     ]
    },
    {
     "data": {
      "text/plain": [
       "GridSearchCV(cv=3, estimator=RandomForestClassifier(n_jobs=-1, random_state=42),\n",
       "             n_jobs=-1,\n",
       "             param_grid={'max_depth': [70, 90, 110, 130],\n",
       "                         'min_samples_leaf': [1, 2, 3],\n",
       "                         'min_samples_split': [2, 4, 6],\n",
       "                         'n_estimators': [100, 150, 200, 250, 300]},\n",
       "             verbose=2)"
      ]
     },
     "execution_count": 26,
     "metadata": {},
     "output_type": "execute_result"
    }
   ],
   "source": [
    "from sklearn.model_selection import GridSearchCV\n",
    "# Create the parameter grid based on the results of random search \n",
    "param_grid = {\n",
    "    'max_depth': [70,90, 110, 130],\n",
    "    'min_samples_leaf': [1,2,3],\n",
    "    'min_samples_split': [2,4,6],\n",
    "    'n_estimators': [100, 150, 200, 250, 300]\n",
    "}\n",
    "# Create a based model\n",
    "rf = RandomForestClassifier(n_jobs=-1, random_state=42)\n",
    "# Instantiate the grid search model\n",
    "grid_search = GridSearchCV(estimator = rf, param_grid = param_grid, \n",
    "                          cv = 3, n_jobs = -1, verbose = 2)\n",
    "\n",
    "# Fit the grid search to the data\n",
    "grid_search.fit(X_train,y_train)\n"
   ]
  },
  {
   "cell_type": "markdown",
   "id": "9ab780d7",
   "metadata": {
    "papermill": {
     "duration": 0.074445,
     "end_time": "2022-08-07T02:02:05.820803",
     "exception": false,
     "start_time": "2022-08-07T02:02:05.746358",
     "status": "completed"
    },
    "tags": []
   },
   "source": [
    "#### So we successfully obtained our best performing parameters"
   ]
  },
  {
   "cell_type": "code",
   "execution_count": 27,
   "id": "cc31db4b",
   "metadata": {
    "_kg_hide-input": true,
    "execution": {
     "iopub.execute_input": "2022-08-07T02:02:05.977561Z",
     "iopub.status.busy": "2022-08-07T02:02:05.976861Z",
     "iopub.status.idle": "2022-08-07T02:02:05.979563Z",
     "shell.execute_reply": "2022-08-07T02:02:05.980083Z",
     "shell.execute_reply.started": "2022-03-05T11:57:43.579435Z"
    },
    "papermill": {
     "duration": 0.083329,
     "end_time": "2022-08-07T02:02:05.980251",
     "exception": false,
     "start_time": "2022-08-07T02:02:05.896922",
     "status": "completed"
    },
    "tags": []
   },
   "outputs": [
    {
     "data": {
      "text/plain": [
       "{'max_depth': 110,\n",
       " 'min_samples_leaf': 1,\n",
       " 'min_samples_split': 4,\n",
       " 'n_estimators': 250}"
      ]
     },
     "execution_count": 27,
     "metadata": {},
     "output_type": "execute_result"
    }
   ],
   "source": [
    "grid_search.best_params_"
   ]
  },
  {
   "cell_type": "markdown",
   "id": "1068d28e",
   "metadata": {
    "papermill": {
     "duration": 0.074544,
     "end_time": "2022-08-07T02:02:06.129854",
     "exception": false,
     "start_time": "2022-08-07T02:02:06.055310",
     "status": "completed"
    },
    "tags": []
   },
   "source": [
    "## Let us check the validation metrics with our improved model after some personal tuning too"
   ]
  },
  {
   "cell_type": "code",
   "execution_count": 28,
   "id": "75d7a324",
   "metadata": {
    "execution": {
     "iopub.execute_input": "2022-08-07T02:02:06.284696Z",
     "iopub.status.busy": "2022-08-07T02:02:06.283682Z",
     "iopub.status.idle": "2022-08-07T02:02:11.869643Z",
     "shell.execute_reply": "2022-08-07T02:02:11.869034Z",
     "shell.execute_reply.started": "2022-03-05T11:57:43.588766Z"
    },
    "papermill": {
     "duration": 5.664472,
     "end_time": "2022-08-07T02:02:11.869799",
     "exception": false,
     "start_time": "2022-08-07T02:02:06.205327",
     "status": "completed"
    },
    "tags": []
   },
   "outputs": [
    {
     "name": "stdout",
     "output_type": "stream",
     "text": [
      "After Hyperparameter Tuning, the accuracy is 0.7933282208588958 and roc_auc_score is 0.865280136172936\n",
      "Improvement in accuracy is 0.53% and in roc_auc_score is 0.00%\n"
     ]
    }
   ],
   "source": [
    "rf_model = RandomForestClassifier(n_jobs=-1, \n",
    "                               random_state=42, \n",
    "                               n_estimators = 230, \n",
    "                               min_samples_split = 5, \n",
    "                               min_samples_leaf = 1,  \n",
    "                               max_depth = 110, \n",
    "                               bootstrap = True)\n",
    "\n",
    "#Fitting the model\n",
    "rf_model.fit(X_train,y_train)\n",
    "\n",
    "#Prediction\n",
    "pred = rf_model.predict(X_val)\n",
    "\n",
    "#Evaluation\n",
    "improved_accuracy = accuracy_score(y_val, pred)\n",
    "improved_auc = roc_auc_score(y_val, model.predict_proba(X_val)[:, 1])\n",
    "\n",
    "improvement_in_accuracy = ((improved_accuracy-accuracy)/accuracy)*100\n",
    "imporvement_in_auc = ((improved_auc-auc)/auc)*100\n",
    "\n",
    "#Statement\n",
    "print(\"After Hyperparameter Tuning, the accuracy is {} and roc_auc_score is {}\".format(improved_accuracy, improved_auc))\n",
    "print(\"Improvement in accuracy is {:.2f}% and in roc_auc_score is {:.2f}%\".format(improvement_in_accuracy,imporvement_in_auc))"
   ]
  },
  {
   "cell_type": "markdown",
   "id": "8388e54f",
   "metadata": {
    "papermill": {
     "duration": 0.075321,
     "end_time": "2022-08-07T02:02:12.021423",
     "exception": false,
     "start_time": "2022-08-07T02:02:11.946102",
     "status": "completed"
    },
    "tags": []
   },
   "source": [
    "#### The tuned model has seen an improvement but not by a significant extent"
   ]
  },
  {
   "cell_type": "markdown",
   "id": "481a1931",
   "metadata": {
    "papermill": {
     "duration": 0.075567,
     "end_time": "2022-08-07T02:02:12.174311",
     "exception": false,
     "start_time": "2022-08-07T02:02:12.098744",
     "status": "completed"
    },
    "tags": []
   },
   "source": [
    "#### For the second model, I will be using XGBoost. XGBoost is also an ensemble method but this algorithm is focused on limiting the error/loss that it's predictions bring"
   ]
  },
  {
   "cell_type": "code",
   "execution_count": 29,
   "id": "5890aee5",
   "metadata": {
    "execution": {
     "iopub.execute_input": "2022-08-07T02:02:12.331904Z",
     "iopub.status.busy": "2022-08-07T02:02:12.330900Z",
     "iopub.status.idle": "2022-08-07T02:02:36.882531Z",
     "shell.execute_reply": "2022-08-07T02:02:36.883296Z",
     "shell.execute_reply.started": "2022-03-05T11:57:49.514532Z"
    },
    "papermill": {
     "duration": 24.633365,
     "end_time": "2022-08-07T02:02:36.883494",
     "exception": false,
     "start_time": "2022-08-07T02:02:12.250129",
     "status": "completed"
    },
    "tags": []
   },
   "outputs": [
    {
     "name": "stderr",
     "output_type": "stream",
     "text": [
      "/opt/conda/lib/python3.7/site-packages/xgboost/sklearn.py:1224: UserWarning: The use of label encoder in XGBClassifier is deprecated and will be removed in a future release. To remove this warning, do the following: 1) Pass option use_label_encoder=False when constructing XGBClassifier object; and 2) Encode your labels (y) as integers starting with 0, i.e. 0, 1, 2, ..., [num_class - 1].\n",
      "  warnings.warn(label_encoder_deprecation_msg, UserWarning)\n"
     ]
    },
    {
     "name": "stdout",
     "output_type": "stream",
     "text": [
      "[02:02:13] WARNING: ../src/learner.cc:1115: Starting in XGBoost 1.3.0, the default evaluation metric used with the objective 'binary:logistic' was changed from 'error' to 'logloss'. Explicitly set eval_metric if you'd like to restore the old behavior.\n",
      "The accuracy is 0.790260736196319 and roc_auc_score is 0.865280136172936\n"
     ]
    }
   ],
   "source": [
    "from xgboost import XGBClassifier\n",
    "\n",
    "boost_model = XGBClassifier(n_jobs=-1, random_state=42)\n",
    "\n",
    "#Fitting the model\n",
    "boost_model.fit(X_train,y_train)\n",
    "\n",
    "#Prediction\n",
    "pred = boost_model.predict(X_val)\n",
    "\n",
    "#Evaluation\n",
    "accuracy = accuracy_score(y_val, pred)\n",
    "auc = roc_auc_score(y_val, model.predict_proba(X_val)[:, 1])\n",
    "\n",
    "#Statement\n",
    "print(\"The accuracy is {} and roc_auc_score is {}\".format(accuracy, auc))"
   ]
  },
  {
   "cell_type": "markdown",
   "id": "ca17d6a2",
   "metadata": {
    "papermill": {
     "duration": 0.076082,
     "end_time": "2022-08-07T02:02:37.036206",
     "exception": false,
     "start_time": "2022-08-07T02:02:36.960124",
     "status": "completed"
    },
    "tags": []
   },
   "source": [
    "#### It seems like our baseline Gradient Boosting model is not as accurate as our Random Forest Model. Let us try with some hyperparameters"
   ]
  },
  {
   "cell_type": "code",
   "execution_count": 30,
   "id": "dadd5f06",
   "metadata": {
    "execution": {
     "iopub.execute_input": "2022-08-07T02:02:37.196788Z",
     "iopub.status.busy": "2022-08-07T02:02:37.195810Z",
     "iopub.status.idle": "2022-08-07T02:02:57.491648Z",
     "shell.execute_reply": "2022-08-07T02:02:57.492679Z",
     "shell.execute_reply.started": "2022-03-05T11:58:13.090894Z"
    },
    "papermill": {
     "duration": 20.376607,
     "end_time": "2022-08-07T02:02:57.492900",
     "exception": false,
     "start_time": "2022-08-07T02:02:37.116293",
     "status": "completed"
    },
    "tags": []
   },
   "outputs": [
    {
     "name": "stderr",
     "output_type": "stream",
     "text": [
      "/opt/conda/lib/python3.7/site-packages/xgboost/sklearn.py:1224: UserWarning: The use of label encoder in XGBClassifier is deprecated and will be removed in a future release. To remove this warning, do the following: 1) Pass option use_label_encoder=False when constructing XGBClassifier object; and 2) Encode your labels (y) as integers starting with 0, i.e. 0, 1, 2, ..., [num_class - 1].\n",
      "  warnings.warn(label_encoder_deprecation_msg, UserWarning)\n"
     ]
    },
    {
     "name": "stdout",
     "output_type": "stream",
     "text": [
      "[02:02:37] WARNING: ../src/learner.cc:1115: Starting in XGBoost 1.3.0, the default evaluation metric used with the objective 'binary:logistic' was changed from 'error' to 'logloss'. Explicitly set eval_metric if you'd like to restore the old behavior.\n",
      "After Hyperparameter Tuning, the accuracy is 0.7925613496932515 and roc_auc_score is 0.8804572545084641\n",
      "Improvement in accuracy is 0.29% and in roc_auc_score is 1.75%\n"
     ]
    }
   ],
   "source": [
    "boost_model = XGBClassifier(n_jobs=-1, random_state=42, max_depth = 5)\n",
    "\n",
    "#Fitting the model\n",
    "boost_model.fit(X_train,y_train)\n",
    "\n",
    "#Prediction\n",
    "pred = boost_model.predict(X_val)\n",
    "\n",
    "#Evaluation\n",
    "improved_accuracy = accuracy_score(y_val, pred)\n",
    "improved_auc = roc_auc_score(y_val, boost_model.predict_proba(X_val)[:, 1])\n",
    "\n",
    "improvement_in_accuracy = ((improved_accuracy-accuracy)/accuracy)*100\n",
    "imporvement_in_auc = ((improved_auc-auc)/auc)*100\n",
    "\n",
    "#Statement\n",
    "print(\"After Hyperparameter Tuning, the accuracy is {} and roc_auc_score is {}\".format(improved_accuracy, improved_auc))\n",
    "print(\"Improvement in accuracy is {:.2f}% and in roc_auc_score is {:.2f}%\".format(improvement_in_accuracy,imporvement_in_auc))"
   ]
  },
  {
   "cell_type": "markdown",
   "id": "1df93085",
   "metadata": {
    "papermill": {
     "duration": 0.079315,
     "end_time": "2022-08-07T02:02:57.650750",
     "exception": false,
     "start_time": "2022-08-07T02:02:57.571435",
     "status": "completed"
    },
    "tags": []
   },
   "source": [
    "#### Seems like our tuned Gradient Boosting Model has a very slight advantage over our Random Forest Model"
   ]
  },
  {
   "cell_type": "markdown",
   "id": "d5afbf75",
   "metadata": {
    "papermill": {
     "duration": 0.077257,
     "end_time": "2022-08-07T02:02:57.806490",
     "exception": false,
     "start_time": "2022-08-07T02:02:57.729233",
     "status": "completed"
    },
    "tags": []
   },
   "source": [
    "# 4. Machine Learning Model Report (Random Forest)"
   ]
  },
  {
   "cell_type": "markdown",
   "id": "602f1ccb",
   "metadata": {
    "papermill": {
     "duration": 0.078075,
     "end_time": "2022-08-07T02:02:57.964400",
     "exception": false,
     "start_time": "2022-08-07T02:02:57.886325",
     "status": "completed"
    },
    "tags": []
   },
   "source": [
    "#### Let us first look at our confusion matrix for an overview of our Random Forest model's performance"
   ]
  },
  {
   "cell_type": "code",
   "execution_count": 31,
   "id": "0e334aa7",
   "metadata": {
    "_kg_hide-input": true,
    "execution": {
     "iopub.execute_input": "2022-08-07T02:02:58.128437Z",
     "iopub.status.busy": "2022-08-07T02:02:58.127411Z",
     "iopub.status.idle": "2022-08-07T02:02:58.392475Z",
     "shell.execute_reply": "2022-08-07T02:02:58.393095Z",
     "shell.execute_reply.started": "2022-03-05T11:58:32.97069Z"
    },
    "papermill": {
     "duration": 0.351316,
     "end_time": "2022-08-07T02:02:58.393276",
     "exception": false,
     "start_time": "2022-08-07T02:02:58.041960",
     "status": "completed"
    },
    "tags": []
   },
   "outputs": [
    {
     "data": {
      "image/png": "[encoded data removed]",
      "text/plain": [
       "<Figure size 432x288 with 2 Axes>"
      ]
     },
     "metadata": {},
     "output_type": "display_data"
    }
   ],
   "source": [
    "from sklearn.metrics import confusion_matrix\n",
    "\n",
    "cf_matrix = confusion_matrix(y_val, pred)\n",
    "\n",
    "ax = sns.heatmap(cf_matrix/np.sum(cf_matrix), annot=True, \n",
    "            fmt='.2%', cmap='Blues')\n",
    "\n",
    "ax.set_title('Seaborn Confusion Matrix with labels\\n\\n');\n",
    "ax.set_xlabel('\\nPredicted Values')\n",
    "ax.set_ylabel('Actual Values ');\n",
    "\n",
    "## Ticket labels - List must be in alphabetical order\n",
    "ax.xaxis.set_ticklabels(['False','True'])\n",
    "ax.yaxis.set_ticklabels(['False','True'])\n",
    "\n",
    "sns.set(rc={'figure.figsize':(10,10)})\n",
    "## Display the visualization of the Confusion Matrix.\n",
    "plt.show()"
   ]
  },
  {
   "cell_type": "markdown",
   "id": "81a3ab8a",
   "metadata": {
    "papermill": {
     "duration": 0.078933,
     "end_time": "2022-08-07T02:02:58.551333",
     "exception": false,
     "start_time": "2022-08-07T02:02:58.472400",
     "status": "completed"
    },
    "tags": []
   },
   "source": [
    "#### Seems like 80% of our predictions lies in the True Positive and True Negative portion which seems like a decent number\n",
    "#### The False Positive and False Negative proportions are also balanced"
   ]
  },
  {
   "cell_type": "markdown",
   "id": "bbce5f56",
   "metadata": {
    "papermill": {
     "duration": 0.078742,
     "end_time": "2022-08-07T02:02:58.709053",
     "exception": false,
     "start_time": "2022-08-07T02:02:58.630311",
     "status": "completed"
    },
    "tags": []
   },
   "source": [
    "#### Now let us look at the feature importances which may give us a good insight as to which features were important and which were not as much"
   ]
  },
  {
   "cell_type": "code",
   "execution_count": 32,
   "id": "98b3e5e4",
   "metadata": {
    "_kg_hide-input": true,
    "execution": {
     "iopub.execute_input": "2022-08-07T02:02:58.870727Z",
     "iopub.status.busy": "2022-08-07T02:02:58.869681Z",
     "iopub.status.idle": "2022-08-07T02:02:59.361514Z",
     "shell.execute_reply": "2022-08-07T02:02:59.362045Z",
     "shell.execute_reply.started": "2022-03-05T11:58:33.30507Z"
    },
    "papermill": {
     "duration": 0.574472,
     "end_time": "2022-08-07T02:02:59.362222",
     "exception": false,
     "start_time": "2022-08-07T02:02:58.787750",
     "status": "completed"
    },
    "tags": []
   },
   "outputs": [
    {
     "data": {
      "text/plain": [
       "<AxesSubplot:>"
      ]
     },
     "execution_count": 32,
     "metadata": {},
     "output_type": "execute_result"
    },
    {
     "data": {
      "image/png": "[encoded data removed]",
      "text/plain": [
       "<Figure size 1440x1080 with 1 Axes>"
      ]
     },
     "metadata": {},
     "output_type": "display_data"
    }
   ],
   "source": [
    "feats = {} \n",
    "for feature, importance in zip(X.columns, model.feature_importances_):\n",
    "    feats[feature] = importance\n",
    "    \n",
    "feature_importances = sorted(feats.items(), key=lambda x: x[1], reverse=True)\n",
    "\n",
    "df = {\"Feature\": [], \"Importance\": []}\n",
    "for i in feature_importances[:10]:\n",
    "    df[\"Feature\"].append(i[0])\n",
    "    df['Importance'].append(i[1])\n",
    "    \n",
    "sns.set(rc={'figure.figsize':(20,15)})\n",
    "sns.barplot(x='Feature', y='Importance', data = df)"
   ]
  },
  {
   "cell_type": "markdown",
   "id": "41e1c86a",
   "metadata": {
    "papermill": {
     "duration": 0.080813,
     "end_time": "2022-08-07T02:02:59.523730",
     "exception": false,
     "start_time": "2022-08-07T02:02:59.442917",
     "status": "completed"
    },
    "tags": []
   },
   "source": [
    "#### The numerical columns seems to have had the highest importances. However, I have my doubts as I do not believe the amount spent at these amenities would greatly influence whether the person was transported. This may be due to several reasons. \n",
    "#### 1. The data for these numerical columns are very skewed to the lower values and most of the data points are 0\n",
    "#### 2. Since values for these categories are very low, even a small change in these values might greatly influence our model's predictions (without much meaning), thus explaining the high feature importance placed by our model\n",
    "#### The following features with the highest importances are whether the person opted for CryoSleep and their planet of Origin. "
   ]
  },
  {
   "cell_type": "markdown",
   "id": "c38c50bc",
   "metadata": {
    "papermill": {
     "duration": 0.079866,
     "end_time": "2022-08-07T02:02:59.683775",
     "exception": false,
     "start_time": "2022-08-07T02:02:59.603909",
     "status": "completed"
    },
    "tags": []
   },
   "source": [
    "# 5. Summary"
   ]
  },
  {
   "cell_type": "markdown",
   "id": "a589f08f",
   "metadata": {
    "papermill": {
     "duration": 0.08133,
     "end_time": "2022-08-07T02:02:59.847215",
     "exception": false,
     "start_time": "2022-08-07T02:02:59.765885",
     "status": "completed"
    },
    "tags": []
   },
   "source": [
    "#### Let us create a file to submit to the leaderboard"
   ]
  },
  {
   "cell_type": "code",
   "execution_count": 33,
   "id": "14c143d1",
   "metadata": {
    "_kg_hide-output": true,
    "execution": {
     "iopub.execute_input": "2022-08-07T02:03:00.015256Z",
     "iopub.status.busy": "2022-08-07T02:03:00.014268Z",
     "iopub.status.idle": "2022-08-07T02:03:18.259706Z",
     "shell.execute_reply": "2022-08-07T02:03:18.258927Z",
     "shell.execute_reply.started": "2022-03-05T11:58:33.788348Z"
    },
    "papermill": {
     "duration": 18.330124,
     "end_time": "2022-08-07T02:03:18.259874",
     "exception": false,
     "start_time": "2022-08-07T02:02:59.929750",
     "status": "completed"
    },
    "tags": []
   },
   "outputs": [
    {
     "name": "stdout",
     "output_type": "stream",
     "text": [
      "Iteration: 0\n",
      "Iteration: 1\n",
      "Iteration: 2\n",
      "Iteration: 3\n",
      "Iteration: 4\n"
     ]
    }
   ],
   "source": [
    "# Impute\n",
    "imputer = MissForest()\n",
    "data_imputed = imputer.fit_transform(test_df.iloc[: , :6])\n",
    "data_imputed = pd.DataFrame(data=data_imputed, columns=test_df.iloc[: , :6].columns)\n",
    "test_df.drop(['Age', 'RoomService', 'FoodCourt', 'ShoppingMall', 'Spa', 'VRDeck'], axis = 1, inplace=True)\n",
    "test_df = pd.concat([test_df, data_imputed], axis=1)\n",
    "\n",
    "test_df.drop('Transported', axis=1, inplace=True)\n",
    "\n",
    "#submission\n",
    "rf_submission = rf_model.predict(test_df)\n",
    "boost_submission = boost_model.predict(test_df)\n",
    "\n",
    "#submission file\n",
    "sample_df['Transported'] = rf_submission\n",
    "sample_df.to_csv('rf_submission.csv', index=False)\n",
    "\n",
    "sample_df['Transported'] = boost_submission\n",
    "sample_df.to_csv('boost_submission.csv', index=False)"
   ]
  },
  {
   "cell_type": "code",
   "execution_count": 34,
   "id": "3bd78d7f",
   "metadata": {
    "execution": {
     "iopub.execute_input": "2022-08-07T02:03:18.436236Z",
     "iopub.status.busy": "2022-08-07T02:03:18.430092Z",
     "iopub.status.idle": "2022-08-07T02:03:18.440649Z",
     "shell.execute_reply": "2022-08-07T02:03:18.440084Z",
     "shell.execute_reply.started": "2022-03-05T12:10:33.036779Z"
    },
    "papermill": {
     "duration": 0.09846,
     "end_time": "2022-08-07T02:03:18.440817",
     "exception": false,
     "start_time": "2022-08-07T02:03:18.342357",
     "status": "completed"
    },
    "tags": []
   },
   "outputs": [],
   "source": [
    "sample_df['Transported'] = boost_submission\n",
    "sample_df.to_csv('submission.csv', index=False)"
   ]
  },
  {
   "cell_type": "markdown",
   "id": "eb381da6",
   "metadata": {
    "papermill": {
     "duration": 0.083653,
     "end_time": "2022-08-07T02:03:18.608596",
     "exception": false,
     "start_time": "2022-08-07T02:03:18.524943",
     "status": "completed"
    },
    "tags": []
   },
   "source": [
    "#### Our model seems to have performed decently with a rough accuracy of 79~80%. \n",
    "#### However, I do believe attempting other models to our data and selecting which feature to feed into our models might bring a higher accuracy. \n",
    "#### In the near future, I am planning on fitting **Gradient Boosting Model** (completed above) to our data and as to the feature engineering wise, I plan to try out different data imputation methods such as **KNNImputer**. Even different methods of hyperparameter tuning might help out, possibly using **Bayesian Optimization** which I am very interested in\n",
    "#### So do check out my profile for more informative notebooks like this! \n",
    "#### Any suggestions and comments are very much welcomed! Thank you for reading :)"
   ]
  },
  {
   "cell_type": "markdown",
   "id": "a19b2832",
   "metadata": {
    "papermill": {
     "duration": 0.083333,
     "end_time": "2022-08-07T02:03:18.776770",
     "exception": false,
     "start_time": "2022-08-07T02:03:18.693437",
     "status": "completed"
    },
    "tags": []
   },
   "source": [
    "## Acknowledgements\n",
    "### https://www.stackvidhya.com/plot-confusion-matrix-in-python-and-why/\n",
    "### https://towardsdatascience.com/hyperparameter-tuning-the-random-forest-in-python-using-scikit-learn-28d2aa77dd74\n",
    "### https://towardsdatascience.com/imputing-numerical-data-top-5-techniques-every-data-scientist-must-know-587c0f51552a"
   ]
  }
 ],
 "metadata": {
  "kernelspec": {
   "display_name": "Python 3",
   "language": "python",
   "name": "python3"
  },
  "language_info": {
   "codemirror_mode": {
    "name": "ipython",
    "version": 3
   },
   "file_extension": ".py",
   "mimetype": "text/x-python",
   "name": "python",
   "nbconvert_exporter": "python",
   "pygments_lexer": "ipython3",
   "version": "3.7.12"
  },
  "papermill": {
   "default_parameters": {},
   "duration": 974.525661,
   "end_time": "2022-08-07T02:03:20.074924",
   "environment_variables": {},
   "exception": null,
   "input_path": "__notebook__.ipynb",
   "output_path": "__notebook__.ipynb",
   "parameters": {},
   "start_time": "2022-08-07T01:47:05.549263",
   "version": "2.3.3"
  }
 },
 "nbformat": 4,
 "nbformat_minor": 5
}
