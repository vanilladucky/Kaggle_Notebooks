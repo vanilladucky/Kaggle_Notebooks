{
 "cells": [
  {
   "cell_type": "code",
   "execution_count": 1,
   "id": "b9f15900",
   "metadata": {
    "_cell_guid": "b1076dfc-b9ad-4769-8c92-a6c4dae69d19",
    "_uuid": "8f2839f25d086af736a60e9eeb907d3b93b6e0e5",
    "execution": {
     "iopub.execute_input": "2023-04-16T09:14:25.758847Z",
     "iopub.status.busy": "2023-04-16T09:14:25.757404Z",
     "iopub.status.idle": "2023-04-16T09:14:30.155818Z",
     "shell.execute_reply": "2023-04-16T09:14:30.154423Z"
    },
    "papermill": {
     "duration": 4.421447,
     "end_time": "2023-04-16T09:14:30.159266",
     "exception": false,
     "start_time": "2023-04-16T09:14:25.737819",
     "status": "completed"
    },
    "tags": []
   },
   "outputs": [
    {
     "data": {
      "text/html": [
       "<style type='text/css'>\n",
       ".datatable table.frame { margin-bottom: 0; }\n",
       ".datatable table.frame thead { border-bottom: none; }\n",
       ".datatable table.frame tr.coltypes td {  color: #FFFFFF;  line-height: 6px;  padding: 0 0.5em;}\n",
       ".datatable .bool    { background: #DDDD99; }\n",
       ".datatable .object  { background: #565656; }\n",
       ".datatable .int     { background: #5D9E5D; }\n",
       ".datatable .float   { background: #4040CC; }\n",
       ".datatable .str     { background: #CC4040; }\n",
       ".datatable .time    { background: #40CC40; }\n",
       ".datatable .row_index {  background: var(--jp-border-color3);  border-right: 1px solid var(--jp-border-color0);  color: var(--jp-ui-font-color3);  font-size: 9px;}\n",
       ".datatable .frame tbody td { text-align: left; }\n",
       ".datatable .frame tr.coltypes .row_index {  background: var(--jp-border-color0);}\n",
       ".datatable th:nth-child(2) { padding-left: 12px; }\n",
       ".datatable .hellipsis {  color: var(--jp-cell-editor-border-color);}\n",
       ".datatable .vellipsis {  background: var(--jp-layout-color0);  color: var(--jp-cell-editor-border-color);}\n",
       ".datatable .na {  color: var(--jp-cell-editor-border-color);  font-size: 80%;}\n",
       ".datatable .sp {  opacity: 0.25;}\n",
       ".datatable .footer { font-size: 9px; }\n",
       ".datatable .frame_dimensions {  background: var(--jp-border-color3);  border-top: 1px solid var(--jp-border-color0);  color: var(--jp-ui-font-color3);  display: inline-block;  opacity: 0.6;  padding: 1px 10px 1px 5px;}\n",
       "</style>\n"
      ],
      "text/plain": [
       "<IPython.core.display.HTML object>"
      ]
     },
     "metadata": {},
     "output_type": "display_data"
    }
   ],
   "source": [
    "import warnings\n",
    "warnings.filterwarnings(\"ignore\")\n",
    "\n",
    "import numpy as np \n",
    "import pandas as pd \n",
    "from tqdm import tqdm\n",
    "import matplotlib.pyplot as plt\n",
    "import seaborn as sns\n",
    "from sklearn.model_selection import cross_val_score, KFold, StratifiedKFold, train_test_split, cross_val_predict\n",
    "from sklearn.metrics import roc_auc_score\n",
    "from sklearn.preprocessing import MinMaxScaler,QuantileTransformer, PolynomialFeatures\n",
    "from sklearn.decomposition import PCA\n",
    "import optuna\n",
    "from optuna.samplers import TPESampler      \n",
    "\n",
    "from xgboost import XGBClassifier\n",
    "from lightgbm import LGBMClassifier\n",
    "from catboost import CatBoostClassifier\n",
    "from sklearn.linear_model import LogisticRegression\n",
    "from sklearn.tree import DecisionTreeClassifier\n",
    "from sklearn.ensemble import RandomForestClassifier,GradientBoostingClassifier, AdaBoostClassifier\n",
    "from sklearn.neighbors import KNeighborsClassifier\n",
    "from sklearn.neural_network import MLPClassifier\n",
    "\n",
    "MERGE = True"
   ]
  },
  {
   "cell_type": "markdown",
   "id": "73bf3010",
   "metadata": {
    "papermill": {
     "duration": 0.015455,
     "end_time": "2023-04-16T09:14:30.191440",
     "exception": false,
     "start_time": "2023-04-16T09:14:30.175985",
     "status": "completed"
    },
    "tags": []
   },
   "source": [
    "<p style=\"text-align:center; font-size:30px; font-family:cursive;\"> Welcome to PS_S3_Ep12 Challenge </p>"
   ]
  },
  {
   "cell_type": "markdown",
   "id": "4be247a2",
   "metadata": {
    "papermill": {
     "duration": 0.018651,
     "end_time": "2023-04-16T09:14:30.226076",
     "exception": false,
     "start_time": "2023-04-16T09:14:30.207425",
     "status": "completed"
    },
    "tags": []
   },
   "source": [
    "# Data"
   ]
  },
  {
   "cell_type": "code",
   "execution_count": 2,
   "id": "058306b1",
   "metadata": {
    "execution": {
     "iopub.execute_input": "2023-04-16T09:14:30.260916Z",
     "iopub.status.busy": "2023-04-16T09:14:30.259564Z",
     "iopub.status.idle": "2023-04-16T09:14:30.328178Z",
     "shell.execute_reply": "2023-04-16T09:14:30.326736Z"
    },
    "papermill": {
     "duration": 0.089137,
     "end_time": "2023-04-16T09:14:30.331263",
     "exception": false,
     "start_time": "2023-04-16T09:14:30.242126",
     "status": "completed"
    },
    "tags": []
   },
   "outputs": [],
   "source": [
    "train = pd.read_csv('/kaggle/input/playground-series-s3e12/train.csv')\n",
    "test = pd.read_csv('/kaggle/input/playground-series-s3e12/test.csv')\n",
    "sample = pd.read_csv('/kaggle/input/playground-series-s3e12/sample_submission.csv')\n",
    "original = pd.read_csv('/kaggle/input/kidney-stone-prediction-based-on-urine-analysis/kindey stone urine analysis.csv')\n",
    "\n",
    "# Concatenate the training and original training dataset\n",
    "if MERGE:    \n",
    "    total_train = pd.concat([train, original])\n",
    "    total_train.drop_duplicates(inplace=True)\n",
    "    total_train.drop(['id'], axis=1, inplace=True)\n",
    "else:\n",
    "    total_train = train"
   ]
  },
  {
   "cell_type": "markdown",
   "id": "7bbd0de2",
   "metadata": {
    "papermill": {
     "duration": 0.015176,
     "end_time": "2023-04-16T09:14:30.362141",
     "exception": false,
     "start_time": "2023-04-16T09:14:30.346965",
     "status": "completed"
    },
    "tags": []
   },
   "source": [
    "#### Let's take a look at our data and some visualization."
   ]
  },
  {
   "cell_type": "code",
   "execution_count": 3,
   "id": "3084c753",
   "metadata": {
    "execution": {
     "iopub.execute_input": "2023-04-16T09:14:30.396683Z",
     "iopub.status.busy": "2023-04-16T09:14:30.395410Z",
     "iopub.status.idle": "2023-04-16T09:14:30.430167Z",
     "shell.execute_reply": "2023-04-16T09:14:30.428861Z"
    },
    "papermill": {
     "duration": 0.055349,
     "end_time": "2023-04-16T09:14:30.433341",
     "exception": false,
     "start_time": "2023-04-16T09:14:30.377992",
     "status": "completed"
    },
    "tags": []
   },
   "outputs": [
    {
     "data": {
      "text/html": [
       "<div>\n",
       "<style scoped>\n",
       "    .dataframe tbody tr th:only-of-type {\n",
       "        vertical-align: middle;\n",
       "    }\n",
       "\n",
       "    .dataframe tbody tr th {\n",
       "        vertical-align: top;\n",
       "    }\n",
       "\n",
       "    .dataframe thead th {\n",
       "        text-align: right;\n",
       "    }\n",
       "</style>\n",
       "<table border=\"1\" class=\"dataframe\">\n",
       "  <thead>\n",
       "    <tr style=\"text-align: right;\">\n",
       "      <th></th>\n",
       "      <th>gravity</th>\n",
       "      <th>ph</th>\n",
       "      <th>osmo</th>\n",
       "      <th>cond</th>\n",
       "      <th>urea</th>\n",
       "      <th>calc</th>\n",
       "      <th>target</th>\n",
       "    </tr>\n",
       "  </thead>\n",
       "  <tbody>\n",
       "    <tr>\n",
       "      <th>0</th>\n",
       "      <td>1.013</td>\n",
       "      <td>6.19</td>\n",
       "      <td>443</td>\n",
       "      <td>14.8</td>\n",
       "      <td>124</td>\n",
       "      <td>1.45</td>\n",
       "      <td>0</td>\n",
       "    </tr>\n",
       "    <tr>\n",
       "      <th>1</th>\n",
       "      <td>1.025</td>\n",
       "      <td>5.40</td>\n",
       "      <td>703</td>\n",
       "      <td>23.6</td>\n",
       "      <td>394</td>\n",
       "      <td>4.18</td>\n",
       "      <td>0</td>\n",
       "    </tr>\n",
       "    <tr>\n",
       "      <th>2</th>\n",
       "      <td>1.009</td>\n",
       "      <td>6.13</td>\n",
       "      <td>371</td>\n",
       "      <td>24.5</td>\n",
       "      <td>159</td>\n",
       "      <td>9.04</td>\n",
       "      <td>0</td>\n",
       "    </tr>\n",
       "    <tr>\n",
       "      <th>3</th>\n",
       "      <td>1.021</td>\n",
       "      <td>4.91</td>\n",
       "      <td>442</td>\n",
       "      <td>20.8</td>\n",
       "      <td>398</td>\n",
       "      <td>6.63</td>\n",
       "      <td>1</td>\n",
       "    </tr>\n",
       "    <tr>\n",
       "      <th>4</th>\n",
       "      <td>1.021</td>\n",
       "      <td>5.53</td>\n",
       "      <td>874</td>\n",
       "      <td>17.8</td>\n",
       "      <td>385</td>\n",
       "      <td>2.21</td>\n",
       "      <td>1</td>\n",
       "    </tr>\n",
       "    <tr>\n",
       "      <th>...</th>\n",
       "      <td>...</td>\n",
       "      <td>...</td>\n",
       "      <td>...</td>\n",
       "      <td>...</td>\n",
       "      <td>...</td>\n",
       "      <td>...</td>\n",
       "      <td>...</td>\n",
       "    </tr>\n",
       "    <tr>\n",
       "      <th>74</th>\n",
       "      <td>1.025</td>\n",
       "      <td>7.90</td>\n",
       "      <td>721</td>\n",
       "      <td>23.6</td>\n",
       "      <td>301</td>\n",
       "      <td>9.04</td>\n",
       "      <td>1</td>\n",
       "    </tr>\n",
       "    <tr>\n",
       "      <th>75</th>\n",
       "      <td>1.017</td>\n",
       "      <td>4.81</td>\n",
       "      <td>410</td>\n",
       "      <td>13.3</td>\n",
       "      <td>195</td>\n",
       "      <td>0.58</td>\n",
       "      <td>1</td>\n",
       "    </tr>\n",
       "    <tr>\n",
       "      <th>76</th>\n",
       "      <td>1.024</td>\n",
       "      <td>5.40</td>\n",
       "      <td>803</td>\n",
       "      <td>21.8</td>\n",
       "      <td>394</td>\n",
       "      <td>7.82</td>\n",
       "      <td>1</td>\n",
       "    </tr>\n",
       "    <tr>\n",
       "      <th>77</th>\n",
       "      <td>1.016</td>\n",
       "      <td>6.81</td>\n",
       "      <td>594</td>\n",
       "      <td>21.4</td>\n",
       "      <td>255</td>\n",
       "      <td>12.20</td>\n",
       "      <td>1</td>\n",
       "    </tr>\n",
       "    <tr>\n",
       "      <th>78</th>\n",
       "      <td>1.015</td>\n",
       "      <td>6.03</td>\n",
       "      <td>416</td>\n",
       "      <td>12.8</td>\n",
       "      <td>178</td>\n",
       "      <td>9.39</td>\n",
       "      <td>1</td>\n",
       "    </tr>\n",
       "  </tbody>\n",
       "</table>\n",
       "<p>493 rows × 7 columns</p>\n",
       "</div>"
      ],
      "text/plain": [
       "    gravity    ph  osmo  cond  urea   calc  target\n",
       "0     1.013  6.19   443  14.8   124   1.45       0\n",
       "1     1.025  5.40   703  23.6   394   4.18       0\n",
       "2     1.009  6.13   371  24.5   159   9.04       0\n",
       "3     1.021  4.91   442  20.8   398   6.63       1\n",
       "4     1.021  5.53   874  17.8   385   2.21       1\n",
       "..      ...   ...   ...   ...   ...    ...     ...\n",
       "74    1.025  7.90   721  23.6   301   9.04       1\n",
       "75    1.017  4.81   410  13.3   195   0.58       1\n",
       "76    1.024  5.40   803  21.8   394   7.82       1\n",
       "77    1.016  6.81   594  21.4   255  12.20       1\n",
       "78    1.015  6.03   416  12.8   178   9.39       1\n",
       "\n",
       "[493 rows x 7 columns]"
      ]
     },
     "execution_count": 3,
     "metadata": {},
     "output_type": "execute_result"
    }
   ],
   "source": [
    "total_train"
   ]
  },
  {
   "cell_type": "markdown",
   "id": "a23667f5",
   "metadata": {
    "papermill": {
     "duration": 0.015858,
     "end_time": "2023-04-16T09:14:30.466359",
     "exception": false,
     "start_time": "2023-04-16T09:14:30.450501",
     "status": "completed"
    },
    "tags": []
   },
   "source": [
    "#### Compared to the previous competition, there doesn't seem to be a lot of different features. \n",
    "#### If this is the case, we might have to utilize some clever feature engineering techniques to capture possible correlations within the ranks. "
   ]
  },
  {
   "cell_type": "code",
   "execution_count": 4,
   "id": "01981665",
   "metadata": {
    "execution": {
     "iopub.execute_input": "2023-04-16T09:14:30.501830Z",
     "iopub.status.busy": "2023-04-16T09:14:30.501362Z",
     "iopub.status.idle": "2023-04-16T09:14:30.508012Z",
     "shell.execute_reply": "2023-04-16T09:14:30.506155Z"
    },
    "papermill": {
     "duration": 0.027244,
     "end_time": "2023-04-16T09:14:30.510806",
     "exception": false,
     "start_time": "2023-04-16T09:14:30.483562",
     "status": "completed"
    },
    "tags": []
   },
   "outputs": [],
   "source": [
    "# Define our feature and target variables\n",
    "features = list(total_train.columns[:-1])\n",
    "target = 'target'"
   ]
  },
  {
   "cell_type": "markdown",
   "id": "d1f80de9",
   "metadata": {
    "papermill": {
     "duration": 0.015828,
     "end_time": "2023-04-16T09:14:30.542684",
     "exception": false,
     "start_time": "2023-04-16T09:14:30.526856",
     "status": "completed"
    },
    "tags": []
   },
   "source": [
    "## Data Visualization"
   ]
  },
  {
   "cell_type": "code",
   "execution_count": 5,
   "id": "59283942",
   "metadata": {
    "execution": {
     "iopub.execute_input": "2023-04-16T09:14:30.579277Z",
     "iopub.status.busy": "2023-04-16T09:14:30.577912Z",
     "iopub.status.idle": "2023-04-16T09:14:32.670427Z",
     "shell.execute_reply": "2023-04-16T09:14:32.669302Z"
    },
    "papermill": {
     "duration": 2.114388,
     "end_time": "2023-04-16T09:14:32.674137",
     "exception": false,
     "start_time": "2023-04-16T09:14:30.559749",
     "status": "completed"
    },
    "tags": []
   },
   "outputs": [
    {
     "data": {
      "image/png": "[encoded data removed]",
      "text/plain": [
       "<Figure size 1400x2000 with 6 Axes>"
      ]
     },
     "metadata": {},
     "output_type": "display_data"
    }
   ],
   "source": [
    "rows, cols = 3, 2\n",
    "fig, axs = plt.subplots(rows, cols, figsize=(14,20))\n",
    "total_train['istest'] = 0\n",
    "test['istest'] = 1\n",
    "features.extend(['istest'])\n",
    "raw = pd.concat([total_train, test])\n",
    "raw.reset_index(inplace=True)\n",
    "for i in range(rows):\n",
    "    for j in range(cols):\n",
    "        sns.histplot(raw[features], x = features[i*2+j], hue='istest', ax=axs[i][j])\n",
    "features.remove('istest')\n",
    "plt.tight_layout()\n",
    "plt.show()"
   ]
  },
  {
   "cell_type": "markdown",
   "id": "c7fd18ec",
   "metadata": {
    "papermill": {
     "duration": 0.017922,
     "end_time": "2023-04-16T09:14:32.711111",
     "exception": false,
     "start_time": "2023-04-16T09:14:32.693189",
     "status": "completed"
    },
    "tags": []
   },
   "source": [
    "#### As we can see some of the features like 'calc' and 'ph' is slightly skewed. \n",
    "#### I believe we can attempt to transform those. \n",
    "#### We can try to fit our models on two different datasets and observe which ones show a better score."
   ]
  },
  {
   "cell_type": "markdown",
   "id": "9e8ad02f",
   "metadata": {
    "papermill": {
     "duration": 0.018508,
     "end_time": "2023-04-16T09:14:32.749438",
     "exception": false,
     "start_time": "2023-04-16T09:14:32.730930",
     "status": "completed"
    },
    "tags": []
   },
   "source": [
    "## Feature Engineering"
   ]
  },
  {
   "cell_type": "markdown",
   "id": "6183b3ad",
   "metadata": {
    "papermill": {
     "duration": 0.019586,
     "end_time": "2023-04-16T09:14:32.787137",
     "exception": false,
     "start_time": "2023-04-16T09:14:32.767551",
     "status": "completed"
    },
    "tags": []
   },
   "source": [
    "#### Let's first apply some PCA to our few features."
   ]
  },
  {
   "cell_type": "code",
   "execution_count": 6,
   "id": "def93b9c",
   "metadata": {
    "execution": {
     "iopub.execute_input": "2023-04-16T09:14:32.827170Z",
     "iopub.status.busy": "2023-04-16T09:14:32.826733Z",
     "iopub.status.idle": "2023-04-16T09:14:32.875075Z",
     "shell.execute_reply": "2023-04-16T09:14:32.873050Z"
    },
    "papermill": {
     "duration": 0.075631,
     "end_time": "2023-04-16T09:14:32.881561",
     "exception": false,
     "start_time": "2023-04-16T09:14:32.805930",
     "status": "completed"
    },
    "tags": []
   },
   "outputs": [],
   "source": [
    "pca = PCA(n_components=3)\n",
    "\n",
    "total_train['istest'] = 0\n",
    "test['istest'] = 1\n",
    "raw = pd.concat([total_train,test])\n",
    "\n",
    "raw[['pca_1', 'pca_2', 'pca_3']] = pca.fit_transform(raw[features])\n",
    "\n",
    "total_train = raw[raw['istest'] == 0]\n",
    "test = raw[raw['istest'] == 1]\n",
    "\n",
    "if 'pca_1' not in features and 'pca_2' not in features and 'pca_3' not in features:\n",
    "    features+= ['pca_1', 'pca_2', 'pca_3']"
   ]
  },
  {
   "cell_type": "markdown",
   "id": "017cb5d3",
   "metadata": {
    "papermill": {
     "duration": 0.041593,
     "end_time": "2023-04-16T09:14:32.973030",
     "exception": false,
     "start_time": "2023-04-16T09:14:32.931437",
     "status": "completed"
    },
    "tags": []
   },
   "source": [
    "#### Let's try some feature engineering ideas too."
   ]
  },
  {
   "cell_type": "code",
   "execution_count": 7,
   "id": "c3f1b9d0",
   "metadata": {
    "execution": {
     "iopub.execute_input": "2023-04-16T09:14:33.011290Z",
     "iopub.status.busy": "2023-04-16T09:14:33.010853Z",
     "iopub.status.idle": "2023-04-16T09:14:33.034771Z",
     "shell.execute_reply": "2023-04-16T09:14:33.032965Z"
    },
    "papermill": {
     "duration": 0.047277,
     "end_time": "2023-04-16T09:14:33.038373",
     "exception": false,
     "start_time": "2023-04-16T09:14:32.991096",
     "status": "completed"
    },
    "tags": []
   },
   "outputs": [],
   "source": [
    "# Credits to https://www.kaggle.com/competitions/playground-series-s3e12/discussion/399441\n",
    "\n",
    "total_train['istest'] = 0\n",
    "test['istest'] = 1\n",
    "raw = pd.concat([total_train,test])\n",
    "\n",
    "# Ratio of calcium concentration to urea concentration: \n",
    "raw['calc_urea_ratio'] = raw['calc'] / raw['urea']\n",
    "\n",
    "# Ratio of specific gravity to osmolarity: \n",
    "raw['gravity_osm_ratio'] = raw['gravity'] / raw['osmo']\n",
    "\n",
    "# Product of calcium concentration and osmolarity: \n",
    "raw['calc_osm_product'] = raw['calc'] * raw['osmo']\n",
    "\n",
    "# Product of specific gravity and conductivity: \n",
    "raw['gravity_cond_product'] = raw['gravity'] * raw['cond']\n",
    "\n",
    "# Ratio of calcium concentration to specific gravity: \n",
    "raw['calc_gravity_ratio'] = raw['calc'] / raw['gravity']\n",
    "\n",
    "# Ratio of urea concentration to specific gravity: \n",
    "raw['urea_gravity_ratio'] = raw['urea'] / raw['gravity']\n",
    "\n",
    "# Product of osmolarity and conductivity: \n",
    "raw['osm_cond_product'] = raw['osmo'] * raw['cond']\n",
    "\n",
    "# Ratio of calcium concentration to osmolarity: \n",
    "raw['calc_osm_ratio'] = raw['calc'] / raw['osmo']\n",
    "\n",
    "# Ratio of urea concentration to osmolarity: \n",
    "raw['urea_osm_ratio'] = raw['urea'] / raw['osmo']\n",
    "\n",
    "# Product of specific gravity and urea concentration: \n",
    "raw['gravity_urea_product'] = raw['gravity'] * raw['urea']\n",
    "\n",
    "total_train = raw[raw['istest'] == 0]\n",
    "test = raw[raw['istest'] == 1]"
   ]
  },
  {
   "cell_type": "markdown",
   "id": "79edcd9f",
   "metadata": {
    "papermill": {
     "duration": 0.017669,
     "end_time": "2023-04-16T09:14:33.073532",
     "exception": false,
     "start_time": "2023-04-16T09:14:33.055863",
     "status": "completed"
    },
    "tags": []
   },
   "source": [
    "#### Now let's observe the feature correlation."
   ]
  },
  {
   "cell_type": "markdown",
   "id": "09b8c02d",
   "metadata": {
    "papermill": {
     "duration": 0.017411,
     "end_time": "2023-04-16T09:14:33.108355",
     "exception": false,
     "start_time": "2023-04-16T09:14:33.090944",
     "status": "completed"
    },
    "tags": []
   },
   "source": [
    "## Feature Correlation"
   ]
  },
  {
   "cell_type": "code",
   "execution_count": 8,
   "id": "b6b07583",
   "metadata": {
    "execution": {
     "iopub.execute_input": "2023-04-16T09:14:33.147529Z",
     "iopub.status.busy": "2023-04-16T09:14:33.147085Z",
     "iopub.status.idle": "2023-04-16T09:14:34.859808Z",
     "shell.execute_reply": "2023-04-16T09:14:34.858360Z"
    },
    "papermill": {
     "duration": 1.735549,
     "end_time": "2023-04-16T09:14:34.863060",
     "exception": false,
     "start_time": "2023-04-16T09:14:33.127511",
     "status": "completed"
    },
    "tags": []
   },
   "outputs": [
    {
     "data": {
      "text/plain": [
       "Text(0.5, 1.0, 'Correlation Heatmap')"
      ]
     },
     "execution_count": 8,
     "metadata": {},
     "output_type": "execute_result"
    },
    {
     "data": {
      "image/png": "[encoded data removed]",
      "text/plain": [
       "<Figure size 1600x600 with 2 Axes>"
      ]
     },
     "metadata": {},
     "output_type": "display_data"
    }
   ],
   "source": [
    "plt.figure(figsize=(16, 6))\n",
    "heatmap = sns.heatmap(total_train.corr(), vmin=-1, vmax=1, annot=True, mask = np.triu(total_train.corr()))\n",
    "heatmap.set_title('Correlation Heatmap', fontdict={'fontsize':12}, pad=12)"
   ]
  },
  {
   "cell_type": "markdown",
   "id": "f487affd",
   "metadata": {
    "papermill": {
     "duration": 0.022152,
     "end_time": "2023-04-16T09:14:34.907417",
     "exception": false,
     "start_time": "2023-04-16T09:14:34.885265",
     "status": "completed"
    },
    "tags": []
   },
   "source": [
    "#### Seems like even in the given features, some of them turn out to have low correlation with our target variable and some of the engineered ones show better promise."
   ]
  },
  {
   "cell_type": "markdown",
   "id": "9c7d45b3",
   "metadata": {
    "papermill": {
     "duration": 0.021949,
     "end_time": "2023-04-16T09:14:34.953211",
     "exception": false,
     "start_time": "2023-04-16T09:14:34.931262",
     "status": "completed"
    },
    "tags": []
   },
   "source": [
    "## Picking out features and transforming"
   ]
  },
  {
   "cell_type": "markdown",
   "id": "097d4dc7",
   "metadata": {
    "papermill": {
     "duration": 0.020931,
     "end_time": "2023-04-16T09:14:34.995478",
     "exception": false,
     "start_time": "2023-04-16T09:14:34.974547",
     "status": "completed"
    },
    "tags": []
   },
   "source": [
    "#### Let's pick out a certain number of features that have the highest correlation with the target variable."
   ]
  },
  {
   "cell_type": "code",
   "execution_count": 9,
   "id": "411d1a5b",
   "metadata": {
    "execution": {
     "iopub.execute_input": "2023-04-16T09:14:35.041156Z",
     "iopub.status.busy": "2023-04-16T09:14:35.040741Z",
     "iopub.status.idle": "2023-04-16T09:14:35.048216Z",
     "shell.execute_reply": "2023-04-16T09:14:35.046594Z"
    },
    "papermill": {
     "duration": 0.033849,
     "end_time": "2023-04-16T09:14:35.050964",
     "exception": false,
     "start_time": "2023-04-16T09:14:35.017115",
     "status": "completed"
    },
    "tags": []
   },
   "outputs": [
    {
     "name": "stdout",
     "output_type": "stream",
     "text": [
      "['gravity', 'calc', 'pca_1']\n"
     ]
    }
   ],
   "source": [
    "selected_features = [\n",
    "    'gravity',    \n",
    "    'calc',\n",
    "    'pca_1'\n",
    "]\n",
    "print(selected_features)"
   ]
  },
  {
   "cell_type": "markdown",
   "id": "14e4c4f6",
   "metadata": {
    "papermill": {
     "duration": 0.021204,
     "end_time": "2023-04-16T09:14:35.093790",
     "exception": false,
     "start_time": "2023-04-16T09:14:35.072586",
     "status": "completed"
    },
    "tags": []
   },
   "source": [
    "#### Based on these features, let us make two data sets where one is only scaled and the other is scaled and transformed."
   ]
  },
  {
   "cell_type": "code",
   "execution_count": 10,
   "id": "9dee5135",
   "metadata": {
    "execution": {
     "iopub.execute_input": "2023-04-16T09:14:35.139106Z",
     "iopub.status.busy": "2023-04-16T09:14:35.138658Z",
     "iopub.status.idle": "2023-04-16T09:14:35.167725Z",
     "shell.execute_reply": "2023-04-16T09:14:35.166254Z"
    },
    "papermill": {
     "duration": 0.056126,
     "end_time": "2023-04-16T09:14:35.170899",
     "exception": false,
     "start_time": "2023-04-16T09:14:35.114773",
     "status": "completed"
    },
    "tags": []
   },
   "outputs": [],
   "source": [
    "scaler = MinMaxScaler()\n",
    "qt = QuantileTransformer()\n",
    "\n",
    "total_train['istest'] = 0\n",
    "test['istest'] = 1\n",
    "\n",
    "# Let's concat them to prepare them for scaling\n",
    "temp = pd.concat([total_train, test]).copy()\n",
    "# temp[selected_features] = scaler.fit_transform(temp[selected_features])\n",
    "\n",
    "# First dataset (scaled only)\n",
    "train_scaled = temp[temp['istest'] == 0]\n",
    "test_scaled = temp[temp['istest'] == 1]\n",
    "\n",
    "temp[['calc', 'gravity']] = qt.fit_transform(temp[['calc', 'gravity']])\n",
    "# Second dataset (scaled & transformed)\n",
    "train_scaled_transformed = temp[temp['istest'] == 0]\n",
    "test_scaled_transformed = temp[temp['istest'] == 1]\n",
    "\n",
    "# Drop the istest column\n",
    "train_scaled.drop(['istest'], axis=1, inplace=True)\n",
    "test_scaled.drop(['istest'], axis=1, inplace=True)\n",
    "train_scaled_transformed.drop(['istest'], axis=1, inplace=True)\n",
    "test_scaled_transformed.drop(['istest'], axis=1, inplace=True)\n",
    "\n",
    "del temp"
   ]
  },
  {
   "cell_type": "markdown",
   "id": "b92509db",
   "metadata": {
    "papermill": {
     "duration": 0.021697,
     "end_time": "2023-04-16T09:14:35.214500",
     "exception": false,
     "start_time": "2023-04-16T09:14:35.192803",
     "status": "completed"
    },
    "tags": []
   },
   "source": [
    "#### Let's see what our fixed data looks like."
   ]
  },
  {
   "cell_type": "code",
   "execution_count": 11,
   "id": "9204d6fb",
   "metadata": {
    "execution": {
     "iopub.execute_input": "2023-04-16T09:14:35.269004Z",
     "iopub.status.busy": "2023-04-16T09:14:35.267293Z",
     "iopub.status.idle": "2023-04-16T09:14:36.667925Z",
     "shell.execute_reply": "2023-04-16T09:14:36.666564Z"
    },
    "papermill": {
     "duration": 1.432397,
     "end_time": "2023-04-16T09:14:36.670777",
     "exception": false,
     "start_time": "2023-04-16T09:14:35.238380",
     "status": "completed"
    },
    "tags": []
   },
   "outputs": [
    {
     "data": {
      "image/png": "[encoded data removed]",
      "text/plain": [
       "<Figure size 1400x2000 with 4 Axes>"
      ]
     },
     "metadata": {},
     "output_type": "display_data"
    }
   ],
   "source": [
    "rows, cols = 2, 2\n",
    "fig, axs = plt.subplots(rows, cols, figsize=(14,20))\n",
    "train_scaled['istest'] = 'scaled'\n",
    "train_scaled_transformed['istest'] = 'scaled & transformed'\n",
    "selected_features.extend(['istest'])\n",
    "raw = pd.concat([train_scaled, train_scaled_transformed])\n",
    "raw.reset_index(inplace=True)\n",
    "for i in range(rows):\n",
    "    for j in range(cols):\n",
    "        sns.histplot(raw[selected_features], x = selected_features[i*2+j], hue='istest', ax=axs[i][j])\n",
    "selected_features.remove('istest')\n",
    "plt.tight_layout()\n",
    "plt.show()"
   ]
  },
  {
   "cell_type": "markdown",
   "id": "dfa0a20f",
   "metadata": {
    "papermill": {
     "duration": 0.022322,
     "end_time": "2023-04-16T09:14:36.717031",
     "exception": false,
     "start_time": "2023-04-16T09:14:36.694709",
     "status": "completed"
    },
    "tags": []
   },
   "source": [
    "#### Alright!\n",
    "#### So it seems like we have scaled properly and the transformed ones show an evenly distributed data for those previously skewed data."
   ]
  },
  {
   "cell_type": "markdown",
   "id": "820084cb",
   "metadata": {
    "papermill": {
     "duration": 0.022529,
     "end_time": "2023-04-16T09:14:36.761762",
     "exception": false,
     "start_time": "2023-04-16T09:14:36.739233",
     "status": "completed"
    },
    "tags": []
   },
   "source": [
    "# Modeling"
   ]
  },
  {
   "cell_type": "code",
   "execution_count": 12,
   "id": "1d207fec",
   "metadata": {
    "execution": {
     "iopub.execute_input": "2023-04-16T09:14:36.811694Z",
     "iopub.status.busy": "2023-04-16T09:14:36.810452Z",
     "iopub.status.idle": "2023-04-16T09:14:36.818513Z",
     "shell.execute_reply": "2023-04-16T09:14:36.817508Z"
    },
    "papermill": {
     "duration": 0.035675,
     "end_time": "2023-04-16T09:14:36.821427",
     "exception": false,
     "start_time": "2023-04-16T09:14:36.785752",
     "status": "completed"
    },
    "tags": []
   },
   "outputs": [],
   "source": [
    "y = train_scaled[target]\n",
    "\n",
    "X_scaled = train_scaled[selected_features]\n",
    "X_scaled_transformed = train_scaled_transformed[selected_features]\n",
    "\n",
    "score = {}"
   ]
  },
  {
   "cell_type": "markdown",
   "id": "6d5c8f05",
   "metadata": {
    "papermill": {
     "duration": 0.022388,
     "end_time": "2023-04-16T09:14:36.867193",
     "exception": false,
     "start_time": "2023-04-16T09:14:36.844805",
     "status": "completed"
    },
    "tags": []
   },
   "source": [
    "#### Let us explore different models."
   ]
  },
  {
   "cell_type": "markdown",
   "id": "db210869",
   "metadata": {
    "papermill": {
     "duration": 0.022009,
     "end_time": "2023-04-16T09:14:36.912849",
     "exception": false,
     "start_time": "2023-04-16T09:14:36.890840",
     "status": "completed"
    },
    "tags": []
   },
   "source": [
    "## Logistic Regression"
   ]
  },
  {
   "cell_type": "code",
   "execution_count": 13,
   "id": "a45aa567",
   "metadata": {
    "execution": {
     "iopub.execute_input": "2023-04-16T09:14:36.962886Z",
     "iopub.status.busy": "2023-04-16T09:14:36.962048Z",
     "iopub.status.idle": "2023-04-16T09:14:37.070034Z",
     "shell.execute_reply": "2023-04-16T09:14:37.067821Z"
    },
    "papermill": {
     "duration": 0.136531,
     "end_time": "2023-04-16T09:14:37.072911",
     "exception": false,
     "start_time": "2023-04-16T09:14:36.936380",
     "status": "completed"
    },
    "tags": []
   },
   "outputs": [
    {
     "name": "stdout",
     "output_type": "stream",
     "text": [
      "#########################\n",
      "### Fold 1\n",
      "#########################\n",
      "ROC Score: 0.8271656854499579\n",
      "#########################\n",
      "### Fold 2\n",
      "#########################\n",
      "ROC Score: 0.8226744186046512\n",
      "#########################\n",
      "### Fold 3\n",
      "#########################\n",
      "ROC Score: 0.742109634551495\n",
      "#########################\n",
      "### Fold 4\n",
      "#########################\n",
      "ROC Score: 0.8169133192389005\n",
      "#########################\n",
      "### Fold 5\n",
      "#########################\n",
      "ROC Score: 0.7291666666666667\n",
      "\n",
      "\n",
      "Average Vaildation ROC Score: 0.7876059449023343\n"
     ]
    }
   ],
   "source": [
    "kf = KFold(n_splits=5, shuffle=True, random_state=42)\n",
    "scores = []\n",
    "LR_MODELS = []\n",
    "\n",
    "for i, (train_index, valid_index) in enumerate(kf.split(X_scaled, y)):\n",
    "    \n",
    "    print('#'*25)\n",
    "    print('### Fold',i+1)\n",
    "    print('#'*25)\n",
    "    \n",
    "    X_train = X_scaled.iloc[train_index]\n",
    "    y_train = y.iloc[train_index]\n",
    "    \n",
    "    X_valid = X_scaled.iloc[valid_index]\n",
    "    y_valid = y.iloc[valid_index]\n",
    "    \n",
    "    model = LogisticRegression()\n",
    "    model.fit(X_train, y_train)\n",
    "\n",
    "    LR_MODELS.append( model )\n",
    "    \n",
    "    roc_score = roc_auc_score(y_valid, model.predict_proba(X_valid)[:,1])\n",
    "    print(f'ROC Score:', roc_score)\n",
    "    scores.append(roc_score)\n",
    "    \n",
    "score['lr'] = sum(scores)/5\n",
    "print('\\n')\n",
    "print(f'Average Vaildation ROC Score:', sum(scores)/5)"
   ]
  },
  {
   "cell_type": "code",
   "execution_count": 14,
   "id": "5e44bb4a",
   "metadata": {
    "execution": {
     "iopub.execute_input": "2023-04-16T09:14:37.120550Z",
     "iopub.status.busy": "2023-04-16T09:14:37.120092Z",
     "iopub.status.idle": "2023-04-16T09:14:37.225857Z",
     "shell.execute_reply": "2023-04-16T09:14:37.223940Z"
    },
    "papermill": {
     "duration": 0.133239,
     "end_time": "2023-04-16T09:14:37.229257",
     "exception": false,
     "start_time": "2023-04-16T09:14:37.096018",
     "status": "completed"
    },
    "tags": []
   },
   "outputs": [
    {
     "name": "stdout",
     "output_type": "stream",
     "text": [
      "#########################\n",
      "### Fold 1\n",
      "#########################\n",
      "ROC Score: 0.8271656854499579\n",
      "#########################\n",
      "### Fold 2\n",
      "#########################\n",
      "ROC Score: 0.8226744186046512\n",
      "#########################\n",
      "### Fold 3\n",
      "#########################\n",
      "ROC Score: 0.742109634551495\n",
      "#########################\n",
      "### Fold 4\n",
      "#########################\n",
      "ROC Score: 0.8169133192389005\n",
      "#########################\n",
      "### Fold 5\n",
      "#########################\n",
      "ROC Score: 0.7291666666666667\n",
      "\n",
      "\n",
      "Average Vaildation ROC Score: 0.7876059449023343\n"
     ]
    }
   ],
   "source": [
    "kf = KFold(n_splits=5, shuffle=True, random_state=42)\n",
    "scores = []\n",
    "LR_MODELS = []\n",
    "\n",
    "for i, (train_index, valid_index) in enumerate(kf.split(X_scaled_transformed, y)):\n",
    "    \n",
    "    print('#'*25)\n",
    "    print('### Fold',i+1)\n",
    "    print('#'*25)\n",
    "    \n",
    "    X_train = X_scaled.iloc[train_index]\n",
    "    y_train = y.iloc[train_index]\n",
    "    \n",
    "    X_valid = X_scaled.iloc[valid_index]\n",
    "    y_valid = y.iloc[valid_index]\n",
    "    \n",
    "    model = LogisticRegression()\n",
    "    model.fit(X_train, y_train)\n",
    "\n",
    "    LR_MODELS.append( model )\n",
    "    \n",
    "    roc_score = roc_auc_score(y_valid, model.predict_proba(X_valid)[:,1])\n",
    "    print(f'ROC Score:', roc_score)\n",
    "    scores.append(roc_score)\n",
    "    \n",
    "print('\\n')\n",
    "print(f'Average Vaildation ROC Score:', sum(scores)/5)"
   ]
  },
  {
   "cell_type": "markdown",
   "id": "e4207b01",
   "metadata": {
    "papermill": {
     "duration": 0.022717,
     "end_time": "2023-04-16T09:14:37.276986",
     "exception": false,
     "start_time": "2023-04-16T09:14:37.254269",
     "status": "completed"
    },
    "tags": []
   },
   "source": [
    "## Decision Tree Classifier"
   ]
  },
  {
   "cell_type": "code",
   "execution_count": 15,
   "id": "eba1cf8c",
   "metadata": {
    "execution": {
     "iopub.execute_input": "2023-04-16T09:14:37.327658Z",
     "iopub.status.busy": "2023-04-16T09:14:37.326494Z",
     "iopub.status.idle": "2023-04-16T09:14:37.376452Z",
     "shell.execute_reply": "2023-04-16T09:14:37.374383Z"
    },
    "papermill": {
     "duration": 0.079381,
     "end_time": "2023-04-16T09:14:37.379289",
     "exception": false,
     "start_time": "2023-04-16T09:14:37.299908",
     "status": "completed"
    },
    "tags": []
   },
   "outputs": [
    {
     "name": "stdout",
     "output_type": "stream",
     "text": [
      "#########################\n",
      "### Fold 1\n",
      "#########################\n",
      "ROC Score: 0.6389823380992431\n",
      "#########################\n",
      "### Fold 2\n",
      "#########################\n",
      "ROC Score: 0.7335963455149501\n",
      "#########################\n",
      "### Fold 3\n",
      "#########################\n",
      "ROC Score: 0.6943521594684384\n",
      "#########################\n",
      "### Fold 4\n",
      "#########################\n",
      "ROC Score: 0.7251585623678647\n",
      "#########################\n",
      "### Fold 5\n",
      "#########################\n",
      "ROC Score: 0.60125\n",
      "\n",
      "\n",
      "Average Vaildation ROC Score: 0.6786678810900992\n"
     ]
    }
   ],
   "source": [
    "kf = KFold(n_splits=5, shuffle=True, random_state=42)\n",
    "scores = []\n",
    "decisiontree_MODELS = []\n",
    "\n",
    "for i, (train_index, valid_index) in enumerate(kf.split(X_scaled, y)):\n",
    "    \n",
    "    print('#'*25)\n",
    "    print('### Fold',i+1)\n",
    "    print('#'*25)\n",
    "    \n",
    "    X_train = X_scaled.iloc[train_index]\n",
    "    y_train = y.iloc[train_index]\n",
    "    \n",
    "    X_valid = X_scaled.iloc[valid_index]\n",
    "    y_valid = y.iloc[valid_index]\n",
    "    \n",
    "    model = DecisionTreeClassifier(random_state=42)\n",
    "    model.fit(X_train, y_train)\n",
    "\n",
    "    decisiontree_MODELS.append( model )\n",
    "    \n",
    "    roc_score = roc_auc_score(y_valid, model.predict_proba(X_valid)[:,1])\n",
    "    print(f'ROC Score:', roc_score)\n",
    "    scores.append(roc_score)\n",
    "\n",
    "score['DT'] = sum(scores)/5\n",
    "print('\\n')\n",
    "print(f'Average Vaildation ROC Score:', sum(scores)/5)"
   ]
  },
  {
   "cell_type": "code",
   "execution_count": 16,
   "id": "cfa0729c",
   "metadata": {
    "execution": {
     "iopub.execute_input": "2023-04-16T09:14:37.427864Z",
     "iopub.status.busy": "2023-04-16T09:14:37.426976Z",
     "iopub.status.idle": "2023-04-16T09:14:37.468927Z",
     "shell.execute_reply": "2023-04-16T09:14:37.466831Z"
    },
    "papermill": {
     "duration": 0.072902,
     "end_time": "2023-04-16T09:14:37.475253",
     "exception": false,
     "start_time": "2023-04-16T09:14:37.402351",
     "status": "completed"
    },
    "tags": []
   },
   "outputs": [
    {
     "name": "stdout",
     "output_type": "stream",
     "text": [
      "#########################\n",
      "### Fold 1\n",
      "#########################\n",
      "ROC Score: 0.6389823380992431\n",
      "#########################\n",
      "### Fold 2\n",
      "#########################\n",
      "ROC Score: 0.7335963455149501\n",
      "#########################\n",
      "### Fold 3\n",
      "#########################\n",
      "ROC Score: 0.6943521594684384\n",
      "#########################\n",
      "### Fold 4\n",
      "#########################\n",
      "ROC Score: 0.7251585623678647\n",
      "#########################\n",
      "### Fold 5\n",
      "#########################\n",
      "ROC Score: 0.60125\n",
      "\n",
      "\n",
      "Average Vaildation ROC Score: 0.6786678810900992\n"
     ]
    }
   ],
   "source": [
    "kf = KFold(n_splits=5, shuffle=True, random_state=42)\n",
    "scores = []\n",
    "decisiontree_MODELS = []\n",
    "\n",
    "for i, (train_index, valid_index) in enumerate(kf.split(X_scaled_transformed, y)):\n",
    "    \n",
    "    print('#'*25)\n",
    "    print('### Fold',i+1)\n",
    "    print('#'*25)\n",
    "    \n",
    "    X_train = X_scaled.iloc[train_index]\n",
    "    y_train = y.iloc[train_index]\n",
    "    \n",
    "    X_valid = X_scaled.iloc[valid_index]\n",
    "    y_valid = y.iloc[valid_index]\n",
    "    \n",
    "    model = DecisionTreeClassifier(random_state=42)\n",
    "    model.fit(X_train, y_train)\n",
    "\n",
    "    decisiontree_MODELS.append( model )\n",
    "    \n",
    "    roc_score = roc_auc_score(y_valid, model.predict_proba(X_valid)[:,1])\n",
    "    print(f'ROC Score:', roc_score)\n",
    "    scores.append(roc_score)\n",
    "    \n",
    "print('\\n')\n",
    "print(f'Average Vaildation ROC Score:', sum(scores)/5)"
   ]
  },
  {
   "cell_type": "markdown",
   "id": "a79110d7",
   "metadata": {
    "papermill": {
     "duration": 0.023148,
     "end_time": "2023-04-16T09:14:37.522405",
     "exception": false,
     "start_time": "2023-04-16T09:14:37.499257",
     "status": "completed"
    },
    "tags": []
   },
   "source": [
    "## KNeighborsClassifier"
   ]
  },
  {
   "cell_type": "code",
   "execution_count": 17,
   "id": "ed4e96cd",
   "metadata": {
    "execution": {
     "iopub.execute_input": "2023-04-16T09:14:37.570368Z",
     "iopub.status.busy": "2023-04-16T09:14:37.569560Z",
     "iopub.status.idle": "2023-04-16T09:14:37.612831Z",
     "shell.execute_reply": "2023-04-16T09:14:37.610546Z"
    },
    "papermill": {
     "duration": 0.070538,
     "end_time": "2023-04-16T09:14:37.615716",
     "exception": false,
     "start_time": "2023-04-16T09:14:37.545178",
     "status": "completed"
    },
    "tags": []
   },
   "outputs": [
    {
     "name": "stdout",
     "output_type": "stream",
     "text": [
      "#########################\n",
      "### Fold 1\n",
      "#########################\n",
      "ROC Score: 0.7129941126997477\n",
      "#########################\n",
      "### Fold 2\n",
      "#########################\n",
      "ROC Score: 0.7842607973421927\n",
      "#########################\n",
      "### Fold 3\n",
      "#########################\n",
      "ROC Score: 0.6349667774086378\n",
      "#########################\n",
      "### Fold 4\n",
      "#########################\n",
      "ROC Score: 0.7046511627906976\n",
      "#########################\n",
      "### Fold 5\n",
      "#########################\n",
      "ROC Score: 0.6558333333333333\n",
      "\n",
      "\n",
      "Average Vaildation ROC Score: 0.6985412367149217\n"
     ]
    }
   ],
   "source": [
    "kf = KFold(n_splits=5, shuffle=True, random_state=42)\n",
    "scores = []\n",
    "MODELS = []\n",
    "\n",
    "for i, (train_index, valid_index) in enumerate(kf.split(X_scaled, y)):\n",
    "    \n",
    "    print('#'*25)\n",
    "    print('### Fold',i+1)\n",
    "    print('#'*25)\n",
    "    \n",
    "    X_train = X_scaled.iloc[train_index]\n",
    "    y_train = y.iloc[train_index]\n",
    "    \n",
    "    X_valid = X_scaled.iloc[valid_index]\n",
    "    y_valid = y.iloc[valid_index]\n",
    "    \n",
    "    model = KNeighborsClassifier()\n",
    "    model.fit(X_train, y_train)\n",
    "\n",
    "    MODELS.append( model )\n",
    "    \n",
    "    roc_score = roc_auc_score(y_valid, model.predict_proba(X_valid)[:,1])\n",
    "    print(f'ROC Score:', roc_score)\n",
    "    scores.append(roc_score)\n",
    "    \n",
    "score['knn'] = sum(scores)/5\n",
    "print('\\n')\n",
    "print(f'Average Vaildation ROC Score:', sum(scores)/5)"
   ]
  },
  {
   "cell_type": "markdown",
   "id": "39d201b1",
   "metadata": {
    "papermill": {
     "duration": 0.024225,
     "end_time": "2023-04-16T09:14:37.663484",
     "exception": false,
     "start_time": "2023-04-16T09:14:37.639259",
     "status": "completed"
    },
    "tags": []
   },
   "source": [
    "#### The transformed data doesn't seem to show much difference from the scaled one so we shall skip it."
   ]
  },
  {
   "cell_type": "markdown",
   "id": "d1d1037b",
   "metadata": {
    "papermill": {
     "duration": 0.02439,
     "end_time": "2023-04-16T09:14:37.715149",
     "exception": false,
     "start_time": "2023-04-16T09:14:37.690759",
     "status": "completed"
    },
    "tags": []
   },
   "source": [
    "## RandomForestClassifier"
   ]
  },
  {
   "cell_type": "code",
   "execution_count": 18,
   "id": "6f9e209f",
   "metadata": {
    "execution": {
     "iopub.execute_input": "2023-04-16T09:14:37.765738Z",
     "iopub.status.busy": "2023-04-16T09:14:37.765162Z",
     "iopub.status.idle": "2023-04-16T09:14:38.768434Z",
     "shell.execute_reply": "2023-04-16T09:14:38.766842Z"
    },
    "papermill": {
     "duration": 1.033172,
     "end_time": "2023-04-16T09:14:38.771847",
     "exception": false,
     "start_time": "2023-04-16T09:14:37.738675",
     "status": "completed"
    },
    "tags": []
   },
   "outputs": [
    {
     "name": "stdout",
     "output_type": "stream",
     "text": [
      "#########################\n",
      "### Fold 1\n",
      "#########################\n",
      "ROC Score: 0.7941547518923465\n",
      "#########################\n",
      "### Fold 2\n",
      "#########################\n",
      "ROC Score: 0.8039867109634552\n",
      "#########################\n",
      "### Fold 3\n",
      "#########################\n",
      "ROC Score: 0.757890365448505\n",
      "#########################\n",
      "### Fold 4\n",
      "#########################\n",
      "ROC Score: 0.8484143763213532\n",
      "#########################\n",
      "### Fold 5\n",
      "#########################\n",
      "ROC Score: 0.7375\n",
      "\n",
      "\n",
      "Average Vaildation ROC Score: 0.7883892409251321\n"
     ]
    }
   ],
   "source": [
    "kf = KFold(n_splits=5, shuffle=True, random_state=42)\n",
    "scores = []\n",
    "MODELS = []\n",
    "\n",
    "for i, (train_index, valid_index) in enumerate(kf.split(X_scaled, y)):\n",
    "    \n",
    "    print('#'*25)\n",
    "    print('### Fold',i+1)\n",
    "    print('#'*25)\n",
    "    \n",
    "    X_train = X_scaled.iloc[train_index]\n",
    "    y_train = y.iloc[train_index]\n",
    "    \n",
    "    X_valid = X_scaled.iloc[valid_index]\n",
    "    y_valid = y.iloc[valid_index]\n",
    "    \n",
    "    model = RandomForestClassifier()\n",
    "    model.fit(X_train, y_train)\n",
    "\n",
    "    MODELS.append( model )\n",
    "    \n",
    "    roc_score = roc_auc_score(y_valid, model.predict_proba(X_valid)[:,1])\n",
    "    print(f'ROC Score:', roc_score)\n",
    "    scores.append(roc_score)\n",
    "    \n",
    "score['RF'] = sum(scores)/5\n",
    "print('\\n')\n",
    "print(f'Average Vaildation ROC Score:', sum(scores)/5)"
   ]
  },
  {
   "cell_type": "markdown",
   "id": "805f29df",
   "metadata": {
    "papermill": {
     "duration": 0.024174,
     "end_time": "2023-04-16T09:14:38.820265",
     "exception": false,
     "start_time": "2023-04-16T09:14:38.796091",
     "status": "completed"
    },
    "tags": []
   },
   "source": [
    "## GradientBoostingClassifier"
   ]
  },
  {
   "cell_type": "code",
   "execution_count": 19,
   "id": "3c3193f1",
   "metadata": {
    "execution": {
     "iopub.execute_input": "2023-04-16T09:14:38.872974Z",
     "iopub.status.busy": "2023-04-16T09:14:38.872506Z",
     "iopub.status.idle": "2023-04-16T09:14:39.350245Z",
     "shell.execute_reply": "2023-04-16T09:14:39.348520Z"
    },
    "papermill": {
     "duration": 0.507715,
     "end_time": "2023-04-16T09:14:39.353032",
     "exception": false,
     "start_time": "2023-04-16T09:14:38.845317",
     "status": "completed"
    },
    "tags": []
   },
   "outputs": [
    {
     "name": "stdout",
     "output_type": "stream",
     "text": [
      "#########################\n",
      "### Fold 1\n",
      "#########################\n",
      "ROC Score: 0.8328427249789739\n",
      "#########################\n",
      "### Fold 2\n",
      "#########################\n",
      "ROC Score: 0.862126245847176\n",
      "#########################\n",
      "### Fold 3\n",
      "#########################\n",
      "ROC Score: 0.7711794019933554\n",
      "#########################\n",
      "### Fold 4\n",
      "#########################\n",
      "ROC Score: 0.8522198731501056\n",
      "#########################\n",
      "### Fold 5\n",
      "#########################\n",
      "ROC Score: 0.7541666666666668\n",
      "\n",
      "\n",
      "Average Vaildation ROC Score: 0.8145069825272555\n"
     ]
    }
   ],
   "source": [
    "kf = KFold(n_splits=5, shuffle=True, random_state=42)\n",
    "scores = []\n",
    "MODELS = []\n",
    "\n",
    "for i, (train_index, valid_index) in enumerate(kf.split(X_scaled, y)):\n",
    "    \n",
    "    print('#'*25)\n",
    "    print('### Fold',i+1)\n",
    "    print('#'*25)\n",
    "    \n",
    "    X_train = X_scaled.iloc[train_index]\n",
    "    y_train = y.iloc[train_index]\n",
    "    \n",
    "    X_valid = X_scaled.iloc[valid_index]\n",
    "    y_valid = y.iloc[valid_index]\n",
    "    \n",
    "    model = GradientBoostingClassifier()\n",
    "    model.fit(X_train, y_train)\n",
    "\n",
    "    MODELS.append( model )\n",
    "    \n",
    "    roc_score = roc_auc_score(y_valid, model.predict_proba(X_valid)[:,1])\n",
    "    print(f'ROC Score:', roc_score)\n",
    "    scores.append(roc_score)\n",
    "    \n",
    "score['GBC'] = sum(scores)/5\n",
    "print('\\n')\n",
    "print(f'Average Vaildation ROC Score:', sum(scores)/5)"
   ]
  },
  {
   "cell_type": "markdown",
   "id": "8004c102",
   "metadata": {
    "papermill": {
     "duration": 0.023795,
     "end_time": "2023-04-16T09:14:39.402085",
     "exception": false,
     "start_time": "2023-04-16T09:14:39.378290",
     "status": "completed"
    },
    "tags": []
   },
   "source": [
    "## AdaBoostClassifier"
   ]
  },
  {
   "cell_type": "code",
   "execution_count": 20,
   "id": "9ce4aa98",
   "metadata": {
    "execution": {
     "iopub.execute_input": "2023-04-16T09:14:39.453274Z",
     "iopub.status.busy": "2023-04-16T09:14:39.452823Z",
     "iopub.status.idle": "2023-04-16T09:14:39.967046Z",
     "shell.execute_reply": "2023-04-16T09:14:39.964965Z"
    },
    "papermill": {
     "duration": 0.542913,
     "end_time": "2023-04-16T09:14:39.970037",
     "exception": false,
     "start_time": "2023-04-16T09:14:39.427124",
     "status": "completed"
    },
    "tags": []
   },
   "outputs": [
    {
     "name": "stdout",
     "output_type": "stream",
     "text": [
      "#########################\n",
      "### Fold 1\n",
      "#########################\n",
      "ROC Score: 0.8225399495374264\n",
      "#########################\n",
      "### Fold 2\n",
      "#########################\n",
      "ROC Score: 0.81187707641196\n",
      "#########################\n",
      "### Fold 3\n",
      "#########################\n",
      "ROC Score: 0.7254983388704319\n",
      "#########################\n",
      "### Fold 4\n",
      "#########################\n",
      "ROC Score: 0.8498942917547567\n",
      "#########################\n",
      "### Fold 5\n",
      "#########################\n",
      "ROC Score: 0.7612499999999999\n",
      "\n",
      "\n",
      "Average Vaildation ROC Score: 0.794211931314915\n"
     ]
    }
   ],
   "source": [
    "kf = KFold(n_splits=5, shuffle=True, random_state=42)\n",
    "scores = []\n",
    "MODELS = []\n",
    "\n",
    "for i, (train_index, valid_index) in enumerate(kf.split(X_scaled, y)):\n",
    "    \n",
    "    print('#'*25)\n",
    "    print('### Fold',i+1)\n",
    "    print('#'*25)\n",
    "    \n",
    "    X_train = X_scaled.iloc[train_index]\n",
    "    y_train = y.iloc[train_index]\n",
    "    \n",
    "    X_valid = X_scaled.iloc[valid_index]\n",
    "    y_valid = y.iloc[valid_index]\n",
    "    \n",
    "    model = AdaBoostClassifier()\n",
    "    model.fit(X_train, y_train)\n",
    "\n",
    "    MODELS.append( model )\n",
    "    \n",
    "    roc_score = roc_auc_score(y_valid, model.predict_proba(X_valid)[:,1])\n",
    "    print(f'ROC Score:', roc_score)\n",
    "    scores.append(roc_score)\n",
    "    \n",
    "score['Ada'] = sum(scores)/5\n",
    "print('\\n')\n",
    "print(f'Average Vaildation ROC Score:', sum(scores)/5)"
   ]
  },
  {
   "cell_type": "markdown",
   "id": "85a86e03",
   "metadata": {
    "papermill": {
     "duration": 0.025112,
     "end_time": "2023-04-16T09:14:40.019647",
     "exception": false,
     "start_time": "2023-04-16T09:14:39.994535",
     "status": "completed"
    },
    "tags": []
   },
   "source": [
    "## MLPClassifier"
   ]
  },
  {
   "cell_type": "code",
   "execution_count": 21,
   "id": "8f5d4902",
   "metadata": {
    "execution": {
     "iopub.execute_input": "2023-04-16T09:14:40.071317Z",
     "iopub.status.busy": "2023-04-16T09:14:40.070910Z",
     "iopub.status.idle": "2023-04-16T09:14:42.795122Z",
     "shell.execute_reply": "2023-04-16T09:14:42.793095Z"
    },
    "papermill": {
     "duration": 2.757958,
     "end_time": "2023-04-16T09:14:42.803069",
     "exception": false,
     "start_time": "2023-04-16T09:14:40.045111",
     "status": "completed"
    },
    "tags": []
   },
   "outputs": [
    {
     "name": "stdout",
     "output_type": "stream",
     "text": [
      "#########################\n",
      "### Fold 1\n",
      "#########################\n",
      "ROC Score: 0.8132884777123633\n",
      "#########################\n",
      "### Fold 2\n",
      "#########################\n",
      "ROC Score: 0.8313953488372092\n",
      "#########################\n",
      "### Fold 3\n",
      "#########################\n",
      "ROC Score: 0.7425249169435215\n",
      "#########################\n",
      "### Fold 4\n",
      "#########################\n",
      "ROC Score: 0.7915433403805497\n",
      "#########################\n",
      "### Fold 5\n",
      "#########################\n",
      "ROC Score: 0.6012500000000001\n",
      "\n",
      "\n",
      "Average Vaildation ROC Score: 0.7560004167747287\n"
     ]
    }
   ],
   "source": [
    "kf = KFold(n_splits=5, shuffle=True, random_state=42)\n",
    "scores = []\n",
    "MODELS = []\n",
    "\n",
    "for i, (train_index, valid_index) in enumerate(kf.split(X_scaled, y)):\n",
    "    \n",
    "    print('#'*25)\n",
    "    print('### Fold',i+1)\n",
    "    print('#'*25)\n",
    "    \n",
    "    X_train = X_scaled.iloc[train_index]\n",
    "    y_train = y.iloc[train_index]\n",
    "    \n",
    "    X_valid = X_scaled.iloc[valid_index]\n",
    "    y_valid = y.iloc[valid_index]\n",
    "    \n",
    "    model = MLPClassifier()\n",
    "    model.fit(X_train, y_train)\n",
    "\n",
    "    MODELS.append( model )\n",
    "    \n",
    "    roc_score = roc_auc_score(y_valid, model.predict_proba(X_valid)[:,1])\n",
    "    print(f'ROC Score:', roc_score)\n",
    "    scores.append(roc_score)\n",
    "    \n",
    "score['mlp'] = sum(scores)/5\n",
    "print('\\n')\n",
    "print(f'Average Vaildation ROC Score:', sum(scores)/5)"
   ]
  },
  {
   "cell_type": "markdown",
   "id": "7137e4e6",
   "metadata": {
    "papermill": {
     "duration": 0.047718,
     "end_time": "2023-04-16T09:14:42.922608",
     "exception": false,
     "start_time": "2023-04-16T09:14:42.874890",
     "status": "completed"
    },
    "tags": []
   },
   "source": [
    "## XGBClassifier"
   ]
  },
  {
   "cell_type": "code",
   "execution_count": 22,
   "id": "277f1bcd",
   "metadata": {
    "execution": {
     "iopub.execute_input": "2023-04-16T09:14:42.976214Z",
     "iopub.status.busy": "2023-04-16T09:14:42.974887Z",
     "iopub.status.idle": "2023-04-16T09:14:47.548137Z",
     "shell.execute_reply": "2023-04-16T09:14:47.547071Z"
    },
    "papermill": {
     "duration": 4.60274,
     "end_time": "2023-04-16T09:14:47.551497",
     "exception": false,
     "start_time": "2023-04-16T09:14:42.948757",
     "status": "completed"
    },
    "tags": []
   },
   "outputs": [
    {
     "name": "stdout",
     "output_type": "stream",
     "text": [
      "#########################\n",
      "### Fold 1\n",
      "#########################\n",
      "Fold ROC Score: 0.8570227081581161\n",
      "#########################\n",
      "### Fold 2\n",
      "#########################\n",
      "Fold ROC Score: 0.8351328903654485\n",
      "#########################\n",
      "### Fold 3\n",
      "#########################\n",
      "Fold ROC Score: 0.7755398671096345\n",
      "#########################\n",
      "### Fold 4\n",
      "#########################\n",
      "Fold ROC Score: 0.8862579281183933\n",
      "#########################\n",
      "### Fold 5\n",
      "#########################\n",
      "Fold ROC Score: 0.7970833333333334\n",
      "\n",
      "Average Vaildation ROC Score: 0.8302073454169852\n"
     ]
    }
   ],
   "source": [
    "kf = KFold(n_splits=5, shuffle=True, random_state=42)\n",
    "best_iteration_xgb = []\n",
    "scores = []\n",
    "XGB_MODELS = []\n",
    "\n",
    "xgb_params = {\n",
    "    'booster': 'gbtree',\n",
    "    'objective' : 'binary:logistic',\n",
    "    'eval_metric':'auc',\n",
    "    'learning_rate': 0.1,\n",
    "    'max_depth': 3,\n",
    "    'n_estimators': 9999,\n",
    "    'early_stopping_rounds': 50,\n",
    "    #'tree_method':'gpu_hist',\n",
    "    'subsample': 0.5,\n",
    "    'colsample_bytree': 0.3,\n",
    "    'random_state': 42\n",
    "}\n",
    "\n",
    "for i, (train_index, valid_index) in enumerate(kf.split(X_scaled, y)):\n",
    "    \n",
    "    print('#'*25)\n",
    "    print('### Fold',i+1)\n",
    "    print('#'*25)\n",
    "    \n",
    "    X_train = X_scaled.iloc[train_index]\n",
    "    y_train = y.iloc[train_index]\n",
    "    \n",
    "    X_valid = X_scaled.iloc[valid_index]\n",
    "    y_valid = y.iloc[valid_index]\n",
    "    \n",
    "    model = XGBClassifier(**xgb_params)\n",
    "    model.fit(X_train, y_train,\n",
    "             eval_set=[(X_train, y_train), (X_valid, y_valid)],\n",
    "             verbose=False)\n",
    "\n",
    "    XGB_MODELS.append( model )\n",
    "    \n",
    "    ROC_score = roc_auc_score(y_valid, model.predict_proba(X_valid)[:,1])\n",
    "    print(f'Fold ROC Score:', ROC_score)\n",
    "    scores.append(ROC_score)\n",
    "    \n",
    "    fold_importance_df = pd.DataFrame()\n",
    "    fold_importance_df[\"feature\"] = X_train.columns\n",
    "    fold_importance_df[\"importance\"] = model.feature_importances_\n",
    "    \n",
    "    best_iteration_xgb.append(model.best_ntree_limit)\n",
    "    \n",
    "score['xgb'] = sum(scores)/5\n",
    "print()\n",
    "print(f'Average Vaildation ROC Score:', sum(scores)/5)"
   ]
  },
  {
   "cell_type": "markdown",
   "id": "4bec46d0",
   "metadata": {
    "papermill": {
     "duration": 0.024613,
     "end_time": "2023-04-16T09:14:47.603099",
     "exception": false,
     "start_time": "2023-04-16T09:14:47.578486",
     "status": "completed"
    },
    "tags": []
   },
   "source": [
    "## LGBMClassifier"
   ]
  },
  {
   "cell_type": "code",
   "execution_count": 23,
   "id": "e4edcfff",
   "metadata": {
    "execution": {
     "iopub.execute_input": "2023-04-16T09:14:47.656816Z",
     "iopub.status.busy": "2023-04-16T09:14:47.655431Z",
     "iopub.status.idle": "2023-04-16T09:14:48.842749Z",
     "shell.execute_reply": "2023-04-16T09:14:48.841297Z"
    },
    "papermill": {
     "duration": 1.216979,
     "end_time": "2023-04-16T09:14:48.845977",
     "exception": false,
     "start_time": "2023-04-16T09:14:47.628998",
     "status": "completed"
    },
    "tags": []
   },
   "outputs": [
    {
     "name": "stdout",
     "output_type": "stream",
     "text": [
      "#########################\n",
      "### Fold 1\n",
      "#########################\n",
      "[LightGBM] [Warning] early_stopping_round is set=50, early_stopping_rounds=50 will be ignored. Current value: early_stopping_round=50\n",
      "Fold ROC Score: 0.8507148864592095\n",
      "#########################\n",
      "### Fold 2\n",
      "#########################\n",
      "[LightGBM] [Warning] early_stopping_round is set=50, early_stopping_rounds=50 will be ignored. Current value: early_stopping_round=50\n",
      "Fold ROC Score: 0.8482142857142857\n",
      "#########################\n",
      "### Fold 3\n",
      "#########################\n",
      "[LightGBM] [Warning] early_stopping_round is set=50, early_stopping_rounds=50 will be ignored. Current value: early_stopping_round=50\n",
      "Fold ROC Score: 0.804609634551495\n",
      "#########################\n",
      "### Fold 4\n",
      "#########################\n",
      "[LightGBM] [Warning] early_stopping_round is set=50, early_stopping_rounds=50 will be ignored. Current value: early_stopping_round=50\n",
      "Fold ROC Score: 0.881183932346723\n",
      "#########################\n",
      "### Fold 5\n",
      "#########################\n",
      "[LightGBM] [Warning] early_stopping_round is set=50, early_stopping_rounds=50 will be ignored. Current value: early_stopping_round=50\n",
      "Fold ROC Score: 0.7875\n",
      "\n",
      "Average Vaildation ROC Score: 0.8344445478143425\n"
     ]
    }
   ],
   "source": [
    "kf = KFold(n_splits=5, shuffle=True, random_state=42)\n",
    "scores = []\n",
    "lgbm_MODELS = []\n",
    "\n",
    "lgbm_params = {\n",
    "    'objective' : 'binary',\n",
    "    'num_iterations' : 9999,\n",
    "    'learning_rate': 0.1,\n",
    "    'max_depth': 4,\n",
    "    'num_leaves': 500,\n",
    "    'early_stopping_rounds': 50,\n",
    "    #'tree_method':'gpu_hist',\n",
    "    'subsample': 1,\n",
    "    'colsample_bytree': 0.3,\n",
    "    'random_state': 42\n",
    "}\n",
    "\n",
    "for i, (train_index, valid_index) in enumerate(kf.split(X_scaled, y)):\n",
    "    \n",
    "    print('#'*25)\n",
    "    print('### Fold',i+1)\n",
    "    print('#'*25)\n",
    "    \n",
    "    X_train = X_scaled.iloc[train_index]\n",
    "    y_train = y.iloc[train_index]\n",
    "    \n",
    "    X_valid = X_scaled.iloc[valid_index]\n",
    "    y_valid = y.iloc[valid_index]\n",
    "    \n",
    "    model = LGBMClassifier(**lgbm_params)\n",
    "    model.fit(X_train, y_train,\n",
    "             eval_set=[(X_train, y_train), (X_valid, y_valid)],\n",
    "             verbose=0)\n",
    "\n",
    "    lgbm_MODELS.append( model )\n",
    "    \n",
    "    ROC_score = roc_auc_score(y_valid, model.predict_proba(X_valid)[:,1])\n",
    "    print(f'Fold ROC Score:', ROC_score)\n",
    "    scores.append(ROC_score)\n",
    "    \n",
    "    fold_importance_df = pd.DataFrame()\n",
    "    fold_importance_df[\"feature\"] = X_train.columns\n",
    "    fold_importance_df[\"importance\"] = model.feature_importances_\n",
    "    \n",
    "score['lgbm'] = sum(scores)/5\n",
    "print()\n",
    "print(f'Average Vaildation ROC Score:', sum(scores)/5)"
   ]
  },
  {
   "cell_type": "markdown",
   "id": "08b79618",
   "metadata": {
    "papermill": {
     "duration": 0.025702,
     "end_time": "2023-04-16T09:14:48.898530",
     "exception": false,
     "start_time": "2023-04-16T09:14:48.872828",
     "status": "completed"
    },
    "tags": []
   },
   "source": [
    "## CatBoostClassifier"
   ]
  },
  {
   "cell_type": "code",
   "execution_count": 24,
   "id": "cfc2b9f9",
   "metadata": {
    "execution": {
     "iopub.execute_input": "2023-04-16T09:14:48.953992Z",
     "iopub.status.busy": "2023-04-16T09:14:48.953487Z",
     "iopub.status.idle": "2023-04-16T09:14:50.847021Z",
     "shell.execute_reply": "2023-04-16T09:14:50.845978Z"
    },
    "papermill": {
     "duration": 1.923851,
     "end_time": "2023-04-16T09:14:50.849959",
     "exception": false,
     "start_time": "2023-04-16T09:14:48.926108",
     "status": "completed"
    },
    "tags": []
   },
   "outputs": [
    {
     "name": "stdout",
     "output_type": "stream",
     "text": [
      "#########################\n",
      "### Fold 1\n",
      "#########################\n",
      "Fold ROC Score: 0.8730025231286797\n",
      "#########################\n",
      "### Fold 2\n",
      "#########################\n",
      "Fold ROC Score: 0.8343023255813953\n",
      "#########################\n",
      "### Fold 3\n",
      "#########################\n",
      "Fold ROC Score: 0.7830149501661129\n",
      "#########################\n",
      "### Fold 4\n",
      "#########################\n",
      "Fold ROC Score: 0.8642706131078224\n",
      "#########################\n",
      "### Fold 5\n",
      "#########################\n",
      "Fold ROC Score: 0.77875\n",
      "\n",
      "Average Vaildation ROC Score: 0.826668082396802\n"
     ]
    }
   ],
   "source": [
    "kf = KFold(n_splits=5, shuffle=True, random_state=42)\n",
    "scores = []\n",
    "catboost_MODELS = []\n",
    "\n",
    "catboost_params = {\n",
    "    'iterations': 9999,\n",
    "    'learning_rate': 0.1,\n",
    "    'depth': 10,\n",
    "    'l2_leaf_reg':8 ,\n",
    "    'random_strength':0.5,\n",
    "    'eval_metric': 'AUC',\n",
    "    #'task_type': 'GPU',\n",
    "    'border_count': 128,\n",
    "    'verbose': False,\n",
    "    'early_stopping_rounds': 50,\n",
    "    'use_best_model': True ,\n",
    "    'random_state': 42,\n",
    "    \n",
    "}\n",
    "\n",
    "for i, (train_index, valid_index) in enumerate(kf.split(X_scaled, y)):\n",
    "    \n",
    "    print('#'*25)\n",
    "    print('### Fold',i+1)\n",
    "    print('#'*25)\n",
    "    \n",
    "    X_train = X_scaled.iloc[train_index]\n",
    "    y_train = y.iloc[train_index]\n",
    "    \n",
    "    X_valid = X_scaled.iloc[valid_index]\n",
    "    y_valid = y.iloc[valid_index]\n",
    "    \n",
    "    model = CatBoostClassifier(**catboost_params)\n",
    "    model.fit(X_train, y_train,\n",
    "             eval_set=[(X_train, y_train), (X_valid, y_valid)],\n",
    "             verbose=0)\n",
    "\n",
    "    catboost_MODELS.append( model )\n",
    "    \n",
    "    ROC_score = roc_auc_score(y_valid, model.predict_proba(X_valid)[:,1])\n",
    "    print(f'Fold ROC Score:', ROC_score)\n",
    "    scores.append(ROC_score)\n",
    "    \n",
    "score['catboost'] = sum(scores)/5\n",
    "print()\n",
    "print(f'Average Vaildation ROC Score:', sum(scores)/5)"
   ]
  },
  {
   "cell_type": "markdown",
   "id": "b802a790",
   "metadata": {
    "papermill": {
     "duration": 0.025378,
     "end_time": "2023-04-16T09:14:50.901581",
     "exception": false,
     "start_time": "2023-04-16T09:14:50.876203",
     "status": "completed"
    },
    "tags": []
   },
   "source": [
    "#### Let's see which models did the best."
   ]
  },
  {
   "cell_type": "markdown",
   "id": "27804817",
   "metadata": {
    "papermill": {
     "duration": 0.025686,
     "end_time": "2023-04-16T09:14:50.952912",
     "exception": false,
     "start_time": "2023-04-16T09:14:50.927226",
     "status": "completed"
    },
    "tags": []
   },
   "source": [
    "## Visualization"
   ]
  },
  {
   "cell_type": "code",
   "execution_count": 25,
   "id": "9f787eb5",
   "metadata": {
    "execution": {
     "iopub.execute_input": "2023-04-16T09:14:51.006673Z",
     "iopub.status.busy": "2023-04-16T09:14:51.005952Z",
     "iopub.status.idle": "2023-04-16T09:14:51.308860Z",
     "shell.execute_reply": "2023-04-16T09:14:51.307573Z"
    },
    "papermill": {
     "duration": 0.332527,
     "end_time": "2023-04-16T09:14:51.311593",
     "exception": false,
     "start_time": "2023-04-16T09:14:50.979066",
     "status": "completed"
    },
    "tags": []
   },
   "outputs": [
    {
     "data": {
      "image/png": "[encoded data removed]",
      "text/plain": [
       "<Figure size 800x400 with 1 Axes>"
      ]
     },
     "metadata": {},
     "output_type": "display_data"
    }
   ],
   "source": [
    "fig = plt.figure(figsize = (8,4))\n",
    "scores = dict(sorted(score.items(), key=lambda item: -1*item[1]))\n",
    "# creating the bar plot\n",
    "plt.bar(scores.keys(), scores.values(), width = 0.5)\n",
    " \n",
    "plt.xlabel(\"Models\")\n",
    "plt.ylabel(\"Metric Value\")\n",
    "plt.title(\"Model Comparison\")\n",
    "plt.tight_layout()\n",
    "plt.show()"
   ]
  },
  {
   "cell_type": "markdown",
   "id": "1129867e",
   "metadata": {
    "papermill": {
     "duration": 0.02522,
     "end_time": "2023-04-16T09:14:51.361988",
     "exception": false,
     "start_time": "2023-04-16T09:14:51.336768",
     "status": "completed"
    },
    "tags": []
   },
   "source": [
    "#### Let's see how well the ensemble of all of these models except for Decision Tree performs."
   ]
  },
  {
   "cell_type": "markdown",
   "id": "b5db7e10",
   "metadata": {
    "papermill": {
     "duration": 0.024782,
     "end_time": "2023-04-16T09:14:51.411687",
     "exception": false,
     "start_time": "2023-04-16T09:14:51.386905",
     "status": "completed"
    },
    "tags": []
   },
   "source": [
    "## Ensembling"
   ]
  },
  {
   "cell_type": "code",
   "execution_count": 26,
   "id": "1461c963",
   "metadata": {
    "_kg_hide-input": true,
    "_kg_hide-output": true,
    "execution": {
     "iopub.execute_input": "2023-04-16T09:14:51.467025Z",
     "iopub.status.busy": "2023-04-16T09:14:51.466569Z",
     "iopub.status.idle": "2023-04-16T09:15:01.917193Z",
     "shell.execute_reply": "2023-04-16T09:15:01.915362Z"
    },
    "papermill": {
     "duration": 10.483046,
     "end_time": "2023-04-16T09:15:01.920301",
     "exception": false,
     "start_time": "2023-04-16T09:14:51.437255",
     "status": "completed"
    },
    "tags": []
   },
   "outputs": [
    {
     "name": "stdout",
     "output_type": "stream",
     "text": [
      "#########################\n",
      "### Fold 1\n",
      "#########################\n",
      "[LightGBM] [Warning] early_stopping_round is set=50, early_stopping_rounds=50 will be ignored. Current value: early_stopping_round=50\n",
      "Fold ROC Score: 0.8687973086627417\n",
      "#########################\n",
      "### Fold 2\n",
      "#########################\n",
      "[LightGBM] [Warning] early_stopping_round is set=50, early_stopping_rounds=50 will be ignored. Current value: early_stopping_round=50\n",
      "Fold ROC Score: 0.8579734219269103\n",
      "#########################\n",
      "### Fold 3\n",
      "#########################\n",
      "[LightGBM] [Warning] early_stopping_round is set=50, early_stopping_rounds=50 will be ignored. Current value: early_stopping_round=50\n",
      "Fold ROC Score: 0.768687707641196\n",
      "#########################\n",
      "### Fold 4\n",
      "#########################\n",
      "[LightGBM] [Warning] early_stopping_round is set=50, early_stopping_rounds=50 will be ignored. Current value: early_stopping_round=50\n",
      "Fold ROC Score: 0.8638477801268499\n",
      "#########################\n",
      "### Fold 5\n",
      "#########################\n",
      "[LightGBM] [Warning] early_stopping_round is set=50, early_stopping_rounds=50 will be ignored. Current value: early_stopping_round=50\n",
      "Fold ROC Score: 0.76875\n",
      "\n",
      "\n",
      "Average Vaildation ROC Score: 0.8256112436715396\n"
     ]
    }
   ],
   "source": [
    "kf = KFold(n_splits=5, shuffle=True, random_state=42)\n",
    "scores = []\n",
    "\n",
    "for i, (train_index, valid_index) in enumerate(kf.split(X_scaled, y)):\n",
    "    total_score = 0\n",
    "    \n",
    "    print('#'*25)\n",
    "    print('### Fold',i+1)\n",
    "    print('#'*25)\n",
    "    \n",
    "    X_train = X_scaled.iloc[train_index]\n",
    "    y_train = y.iloc[train_index]\n",
    "    \n",
    "    X_valid = X_scaled.iloc[valid_index]\n",
    "    y_valid = y.iloc[valid_index]\n",
    "    \n",
    "    # Logistic Regression\n",
    "    model = LogisticRegression()\n",
    "    model.fit(X_train,y_train)\n",
    "    lr_pred = model.predict_proba(X_valid)[:,1]\n",
    "    \n",
    "    # KNN\n",
    "    model = KNeighborsClassifier()\n",
    "    model.fit(X_train, y_train)\n",
    "    knn_pred = model.predict_proba(X_valid)[:,1]\n",
    "    \n",
    "    # Random Forest\n",
    "    model = RandomForestClassifier()\n",
    "    model.fit(X_train, y_train)\n",
    "    rf_pred = model.predict_proba(X_valid)[:,1]\n",
    "    \n",
    "    # Gradient Boosting Classifier\n",
    "    model = GradientBoostingClassifier()\n",
    "    model.fit(X_train, y_train)\n",
    "    gbc_pred = model.predict_proba(X_valid)[:,1]\n",
    "    \n",
    "    # AdaBoostClassifier\n",
    "    model = AdaBoostClassifier()\n",
    "    model.fit(X_train, y_train)\n",
    "    ada_pred = model.predict_proba(X_valid)[:,1]\n",
    "    \n",
    "    # MLP\n",
    "    model = MLPClassifier()\n",
    "    model.fit(X_train, y_train)\n",
    "    mlp_pred = model.predict_proba(X_valid)[:,1]\n",
    "\n",
    "    # XGB\n",
    "    model = XGBClassifier(**xgb_params)\n",
    "    model.fit(X_train, y_train,\n",
    "             eval_set=[(X_train, y_train), (X_valid, y_valid)],\n",
    "             verbose=0)\n",
    "    xgb_pred = model.predict_proba(X_valid)[:,1]\n",
    "    \n",
    "    # LGBM\n",
    "    model = LGBMClassifier(**lgbm_params)\n",
    "    model.fit(X_train, y_train,\n",
    "             eval_set=[(X_train, y_train), (X_valid, y_valid)],\n",
    "             verbose=0)\n",
    "    lgbm_pred = model.predict_proba(X_valid)[:,1]\n",
    "    \n",
    "    # CatBoost\n",
    "    model = CatBoostClassifier(**catboost_params)\n",
    "    model.fit(X_train, y_train,\n",
    "             eval_set=[(X_train, y_train), (X_valid, y_valid)],\n",
    "             verbose=0)\n",
    "    catboost_pred = model.predict_proba(X_valid)[:,1]\n",
    "    \n",
    "    final_pred = (lr_pred + knn_pred + rf_pred + gbc_pred + ada_pred + mlp_pred + xgb_pred + lgbm_pred + catboost_pred)/9\n",
    "    \n",
    "    final_score = roc_auc_score(y_valid, final_pred)    \n",
    "    scores.append(final_score)\n",
    "    print(f'Fold ROC Score:', final_score)\n",
    "    \n",
    "score['e-9'] = sum(scores)/5\n",
    "print('\\n')\n",
    "print(f'Average Vaildation ROC Score:', sum(scores)/5)"
   ]
  },
  {
   "cell_type": "markdown",
   "id": "74e7ec98",
   "metadata": {
    "papermill": {
     "duration": 0.026126,
     "end_time": "2023-04-16T09:15:01.973005",
     "exception": false,
     "start_time": "2023-04-16T09:15:01.946879",
     "status": "completed"
    },
    "tags": []
   },
   "source": [
    "#### Whao! The results are pretty impressive.\n",
    "#### Let's check out other alternatives with different mixture of models."
   ]
  },
  {
   "cell_type": "code",
   "execution_count": 27,
   "id": "042d64e6",
   "metadata": {
    "_kg_hide-input": true,
    "_kg_hide-output": true,
    "execution": {
     "iopub.execute_input": "2023-04-16T09:15:02.030163Z",
     "iopub.status.busy": "2023-04-16T09:15:02.029363Z",
     "iopub.status.idle": "2023-04-16T09:15:11.991561Z",
     "shell.execute_reply": "2023-04-16T09:15:11.989696Z"
    },
    "papermill": {
     "duration": 9.99425,
     "end_time": "2023-04-16T09:15:11.994368",
     "exception": false,
     "start_time": "2023-04-16T09:15:02.000118",
     "status": "completed"
    },
    "tags": []
   },
   "outputs": [
    {
     "name": "stdout",
     "output_type": "stream",
     "text": [
      "#########################\n",
      "### Fold 1\n",
      "#########################\n",
      "[LightGBM] [Warning] early_stopping_round is set=50, early_stopping_rounds=50 will be ignored. Current value: early_stopping_round=50\n",
      "Fold ROC Score: 0.8675357443229605\n",
      "#########################\n",
      "### Fold 2\n",
      "#########################\n",
      "[LightGBM] [Warning] early_stopping_round is set=50, early_stopping_rounds=50 will be ignored. Current value: early_stopping_round=50\n",
      "Fold ROC Score: 0.8583887043189369\n",
      "#########################\n",
      "### Fold 3\n",
      "#########################\n",
      "[LightGBM] [Warning] early_stopping_round is set=50, early_stopping_rounds=50 will be ignored. Current value: early_stopping_round=50\n",
      "Fold ROC Score: 0.771594684385382\n",
      "#########################\n",
      "### Fold 4\n",
      "#########################\n",
      "[LightGBM] [Warning] early_stopping_round is set=50, early_stopping_rounds=50 will be ignored. Current value: early_stopping_round=50\n",
      "Fold ROC Score: 0.868076109936575\n",
      "#########################\n",
      "### Fold 5\n",
      "#########################\n",
      "[LightGBM] [Warning] early_stopping_round is set=50, early_stopping_rounds=50 will be ignored. Current value: early_stopping_round=50\n",
      "Fold ROC Score: 0.7658333333333334\n",
      "\n",
      "\n",
      "Average Vaildation ROC Score: 0.8262857152594375\n"
     ]
    }
   ],
   "source": [
    "kf = KFold(n_splits=5, shuffle=True, random_state=42)\n",
    "scores = []\n",
    "\n",
    "for i, (train_index, valid_index) in enumerate(kf.split(X_scaled, y)):\n",
    "    total_score = 0\n",
    "    \n",
    "    print('#'*25)\n",
    "    print('### Fold',i+1)\n",
    "    print('#'*25)\n",
    "    \n",
    "    X_train = X_scaled.iloc[train_index]\n",
    "    y_train = y.iloc[train_index]\n",
    "    \n",
    "    X_valid = X_scaled.iloc[valid_index]\n",
    "    y_valid = y.iloc[valid_index]\n",
    "    \n",
    "    # Logistic Regression\n",
    "    model = LogisticRegression()\n",
    "    model.fit(X_train,y_train)\n",
    "    lr_pred = model.predict_proba(X_valid)[:,1]\n",
    "    \n",
    "    # KNN\n",
    "    model = KNeighborsClassifier()\n",
    "    model.fit(X_train, y_train)\n",
    "    knn_pred = model.predict_proba(X_valid)[:,1]\n",
    "    \n",
    "    # Random Forest\n",
    "    model = RandomForestClassifier()\n",
    "    model.fit(X_train, y_train)\n",
    "    rf_pred = model.predict_proba(X_valid)[:,1]\n",
    "    \n",
    "    # Gradient Boosting Classifier\n",
    "    model = GradientBoostingClassifier()\n",
    "    model.fit(X_train, y_train)\n",
    "    gbc_pred = model.predict_proba(X_valid)[:,1]\n",
    "    \n",
    "    # MLP\n",
    "    model = MLPClassifier()\n",
    "    model.fit(X_train, y_train)\n",
    "    mlp_pred = model.predict_proba(X_valid)[:,1]\n",
    "\n",
    "    # XGB\n",
    "    model = XGBClassifier(**xgb_params)\n",
    "    model.fit(X_train, y_train,\n",
    "             eval_set=[(X_train, y_train), (X_valid, y_valid)],\n",
    "             verbose=0)\n",
    "    xgb_pred = model.predict_proba(X_valid)[:,1]\n",
    "    \n",
    "    # LGBM\n",
    "    model = LGBMClassifier(**lgbm_params)\n",
    "    model.fit(X_train, y_train,\n",
    "             eval_set=[(X_train, y_train), (X_valid, y_valid)],\n",
    "             verbose=0)\n",
    "    lgbm_pred = model.predict_proba(X_valid)[:,1]\n",
    "    \n",
    "    # CatBoost\n",
    "    model = CatBoostClassifier(**catboost_params)\n",
    "    model.fit(X_train, y_train,\n",
    "             eval_set=[(X_train, y_train), (X_valid, y_valid)],\n",
    "             verbose=0)\n",
    "    catboost_pred = model.predict_proba(X_valid)[:,1]\n",
    "    \n",
    "    final_pred = (lr_pred + knn_pred + rf_pred + gbc_pred + mlp_pred + xgb_pred + lgbm_pred + catboost_pred)/8\n",
    "    \n",
    "    final_score = roc_auc_score(y_valid, final_pred)    \n",
    "    scores.append(final_score)\n",
    "    print(f'Fold ROC Score:', final_score)\n",
    "    \n",
    "score['e-8'] = sum(scores)/5\n",
    "print('\\n')\n",
    "print(f'Average Vaildation ROC Score:', sum(scores)/5)"
   ]
  },
  {
   "cell_type": "code",
   "execution_count": 28,
   "id": "ce16c0d8",
   "metadata": {
    "_kg_hide-input": true,
    "_kg_hide-output": true,
    "execution": {
     "iopub.execute_input": "2023-04-16T09:15:12.055335Z",
     "iopub.status.busy": "2023-04-16T09:15:12.054446Z",
     "iopub.status.idle": "2023-04-16T09:15:22.121776Z",
     "shell.execute_reply": "2023-04-16T09:15:22.120244Z"
    },
    "papermill": {
     "duration": 10.101379,
     "end_time": "2023-04-16T09:15:22.124909",
     "exception": false,
     "start_time": "2023-04-16T09:15:12.023530",
     "status": "completed"
    },
    "tags": []
   },
   "outputs": [
    {
     "name": "stdout",
     "output_type": "stream",
     "text": [
      "#########################\n",
      "### Fold 1\n",
      "#########################\n",
      "[LightGBM] [Warning] early_stopping_round is set=50, early_stopping_rounds=50 will be ignored. Current value: early_stopping_round=50\n",
      "Fold ROC Score: 0.8679562657695542\n",
      "#########################\n",
      "### Fold 2\n",
      "#########################\n",
      "[LightGBM] [Warning] early_stopping_round is set=50, early_stopping_rounds=50 will be ignored. Current value: early_stopping_round=50\n",
      "Fold ROC Score: 0.8363787375415281\n",
      "#########################\n",
      "### Fold 3\n",
      "#########################\n",
      "[LightGBM] [Warning] early_stopping_round is set=50, early_stopping_rounds=50 will be ignored. Current value: early_stopping_round=50\n",
      "Fold ROC Score: 0.7736710963455149\n",
      "#########################\n",
      "### Fold 4\n",
      "#########################\n",
      "[LightGBM] [Warning] early_stopping_round is set=50, early_stopping_rounds=50 will be ignored. Current value: early_stopping_round=50\n",
      "Fold ROC Score: 0.8591966173361523\n",
      "#########################\n",
      "### Fold 5\n",
      "#########################\n",
      "[LightGBM] [Warning] early_stopping_round is set=50, early_stopping_rounds=50 will be ignored. Current value: early_stopping_round=50\n",
      "Fold ROC Score: 0.7729166666666666\n",
      "\n",
      "\n",
      "Average Vaildation ROC Score: 0.8220238767318833\n"
     ]
    }
   ],
   "source": [
    "kf = KFold(n_splits=5, shuffle=True, random_state=42)\n",
    "scores = []\n",
    "\n",
    "for i, (train_index, valid_index) in enumerate(kf.split(X_scaled, y)):\n",
    "    total_score = 0\n",
    "    \n",
    "    print('#'*25)\n",
    "    print('### Fold',i+1)\n",
    "    print('#'*25)\n",
    "    \n",
    "    X_train = X_scaled.iloc[train_index]\n",
    "    y_train = y.iloc[train_index]\n",
    "    \n",
    "    X_valid = X_scaled.iloc[valid_index]\n",
    "    y_valid = y.iloc[valid_index]\n",
    "    \n",
    "    # Logistic Regression\n",
    "    model = LogisticRegression()\n",
    "    model.fit(X_train,y_train)\n",
    "    lr_pred = model.predict_proba(X_valid)[:,1]\n",
    "    \n",
    "    # Random Forest\n",
    "    model = RandomForestClassifier()\n",
    "    model.fit(X_train, y_train)\n",
    "    rf_pred = model.predict_proba(X_valid)[:,1]\n",
    "    \n",
    "    # Gradient Boosting Classifier\n",
    "    model = GradientBoostingClassifier()\n",
    "    model.fit(X_train, y_train)\n",
    "    gbc_pred = model.predict_proba(X_valid)[:,1]\n",
    "    \n",
    "    # MLP\n",
    "    model = MLPClassifier()\n",
    "    model.fit(X_train, y_train)\n",
    "    mlp_pred = model.predict_proba(X_valid)[:,1]\n",
    "\n",
    "    # XGB\n",
    "    model = XGBClassifier(**xgb_params)\n",
    "    model.fit(X_train, y_train,\n",
    "             eval_set=[(X_train, y_train), (X_valid, y_valid)],\n",
    "             verbose=0)\n",
    "    xgb_pred = model.predict_proba(X_valid)[:,1]\n",
    "    \n",
    "    # LGBM\n",
    "    model = LGBMClassifier(**lgbm_params)\n",
    "    model.fit(X_train, y_train,\n",
    "             eval_set=[(X_train, y_train), (X_valid, y_valid)],\n",
    "             verbose=0)\n",
    "    lgbm_pred = model.predict_proba(X_valid)[:,1]\n",
    "    \n",
    "    # CatBoost\n",
    "    model = CatBoostClassifier(**catboost_params)\n",
    "    model.fit(X_train, y_train,\n",
    "             eval_set=[(X_train, y_train), (X_valid, y_valid)],\n",
    "             verbose=0)\n",
    "    catboost_pred = model.predict_proba(X_valid)[:,1]\n",
    "    \n",
    "    final_pred = (lr_pred + rf_pred + gbc_pred + mlp_pred + xgb_pred + lgbm_pred + catboost_pred)/7\n",
    "    \n",
    "    final_score = roc_auc_score(y_valid, final_pred)    \n",
    "    scores.append(final_score)\n",
    "    print(f'Fold ROC Score:', final_score)\n",
    "    \n",
    "score['e-7'] = sum(scores)/5\n",
    "print('\\n')\n",
    "print(f'Average Vaildation ROC Score:', sum(scores)/5)"
   ]
  },
  {
   "cell_type": "code",
   "execution_count": 29,
   "id": "e0abd7b6",
   "metadata": {
    "_kg_hide-input": true,
    "_kg_hide-output": true,
    "execution": {
     "iopub.execute_input": "2023-04-16T09:15:22.187424Z",
     "iopub.status.busy": "2023-04-16T09:15:22.186497Z",
     "iopub.status.idle": "2023-04-16T09:15:31.607053Z",
     "shell.execute_reply": "2023-04-16T09:15:31.605743Z"
    },
    "papermill": {
     "duration": 9.455408,
     "end_time": "2023-04-16T09:15:31.610214",
     "exception": false,
     "start_time": "2023-04-16T09:15:22.154806",
     "status": "completed"
    },
    "tags": []
   },
   "outputs": [
    {
     "name": "stdout",
     "output_type": "stream",
     "text": [
      "#########################\n",
      "### Fold 1\n",
      "#########################\n",
      "[LightGBM] [Warning] early_stopping_round is set=50, early_stopping_rounds=50 will be ignored. Current value: early_stopping_round=50\n",
      "Fold ROC Score: 0.8738435660218672\n",
      "#########################\n",
      "### Fold 2\n",
      "#########################\n",
      "[LightGBM] [Warning] early_stopping_round is set=50, early_stopping_rounds=50 will be ignored. Current value: early_stopping_round=50\n",
      "Fold ROC Score: 0.8504983388704319\n",
      "#########################\n",
      "### Fold 3\n",
      "#########################\n",
      "[LightGBM] [Warning] early_stopping_round is set=50, early_stopping_rounds=50 will be ignored. Current value: early_stopping_round=50\n",
      "Fold ROC Score: 0.7774086378737541\n",
      "#########################\n",
      "### Fold 4\n",
      "#########################\n",
      "[LightGBM] [Warning] early_stopping_round is set=50, early_stopping_rounds=50 will be ignored. Current value: early_stopping_round=50\n",
      "Fold ROC Score: 0.86553911205074\n",
      "#########################\n",
      "### Fold 5\n",
      "#########################\n",
      "[LightGBM] [Warning] early_stopping_round is set=50, early_stopping_rounds=50 will be ignored. Current value: early_stopping_round=50\n",
      "Fold ROC Score: 0.7766666666666666\n",
      "\n",
      "\n",
      "Average Vaildation ROC Score: 0.8287912642966919\n"
     ]
    }
   ],
   "source": [
    "kf = KFold(n_splits=5, shuffle=True, random_state=42)\n",
    "scores = []\n",
    "\n",
    "for i, (train_index, valid_index) in enumerate(kf.split(X_scaled, y)):\n",
    "    total_score = 0\n",
    "    \n",
    "    print('#'*25)\n",
    "    print('### Fold',i+1)\n",
    "    print('#'*25)\n",
    "    \n",
    "    X_train = X_scaled.iloc[train_index]\n",
    "    y_train = y.iloc[train_index]\n",
    "    \n",
    "    X_valid = X_scaled.iloc[valid_index]\n",
    "    y_valid = y.iloc[valid_index]\n",
    "    \n",
    "    # Logistic Regression\n",
    "    model = LogisticRegression()\n",
    "    model.fit(X_train,y_train)\n",
    "    lr_pred = model.predict_proba(X_valid)[:,1]\n",
    "    \n",
    "    # Gradient Boosting Classifier\n",
    "    model = GradientBoostingClassifier()\n",
    "    model.fit(X_train, y_train)\n",
    "    gbc_pred = model.predict_proba(X_valid)[:,1]\n",
    "    \n",
    "    # MLP\n",
    "    model = MLPClassifier()\n",
    "    model.fit(X_train, y_train)\n",
    "    mlp_pred = model.predict_proba(X_valid)[:,1]\n",
    "\n",
    "    # XGB\n",
    "    model = XGBClassifier(**xgb_params)\n",
    "    model.fit(X_train, y_train,\n",
    "             eval_set=[(X_train, y_train), (X_valid, y_valid)],\n",
    "             verbose=False)\n",
    "    xgb_pred = model.predict_proba(X_valid)[:,1]\n",
    "    \n",
    "    # LGBM\n",
    "    model = LGBMClassifier(**lgbm_params)\n",
    "    model.fit(X_train, y_train,\n",
    "             eval_set=[(X_train, y_train), (X_valid, y_valid)],\n",
    "             verbose=0)\n",
    "    lgbm_pred = model.predict_proba(X_valid)[:,1]\n",
    "    \n",
    "    # CatBoost\n",
    "    model = CatBoostClassifier(**catboost_params)\n",
    "    model.fit(X_train, y_train,\n",
    "             eval_set=[(X_train, y_train), (X_valid, y_valid)],\n",
    "             verbose=0)\n",
    "    catboost_pred = model.predict_proba(X_valid)[:,1]\n",
    "    \n",
    "    final_pred = (lr_pred + gbc_pred + mlp_pred + xgb_pred + lgbm_pred + catboost_pred)/6\n",
    "    \n",
    "    final_score = roc_auc_score(y_valid, final_pred)    \n",
    "    scores.append(final_score)\n",
    "    print(f'Fold ROC Score:', final_score)\n",
    "    \n",
    "score['e-6'] = sum(scores)/5\n",
    "print('\\n')\n",
    "print(f'Average Vaildation ROC Score:', sum(scores)/5)"
   ]
  },
  {
   "cell_type": "code",
   "execution_count": 30,
   "id": "2d41997c",
   "metadata": {
    "_kg_hide-input": true,
    "_kg_hide-output": true,
    "execution": {
     "iopub.execute_input": "2023-04-16T09:15:31.670574Z",
     "iopub.status.busy": "2023-04-16T09:15:31.670156Z",
     "iopub.status.idle": "2023-04-16T09:15:40.236894Z",
     "shell.execute_reply": "2023-04-16T09:15:40.235466Z"
    },
    "papermill": {
     "duration": 8.600233,
     "end_time": "2023-04-16T09:15:40.239998",
     "exception": false,
     "start_time": "2023-04-16T09:15:31.639765",
     "status": "completed"
    },
    "tags": []
   },
   "outputs": [
    {
     "name": "stdout",
     "output_type": "stream",
     "text": [
      "#########################\n",
      "### Fold 1\n",
      "#########################\n",
      "[LightGBM] [Warning] early_stopping_round is set=50, early_stopping_rounds=50 will be ignored. Current value: early_stopping_round=50\n",
      "Fold ROC Score: 0.8687973086627419\n",
      "#########################\n",
      "### Fold 2\n",
      "#########################\n",
      "[LightGBM] [Warning] early_stopping_round is set=50, early_stopping_rounds=50 will be ignored. Current value: early_stopping_round=50\n",
      "Fold ROC Score: 0.8463455149501662\n",
      "#########################\n",
      "### Fold 3\n",
      "#########################\n",
      "[LightGBM] [Warning] early_stopping_round is set=50, early_stopping_rounds=50 will be ignored. Current value: early_stopping_round=50\n",
      "Fold ROC Score: 0.7865448504983389\n",
      "#########################\n",
      "### Fold 4\n",
      "#########################\n",
      "[LightGBM] [Warning] early_stopping_round is set=50, early_stopping_rounds=50 will be ignored. Current value: early_stopping_round=50\n",
      "Fold ROC Score: 0.866384778012685\n",
      "#########################\n",
      "### Fold 5\n",
      "#########################\n",
      "[LightGBM] [Warning] early_stopping_round is set=50, early_stopping_rounds=50 will be ignored. Current value: early_stopping_round=50\n",
      "Fold ROC Score: 0.7775\n",
      "\n",
      "\n",
      "Average Vaildation ROC Score: 0.8291144904247864\n"
     ]
    }
   ],
   "source": [
    "kf = KFold(n_splits=5, shuffle=True, random_state=42)\n",
    "scores = []\n",
    "\n",
    "for i, (train_index, valid_index) in enumerate(kf.split(X_scaled, y)):\n",
    "    total_score = 0\n",
    "    \n",
    "    print('#'*25)\n",
    "    print('### Fold',i+1)\n",
    "    print('#'*25)\n",
    "    \n",
    "    X_train = X_scaled.iloc[train_index]\n",
    "    y_train = y.iloc[train_index]\n",
    "    \n",
    "    X_valid = X_scaled.iloc[valid_index]\n",
    "    y_valid = y.iloc[valid_index]\n",
    "    \n",
    "    # Logistic Regression\n",
    "    model = LogisticRegression()\n",
    "    model.fit(X_train,y_train)\n",
    "    lr_pred = model.predict_proba(X_valid)[:,1]\n",
    "    \n",
    "    # MLP\n",
    "    model = MLPClassifier()\n",
    "    model.fit(X_train, y_train)\n",
    "    mlp_pred = model.predict_proba(X_valid)[:,1]\n",
    "\n",
    "    # XGB\n",
    "    model = XGBClassifier(**xgb_params)\n",
    "    model.fit(X_train, y_train,\n",
    "             eval_set=[(X_train, y_train), (X_valid, y_valid)],\n",
    "             verbose=0)\n",
    "    xgb_pred = model.predict_proba(X_valid)[:,1]\n",
    "    \n",
    "    # LGBM\n",
    "    model = LGBMClassifier(**lgbm_params)\n",
    "    model.fit(X_train, y_train,\n",
    "             eval_set=[(X_train, y_train), (X_valid, y_valid)],\n",
    "             verbose=0)\n",
    "    lgbm_pred = model.predict_proba(X_valid)[:,1]\n",
    "    \n",
    "    # CatBoost\n",
    "    model = CatBoostClassifier(**catboost_params)\n",
    "    model.fit(X_train, y_train,\n",
    "             eval_set=[(X_train, y_train), (X_valid, y_valid)],\n",
    "             verbose=0)\n",
    "    catboost_pred = model.predict_proba(X_valid)[:,1]\n",
    "    \n",
    "    final_pred = (lr_pred + mlp_pred + xgb_pred + lgbm_pred + catboost_pred)/5\n",
    "    \n",
    "    final_score = roc_auc_score(y_valid, final_pred)    \n",
    "    scores.append(final_score)\n",
    "    print(f'Fold ROC Score:', final_score)\n",
    "    \n",
    "score['e-5'] = sum(scores)/5\n",
    "print('\\n')\n",
    "print(f'Average Vaildation ROC Score:', sum(scores)/5)"
   ]
  },
  {
   "cell_type": "code",
   "execution_count": 31,
   "id": "165e3c96",
   "metadata": {
    "_kg_hide-input": true,
    "_kg_hide-output": true,
    "execution": {
     "iopub.execute_input": "2023-04-16T09:15:40.302025Z",
     "iopub.status.busy": "2023-04-16T09:15:40.301064Z",
     "iopub.status.idle": "2023-04-16T09:15:46.122890Z",
     "shell.execute_reply": "2023-04-16T09:15:46.121353Z"
    },
    "papermill": {
     "duration": 5.856809,
     "end_time": "2023-04-16T09:15:46.126155",
     "exception": false,
     "start_time": "2023-04-16T09:15:40.269346",
     "status": "completed"
    },
    "tags": []
   },
   "outputs": [
    {
     "name": "stdout",
     "output_type": "stream",
     "text": [
      "#########################\n",
      "### Fold 1\n",
      "#########################\n",
      "[LightGBM] [Warning] early_stopping_round is set=50, early_stopping_rounds=50 will be ignored. Current value: early_stopping_round=50\n",
      "Fold ROC Score: 0.8717409587888982\n",
      "#########################\n",
      "### Fold 2\n",
      "#########################\n",
      "[LightGBM] [Warning] early_stopping_round is set=50, early_stopping_rounds=50 will be ignored. Current value: early_stopping_round=50\n",
      "Fold ROC Score: 0.8438538205980066\n",
      "#########################\n",
      "### Fold 3\n",
      "#########################\n",
      "[LightGBM] [Warning] early_stopping_round is set=50, early_stopping_rounds=50 will be ignored. Current value: early_stopping_round=50\n",
      "Fold ROC Score: 0.7852990033222592\n",
      "#########################\n",
      "### Fold 4\n",
      "#########################\n",
      "[LightGBM] [Warning] early_stopping_round is set=50, early_stopping_rounds=50 will be ignored. Current value: early_stopping_round=50\n",
      "Fold ROC Score: 0.8761099365750529\n",
      "#########################\n",
      "### Fold 5\n",
      "#########################\n",
      "[LightGBM] [Warning] early_stopping_round is set=50, early_stopping_rounds=50 will be ignored. Current value: early_stopping_round=50\n",
      "Fold ROC Score: 0.7858333333333333\n",
      "\n",
      "\n",
      "Average Vaildation ROC Score: 0.8325674105235101\n"
     ]
    }
   ],
   "source": [
    "kf = KFold(n_splits=5, shuffle=True, random_state=42)\n",
    "scores = []\n",
    "\n",
    "for i, (train_index, valid_index) in enumerate(kf.split(X_scaled, y)):\n",
    "    total_score = 0\n",
    "    \n",
    "    print('#'*25)\n",
    "    print('### Fold',i+1)\n",
    "    print('#'*25)\n",
    "    \n",
    "    X_train = X_scaled.iloc[train_index]\n",
    "    y_train = y.iloc[train_index]\n",
    "    \n",
    "    X_valid = X_scaled.iloc[valid_index]\n",
    "    y_valid = y.iloc[valid_index]\n",
    "    \n",
    "    # Logistic Regression\n",
    "    model = LogisticRegression()\n",
    "    model.fit(X_train,y_train)\n",
    "    lr_pred = model.predict_proba(X_valid)[:,1]\n",
    "\n",
    "    # XGB\n",
    "    model = XGBClassifier(**xgb_params)\n",
    "    model.fit(X_train, y_train,\n",
    "             eval_set=[(X_train, y_train), (X_valid, y_valid)],\n",
    "             verbose=0)\n",
    "    xgb_pred = model.predict_proba(X_valid)[:,1]\n",
    "    \n",
    "    # LGBM\n",
    "    model = LGBMClassifier(**lgbm_params)\n",
    "    model.fit(X_train, y_train,\n",
    "             eval_set=[(X_train, y_train), (X_valid, y_valid)],\n",
    "             verbose=0)\n",
    "    lgbm_pred = model.predict_proba(X_valid)[:,1]\n",
    "    \n",
    "    # CatBoost\n",
    "    model = CatBoostClassifier(**catboost_params)\n",
    "    model.fit(X_train, y_train,\n",
    "             eval_set=[(X_train, y_train), (X_valid, y_valid)],\n",
    "             verbose=0)\n",
    "    catboost_pred = model.predict_proba(X_valid)[:,1]\n",
    "    \n",
    "    final_pred = (lr_pred + xgb_pred + lgbm_pred + catboost_pred)/4\n",
    "    \n",
    "    final_score = roc_auc_score(y_valid, final_pred)    \n",
    "    scores.append(final_score)\n",
    "    print(f'Fold ROC Score:', final_score)\n",
    "    \n",
    "score['e-4'] = sum(scores)/5\n",
    "print('\\n')\n",
    "print(f'Average Vaildation ROC Score:', sum(scores)/5)"
   ]
  },
  {
   "cell_type": "code",
   "execution_count": 32,
   "id": "1e57d0b7",
   "metadata": {
    "_kg_hide-input": true,
    "_kg_hide-output": true,
    "execution": {
     "iopub.execute_input": "2023-04-16T09:15:46.189693Z",
     "iopub.status.busy": "2023-04-16T09:15:46.188896Z",
     "iopub.status.idle": "2023-04-16T09:15:52.318472Z",
     "shell.execute_reply": "2023-04-16T09:15:52.317079Z"
    },
    "papermill": {
     "duration": 6.16555,
     "end_time": "2023-04-16T09:15:52.322156",
     "exception": false,
     "start_time": "2023-04-16T09:15:46.156606",
     "status": "completed"
    },
    "tags": []
   },
   "outputs": [
    {
     "name": "stdout",
     "output_type": "stream",
     "text": [
      "#########################\n",
      "### Fold 1\n",
      "#########################\n",
      "[LightGBM] [Warning] early_stopping_round is set=50, early_stopping_rounds=50 will be ignored. Current value: early_stopping_round=50\n",
      "Fold ROC Score: 0.8725820016820859\n",
      "#########################\n",
      "### Fold 2\n",
      "#########################\n",
      "[LightGBM] [Warning] early_stopping_round is set=50, early_stopping_rounds=50 will be ignored. Current value: early_stopping_round=50\n",
      "Fold ROC Score: 0.841362126245847\n",
      "#########################\n",
      "### Fold 3\n",
      "#########################\n",
      "[LightGBM] [Warning] early_stopping_round is set=50, early_stopping_rounds=50 will be ignored. Current value: early_stopping_round=50\n",
      "Fold ROC Score: 0.7875830564784054\n",
      "#########################\n",
      "### Fold 4\n",
      "#########################\n",
      "[LightGBM] [Warning] early_stopping_round is set=50, early_stopping_rounds=50 will be ignored. Current value: early_stopping_round=50\n",
      "Fold ROC Score: 0.8816067653276956\n",
      "#########################\n",
      "### Fold 5\n",
      "#########################\n",
      "[LightGBM] [Warning] early_stopping_round is set=50, early_stopping_rounds=50 will be ignored. Current value: early_stopping_round=50\n",
      "Fold ROC Score: 0.7941666666666667\n",
      "\n",
      "\n",
      "Average Vaildation ROC Score: 0.8354601232801402\n",
      "\n",
      "\n",
      "Average Vaildation ROC Score: 0.8354601232801402\n"
     ]
    }
   ],
   "source": [
    "kf = KFold(n_splits=5, shuffle=True, random_state=42)\n",
    "scores = []\n",
    "\n",
    "for i, (train_index, valid_index) in enumerate(kf.split(X_scaled, y)):\n",
    "    total_score = 0\n",
    "    \n",
    "    print('#'*25)\n",
    "    print('### Fold',i+1)\n",
    "    print('#'*25)\n",
    "    \n",
    "    X_train = X_scaled.iloc[train_index]\n",
    "    y_train = y.iloc[train_index]\n",
    "    \n",
    "    X_valid = X_scaled.iloc[valid_index]\n",
    "    y_valid = y.iloc[valid_index]\n",
    "\n",
    "    # XGB\n",
    "    model = XGBClassifier(**xgb_params)\n",
    "    model.fit(X_train, y_train,\n",
    "             eval_set=[(X_train, y_train), (X_valid, y_valid)],\n",
    "             verbose=0)\n",
    "    xgb_pred = model.predict_proba(X_valid)[:,1]\n",
    "    \n",
    "    # LGBM\n",
    "    model = LGBMClassifier(**lgbm_params)\n",
    "    model.fit(X_train, y_train,\n",
    "             eval_set=[(X_train, y_train), (X_valid, y_valid)],\n",
    "             verbose=0)\n",
    "    lgbm_pred = model.predict_proba(X_valid)[:,1]\n",
    "    \n",
    "    # CatBoost\n",
    "    model = CatBoostClassifier(**catboost_params)\n",
    "    model.fit(X_train, y_train,\n",
    "             eval_set=[(X_train, y_train), (X_valid, y_valid)],\n",
    "             verbose=0)\n",
    "    catboost_pred = model.predict_proba(X_valid)[:,1]\n",
    "    \n",
    "    final_pred = (xgb_pred + lgbm_pred + catboost_pred)/3\n",
    "    \n",
    "    final_score = roc_auc_score(y_valid, final_pred)    \n",
    "    scores.append(final_score)\n",
    "    print(f'Fold ROC Score:', final_score)\n",
    "    \n",
    "score['e-3'] = sum(scores)/5\n",
    "print('\\n')\n",
    "print(f'Average Vaildation ROC Score:', sum(scores)/5)\n",
    "    \n",
    "score['e-3'] = sum(scores)/5\n",
    "print('\\n')\n",
    "print(f'Average Vaildation ROC Score:', sum(scores)/5)"
   ]
  },
  {
   "cell_type": "code",
   "execution_count": 33,
   "id": "2f6d67fd",
   "metadata": {
    "_kg_hide-input": true,
    "_kg_hide-output": true,
    "execution": {
     "iopub.execute_input": "2023-04-16T09:15:52.397989Z",
     "iopub.status.busy": "2023-04-16T09:15:52.397451Z",
     "iopub.status.idle": "2023-04-16T09:15:57.203427Z",
     "shell.execute_reply": "2023-04-16T09:15:57.202328Z"
    },
    "papermill": {
     "duration": 4.84241,
     "end_time": "2023-04-16T09:15:57.206237",
     "exception": false,
     "start_time": "2023-04-16T09:15:52.363827",
     "status": "completed"
    },
    "tags": []
   },
   "outputs": [
    {
     "name": "stdout",
     "output_type": "stream",
     "text": [
      "#########################\n",
      "### Fold 1\n",
      "#########################\n",
      "Fold ROC Score: 0.8784693019343986\n",
      "#########################\n",
      "### Fold 2\n",
      "#########################\n",
      "Fold ROC Score: 0.8384551495016611\n",
      "#########################\n",
      "### Fold 3\n",
      "#########################\n",
      "Fold ROC Score: 0.7693106312292358\n",
      "#########################\n",
      "### Fold 4\n",
      "#########################\n",
      "Fold ROC Score: 0.8744186046511627\n",
      "#########################\n",
      "### Fold 5\n",
      "#########################\n",
      "Fold ROC Score: 0.7966666666666666\n",
      "\n",
      "\n",
      "Average Vaildation ROC Score: 0.831464070796625\n"
     ]
    }
   ],
   "source": [
    "kf = KFold(n_splits=5, shuffle=True, random_state=42)\n",
    "scores = []\n",
    "\n",
    "for i, (train_index, valid_index) in enumerate(kf.split(X_scaled, y)):\n",
    "    total_score = 0\n",
    "    \n",
    "    print('#'*25)\n",
    "    print('### Fold',i+1)\n",
    "    print('#'*25)\n",
    "    \n",
    "    X_train = X_scaled.iloc[train_index]\n",
    "    y_train = y.iloc[train_index]\n",
    "    \n",
    "    X_valid = X_scaled.iloc[valid_index]\n",
    "    y_valid = y.iloc[valid_index]\n",
    "\n",
    "    # XGB\n",
    "    model = XGBClassifier(**xgb_params)\n",
    "    model.fit(X_train, y_train,\n",
    "             eval_set=[(X_train, y_train), (X_valid, y_valid)],\n",
    "             verbose=0)\n",
    "    xgb_pred = model.predict_proba(X_valid)[:,1]\n",
    "    \n",
    "    # CatBoost\n",
    "    model = CatBoostClassifier(**catboost_params)\n",
    "    model.fit(X_train, y_train,\n",
    "             eval_set=[(X_train, y_train), (X_valid, y_valid)],\n",
    "             verbose=0)\n",
    "    catboost_pred = model.predict_proba(X_valid)[:,1]\n",
    "    \n",
    "    final_pred = (xgb_pred + catboost_pred)/2\n",
    "    \n",
    "    final_score = roc_auc_score(y_valid, final_pred)    \n",
    "    scores.append(final_score)\n",
    "    print(f'Fold ROC Score:', final_score)\n",
    "    \n",
    "score['e-2'] = sum(scores)/5\n",
    "print('\\n')\n",
    "print(f'Average Vaildation ROC Score:', sum(scores)/5)"
   ]
  },
  {
   "cell_type": "markdown",
   "id": "5e084790",
   "metadata": {
    "papermill": {
     "duration": 0.031011,
     "end_time": "2023-04-16T09:15:57.270946",
     "exception": false,
     "start_time": "2023-04-16T09:15:57.239935",
     "status": "completed"
    },
    "tags": []
   },
   "source": [
    "#### Let's observe the results for all the combination of the ensemble with the previous models."
   ]
  },
  {
   "cell_type": "markdown",
   "id": "4c14798d",
   "metadata": {
    "papermill": {
     "duration": 0.032326,
     "end_time": "2023-04-16T09:15:57.335439",
     "exception": false,
     "start_time": "2023-04-16T09:15:57.303113",
     "status": "completed"
    },
    "tags": []
   },
   "source": [
    "## Visualization"
   ]
  },
  {
   "cell_type": "code",
   "execution_count": 34,
   "id": "4cfe01c2",
   "metadata": {
    "execution": {
     "iopub.execute_input": "2023-04-16T09:15:57.400602Z",
     "iopub.status.busy": "2023-04-16T09:15:57.399750Z",
     "iopub.status.idle": "2023-04-16T09:15:57.782205Z",
     "shell.execute_reply": "2023-04-16T09:15:57.780703Z"
    },
    "papermill": {
     "duration": 0.418668,
     "end_time": "2023-04-16T09:15:57.785671",
     "exception": false,
     "start_time": "2023-04-16T09:15:57.367003",
     "status": "completed"
    },
    "tags": []
   },
   "outputs": [
    {
     "data": {
      "image/png": "[encoded data removed]",
      "text/plain": [
       "<Figure size 1600x400 with 1 Axes>"
      ]
     },
     "metadata": {},
     "output_type": "display_data"
    }
   ],
   "source": [
    "fig = plt.figure(figsize = (16,4))\n",
    "scores = dict(sorted(score.items(), key=lambda item: -1*item[1]))\n",
    "# creating the bar plot\n",
    "plt.bar(scores.keys(), scores.values(), width = 0.5)\n",
    " \n",
    "plt.xlabel(\"Models\")\n",
    "plt.ylabel(\"Metric Value\")\n",
    "plt.title(\"Model Comparison\")\n",
    "plt.tight_layout()\n",
    "plt.show()"
   ]
  },
  {
   "cell_type": "markdown",
   "id": "9852d50d",
   "metadata": {
    "papermill": {
     "duration": 0.031191,
     "end_time": "2023-04-16T09:15:57.849088",
     "exception": false,
     "start_time": "2023-04-16T09:15:57.817897",
     "status": "completed"
    },
    "tags": []
   },
   "source": [
    "#### Seems like XGBClassifier still outperformed all the other models.\n",
    "#### As always, XGBClassifier always impresses me. "
   ]
  },
  {
   "cell_type": "markdown",
   "id": "aaac2679",
   "metadata": {
    "papermill": {
     "duration": 0.033267,
     "end_time": "2023-04-16T09:15:57.913462",
     "exception": false,
     "start_time": "2023-04-16T09:15:57.880195",
     "status": "completed"
    },
    "tags": []
   },
   "source": [
    "# Submission"
   ]
  },
  {
   "cell_type": "code",
   "execution_count": 35,
   "id": "023b4042",
   "metadata": {
    "execution": {
     "iopub.execute_input": "2023-04-16T09:15:57.982416Z",
     "iopub.status.busy": "2023-04-16T09:15:57.981539Z",
     "iopub.status.idle": "2023-04-16T09:16:04.526592Z",
     "shell.execute_reply": "2023-04-16T09:16:04.524608Z"
    },
    "papermill": {
     "duration": 6.584887,
     "end_time": "2023-04-16T09:16:04.532446",
     "exception": false,
     "start_time": "2023-04-16T09:15:57.947559",
     "status": "completed"
    },
    "tags": []
   },
   "outputs": [
    {
     "name": "stdout",
     "output_type": "stream",
     "text": [
      "[LightGBM] [Warning] early_stopping_round is set=50, early_stopping_rounds=50 will be ignored. Current value: early_stopping_round=50\n"
     ]
    }
   ],
   "source": [
    "kf = KFold(n_splits=5, shuffle=True, random_state=42)\n",
    "\n",
    "XGB_MODELS = []\n",
    "for i, (train_index, valid_index) in enumerate(kf.split(X_scaled, y)):\n",
    "    \n",
    "    X_train = X_scaled.iloc[train_index]\n",
    "    y_train = y.iloc[train_index]\n",
    "    \n",
    "    X_valid = X_scaled.iloc[valid_index]\n",
    "    y_valid = y.iloc[valid_index]\n",
    "    \n",
    "    model = XGBClassifier(**xgb_params)\n",
    "    model.fit(X_train, y_train,\n",
    "             eval_set=[(X_train, y_train), (X_valid, y_valid)],\n",
    "             verbose=0)\n",
    "\n",
    "    XGB_MODELS.append( model )\n",
    "    \n",
    "CATBOOST_MODELS = []\n",
    "for i, (train_index, valid_index) in enumerate(kf.split(X_scaled, y)):\n",
    "    \n",
    "    X_train = X_scaled.iloc[train_index]\n",
    "    y_train = y.iloc[train_index]\n",
    "    \n",
    "    X_valid = X_scaled.iloc[valid_index]\n",
    "    y_valid = y.iloc[valid_index]\n",
    "    \n",
    "    model = CatBoostClassifier(**catboost_params)\n",
    "    model.fit(X_train, y_train,\n",
    "             eval_set=[(X_train, y_train), (X_valid, y_valid)],\n",
    "             verbose=0)\n",
    "\n",
    "    CATBOOST_MODELS.append( model )\n",
    "    \n",
    "LR = LogisticRegression().fit(X_scaled,y)\n",
    "GBC = GradientBoostingClassifier().fit(X_scaled,y)\n",
    "mlp = MLPClassifier().fit(X_scaled,y)\n",
    "    \n",
    "LGBM_MODELS = []\n",
    "for i, (train_index, valid_index) in enumerate(kf.split(X_scaled, y)):\n",
    "    \n",
    "    X_train = X_scaled.iloc[train_index]\n",
    "    y_train = y.iloc[train_index]\n",
    "    \n",
    "    X_valid = X_scaled.iloc[valid_index]\n",
    "    y_valid = y.iloc[valid_index]\n",
    "    \n",
    "    model = LGBMClassifier(**lgbm_params)\n",
    "    model.fit(X_train, y_train,\n",
    "             eval_set=[(X_train, y_train), (X_valid, y_valid)],\n",
    "             verbose=0)\n",
    "\n",
    "    LGBM_MODELS.append( model )\n",
    "    \n",
    "\n",
    "test = test_scaled\n",
    "submission = pd.DataFrame(index = test.index.unique())\n",
    "submission['id'] = test.id.unique()\n",
    "\n",
    "for i in range(5):\n",
    "    submission[f'XGB_cost{i}'] = XGB_MODELS[i].predict_proba(test[selected_features])[:,1]\n",
    "    submission[f'CATBOOST_cost{i}'] = CATBOOST_MODELS[i].predict_proba(test[selected_features])[:,1]\n",
    "    submission[f'LR_cost{i}'] = LR.predict_proba(test[selected_features])[:,1]\n",
    "    submission[f'GBC_cost{i}'] = GBC.predict_proba(test[selected_features])[:,1]\n",
    "    submission[f'MLP_cost{i}'] = mlp.predict_proba(test[selected_features])[:,1]\n",
    "    submission[f'LGBM_cost{i}'] = LGBM_MODELS[i].predict_proba(test[selected_features])[:,1]\n",
    "    \n",
    "submission['XGB'] = (submission.XGB_cost0 + submission.XGB_cost1 + submission.XGB_cost2 + submission.XGB_cost3 + submission.XGB_cost4) / 5\n",
    "submission['CATBOOST'] = (submission.CATBOOST_cost0 + submission.CATBOOST_cost1 + submission.CATBOOST_cost2 + submission.CATBOOST_cost3 + submission.CATBOOST_cost4) / 5\n",
    "submission['LR'] = (submission.LR_cost0 + submission.LR_cost1 + submission.LR_cost2 + submission.LR_cost3 + submission.LR_cost4) / 5\n",
    "submission['LGBM'] = (submission.LGBM_cost0 + submission.LGBM_cost1 + submission.LGBM_cost2 + submission.LGBM_cost3 + submission.LGBM_cost4) / 5\n",
    "submission['GBC'] = (submission.GBC_cost0 + submission.GBC_cost1 + submission.GBC_cost2 + submission.GBC_cost3 + submission.GBC_cost4) / 5\n",
    "submission['MLP'] = (submission.MLP_cost0 + submission.MLP_cost1 + submission.MLP_cost2 + submission.MLP_cost3 + submission.MLP_cost4) / 5\n",
    "\n",
    "submission['pred'] = (submission['XGB'] + submission['CATBOOST'] + submission['LR'])/3\n",
    "submission = submission[['id','pred']]\n",
    "submission.to_csv('submission.csv', index=False)"
   ]
  }
 ],
 "metadata": {
  "kernelspec": {
   "display_name": "Python 3",
   "language": "python",
   "name": "python3"
  },
  "language_info": {
   "codemirror_mode": {
    "name": "ipython",
    "version": 3
   },
   "file_extension": ".py",
   "mimetype": "text/x-python",
   "name": "python",
   "nbconvert_exporter": "python",
   "pygments_lexer": "ipython3",
   "version": "3.7.12"
  },
  "papermill": {
   "default_parameters": {},
   "duration": 111.89368,
   "end_time": "2023-04-16T09:16:05.739194",
   "environment_variables": {},
   "exception": null,
   "input_path": "__notebook__.ipynb",
   "output_path": "__notebook__.ipynb",
   "parameters": {},
   "start_time": "2023-04-16T09:14:13.845514",
   "version": "2.4.0"
  }
 },
 "nbformat": 4,
 "nbformat_minor": 5
}
